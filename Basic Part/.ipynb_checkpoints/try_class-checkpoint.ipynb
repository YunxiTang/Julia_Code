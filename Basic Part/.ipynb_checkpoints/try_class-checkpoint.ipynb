{
 "cells": [
  {
   "cell_type": "code",
   "execution_count": 1,
   "id": "introductory-breach",
   "metadata": {},
   "outputs": [],
   "source": [
    "mutable struct Person\n",
    "    name::String\n",
    "    age::Int32\n",
    "end"
   ]
  },
  {
   "cell_type": "code",
   "execution_count": 2,
   "id": "usual-textbook",
   "metadata": {},
   "outputs": [
    {
     "data": {
      "text/plain": [
       "name (generic function with 1 method)"
      ]
     },
     "execution_count": 2,
     "metadata": {},
     "output_type": "execute_result"
    }
   ],
   "source": [
    "# Define methods on type \"Person\"\n",
    "function name(p::Person)\n",
    "    return p.name\n",
    "end"
   ]
  },
  {
   "cell_type": "code",
   "execution_count": 3,
   "id": "southern-amplifier",
   "metadata": {},
   "outputs": [
    {
     "data": {
      "text/plain": [
       "Person(\"Joy\", 18)"
      ]
     },
     "execution_count": 3,
     "metadata": {},
     "output_type": "execute_result"
    }
   ],
   "source": [
    "Joy = Person(\"Joy\", 18)"
   ]
  },
  {
   "cell_type": "code",
   "execution_count": 4,
   "id": "regional-possible",
   "metadata": {},
   "outputs": [
    {
     "data": {
      "text/plain": [
       "\"Joy\""
      ]
     },
     "execution_count": 4,
     "metadata": {},
     "output_type": "execute_result"
    }
   ],
   "source": [
    "name(Joy)"
   ]
  },
  {
   "cell_type": "code",
   "execution_count": 5,
   "id": "vertical-tuition",
   "metadata": {},
   "outputs": [],
   "source": [
    "abstract type\n",
    "    Pet\n",
    "end\n",
    "\n",
    "mutable struct Cat <: Pet\n",
    "    name::String\n",
    "    age::Int64\n",
    "end"
   ]
  },
  {
   "cell_type": "code",
   "execution_count": 6,
   "id": "generic-belarus",
   "metadata": {},
   "outputs": [
    {
     "data": {
      "text/plain": [
       "name (generic function with 2 methods)"
      ]
     },
     "execution_count": 6,
     "metadata": {},
     "output_type": "execute_result"
    }
   ],
   "source": [
    "function name(pet::Cat)\n",
    "    return pet.name\n",
    "end"
   ]
  },
  {
   "cell_type": "code",
   "execution_count": 7,
   "id": "suffering-flooring",
   "metadata": {},
   "outputs": [
    {
     "data": {
      "text/plain": [
       "\"Kitty\""
      ]
     },
     "execution_count": 7,
     "metadata": {},
     "output_type": "execute_result"
    }
   ],
   "source": [
    "small_cat = Cat(\"Kitty\", 1)\n",
    "name(small_cat)"
   ]
  },
  {
   "cell_type": "code",
   "execution_count": 9,
   "id": "united-copyright",
   "metadata": {},
   "outputs": [],
   "source": [
    "mutable struct Pendulum\n",
    "    m::Float64\n",
    "    ℓ::Float64\n",
    "    I::Float64\n",
    "end"
   ]
  },
  {
   "cell_type": "code",
   "execution_count": 10,
   "id": "excessive-taste",
   "metadata": {},
   "outputs": [
    {
     "data": {
      "text/plain": [
       "Pendulum(1.0, 0.5, 0.33)"
      ]
     },
     "execution_count": 10,
     "metadata": {},
     "output_type": "execute_result"
    }
   ],
   "source": [
    "pendulum = Pendulum(1.0, 0.5, 0.33)"
   ]
  },
  {
   "cell_type": "code",
   "execution_count": 14,
   "id": "sapphire-classics",
   "metadata": {},
   "outputs": [
    {
     "data": {
      "text/plain": [
       "3-element SArray{Tuple{3},Int64,1,3} with indices SOneTo(3):\n",
       " 1\n",
       " 2\n",
       " 3"
      ]
     },
     "execution_count": 14,
     "metadata": {},
     "output_type": "execute_result"
    }
   ],
   "source": [
    "using LinearAlgebra\n",
    "using StaticArrays\n",
    "@SVector [1,2,3]"
   ]
  },
  {
   "cell_type": "code",
   "execution_count": null,
   "id": "united-implementation",
   "metadata": {},
   "outputs": [],
   "source": []
  }
 ],
 "metadata": {
  "kernelspec": {
   "display_name": "Julia 1.5.3",
   "language": "julia",
   "name": "julia-1.5"
  },
  "language_info": {
   "file_extension": ".jl",
   "mimetype": "application/julia",
   "name": "julia",
   "version": "1.5.3"
  }
 },
 "nbformat": 4,
 "nbformat_minor": 5
}
