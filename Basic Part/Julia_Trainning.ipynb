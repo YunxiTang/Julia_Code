{
 "cells": [
  {
   "cell_type": "markdown",
   "metadata": {},
   "source": [
    "Julia Tutorial Note"
   ]
  },
  {
   "cell_type": "code",
   "execution_count": 2,
   "metadata": {},
   "outputs": [
    {
     "name": "stdout",
     "output_type": "stream",
     "text": [
      "I am interested in learning Julia for robotics\n"
     ]
    }
   ],
   "source": [
    "println(\"I am interested in learning Julia for robotics\")"
   ]
  },
  {
   "cell_type": "markdown",
   "metadata": {},
   "source": [
    " How to assign variables"
   ]
  },
  {
   "cell_type": "code",
   "execution_count": 5,
   "metadata": {},
   "outputs": [
    {
     "name": "stdout",
     "output_type": "stream",
     "text": [
      "Int64\n",
      "Float64\n",
      "String\n"
     ]
    }
   ],
   "source": [
    "true_answer = 64\n",
    "short_pi = 3.14\n",
    "title_name = \"TYX\"\n",
    "println(typeof(true_answer))\n",
    "println(typeof(short_pi))\n",
    "println(typeof(title_name))"
   ]
  },
  {
   "cell_type": "markdown",
   "metadata": {},
   "source": [
    "reassign value to the variable is fine"
   ]
  },
  {
   "cell_type": "code",
   "execution_count": 6,
   "metadata": {},
   "outputs": [
    {
     "name": "stdout",
     "output_type": "stream",
     "text": [
      "Int64\n"
     ]
    }
   ],
   "source": [
    "title_name = true_answer\n",
    "println(typeof(title_name))"
   ]
  },
  {
   "cell_type": "markdown",
   "metadata": {},
   "source": [
    "how to comment "
   ]
  },
  {
   "cell_type": "code",
   "execution_count": 9,
   "metadata": {},
   "outputs": [],
   "source": [
    "# this is for comments\n",
    "#=\n",
    "this is also for multiline comments\n",
    "=#"
   ]
  },
  {
   "cell_type": "markdown",
   "metadata": {},
   "source": [
    "Syntax for basic math"
   ]
  },
  {
   "cell_type": "code",
   "execution_count": 11,
   "metadata": {},
   "outputs": [
    {
     "name": "stdout",
     "output_type": "stream",
     "text": [
      "10\n"
     ]
    },
    {
     "data": {
      "text/plain": [
       "1"
      ]
     },
     "execution_count": 11,
     "metadata": {},
     "output_type": "execute_result"
    }
   ],
   "source": [
    "sum = 3 + 7\n",
    "println(sum)\n",
    "diff = 3 - 7\n",
    "product = 3 * 7\n",
    "quotient = 3 / 7\n",
    "power = 3 ^ 7\n",
    "modulus = 101 % 2 "
   ]
  },
  {
   "cell_type": "markdown",
   "metadata": {},
   "source": [
    "Strings"
   ]
  },
  {
   "cell_type": "code",
   "execution_count": 13,
   "metadata": {},
   "outputs": [
    {
     "name": "stdout",
     "output_type": "stream",
     "text": [
      "This a string\n",
      "This is also a string\n",
      "a\n",
      "This is a special \"string\" \n"
     ]
    }
   ],
   "source": [
    "s1 = \"This a string\"\n",
    "s2 = \"\"\"This is also a string\"\"\"\n",
    "s3 = 'a'\n",
    "s4 = \"\"\"This is a special \"string\" \"\"\"\n",
    "println(s1)\n",
    "println(s2)\n",
    "println(s3)\n",
    "println(s4)"
   ]
  },
  {
   "cell_type": "code",
   "execution_count": 14,
   "metadata": {},
   "outputs": [
    {
     "data": {
      "text/plain": [
       "Char"
      ]
     },
     "execution_count": 14,
     "metadata": {},
     "output_type": "execute_result"
    }
   ],
   "source": [
    "typeof(s3)"
   ]
  },
  {
   "cell_type": "code",
   "execution_count": 17,
   "metadata": {},
   "outputs": [
    {
     "name": "stdout",
     "output_type": "stream",
     "text": [
      "Hello, my name is Sarah.\n",
      "I have 10 fingers and 10 toes.\n"
     ]
    }
   ],
   "source": [
    " # use a $ sign to insert existing variables into a string\n",
    "# string interpolation\n",
    "name = \"Sarah\"\n",
    "num_finger = 10\n",
    "num_toe = 10\n",
    "\n",
    "println(\"Hello, my name is $name.\")\n",
    "println(\"I have $(num_finger) fingers and $(num_toe) toes.\")"
   ]
  },
  {
   "cell_type": "code",
   "execution_count": 32,
   "metadata": {},
   "outputs": [
    {
     "name": "stdout",
     "output_type": "stream",
     "text": [
      "How manycats do you have?\n",
      "At least 10 I guess.\n",
      "How many do you have?\n",
      "How many do you have?\n"
     ]
    }
   ],
   "source": [
    "#= string concatenation\n",
    "Three ways to do this \n",
    "=#\n",
    "\n",
    "# function: string\n",
    "s5 = string(\"How many cats\", \" do you have?\")\n",
    "println(s5)\n",
    "println(string(\"At least \", 10, \" I guess.\"))\n",
    "\n",
    "# use *\n",
    "s6 = \"How many\"\n",
    "s7 = \" do you have?\"\n",
    "s8 = s6*s7\n",
    "println(s8)\n",
    "\n",
    "# use $\n",
    "s9 = \"$s6$s7\"\n",
    "println(s9)"
   ]
  },
  {
   "cell_type": "markdown",
   "metadata": {},
   "source": [
    "DATA STRUCTURE: \n",
    "Ordered: array, tuple (we can index into them)\n",
    "Non-ordered: dictionary\n",
    "\n",
    "Mutable: Dictionary, array\n",
    "Unmutable: Tuple"
   ]
  },
  {
   "cell_type": "code",
   "execution_count": 35,
   "metadata": {},
   "outputs": [
    {
     "name": "stdout",
     "output_type": "stream",
     "text": [
      "Dict(\"Russ\"=>\"9908\",\"Sarah\"=>\"1234\",\"Lee\"=>\"5678\",\"Goeg\"=>\"86-49240\")\n",
      "Dict(\"Russ\"=>\"9908\",\"Sarah\"=>\"1234\",\"Lee\"=>\"52807\",\"Goeg\"=>\"86-49240\")\n",
      "Dict(\"Russ\"=>\"9908\",\"Lee\"=>\"52807\",\"Goeg\"=>\"86-49240\")\n"
     ]
    }
   ],
   "source": [
    "# Dictionary Initialization (Mutable, not ordered)\n",
    "TelephoneBook = Dict(\"Sarah\" => \"1234\", \"Lee\" => \"5678\", \"Russ\" => \"9908\")\n",
    " \n",
    "# add entry to dictionary\n",
    "TelephoneBook[\"Goeg\"] = \"86-49240\"\n",
    "println(TelephoneBook)\n",
    "\n",
    "# update is allowed\n",
    "TelephoneBook[\"Lee\"] = \"52807\"\n",
    "println(TelephoneBook)\n",
    "\n",
    "# use pop! to delete the entry\n",
    "pop!(TelephoneBook, \"Sarah\")\n",
    "println(TelephoneBook)\n",
    "\n",
    "# Dictionary is not indexed, dont use TelephoneBook[1]"
   ]
  },
  {
   "cell_type": "code",
   "execution_count": 34,
   "metadata": {},
   "outputs": [
    {
     "name": "stdout",
     "output_type": "stream",
     "text": [
      "a\n"
     ]
    }
   ],
   "source": [
    "# Tuple (Unmutable, orded)\n",
    "# create tupels by encloseing an \"ordered\" sequence of elements in (), index is allowed, the first is indexed with 1\n",
    "room_mate = ('a', 'c', 'd')\n",
    "println(room_mate[1])\n",
    "\n",
    "# tuples are not mutable, we cannot update it, i.e. room_mate[1] = 'd'"
   ]
  },
  {
   "cell_type": "code",
   "execution_count": 41,
   "metadata": {},
   "outputs": [
    {
     "name": "stdout",
     "output_type": "stream",
     "text": [
      "[12, 23, 54, 55, 98]\n",
      "[23, 54]\n",
      "[12, 75, 54, 55, 98]\n",
      "Any[3, 5, 7, 9, 3, 'q']\n"
     ]
    }
   ],
   "source": [
    "# Arrays (Mutable and ordered)\n",
    "# create an array by enclosing this ordered sequence of elements within []\n",
    "score = [12,23,54,55,98]\n",
    "println(score)\n",
    "println(score[2:3])\n",
    "score[2] = 75\n",
    "println(score)\n",
    "score\n",
    "\n",
    "# mixed type is allowed\n",
    "mix = [3,5,7,9,3,'q']\n",
    "println(mix)"
   ]
  },
  {
   "cell_type": "code",
   "execution_count": 55,
   "metadata": {},
   "outputs": [
    {
     "name": "stdout",
     "output_type": "stream",
     "text": [
      "[2, 4, 5, 67, 43, 84, 9]\n",
      "[2, 4, 5, 67, 43, 84, 9, 33]\n",
      "[2, 4, 5, 67, 43, 84, 9]\n",
      "Array{Float64,1}[[0.0, 0.0, 2.0], [1.0, 2.0], [3.0, 3.0], [4.0, 4.0]]\n"
     ]
    },
    {
     "data": {
      "text/plain": [
       "4×3×2 Array{Float64,3}:\n",
       "[:, :, 1] =\n",
       " 0.972842  0.656266  0.360694\n",
       " 0.111806  0.829226  0.18407 \n",
       " 0.296302  0.523845  0.816384\n",
       " 0.60334   0.233524  0.765994\n",
       "\n",
       "[:, :, 2] =\n",
       " 0.862783  0.163204   0.360358\n",
       " 0.85004   0.353229   0.911511\n",
       " 0.205509  0.887651   0.733124\n",
       " 0.688793  0.0244066  0.494586"
      ]
     },
     "execution_count": 55,
     "metadata": {},
     "output_type": "execute_result"
    }
   ],
   "source": [
    "# we can use push! and pop! to add or remove the last element in the array\n",
    "state = [2,4,5,67,43,84,9]\n",
    "println(state)\n",
    "push!(state, 33)\n",
    "println(state)\n",
    "pop!(state)\n",
    "println(state)\n",
    "\n",
    "# multidimensional arrays\n",
    "states = [[0.0,0.0,2.0],[1.0,2.0],[3.0,3.0],[4.0,4.0]]\n",
    "println(states)\n",
    "# use rand to create random arrays\n",
    "M = rand(4,3,2)\n",
    "M"
   ]
  },
  {
   "cell_type": "code",
   "execution_count": null,
   "metadata": {},
   "outputs": [],
   "source": []
  }
 ],
 "metadata": {
  "kernelspec": {
   "display_name": "Julia 1.0.5",
   "language": "julia",
   "name": "julia-1.0"
  },
  "language_info": {
   "file_extension": ".jl",
   "mimetype": "application/julia",
   "name": "julia",
   "version": "1.0.5"
  }
 },
 "nbformat": 4,
 "nbformat_minor": 4
}
