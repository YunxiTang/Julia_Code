{
 "cells": [
  {
   "cell_type": "markdown",
   "metadata": {},
   "source": [
    "Julia Tutorial Note"
   ]
  },
  {
   "cell_type": "code",
   "execution_count": 2,
   "metadata": {},
   "outputs": [
    {
     "name": "stdout",
     "output_type": "stream",
     "text": [
      "I am interested in learning Julia for robotics\n"
     ]
    }
   ],
   "source": [
    "println(\"I am interested in learning Julia for robotics\")"
   ]
  },
  {
   "cell_type": "markdown",
   "metadata": {},
   "source": [
    " How to assign variables"
   ]
  },
  {
   "cell_type": "code",
   "execution_count": 5,
   "metadata": {},
   "outputs": [
    {
     "name": "stdout",
     "output_type": "stream",
     "text": [
      "Int64\n",
      "Float64\n",
      "String\n"
     ]
    }
   ],
   "source": [
    "true_answer = 64\n",
    "short_pi = 3.14\n",
    "title_name = \"TYX\"\n",
    "println(typeof(true_answer))\n",
    "println(typeof(short_pi))\n",
    "println(typeof(title_name))"
   ]
  },
  {
   "cell_type": "markdown",
   "metadata": {},
   "source": [
    "reassign value to the variable is fine"
   ]
  },
  {
   "cell_type": "code",
   "execution_count": 6,
   "metadata": {},
   "outputs": [
    {
     "name": "stdout",
     "output_type": "stream",
     "text": [
      "Int64\n"
     ]
    }
   ],
   "source": [
    "title_name = true_answer\n",
    "println(typeof(title_name))"
   ]
  },
  {
   "cell_type": "markdown",
   "metadata": {},
   "source": [
    "how to comment "
   ]
  },
  {
   "cell_type": "code",
   "execution_count": 9,
   "metadata": {},
   "outputs": [],
   "source": [
    "# this is for comments\n",
    "#=\n",
    "this is also for multiline comments\n",
    "=#"
   ]
  },
  {
   "cell_type": "markdown",
   "metadata": {},
   "source": [
    "Syntax for basic math"
   ]
  },
  {
   "cell_type": "code",
   "execution_count": 11,
   "metadata": {},
   "outputs": [
    {
     "name": "stdout",
     "output_type": "stream",
     "text": [
      "10\n"
     ]
    },
    {
     "data": {
      "text/plain": [
       "1"
      ]
     },
     "execution_count": 11,
     "metadata": {},
     "output_type": "execute_result"
    }
   ],
   "source": [
    "sum = 3 + 7\n",
    "println(sum)\n",
    "diff = 3 - 7\n",
    "product = 3 * 7\n",
    "quotient = 3 / 7\n",
    "power = 3 ^ 7\n",
    "modulus = 101 % 2 "
   ]
  },
  {
   "cell_type": "markdown",
   "metadata": {},
   "source": [
    "Strings"
   ]
  },
  {
   "cell_type": "code",
   "execution_count": 13,
   "metadata": {},
   "outputs": [
    {
     "name": "stdout",
     "output_type": "stream",
     "text": [
      "This a string\n",
      "This is also a string\n",
      "a\n",
      "This is a special \"string\" \n"
     ]
    }
   ],
   "source": [
    "s1 = \"This a string\"\n",
    "s2 = \"\"\"This is also a string\"\"\"\n",
    "s3 = 'a'\n",
    "s4 = \"\"\"This is a special \"string\" \"\"\"\n",
    "println(s1)\n",
    "println(s2)\n",
    "println(s3)\n",
    "println(s4)"
   ]
  },
  {
   "cell_type": "code",
   "execution_count": 14,
   "metadata": {},
   "outputs": [
    {
     "data": {
      "text/plain": [
       "Char"
      ]
     },
     "execution_count": 14,
     "metadata": {},
     "output_type": "execute_result"
    }
   ],
   "source": [
    "typeof(s3)"
   ]
  },
  {
   "cell_type": "code",
   "execution_count": 17,
   "metadata": {},
   "outputs": [
    {
     "name": "stdout",
     "output_type": "stream",
     "text": [
      "Hello, my name is Sarah.\n",
      "I have 10 fingers and 10 toes.\n"
     ]
    }
   ],
   "source": [
    " # use a $ sign to insert existing variables into a string\n",
    "# string interpolation\n",
    "name = \"Sarah\"\n",
    "num_finger = 10\n",
    "num_toe = 10\n",
    "\n",
    "println(\"Hello, my name is $name.\")\n",
    "println(\"I have $(num_finger) fingers and $(num_toe) toes.\")"
   ]
  },
  {
   "cell_type": "code",
   "execution_count": 32,
   "metadata": {},
   "outputs": [
    {
     "name": "stdout",
     "output_type": "stream",
     "text": [
      "How manycats do you have?\n",
      "At least 10 I guess.\n",
      "How many do you have?\n",
      "How many do you have?\n"
     ]
    }
   ],
   "source": [
    "#= string concatenation\n",
    "Three ways to do this \n",
    "=#\n",
    "\n",
    "# function: string\n",
    "s5 = string(\"How many cats\", \" do you have?\")\n",
    "println(s5)\n",
    "println(string(\"At least \", 10, \" I guess.\"))\n",
    "\n",
    "# use *\n",
    "s6 = \"How many\"\n",
    "s7 = \" do you have?\"\n",
    "s8 = s6*s7\n",
    "println(s8)\n",
    "\n",
    "# use $\n",
    "s9 = \"$s6$s7\"\n",
    "println(s9)"
   ]
  },
  {
   "cell_type": "markdown",
   "metadata": {},
   "source": [
    "DATA STRUCTURE: \n",
    "Ordered: array, tuple (we can index into them)\n",
    "Non-ordered: dictionary\n",
    "\n",
    "Mutable: Dictionary, array\n",
    "Unmutable: Tuple"
   ]
  },
  {
   "cell_type": "code",
   "execution_count": 35,
   "metadata": {},
   "outputs": [
    {
     "name": "stdout",
     "output_type": "stream",
     "text": [
      "Dict(\"Russ\"=>\"9908\",\"Sarah\"=>\"1234\",\"Lee\"=>\"5678\",\"Goeg\"=>\"86-49240\")\n",
      "Dict(\"Russ\"=>\"9908\",\"Sarah\"=>\"1234\",\"Lee\"=>\"52807\",\"Goeg\"=>\"86-49240\")\n",
      "Dict(\"Russ\"=>\"9908\",\"Lee\"=>\"52807\",\"Goeg\"=>\"86-49240\")\n"
     ]
    }
   ],
   "source": [
    "# Dictionary Initialization (Mutable, not ordered)\n",
    "TelephoneBook = Dict(\"Sarah\" => \"1234\", \"Lee\" => \"5678\", \"Russ\" => \"9908\")\n",
    " \n",
    "# add entry to dictionary\n",
    "TelephoneBook[\"Goeg\"] = \"86-49240\"\n",
    "println(TelephoneBook)\n",
    "\n",
    "# update is allowed\n",
    "TelephoneBook[\"Lee\"] = \"52807\"\n",
    "println(TelephoneBook)\n",
    "\n",
    "# use pop! to delete the entry\n",
    "pop!(TelephoneBook, \"Sarah\")\n",
    "println(TelephoneBook)\n",
    "\n",
    "# Dictionary is not indexed, dont use TelephoneBook[1]"
   ]
  },
  {
   "cell_type": "code",
   "execution_count": 34,
   "metadata": {},
   "outputs": [
    {
     "name": "stdout",
     "output_type": "stream",
     "text": [
      "a\n"
     ]
    }
   ],
   "source": [
    "# Tuple (Unmutable, orded)\n",
    "# create tupels by encloseing an \"ordered\" sequence of elements in (), index is allowed, the first is indexed with 1\n",
    "room_mate = ('a', 'c', 'd')\n",
    "println(room_mate[1])\n",
    "\n",
    "# tuples are not mutable, we cannot update it, i.e. room_mate[1] = 'd'"
   ]
  },
  {
   "cell_type": "code",
   "execution_count": 41,
   "metadata": {},
   "outputs": [
    {
     "name": "stdout",
     "output_type": "stream",
     "text": [
      "[12, 23, 54, 55, 98]\n",
      "[23, 54]\n",
      "[12, 75, 54, 55, 98]\n",
      "Any[3, 5, 7, 9, 3, 'q']\n"
     ]
    }
   ],
   "source": [
    "# Arrays (Mutable and ordered)\n",
    "# create an array by enclosing this ordered sequence of elements within []\n",
    "score = [12,23,54,55,98]\n",
    "println(score)\n",
    "println(score[2:3])\n",
    "score[2] = 75\n",
    "println(score)\n",
    "score\n",
    "\n",
    "# mixed type is allowed\n",
    "mix = [3,5,7,9,3,'q']\n",
    "println(mix)"
   ]
  },
  {
   "cell_type": "code",
   "execution_count": 2,
   "metadata": {},
   "outputs": [
    {
     "name": "stdout",
     "output_type": "stream",
     "text": [
      "[2, 4, 5, 67, 43, 84, 9]\n",
      "[2, 4, 5, 67, 43, 84, 9, 33]\n",
      "[2, 4, 5, 67, 43, 84, 9]\n",
      "[2, 21, 5, 67, 43, 84, 9]\n",
      "Array{Float64,1}[[0.0, 0.0, 2.0], [1.0, 2.0], [3.0, 3.0], [4.0, 4.0]]\n"
     ]
    },
    {
     "data": {
      "text/plain": [
       "4×3×2 Array{Float64,3}:\n",
       "[:, :, 1] =\n",
       " 0.622974  0.775998  0.946173\n",
       " 0.940046  0.430494  0.896922\n",
       " 0.890219  0.29093   0.959709\n",
       " 0.241332  0.422879  0.911347\n",
       "\n",
       "[:, :, 2] =\n",
       " 0.668176  0.557233  0.813031\n",
       " 0.114344  0.402834  0.109944\n",
       " 0.899438  0.828058  0.561753\n",
       " 0.21375   0.215303  0.757439"
      ]
     },
     "execution_count": 2,
     "metadata": {},
     "output_type": "execute_result"
    }
   ],
   "source": [
    "# we can use push! and pop! to add or remove the last element in the array\n",
    "state = [2,4,5,67,43,84,9]\n",
    "println(state)\n",
    "push!(state, 33)\n",
    "println(state)\n",
    "pop!(state)\n",
    "println(state)\n",
    "state[2] = 21\n",
    "println(state)\n",
    "\n",
    "# multidimensional arrays\n",
    "states = [[0.0,0.0,2.0],[1.0,2.0],[3.0,3.0],[4.0,4.0]]\n",
    "println(states)\n",
    "# use rand to create random arrays\n",
    "M = rand(4,3,2)\n",
    "M"
   ]
  },
  {
   "cell_type": "markdown",
   "metadata": {},
   "source": [
    "LOOPS in Julia (WHILE AND FOR LOOP)"
   ]
  },
  {
   "cell_type": "code",
   "execution_count": 9,
   "metadata": {
    "collapsed": true
   },
   "outputs": [
    {
     "name": "stdout",
     "output_type": "stream",
     "text": [
      "this is the 0 step.\n",
      "this is the 1 step.\n",
      "this is the 2 step.\n",
      "this is the 3 step.\n",
      "this is the 4 step.\n",
      "this is the 5 step.\n",
      "this is the 6 step.\n",
      "this is the 7 step.\n",
      "this is the 8 step.\n",
      "this is the 9 step.\n",
      "this is the 10 step.\n",
      "This is the book named dv\n",
      "This is the book named cs\n",
      "This is the book named csd\n",
      "This is the book named dcw\n"
     ]
    }
   ],
   "source": [
    "n = 0\n",
    "while n <= 10\n",
    "    println(\"this is the \", n, \" step.\")\n",
    "    n = n + 1\n",
    "end\n",
    "\n",
    "i = 1\n",
    "mybooks = [\"dv\",\"cs\",\"csd\",\"dcw\"]\n",
    "while i <= length(mybooks)\n",
    "    println(\"This is the book named $(mybooks[i])\")\n",
    "    i = i + 1\n",
    "end"
   ]
  },
  {
   "cell_type": "code",
   "execution_count": 12,
   "metadata": {
    "collapsed": true
   },
   "outputs": [
    {
     "name": "stdout",
     "output_type": "stream",
     "text": [
      "this is the 1 step.\n",
      "this is the 2 step.\n",
      "this is the 3 step.\n",
      "this is the 4 step.\n",
      "this is the 5 step.\n",
      "this is the 6 step.\n",
      "this is the 7 step.\n",
      "this is the 8 step.\n",
      "this is the 9 step.\n",
      "this is the 10 step.\n",
      "this book is named by dv\n",
      "this book is named by cs\n",
      "this book is named by csd\n",
      "this book is named by dcw\n"
     ]
    }
   ],
   "source": [
    "for n in 1:10\n",
    "    println(\"this is the \", n, \" step.\")\n",
    "end\n",
    "\n",
    "for book in mybooks\n",
    "    println(\"this book is named by $(book)\")\n",
    "end"
   ]
  },
  {
   "cell_type": "code",
   "execution_count": 15,
   "metadata": {
    "collapsed": true
   },
   "outputs": [
    {
     "name": "stdout",
     "output_type": "stream",
     "text": [
      "Initial A[0.0 0.0 0.0 0.0 0.0; 0.0 0.0 0.0 0.0 0.0; 0.0 0.0 0.0 0.0 0.0; 0.0 0.0 0.0 0.0 0.0; 0.0 0.0 0.0 0.0 0.0]\n"
     ]
    },
    {
     "data": {
      "text/plain": [
       "5×5 Array{Float64,2}:\n",
       " 2.0  3.0  4.0  5.0   6.0\n",
       " 3.0  4.0  5.0  6.0   7.0\n",
       " 4.0  5.0  6.0  7.0   8.0\n",
       " 5.0  6.0  7.0  8.0   9.0\n",
       " 6.0  7.0  8.0  9.0  10.0"
      ]
     },
     "execution_count": 15,
     "metadata": {},
     "output_type": "execute_result"
    }
   ],
   "source": [
    "# do an example\n",
    "m, n = 5, 5\n",
    "A = zeros(m, n)\n",
    "println(\"Initial A\", A)\n",
    "for i in 1:m\n",
    "    for j in 1:n\n",
    "        A[i,j] = i + j\n",
    "    end\n",
    "end\n",
    "A"
   ]
  },
  {
   "cell_type": "code",
   "execution_count": 16,
   "metadata": {},
   "outputs": [
    {
     "data": {
      "text/plain": [
       "5×5 Array{Float64,2}:\n",
       " 2.0  3.0  4.0  5.0   6.0\n",
       " 3.0  4.0  5.0  6.0   7.0\n",
       " 4.0  5.0  6.0  7.0   8.0\n",
       " 5.0  6.0  7.0  8.0   9.0\n",
       " 6.0  7.0  8.0  9.0  10.0"
      ]
     },
     "execution_count": 16,
     "metadata": {},
     "output_type": "execute_result"
    }
   ],
   "source": [
    "B = zeros(m, n)\n",
    "for i in 1:m, j in 1:n\n",
    "    B[i,j] = i+j\n",
    "end\n",
    "B"
   ]
  },
  {
   "cell_type": "code",
   "execution_count": 37,
   "metadata": {
    "collapsed": true
   },
   "outputs": [
    {
     "data": {
      "text/plain": [
       "5×5 Array{Int64,2}:\n",
       " 2  3  4  5   6\n",
       " 3  4  5  6   7\n",
       " 4  5  6  7   8\n",
       " 5  6  7  8   9\n",
       " 6  7  8  9  10"
      ]
     },
     "execution_count": 37,
     "metadata": {},
     "output_type": "execute_result"
    }
   ],
   "source": [
    "C = [i + j for i in 1:m, j in 1:n] # julia style to create a additional tabels (matrix)"
   ]
  },
  {
   "cell_type": "code",
   "execution_count": 18,
   "metadata": {
    "collapsed": true
   },
   "outputs": [
    {
     "data": {
      "text/plain": [
       "1×1 Array{Int64,2}:\n",
       " 2"
      ]
     },
     "metadata": {},
     "output_type": "display_data"
    },
    {
     "data": {
      "text/plain": [
       "2×2 Array{Int64,2}:\n",
       " 2  3\n",
       " 3  4"
      ]
     },
     "metadata": {},
     "output_type": "display_data"
    },
    {
     "data": {
      "text/plain": [
       "3×3 Array{Int64,2}:\n",
       " 2  3  4\n",
       " 3  4  5\n",
       " 4  5  6"
      ]
     },
     "metadata": {},
     "output_type": "display_data"
    },
    {
     "data": {
      "text/plain": [
       "4×4 Array{Int64,2}:\n",
       " 2  3  4  5\n",
       " 3  4  5  6\n",
       " 4  5  6  7\n",
       " 5  6  7  8"
      ]
     },
     "metadata": {},
     "output_type": "display_data"
    },
    {
     "data": {
      "text/plain": [
       "5×5 Array{Int64,2}:\n",
       " 2  3  4  5   6\n",
       " 3  4  5  6   7\n",
       " 4  5  6  7   8\n",
       " 5  6  7  8   9\n",
       " 6  7  8  9  10"
      ]
     },
     "metadata": {},
     "output_type": "display_data"
    },
    {
     "data": {
      "text/plain": [
       "6×6 Array{Int64,2}:\n",
       " 2  3  4   5   6   7\n",
       " 3  4  5   6   7   8\n",
       " 4  5  6   7   8   9\n",
       " 5  6  7   8   9  10\n",
       " 6  7  8   9  10  11\n",
       " 7  8  9  10  11  12"
      ]
     },
     "metadata": {},
     "output_type": "display_data"
    },
    {
     "data": {
      "text/plain": [
       "7×7 Array{Int64,2}:\n",
       " 2  3   4   5   6   7   8\n",
       " 3  4   5   6   7   8   9\n",
       " 4  5   6   7   8   9  10\n",
       " 5  6   7   8   9  10  11\n",
       " 6  7   8   9  10  11  12\n",
       " 7  8   9  10  11  12  13\n",
       " 8  9  10  11  12  13  14"
      ]
     },
     "metadata": {},
     "output_type": "display_data"
    },
    {
     "data": {
      "text/plain": [
       "8×8 Array{Int64,2}:\n",
       " 2   3   4   5   6   7   8   9\n",
       " 3   4   5   6   7   8   9  10\n",
       " 4   5   6   7   8   9  10  11\n",
       " 5   6   7   8   9  10  11  12\n",
       " 6   7   8   9  10  11  12  13\n",
       " 7   8   9  10  11  12  13  14\n",
       " 8   9  10  11  12  13  14  15\n",
       " 9  10  11  12  13  14  15  16"
      ]
     },
     "metadata": {},
     "output_type": "display_data"
    },
    {
     "data": {
      "text/plain": [
       "9×9 Array{Int64,2}:\n",
       "  2   3   4   5   6   7   8   9  10\n",
       "  3   4   5   6   7   8   9  10  11\n",
       "  4   5   6   7   8   9  10  11  12\n",
       "  5   6   7   8   9  10  11  12  13\n",
       "  6   7   8   9  10  11  12  13  14\n",
       "  7   8   9  10  11  12  13  14  15\n",
       "  8   9  10  11  12  13  14  15  16\n",
       "  9  10  11  12  13  14  15  16  17\n",
       " 10  11  12  13  14  15  16  17  18"
      ]
     },
     "metadata": {},
     "output_type": "display_data"
    },
    {
     "data": {
      "text/plain": [
       "10×10 Array{Int64,2}:\n",
       "  2   3   4   5   6   7   8   9  10  11\n",
       "  3   4   5   6   7   8   9  10  11  12\n",
       "  4   5   6   7   8   9  10  11  12  13\n",
       "  5   6   7   8   9  10  11  12  13  14\n",
       "  6   7   8   9  10  11  12  13  14  15\n",
       "  7   8   9  10  11  12  13  14  15  16\n",
       "  8   9  10  11  12  13  14  15  16  17\n",
       "  9  10  11  12  13  14  15  16  17  18\n",
       " 10  11  12  13  14  15  16  17  18  19\n",
       " 11  12  13  14  15  16  17  18  19  20"
      ]
     },
     "metadata": {},
     "output_type": "display_data"
    }
   ],
   "source": [
    "for n in 1:10\n",
    "    A = [i+j for i in 1:n, j in 1:n]\n",
    "    display(A)\n",
    "end"
   ]
  },
  {
   "cell_type": "markdown",
   "metadata": {},
   "source": [
    "Conditionals in JULIA \n",
    "if\n",
    "\n",
    "elseif\n",
    "\n",
    "else\n",
    "\n",
    "end"
   ]
  },
  {
   "cell_type": "code",
   "execution_count": 23,
   "metadata": {},
   "outputs": [
    {
     "data": {
      "text/plain": [
       "\"x [0.50545] is larger.\""
      ]
     },
     "metadata": {},
     "output_type": "display_data"
    }
   ],
   "source": [
    "# if conditional\n",
    "x = rand(1)\n",
    "y = rand(1)\n",
    "\n",
    "if x > y\n",
    "    display(\"x $(x) is larger.\")\n",
    "elseif x < y\n",
    "    display(\"y $(y) is larger.\")\n",
    "else\n",
    "    display(\"x $(x) and y $(y) are equal.\")\n",
    "end"
   ]
  },
  {
   "cell_type": "code",
   "execution_count": 33,
   "metadata": {},
   "outputs": [
    {
     "data": {
      "text/plain": [
       "2"
      ]
     },
     "execution_count": 33,
     "metadata": {},
     "output_type": "execute_result"
    }
   ],
   "source": [
    "x = 2\n",
    "y = 1\n",
    "\n",
    "#= an easier way to compare the size of two numbers\n",
    "(a) ? b : c\n",
    "which means\n",
    "if a\n",
    "    b\n",
    "else\n",
    "    c\n",
    "end\n",
    "=#\n",
    "(x > y) ? x : y"
   ]
  },
  {
   "cell_type": "code",
   "execution_count": 36,
   "metadata": {
    "collapsed": true
   },
   "outputs": [
    {
     "name": "stdout",
     "output_type": "stream",
     "text": [
      "x is larger\n"
     ]
    },
    {
     "data": {
      "text/plain": [
       "false"
      ]
     },
     "execution_count": 36,
     "metadata": {},
     "output_type": "execute_result"
    }
   ],
   "source": [
    "# another interesting way\n",
    "(x > y) && println(\"x is larger\")\n",
    "(x < y) && println(\"y is larger\")"
   ]
  },
  {
   "cell_type": "markdown",
   "metadata": {},
   "source": [
    "FUNCTIONS IN JULIA\n",
    "Topics:\n",
    "1. declare a fucntion\n",
    "2. Duck-typing in Julia\n",
    "3. Mutating vs. non-mutating functions\n",
    "4. Broadcasting"
   ]
  },
  {
   "cell_type": "code",
   "execution_count": 62,
   "metadata": {},
   "outputs": [
    {
     "name": "stdout",
     "output_type": "stream",
     "text": [
      "Hi! Jio\n",
      "Hi! jio.\n",
      "Hi! JIO.\n"
     ]
    },
    {
     "data": {
      "text/plain": [
       "2019963136"
      ]
     },
     "execution_count": 62,
     "metadata": {},
     "output_type": "execute_result"
    }
   ],
   "source": [
    "function sayhi(name)\n",
    "    println(\"Hi! $(name)\")\n",
    "end\n",
    "\n",
    "function f(x)\n",
    "    y = x^2\n",
    "    return y\n",
    "end\n",
    "\n",
    "sayhi(\"Jio\")\n",
    "f(2)\n",
    "\n",
    "# do it in one line\n",
    "sayhi2(name) = println(\"Hi! $(name).\")\n",
    "f2(x) = x^3\n",
    "\n",
    "sayhi2(\"jio\")\n",
    "f2(2)\n",
    "\n",
    "# anonymous functions\n",
    "sayhi3 = name -> println(\"Hi! $(name).\")\n",
    "f3 = x -> x^4\n",
    "\n",
    "sayhi3(\"JIO\")\n",
    "f3(212)"
   ]
  },
  {
   "cell_type": "markdown",
   "metadata": {},
   "source": [
    "functions followed by ! alter their contents and functions wothout ! do not\n",
    "check sort and sort!"
   ]
  },
  {
   "cell_type": "code",
   "execution_count": 53,
   "metadata": {},
   "outputs": [
    {
     "data": {
      "text/plain": [
       "3-element Array{Int64,1}:\n",
       " 2\n",
       " 3\n",
       " 5"
      ]
     },
     "metadata": {},
     "output_type": "display_data"
    },
    {
     "data": {
      "text/plain": [
       "3-element Array{Int64,1}:\n",
       " 3\n",
       " 5\n",
       " 2"
      ]
     },
     "metadata": {},
     "output_type": "display_data"
    },
    {
     "data": {
      "text/plain": [
       "3-element Array{Int64,1}:\n",
       " 2\n",
       " 3\n",
       " 5"
      ]
     },
     "metadata": {},
     "output_type": "display_data"
    }
   ],
   "source": [
    "v = [3,5,2]\n",
    "m = sort(v)\n",
    "display(m)\n",
    "display(v)\n",
    "sort!(v)\n",
    "display(v)"
   ]
  },
  {
   "cell_type": "code",
   "execution_count": 51,
   "metadata": {},
   "outputs": [
    {
     "data": {
      "text/plain": [
       "3-element Array{Int64,1}:\n",
       " 3\n",
       " 5\n",
       " 2"
      ]
     },
     "execution_count": 51,
     "metadata": {},
     "output_type": "execute_result"
    }
   ],
   "source": [
    "# broadcasting\n",
    "#=\n",
    "by placing a . between any function name and its argument list\n",
    "we tell the function to broadcast over the elements of the input pbjects\n",
    "=#\n"
   ]
  },
  {
   "cell_type": "code",
   "execution_count": 59,
   "metadata": {},
   "outputs": [
    {
     "data": {
      "text/plain": [
       "3×3 Array{Int64,2}:\n",
       " 3  6   9\n",
       " 4  7  10\n",
       " 5  8  11"
      ]
     },
     "metadata": {},
     "output_type": "display_data"
    },
    {
     "data": {
      "text/plain": [
       "3×3 Array{Int64,2}:\n",
       "  78  132  186\n",
       "  90  153  216\n",
       " 102  174  246"
      ]
     },
     "metadata": {},
     "output_type": "display_data"
    },
    {
     "data": {
      "text/plain": [
       "3×3 Array{Int64,2}:\n",
       "  9  36   81\n",
       " 16  49  100\n",
       " 25  64  121"
      ]
     },
     "metadata": {},
     "output_type": "display_data"
    },
    {
     "data": {
      "text/plain": [
       "3-element Array{Int64,1}:\n",
       " 1\n",
       " 4\n",
       " 9"
      ]
     },
     "metadata": {},
     "output_type": "display_data"
    }
   ],
   "source": [
    "A  =[i + 3*j for i in 0:2, j in 1:3]\n",
    "display(A)\n",
    "display(f(A))\n",
    "display(f.(A))\n",
    "v = [1,2,3]\n",
    "display(f.(v))"
   ]
  },
  {
   "cell_type": "markdown",
   "metadata": {},
   "source": [
    "Packages\n",
    "1. how to use packages"
   ]
  },
  {
   "cell_type": "code",
   "execution_count": 80,
   "metadata": {},
   "outputs": [],
   "source": [
    "# when first time use a package on a given Julia installation, we need to explicitly add it\n",
    "# Pkg.add(\"NAMEofPackage\")\n",
    "# Pkg.add(\"Example\")\n",
    "using Example"
   ]
  },
  {
   "cell_type": "code",
   "execution_count": 81,
   "metadata": {},
   "outputs": [
    {
     "data": {
      "text/plain": [
       "\"Hello, cc\""
      ]
     },
     "execution_count": 81,
     "metadata": {},
     "output_type": "execute_result"
    }
   ],
   "source": [
    "hello(\"cc\")"
   ]
  },
  {
   "cell_type": "markdown",
   "metadata": {},
   "source": [
    "Plottings\n",
    "Different ways to plot in Julia\n",
    "Here Plots.jl is used"
   ]
  },
  {
   "cell_type": "code",
   "execution_count": 77,
   "metadata": {
    "collapsed": true
   },
   "outputs": [
    {
     "name": "stdout",
     "output_type": "stream",
     "text": [
      "\u001b[32m\u001b[1m  Updating\u001b[22m\u001b[39m registry at `C:\\Users\\tangy\\.juliapro\\JuliaPro_v1.0.5-2\\registries\\General`\n",
      "\u001b[32m\u001b[1m  Updating\u001b[22m\u001b[39m git-repo `https://pkg.juliacomputing.com/registry/General`\n",
      "\u001b[?25l\u001b[2K\u001b[?25h\u001b[32m\u001b[1m Resolving\u001b[22m\u001b[39m package versions...\n",
      "\u001b[32m\u001b[1m Installed\u001b[22m\u001b[39m DataAPI ─────────── v1.4.0\n",
      "\u001b[32m\u001b[1m Installed\u001b[22m\u001b[39m Plots ───────────── v1.4.3\n",
      "\u001b[32m\u001b[1m Installed\u001b[22m\u001b[39m Grisu ───────────── v1.0.0\n",
      "\u001b[32m\u001b[1m Installed\u001b[22m\u001b[39m Showoff ─────────── v0.3.2\n",
      "\u001b[32m\u001b[1m Installed\u001b[22m\u001b[39m PlotThemes ──────── v2.0.0\n",
      "\u001b[32m\u001b[1m Installed\u001b[22m\u001b[39m GeometryTypes ───── v0.8.4\n",
      "\u001b[32m\u001b[1m Installed\u001b[22m\u001b[39m SortingAlgorithms ─ v0.3.1\n",
      "\u001b[32m\u001b[1m Installed\u001b[22m\u001b[39m FFMPEG ──────────── v0.2.4\n",
      "\u001b[32m\u001b[1m Installed\u001b[22m\u001b[39m PlotUtils ───────── v1.0.8\n",
      "\u001b[32m\u001b[1m Installed\u001b[22m\u001b[39m StatsBase ───────── v0.33.2\n",
      "\u001b[32m\u001b[1m Installed\u001b[22m\u001b[39m Missings ────────── v0.4.4\n",
      "\u001b[32m\u001b[1m Installed\u001b[22m\u001b[39m Measures ────────── v0.3.1\n",
      "\u001b[32m\u001b[1m Installed\u001b[22m\u001b[39m RecipesPipeline ─── v0.1.13\n",
      "\u001b[32m\u001b[1m Installed\u001b[22m\u001b[39m Contour ─────────── v0.5.7\n",
      "\u001b[32m\u001b[1m Installed\u001b[22m\u001b[39m GR ──────────────── v0.50.1\n",
      "\u001b[32m\u001b[1m Installed\u001b[22m\u001b[39m ColorSchemes ────── v3.10.2\n",
      "\u001b[32m\u001b[1m  Updating\u001b[22m\u001b[39m `C:\\Users\\tangy\\.juliapro\\JuliaPro_v1.0.5-2\\environments\\v1.0\\Project.toml`\n",
      " \u001b[90m [91a5bcdd]\u001b[39m\u001b[92m + Plots v1.4.3\u001b[39m\n",
      "\u001b[32m\u001b[1m  Updating\u001b[22m\u001b[39m `C:\\Users\\tangy\\.juliapro\\JuliaPro_v1.0.5-2\\environments\\v1.0\\Manifest.toml`\n",
      " \u001b[90m [35d6a980]\u001b[39m\u001b[92m + ColorSchemes v3.10.2\u001b[39m\n",
      " \u001b[90m [d38c429a]\u001b[39m\u001b[92m + Contour v0.5.7\u001b[39m\n",
      " \u001b[90m [9a962f9c]\u001b[39m\u001b[92m + DataAPI v1.4.0\u001b[39m\n",
      " \u001b[90m [c87230d0]\u001b[39m\u001b[92m + FFMPEG v0.2.4\u001b[39m\n",
      " \u001b[90m [28b8d3ca]\u001b[39m\u001b[92m + GR v0.50.1\u001b[39m\n",
      " \u001b[90m [4d00f742]\u001b[39m\u001b[92m + GeometryTypes v0.8.4\u001b[39m\n",
      " \u001b[90m [42e2da0e]\u001b[39m\u001b[92m + Grisu v1.0.0\u001b[39m\n",
      " \u001b[90m [442fdcdd]\u001b[39m\u001b[92m + Measures v0.3.1\u001b[39m\n",
      " \u001b[90m [e1d29d7a]\u001b[39m\u001b[92m + Missings v0.4.4\u001b[39m\n",
      " \u001b[90m [ccf2f8ad]\u001b[39m\u001b[92m + PlotThemes v2.0.0\u001b[39m\n",
      " \u001b[90m [995b91a9]\u001b[39m\u001b[92m + PlotUtils v1.0.8\u001b[39m\n",
      " \u001b[90m [91a5bcdd]\u001b[39m\u001b[92m + Plots v1.4.3\u001b[39m\n",
      " \u001b[90m [01d81517]\u001b[39m\u001b[92m + RecipesPipeline v0.1.13\u001b[39m\n",
      " \u001b[90m [992d4aef]\u001b[39m\u001b[92m + Showoff v0.3.2\u001b[39m\n",
      " \u001b[90m [a2af1166]\u001b[39m\u001b[92m + SortingAlgorithms v0.3.1\u001b[39m\n",
      " \u001b[90m [2913bbd2]\u001b[39m\u001b[92m + StatsBase v0.33.2\u001b[39m\n",
      "\u001b[32m\u001b[1m  Building\u001b[22m\u001b[39m GR ────→ `C:\\Users\\tangy\\.juliapro\\JuliaPro_v1.0.5-2\\packages\\GR\\Atztx\\deps\\build.log`\n",
      "\u001b[32m\u001b[1m  Building\u001b[22m\u001b[39m FFMPEG → `C:\\Users\\tangy\\.juliapro\\JuliaPro_v1.0.5-2\\packages\\FFMPEG\\guN1x\\deps\\build.log`\n",
      "\u001b[32m\u001b[1m  Building\u001b[22m\u001b[39m Plots ─→ `C:\\Users\\tangy\\.juliapro\\JuliaPro_v1.0.5-2\\packages\\Plots\\E3MWZ\\deps\\build.log`\n"
     ]
    }
   ],
   "source": [
    "#import Pkg\n",
    "#Pkg.add(\"Plots\")"
   ]
  },
  {
   "cell_type": "code",
   "execution_count": 6,
   "metadata": {},
   "outputs": [
    {
     "name": "stderr",
     "output_type": "stream",
     "text": [
      "┌ Info: Precompiling Plots [91a5bcdd-55d7-5caf-9e0b-520d859cae80]\n",
      "└ @ Base loading.jl:1192\n"
     ]
    },
    {
     "data": {
      "image/svg+xml": [
       "<?xml version=\"1.0\" encoding=\"utf-8\"?>\n",
       "<svg xmlns=\"http://www.w3.org/2000/svg\" xmlns:xlink=\"http://www.w3.org/1999/xlink\" width=\"600\" height=\"400\" viewBox=\"0 0 2400 1600\">\n",
       "<defs>\n",
       "  <clipPath id=\"clip700\">\n",
       "    <rect x=\"0\" y=\"0\" width=\"2400\" height=\"1600\"/>\n",
       "  </clipPath>\n",
       "</defs>\n",
       "<path clip-path=\"url(#clip700)\" d=\"\n",
       "M0 1600 L2400 1600 L2400 0 L0 0  Z\n",
       "  \" fill=\"#ffffff\" fill-rule=\"evenodd\" fill-opacity=\"1\"/>\n",
       "<defs>\n",
       "  <clipPath id=\"clip701\">\n",
       "    <rect x=\"480\" y=\"0\" width=\"1681\" height=\"1600\"/>\n",
       "  </clipPath>\n",
       "</defs>\n",
       "<path clip-path=\"url(#clip700)\" d=\"\n",
       "M112.177 1486.45 L2352.76 1486.45 L2352.76 47.2441 L112.177 47.2441  Z\n",
       "  \" fill=\"#ffffff\" fill-rule=\"evenodd\" fill-opacity=\"1\"/>\n",
       "<defs>\n",
       "  <clipPath id=\"clip702\">\n",
       "    <rect x=\"112\" y=\"47\" width=\"2242\" height=\"1440\"/>\n",
       "  </clipPath>\n",
       "</defs>\n",
       "<polyline clip-path=\"url(#clip702)\" style=\"stroke:#000000; stroke-width:2; stroke-opacity:0.1; fill:none\" points=\"\n",
       "  175.59,1486.45 175.59,47.2441 \n",
       "  \"/>\n",
       "<polyline clip-path=\"url(#clip702)\" style=\"stroke:#000000; stroke-width:2; stroke-opacity:0.1; fill:none\" points=\"\n",
       "  527.882,1486.45 527.882,47.2441 \n",
       "  \"/>\n",
       "<polyline clip-path=\"url(#clip702)\" style=\"stroke:#000000; stroke-width:2; stroke-opacity:0.1; fill:none\" points=\"\n",
       "  880.174,1486.45 880.174,47.2441 \n",
       "  \"/>\n",
       "<polyline clip-path=\"url(#clip702)\" style=\"stroke:#000000; stroke-width:2; stroke-opacity:0.1; fill:none\" points=\"\n",
       "  1232.47,1486.45 1232.47,47.2441 \n",
       "  \"/>\n",
       "<polyline clip-path=\"url(#clip702)\" style=\"stroke:#000000; stroke-width:2; stroke-opacity:0.1; fill:none\" points=\"\n",
       "  1584.76,1486.45 1584.76,47.2441 \n",
       "  \"/>\n",
       "<polyline clip-path=\"url(#clip702)\" style=\"stroke:#000000; stroke-width:2; stroke-opacity:0.1; fill:none\" points=\"\n",
       "  1937.05,1486.45 1937.05,47.2441 \n",
       "  \"/>\n",
       "<polyline clip-path=\"url(#clip702)\" style=\"stroke:#000000; stroke-width:2; stroke-opacity:0.1; fill:none\" points=\"\n",
       "  2289.34,1486.45 2289.34,47.2441 \n",
       "  \"/>\n",
       "<polyline clip-path=\"url(#clip702)\" style=\"stroke:#000000; stroke-width:2; stroke-opacity:0.1; fill:none\" points=\"\n",
       "  112.177,1445.72 2352.76,1445.72 \n",
       "  \"/>\n",
       "<polyline clip-path=\"url(#clip702)\" style=\"stroke:#000000; stroke-width:2; stroke-opacity:0.1; fill:none\" points=\"\n",
       "  112.177,1144 2352.76,1144 \n",
       "  \"/>\n",
       "<polyline clip-path=\"url(#clip702)\" style=\"stroke:#000000; stroke-width:2; stroke-opacity:0.1; fill:none\" points=\"\n",
       "  112.177,842.276 2352.76,842.276 \n",
       "  \"/>\n",
       "<polyline clip-path=\"url(#clip702)\" style=\"stroke:#000000; stroke-width:2; stroke-opacity:0.1; fill:none\" points=\"\n",
       "  112.177,540.556 2352.76,540.556 \n",
       "  \"/>\n",
       "<polyline clip-path=\"url(#clip702)\" style=\"stroke:#000000; stroke-width:2; stroke-opacity:0.1; fill:none\" points=\"\n",
       "  112.177,238.836 2352.76,238.836 \n",
       "  \"/>\n",
       "<polyline clip-path=\"url(#clip700)\" style=\"stroke:#000000; stroke-width:4; stroke-opacity:1; fill:none\" points=\"\n",
       "  112.177,1486.45 2352.76,1486.45 \n",
       "  \"/>\n",
       "<polyline clip-path=\"url(#clip700)\" style=\"stroke:#000000; stroke-width:4; stroke-opacity:1; fill:none\" points=\"\n",
       "  112.177,1486.45 112.177,47.2441 \n",
       "  \"/>\n",
       "<polyline clip-path=\"url(#clip700)\" style=\"stroke:#000000; stroke-width:4; stroke-opacity:1; fill:none\" points=\"\n",
       "  175.59,1486.45 175.59,1469.18 \n",
       "  \"/>\n",
       "<polyline clip-path=\"url(#clip700)\" style=\"stroke:#000000; stroke-width:4; stroke-opacity:1; fill:none\" points=\"\n",
       "  527.882,1486.45 527.882,1469.18 \n",
       "  \"/>\n",
       "<polyline clip-path=\"url(#clip700)\" style=\"stroke:#000000; stroke-width:4; stroke-opacity:1; fill:none\" points=\"\n",
       "  880.174,1486.45 880.174,1469.18 \n",
       "  \"/>\n",
       "<polyline clip-path=\"url(#clip700)\" style=\"stroke:#000000; stroke-width:4; stroke-opacity:1; fill:none\" points=\"\n",
       "  1232.47,1486.45 1232.47,1469.18 \n",
       "  \"/>\n",
       "<polyline clip-path=\"url(#clip700)\" style=\"stroke:#000000; stroke-width:4; stroke-opacity:1; fill:none\" points=\"\n",
       "  1584.76,1486.45 1584.76,1469.18 \n",
       "  \"/>\n",
       "<polyline clip-path=\"url(#clip700)\" style=\"stroke:#000000; stroke-width:4; stroke-opacity:1; fill:none\" points=\"\n",
       "  1937.05,1486.45 1937.05,1469.18 \n",
       "  \"/>\n",
       "<polyline clip-path=\"url(#clip700)\" style=\"stroke:#000000; stroke-width:4; stroke-opacity:1; fill:none\" points=\"\n",
       "  2289.34,1486.45 2289.34,1469.18 \n",
       "  \"/>\n",
       "<polyline clip-path=\"url(#clip700)\" style=\"stroke:#000000; stroke-width:4; stroke-opacity:1; fill:none\" points=\"\n",
       "  112.177,1445.72 139.064,1445.72 \n",
       "  \"/>\n",
       "<polyline clip-path=\"url(#clip700)\" style=\"stroke:#000000; stroke-width:4; stroke-opacity:1; fill:none\" points=\"\n",
       "  112.177,1144 139.064,1144 \n",
       "  \"/>\n",
       "<polyline clip-path=\"url(#clip700)\" style=\"stroke:#000000; stroke-width:4; stroke-opacity:1; fill:none\" points=\"\n",
       "  112.177,842.276 139.064,842.276 \n",
       "  \"/>\n",
       "<polyline clip-path=\"url(#clip700)\" style=\"stroke:#000000; stroke-width:4; stroke-opacity:1; fill:none\" points=\"\n",
       "  112.177,540.556 139.064,540.556 \n",
       "  \"/>\n",
       "<polyline clip-path=\"url(#clip700)\" style=\"stroke:#000000; stroke-width:4; stroke-opacity:1; fill:none\" points=\"\n",
       "  112.177,238.836 139.064,238.836 \n",
       "  \"/>\n",
       "<path clip-path=\"url(#clip700)\" d=\"M 0 0 M156.169 1525.04 L168.645 1525.04 L168.645 1528.83 L156.169 1528.83 L156.169 1525.04 Z\" fill=\"#000000\" fill-rule=\"evenodd\" fill-opacity=\"1\" /><path clip-path=\"url(#clip700)\" d=\"M 0 0 M187.881 1521.29 Q191.238 1522 193.113 1524.27 Q195.011 1526.54 195.011 1529.87 Q195.011 1534.99 191.492 1537.79 Q187.974 1540.59 181.493 1540.59 Q179.317 1540.59 177.002 1540.15 Q174.71 1539.73 172.256 1538.88 L172.256 1534.36 Q174.201 1535.5 176.516 1536.08 Q178.831 1536.66 181.354 1536.66 Q185.752 1536.66 188.043 1534.92 Q190.358 1533.18 190.358 1529.87 Q190.358 1526.82 188.205 1525.11 Q186.076 1523.37 182.256 1523.37 L178.229 1523.37 L178.229 1519.53 L182.442 1519.53 Q185.891 1519.53 187.719 1518.16 Q189.548 1516.77 189.548 1514.18 Q189.548 1511.52 187.65 1510.11 Q185.775 1508.67 182.256 1508.67 Q180.335 1508.67 178.136 1509.09 Q175.937 1509.5 173.298 1510.38 L173.298 1506.22 Q175.96 1505.48 178.275 1505.11 Q180.613 1504.73 182.673 1504.73 Q187.997 1504.73 191.099 1507.17 Q194.201 1509.57 194.201 1513.69 Q194.201 1516.56 192.557 1518.55 Q190.914 1520.52 187.881 1521.29 Z\" fill=\"#000000\" fill-rule=\"evenodd\" fill-opacity=\"1\" /><path clip-path=\"url(#clip700)\" d=\"M 0 0 M508.935 1525.04 L521.412 1525.04 L521.412 1528.83 L508.935 1528.83 L508.935 1525.04 Z\" fill=\"#000000\" fill-rule=\"evenodd\" fill-opacity=\"1\" /><path clip-path=\"url(#clip700)\" d=\"M 0 0 M530.509 1535.98 L546.829 1535.98 L546.829 1539.92 L524.884 1539.92 L524.884 1535.98 Q527.546 1533.23 532.13 1528.6 Q536.736 1523.95 537.917 1522.61 Q540.162 1520.08 541.042 1518.35 Q541.944 1516.59 541.944 1514.9 Q541.944 1512.14 540 1510.41 Q538.079 1508.67 534.977 1508.67 Q532.778 1508.67 530.324 1509.43 Q527.894 1510.2 525.116 1511.75 L525.116 1507.03 Q527.94 1505.89 530.394 1505.31 Q532.847 1504.73 534.884 1504.73 Q540.255 1504.73 543.449 1507.42 Q546.644 1510.11 546.644 1514.6 Q546.644 1516.73 545.833 1518.65 Q545.046 1520.54 542.94 1523.14 Q542.361 1523.81 539.259 1527.03 Q536.157 1530.22 530.509 1535.98 Z\" fill=\"#000000\" fill-rule=\"evenodd\" fill-opacity=\"1\" /><path clip-path=\"url(#clip700)\" d=\"M 0 0 M861.042 1525.04 L873.519 1525.04 L873.519 1528.83 L861.042 1528.83 L861.042 1525.04 Z\" fill=\"#000000\" fill-rule=\"evenodd\" fill-opacity=\"1\" /><path clip-path=\"url(#clip700)\" d=\"M 0 0 M879.399 1535.98 L887.038 1535.98 L887.038 1509.62 L878.728 1511.29 L878.728 1507.03 L886.991 1505.36 L891.667 1505.36 L891.667 1535.98 L899.306 1535.98 L899.306 1539.92 L879.399 1539.92 L879.399 1535.98 Z\" fill=\"#000000\" fill-rule=\"evenodd\" fill-opacity=\"1\" /><path clip-path=\"url(#clip700)\" d=\"M 0 0 M1232.47 1508.44 Q1228.86 1508.44 1227.03 1512 Q1225.22 1515.55 1225.22 1522.67 Q1225.22 1529.78 1227.03 1533.35 Q1228.86 1536.89 1232.47 1536.89 Q1236.1 1536.89 1237.91 1533.35 Q1239.74 1529.78 1239.74 1522.67 Q1239.74 1515.55 1237.91 1512 Q1236.1 1508.44 1232.47 1508.44 M1232.47 1504.73 Q1238.28 1504.73 1241.33 1509.34 Q1244.41 1513.92 1244.41 1522.67 Q1244.41 1531.4 1241.33 1536.01 Q1238.28 1540.59 1232.47 1540.59 Q1226.66 1540.59 1223.58 1536.01 Q1220.52 1531.4 1220.52 1522.67 Q1220.52 1513.92 1223.58 1509.34 Q1226.66 1504.73 1232.47 1504.73 Z\" fill=\"#000000\" fill-rule=\"evenodd\" fill-opacity=\"1\" /><path clip-path=\"url(#clip700)\" d=\"M 0 0 M1575.14 1535.98 L1582.78 1535.98 L1582.78 1509.62 L1574.47 1511.29 L1574.47 1507.03 L1582.73 1505.36 L1587.41 1505.36 L1587.41 1535.98 L1595.05 1535.98 L1595.05 1539.92 L1575.14 1539.92 L1575.14 1535.98 Z\" fill=\"#000000\" fill-rule=\"evenodd\" fill-opacity=\"1\" /><path clip-path=\"url(#clip700)\" d=\"M 0 0 M1931.7 1535.98 L1948.02 1535.98 L1948.02 1539.92 L1926.08 1539.92 L1926.08 1535.98 Q1928.74 1533.23 1933.32 1528.6 Q1937.93 1523.95 1939.11 1522.61 Q1941.36 1520.08 1942.24 1518.35 Q1943.14 1516.59 1943.14 1514.9 Q1943.14 1512.14 1941.19 1510.41 Q1939.27 1508.67 1936.17 1508.67 Q1933.97 1508.67 1931.52 1509.43 Q1929.09 1510.2 1926.31 1511.75 L1926.31 1507.03 Q1929.13 1505.89 1931.59 1505.31 Q1934.04 1504.73 1936.08 1504.73 Q1941.45 1504.73 1944.64 1507.42 Q1947.84 1510.11 1947.84 1514.6 Q1947.84 1516.73 1947.03 1518.65 Q1946.24 1520.54 1944.13 1523.14 Q1943.56 1523.81 1940.45 1527.03 Q1937.35 1530.22 1931.7 1535.98 Z\" fill=\"#000000\" fill-rule=\"evenodd\" fill-opacity=\"1\" /><path clip-path=\"url(#clip700)\" d=\"M 0 0 M2293.59 1521.29 Q2296.95 1522 2298.82 1524.27 Q2300.72 1526.54 2300.72 1529.87 Q2300.72 1534.99 2297.2 1537.79 Q2293.68 1540.59 2287.2 1540.59 Q2285.03 1540.59 2282.71 1540.15 Q2280.42 1539.73 2277.97 1538.88 L2277.97 1534.36 Q2279.91 1535.5 2282.23 1536.08 Q2284.54 1536.66 2287.06 1536.66 Q2291.46 1536.66 2293.75 1534.92 Q2296.07 1533.18 2296.07 1529.87 Q2296.07 1526.82 2293.92 1525.11 Q2291.79 1523.37 2287.97 1523.37 L2283.94 1523.37 L2283.94 1519.53 L2288.15 1519.53 Q2291.6 1519.53 2293.43 1518.16 Q2295.26 1516.77 2295.26 1514.18 Q2295.26 1511.52 2293.36 1510.11 Q2291.48 1508.67 2287.97 1508.67 Q2286.04 1508.67 2283.85 1509.09 Q2281.65 1509.5 2279.01 1510.38 L2279.01 1506.22 Q2281.67 1505.48 2283.98 1505.11 Q2286.32 1504.73 2288.38 1504.73 Q2293.71 1504.73 2296.81 1507.17 Q2299.91 1509.57 2299.91 1513.69 Q2299.91 1516.56 2298.27 1518.55 Q2296.62 1520.52 2293.59 1521.29 Z\" fill=\"#000000\" fill-rule=\"evenodd\" fill-opacity=\"1\" /><path clip-path=\"url(#clip700)\" d=\"M 0 0 M76.2328 1431.51 Q72.6217 1431.51 70.793 1435.08 Q68.9875 1438.62 68.9875 1445.75 Q68.9875 1452.86 70.793 1456.42 Q72.6217 1459.96 76.2328 1459.96 Q79.867 1459.96 81.6726 1456.42 Q83.5013 1452.86 83.5013 1445.75 Q83.5013 1438.62 81.6726 1435.08 Q79.867 1431.51 76.2328 1431.51 M76.2328 1427.81 Q82.0429 1427.81 85.0985 1432.42 Q88.1772 1437 88.1772 1445.75 Q88.1772 1454.48 85.0985 1459.08 Q82.0429 1463.67 76.2328 1463.67 Q70.4226 1463.67 67.344 1459.08 Q64.2884 1454.48 64.2884 1445.75 Q64.2884 1437 67.344 1432.42 Q70.4226 1427.81 76.2328 1427.81 Z\" fill=\"#000000\" fill-rule=\"evenodd\" fill-opacity=\"1\" /><path clip-path=\"url(#clip700)\" d=\"M 0 0 M71.8578 1157.34 L88.1772 1157.34 L88.1772 1161.28 L66.2328 1161.28 L66.2328 1157.34 Q68.8949 1154.59 73.4782 1149.96 Q78.0846 1145.3 79.2652 1143.96 Q81.5105 1141.44 82.3902 1139.7 Q83.2929 1137.94 83.2929 1136.25 Q83.2929 1133.5 81.3485 1131.76 Q79.4272 1130.03 76.3254 1130.03 Q74.1263 1130.03 71.6726 1130.79 Q69.2421 1131.55 66.4643 1133.1 L66.4643 1128.38 Q69.2884 1127.25 71.7421 1126.67 Q74.1958 1126.09 76.2328 1126.09 Q81.6031 1126.09 84.7976 1128.78 Q87.992 1131.46 87.992 1135.95 Q87.992 1138.08 87.1818 1140 Q86.3948 1141.9 84.2883 1144.49 Q83.7096 1145.16 80.6078 1148.38 Q77.5059 1151.58 71.8578 1157.34 Z\" fill=\"#000000\" fill-rule=\"evenodd\" fill-opacity=\"1\" /><path clip-path=\"url(#clip700)\" d=\"M 0 0 M78.5939 829.07 L66.7884 847.519 L78.5939 847.519 L78.5939 829.07 M77.367 824.996 L83.2466 824.996 L83.2466 847.519 L88.1772 847.519 L88.1772 851.408 L83.2466 851.408 L83.2466 859.556 L78.5939 859.556 L78.5939 851.408 L62.9921 851.408 L62.9921 846.894 L77.367 824.996 Z\" fill=\"#000000\" fill-rule=\"evenodd\" fill-opacity=\"1\" /><path clip-path=\"url(#clip700)\" d=\"M 0 0 M76.6495 538.693 Q73.5013 538.693 71.6495 540.845 Q69.8208 542.998 69.8208 546.748 Q69.8208 550.475 71.6495 552.651 Q73.5013 554.804 76.6495 554.804 Q79.7976 554.804 81.6263 552.651 Q83.4781 550.475 83.4781 546.748 Q83.4781 542.998 81.6263 540.845 Q79.7976 538.693 76.6495 538.693 M85.9318 524.04 L85.9318 528.299 Q84.1726 527.466 82.367 527.026 Q80.5846 526.586 78.8254 526.586 Q74.1958 526.586 71.7421 529.711 Q69.3115 532.836 68.9643 539.156 Q70.33 537.142 72.3902 536.077 Q74.4504 534.989 76.9272 534.989 Q82.1355 534.989 85.1448 538.16 Q88.1772 541.308 88.1772 546.748 Q88.1772 552.072 85.029 555.29 Q81.8809 558.507 76.6495 558.507 Q70.6541 558.507 67.4828 553.924 Q64.3116 549.318 64.3116 540.591 Q64.3116 532.396 68.2004 527.535 Q72.0893 522.651 78.6402 522.651 Q80.3994 522.651 82.1818 522.998 Q83.9874 523.346 85.9318 524.04 Z\" fill=\"#000000\" fill-rule=\"evenodd\" fill-opacity=\"1\" /><path clip-path=\"url(#clip700)\" d=\"M 0 0 M76.3254 239.704 Q72.9921 239.704 71.0708 241.487 Q69.1726 243.269 69.1726 246.394 Q69.1726 249.519 71.0708 251.301 Q72.9921 253.084 76.3254 253.084 Q79.6587 253.084 81.58 251.301 Q83.5013 249.496 83.5013 246.394 Q83.5013 243.269 81.58 241.487 Q79.6819 239.704 76.3254 239.704 M71.6495 237.714 Q68.6402 236.973 66.9504 234.913 Q65.2838 232.852 65.2838 229.89 Q65.2838 225.746 68.2236 223.339 Q71.1865 220.931 76.3254 220.931 Q81.4874 220.931 84.4272 223.339 Q87.367 225.746 87.367 229.89 Q87.367 232.852 85.6772 234.913 Q84.0105 236.973 81.0244 237.714 Q84.404 238.501 86.279 240.792 Q88.1772 243.084 88.1772 246.394 Q88.1772 251.417 85.0985 254.102 Q82.0429 256.788 76.3254 256.788 Q70.6078 256.788 67.5291 254.102 Q64.4736 251.417 64.4736 246.394 Q64.4736 243.084 66.3717 240.792 Q68.2699 238.501 71.6495 237.714 M69.9365 230.329 Q69.9365 233.014 71.6032 234.519 Q73.293 236.024 76.3254 236.024 Q79.3346 236.024 81.0244 234.519 Q82.7374 233.014 82.7374 230.329 Q82.7374 227.644 81.0244 226.14 Q79.3346 224.635 76.3254 224.635 Q73.293 224.635 71.6032 226.14 Q69.9365 227.644 69.9365 230.329 Z\" fill=\"#000000\" fill-rule=\"evenodd\" fill-opacity=\"1\" /><polyline clip-path=\"url(#clip702)\" style=\"stroke:#009af9; stroke-width:4; stroke-opacity:1; fill:none\" points=\"\n",
       "  175.59,87.9763 210.819,176.984 246.048,262.974 281.277,345.947 316.507,425.903 351.736,502.841 386.965,576.762 422.194,647.667 457.424,715.554 492.653,780.423 \n",
       "  527.882,842.276 563.111,901.111 598.34,956.93 633.57,1009.73 668.799,1059.51 704.028,1106.28 739.257,1150.03 774.487,1190.76 809.716,1228.48 844.945,1263.18 \n",
       "  880.174,1294.86 915.404,1323.52 950.633,1349.17 985.862,1371.79 1021.09,1391.41 1056.32,1408 1091.55,1421.58 1126.78,1432.14 1162.01,1439.68 1197.24,1444.21 \n",
       "  1232.47,1445.72 1267.7,1444.21 1302.92,1439.68 1338.15,1432.14 1373.38,1421.58 1408.61,1408 1443.84,1391.41 1479.07,1371.79 1514.3,1349.17 1549.53,1323.52 \n",
       "  1584.76,1294.86 1619.99,1263.18 1655.22,1228.48 1690.45,1190.76 1725.68,1150.03 1760.9,1106.28 1796.13,1059.51 1831.36,1009.73 1866.59,956.93 1901.82,901.111 \n",
       "  1937.05,842.276 1972.28,780.423 2007.51,715.554 2042.74,647.667 2077.97,576.762 2113.2,502.841 2148.43,425.903 2183.66,345.947 2218.88,262.974 2254.11,176.984 \n",
       "  2289.34,87.9763 \n",
       "  \"/>\n",
       "<circle clip-path=\"url(#clip702)\" cx=\"175.59\" cy=\"87.9763\" r=\"14\" fill=\"#e26f46\" fill-rule=\"evenodd\" fill-opacity=\"1\" stroke=\"#000000\" stroke-opacity=\"1\" stroke-width=\"3.2\"/>\n",
       "<circle clip-path=\"url(#clip702)\" cx=\"210.819\" cy=\"176.984\" r=\"14\" fill=\"#e26f46\" fill-rule=\"evenodd\" fill-opacity=\"1\" stroke=\"#000000\" stroke-opacity=\"1\" stroke-width=\"3.2\"/>\n",
       "<circle clip-path=\"url(#clip702)\" cx=\"246.048\" cy=\"262.974\" r=\"14\" fill=\"#e26f46\" fill-rule=\"evenodd\" fill-opacity=\"1\" stroke=\"#000000\" stroke-opacity=\"1\" stroke-width=\"3.2\"/>\n",
       "<circle clip-path=\"url(#clip702)\" cx=\"281.277\" cy=\"345.947\" r=\"14\" fill=\"#e26f46\" fill-rule=\"evenodd\" fill-opacity=\"1\" stroke=\"#000000\" stroke-opacity=\"1\" stroke-width=\"3.2\"/>\n",
       "<circle clip-path=\"url(#clip702)\" cx=\"316.507\" cy=\"425.903\" r=\"14\" fill=\"#e26f46\" fill-rule=\"evenodd\" fill-opacity=\"1\" stroke=\"#000000\" stroke-opacity=\"1\" stroke-width=\"3.2\"/>\n",
       "<circle clip-path=\"url(#clip702)\" cx=\"351.736\" cy=\"502.841\" r=\"14\" fill=\"#e26f46\" fill-rule=\"evenodd\" fill-opacity=\"1\" stroke=\"#000000\" stroke-opacity=\"1\" stroke-width=\"3.2\"/>\n",
       "<circle clip-path=\"url(#clip702)\" cx=\"386.965\" cy=\"576.762\" r=\"14\" fill=\"#e26f46\" fill-rule=\"evenodd\" fill-opacity=\"1\" stroke=\"#000000\" stroke-opacity=\"1\" stroke-width=\"3.2\"/>\n",
       "<circle clip-path=\"url(#clip702)\" cx=\"422.194\" cy=\"647.667\" r=\"14\" fill=\"#e26f46\" fill-rule=\"evenodd\" fill-opacity=\"1\" stroke=\"#000000\" stroke-opacity=\"1\" stroke-width=\"3.2\"/>\n",
       "<circle clip-path=\"url(#clip702)\" cx=\"457.424\" cy=\"715.554\" r=\"14\" fill=\"#e26f46\" fill-rule=\"evenodd\" fill-opacity=\"1\" stroke=\"#000000\" stroke-opacity=\"1\" stroke-width=\"3.2\"/>\n",
       "<circle clip-path=\"url(#clip702)\" cx=\"492.653\" cy=\"780.423\" r=\"14\" fill=\"#e26f46\" fill-rule=\"evenodd\" fill-opacity=\"1\" stroke=\"#000000\" stroke-opacity=\"1\" stroke-width=\"3.2\"/>\n",
       "<circle clip-path=\"url(#clip702)\" cx=\"527.882\" cy=\"842.276\" r=\"14\" fill=\"#e26f46\" fill-rule=\"evenodd\" fill-opacity=\"1\" stroke=\"#000000\" stroke-opacity=\"1\" stroke-width=\"3.2\"/>\n",
       "<circle clip-path=\"url(#clip702)\" cx=\"563.111\" cy=\"901.111\" r=\"14\" fill=\"#e26f46\" fill-rule=\"evenodd\" fill-opacity=\"1\" stroke=\"#000000\" stroke-opacity=\"1\" stroke-width=\"3.2\"/>\n",
       "<circle clip-path=\"url(#clip702)\" cx=\"598.34\" cy=\"956.93\" r=\"14\" fill=\"#e26f46\" fill-rule=\"evenodd\" fill-opacity=\"1\" stroke=\"#000000\" stroke-opacity=\"1\" stroke-width=\"3.2\"/>\n",
       "<circle clip-path=\"url(#clip702)\" cx=\"633.57\" cy=\"1009.73\" r=\"14\" fill=\"#e26f46\" fill-rule=\"evenodd\" fill-opacity=\"1\" stroke=\"#000000\" stroke-opacity=\"1\" stroke-width=\"3.2\"/>\n",
       "<circle clip-path=\"url(#clip702)\" cx=\"668.799\" cy=\"1059.51\" r=\"14\" fill=\"#e26f46\" fill-rule=\"evenodd\" fill-opacity=\"1\" stroke=\"#000000\" stroke-opacity=\"1\" stroke-width=\"3.2\"/>\n",
       "<circle clip-path=\"url(#clip702)\" cx=\"704.028\" cy=\"1106.28\" r=\"14\" fill=\"#e26f46\" fill-rule=\"evenodd\" fill-opacity=\"1\" stroke=\"#000000\" stroke-opacity=\"1\" stroke-width=\"3.2\"/>\n",
       "<circle clip-path=\"url(#clip702)\" cx=\"739.257\" cy=\"1150.03\" r=\"14\" fill=\"#e26f46\" fill-rule=\"evenodd\" fill-opacity=\"1\" stroke=\"#000000\" stroke-opacity=\"1\" stroke-width=\"3.2\"/>\n",
       "<circle clip-path=\"url(#clip702)\" cx=\"774.487\" cy=\"1190.76\" r=\"14\" fill=\"#e26f46\" fill-rule=\"evenodd\" fill-opacity=\"1\" stroke=\"#000000\" stroke-opacity=\"1\" stroke-width=\"3.2\"/>\n",
       "<circle clip-path=\"url(#clip702)\" cx=\"809.716\" cy=\"1228.48\" r=\"14\" fill=\"#e26f46\" fill-rule=\"evenodd\" fill-opacity=\"1\" stroke=\"#000000\" stroke-opacity=\"1\" stroke-width=\"3.2\"/>\n",
       "<circle clip-path=\"url(#clip702)\" cx=\"844.945\" cy=\"1263.18\" r=\"14\" fill=\"#e26f46\" fill-rule=\"evenodd\" fill-opacity=\"1\" stroke=\"#000000\" stroke-opacity=\"1\" stroke-width=\"3.2\"/>\n",
       "<circle clip-path=\"url(#clip702)\" cx=\"880.174\" cy=\"1294.86\" r=\"14\" fill=\"#e26f46\" fill-rule=\"evenodd\" fill-opacity=\"1\" stroke=\"#000000\" stroke-opacity=\"1\" stroke-width=\"3.2\"/>\n",
       "<circle clip-path=\"url(#clip702)\" cx=\"915.404\" cy=\"1323.52\" r=\"14\" fill=\"#e26f46\" fill-rule=\"evenodd\" fill-opacity=\"1\" stroke=\"#000000\" stroke-opacity=\"1\" stroke-width=\"3.2\"/>\n",
       "<circle clip-path=\"url(#clip702)\" cx=\"950.633\" cy=\"1349.17\" r=\"14\" fill=\"#e26f46\" fill-rule=\"evenodd\" fill-opacity=\"1\" stroke=\"#000000\" stroke-opacity=\"1\" stroke-width=\"3.2\"/>\n",
       "<circle clip-path=\"url(#clip702)\" cx=\"985.862\" cy=\"1371.79\" r=\"14\" fill=\"#e26f46\" fill-rule=\"evenodd\" fill-opacity=\"1\" stroke=\"#000000\" stroke-opacity=\"1\" stroke-width=\"3.2\"/>\n",
       "<circle clip-path=\"url(#clip702)\" cx=\"1021.09\" cy=\"1391.41\" r=\"14\" fill=\"#e26f46\" fill-rule=\"evenodd\" fill-opacity=\"1\" stroke=\"#000000\" stroke-opacity=\"1\" stroke-width=\"3.2\"/>\n",
       "<circle clip-path=\"url(#clip702)\" cx=\"1056.32\" cy=\"1408\" r=\"14\" fill=\"#e26f46\" fill-rule=\"evenodd\" fill-opacity=\"1\" stroke=\"#000000\" stroke-opacity=\"1\" stroke-width=\"3.2\"/>\n",
       "<circle clip-path=\"url(#clip702)\" cx=\"1091.55\" cy=\"1421.58\" r=\"14\" fill=\"#e26f46\" fill-rule=\"evenodd\" fill-opacity=\"1\" stroke=\"#000000\" stroke-opacity=\"1\" stroke-width=\"3.2\"/>\n",
       "<circle clip-path=\"url(#clip702)\" cx=\"1126.78\" cy=\"1432.14\" r=\"14\" fill=\"#e26f46\" fill-rule=\"evenodd\" fill-opacity=\"1\" stroke=\"#000000\" stroke-opacity=\"1\" stroke-width=\"3.2\"/>\n",
       "<circle clip-path=\"url(#clip702)\" cx=\"1162.01\" cy=\"1439.68\" r=\"14\" fill=\"#e26f46\" fill-rule=\"evenodd\" fill-opacity=\"1\" stroke=\"#000000\" stroke-opacity=\"1\" stroke-width=\"3.2\"/>\n",
       "<circle clip-path=\"url(#clip702)\" cx=\"1197.24\" cy=\"1444.21\" r=\"14\" fill=\"#e26f46\" fill-rule=\"evenodd\" fill-opacity=\"1\" stroke=\"#000000\" stroke-opacity=\"1\" stroke-width=\"3.2\"/>\n",
       "<circle clip-path=\"url(#clip702)\" cx=\"1232.47\" cy=\"1445.72\" r=\"14\" fill=\"#e26f46\" fill-rule=\"evenodd\" fill-opacity=\"1\" stroke=\"#000000\" stroke-opacity=\"1\" stroke-width=\"3.2\"/>\n",
       "<circle clip-path=\"url(#clip702)\" cx=\"1267.7\" cy=\"1444.21\" r=\"14\" fill=\"#e26f46\" fill-rule=\"evenodd\" fill-opacity=\"1\" stroke=\"#000000\" stroke-opacity=\"1\" stroke-width=\"3.2\"/>\n",
       "<circle clip-path=\"url(#clip702)\" cx=\"1302.92\" cy=\"1439.68\" r=\"14\" fill=\"#e26f46\" fill-rule=\"evenodd\" fill-opacity=\"1\" stroke=\"#000000\" stroke-opacity=\"1\" stroke-width=\"3.2\"/>\n",
       "<circle clip-path=\"url(#clip702)\" cx=\"1338.15\" cy=\"1432.14\" r=\"14\" fill=\"#e26f46\" fill-rule=\"evenodd\" fill-opacity=\"1\" stroke=\"#000000\" stroke-opacity=\"1\" stroke-width=\"3.2\"/>\n",
       "<circle clip-path=\"url(#clip702)\" cx=\"1373.38\" cy=\"1421.58\" r=\"14\" fill=\"#e26f46\" fill-rule=\"evenodd\" fill-opacity=\"1\" stroke=\"#000000\" stroke-opacity=\"1\" stroke-width=\"3.2\"/>\n",
       "<circle clip-path=\"url(#clip702)\" cx=\"1408.61\" cy=\"1408\" r=\"14\" fill=\"#e26f46\" fill-rule=\"evenodd\" fill-opacity=\"1\" stroke=\"#000000\" stroke-opacity=\"1\" stroke-width=\"3.2\"/>\n",
       "<circle clip-path=\"url(#clip702)\" cx=\"1443.84\" cy=\"1391.41\" r=\"14\" fill=\"#e26f46\" fill-rule=\"evenodd\" fill-opacity=\"1\" stroke=\"#000000\" stroke-opacity=\"1\" stroke-width=\"3.2\"/>\n",
       "<circle clip-path=\"url(#clip702)\" cx=\"1479.07\" cy=\"1371.79\" r=\"14\" fill=\"#e26f46\" fill-rule=\"evenodd\" fill-opacity=\"1\" stroke=\"#000000\" stroke-opacity=\"1\" stroke-width=\"3.2\"/>\n",
       "<circle clip-path=\"url(#clip702)\" cx=\"1514.3\" cy=\"1349.17\" r=\"14\" fill=\"#e26f46\" fill-rule=\"evenodd\" fill-opacity=\"1\" stroke=\"#000000\" stroke-opacity=\"1\" stroke-width=\"3.2\"/>\n",
       "<circle clip-path=\"url(#clip702)\" cx=\"1549.53\" cy=\"1323.52\" r=\"14\" fill=\"#e26f46\" fill-rule=\"evenodd\" fill-opacity=\"1\" stroke=\"#000000\" stroke-opacity=\"1\" stroke-width=\"3.2\"/>\n",
       "<circle clip-path=\"url(#clip702)\" cx=\"1584.76\" cy=\"1294.86\" r=\"14\" fill=\"#e26f46\" fill-rule=\"evenodd\" fill-opacity=\"1\" stroke=\"#000000\" stroke-opacity=\"1\" stroke-width=\"3.2\"/>\n",
       "<circle clip-path=\"url(#clip702)\" cx=\"1619.99\" cy=\"1263.18\" r=\"14\" fill=\"#e26f46\" fill-rule=\"evenodd\" fill-opacity=\"1\" stroke=\"#000000\" stroke-opacity=\"1\" stroke-width=\"3.2\"/>\n",
       "<circle clip-path=\"url(#clip702)\" cx=\"1655.22\" cy=\"1228.48\" r=\"14\" fill=\"#e26f46\" fill-rule=\"evenodd\" fill-opacity=\"1\" stroke=\"#000000\" stroke-opacity=\"1\" stroke-width=\"3.2\"/>\n",
       "<circle clip-path=\"url(#clip702)\" cx=\"1690.45\" cy=\"1190.76\" r=\"14\" fill=\"#e26f46\" fill-rule=\"evenodd\" fill-opacity=\"1\" stroke=\"#000000\" stroke-opacity=\"1\" stroke-width=\"3.2\"/>\n",
       "<circle clip-path=\"url(#clip702)\" cx=\"1725.68\" cy=\"1150.03\" r=\"14\" fill=\"#e26f46\" fill-rule=\"evenodd\" fill-opacity=\"1\" stroke=\"#000000\" stroke-opacity=\"1\" stroke-width=\"3.2\"/>\n",
       "<circle clip-path=\"url(#clip702)\" cx=\"1760.9\" cy=\"1106.28\" r=\"14\" fill=\"#e26f46\" fill-rule=\"evenodd\" fill-opacity=\"1\" stroke=\"#000000\" stroke-opacity=\"1\" stroke-width=\"3.2\"/>\n",
       "<circle clip-path=\"url(#clip702)\" cx=\"1796.13\" cy=\"1059.51\" r=\"14\" fill=\"#e26f46\" fill-rule=\"evenodd\" fill-opacity=\"1\" stroke=\"#000000\" stroke-opacity=\"1\" stroke-width=\"3.2\"/>\n",
       "<circle clip-path=\"url(#clip702)\" cx=\"1831.36\" cy=\"1009.73\" r=\"14\" fill=\"#e26f46\" fill-rule=\"evenodd\" fill-opacity=\"1\" stroke=\"#000000\" stroke-opacity=\"1\" stroke-width=\"3.2\"/>\n",
       "<circle clip-path=\"url(#clip702)\" cx=\"1866.59\" cy=\"956.93\" r=\"14\" fill=\"#e26f46\" fill-rule=\"evenodd\" fill-opacity=\"1\" stroke=\"#000000\" stroke-opacity=\"1\" stroke-width=\"3.2\"/>\n",
       "<circle clip-path=\"url(#clip702)\" cx=\"1901.82\" cy=\"901.111\" r=\"14\" fill=\"#e26f46\" fill-rule=\"evenodd\" fill-opacity=\"1\" stroke=\"#000000\" stroke-opacity=\"1\" stroke-width=\"3.2\"/>\n",
       "<circle clip-path=\"url(#clip702)\" cx=\"1937.05\" cy=\"842.276\" r=\"14\" fill=\"#e26f46\" fill-rule=\"evenodd\" fill-opacity=\"1\" stroke=\"#000000\" stroke-opacity=\"1\" stroke-width=\"3.2\"/>\n",
       "<circle clip-path=\"url(#clip702)\" cx=\"1972.28\" cy=\"780.423\" r=\"14\" fill=\"#e26f46\" fill-rule=\"evenodd\" fill-opacity=\"1\" stroke=\"#000000\" stroke-opacity=\"1\" stroke-width=\"3.2\"/>\n",
       "<circle clip-path=\"url(#clip702)\" cx=\"2007.51\" cy=\"715.554\" r=\"14\" fill=\"#e26f46\" fill-rule=\"evenodd\" fill-opacity=\"1\" stroke=\"#000000\" stroke-opacity=\"1\" stroke-width=\"3.2\"/>\n",
       "<circle clip-path=\"url(#clip702)\" cx=\"2042.74\" cy=\"647.667\" r=\"14\" fill=\"#e26f46\" fill-rule=\"evenodd\" fill-opacity=\"1\" stroke=\"#000000\" stroke-opacity=\"1\" stroke-width=\"3.2\"/>\n",
       "<circle clip-path=\"url(#clip702)\" cx=\"2077.97\" cy=\"576.762\" r=\"14\" fill=\"#e26f46\" fill-rule=\"evenodd\" fill-opacity=\"1\" stroke=\"#000000\" stroke-opacity=\"1\" stroke-width=\"3.2\"/>\n",
       "<circle clip-path=\"url(#clip702)\" cx=\"2113.2\" cy=\"502.841\" r=\"14\" fill=\"#e26f46\" fill-rule=\"evenodd\" fill-opacity=\"1\" stroke=\"#000000\" stroke-opacity=\"1\" stroke-width=\"3.2\"/>\n",
       "<circle clip-path=\"url(#clip702)\" cx=\"2148.43\" cy=\"425.903\" r=\"14\" fill=\"#e26f46\" fill-rule=\"evenodd\" fill-opacity=\"1\" stroke=\"#000000\" stroke-opacity=\"1\" stroke-width=\"3.2\"/>\n",
       "<circle clip-path=\"url(#clip702)\" cx=\"2183.66\" cy=\"345.947\" r=\"14\" fill=\"#e26f46\" fill-rule=\"evenodd\" fill-opacity=\"1\" stroke=\"#000000\" stroke-opacity=\"1\" stroke-width=\"3.2\"/>\n",
       "<circle clip-path=\"url(#clip702)\" cx=\"2218.88\" cy=\"262.974\" r=\"14\" fill=\"#e26f46\" fill-rule=\"evenodd\" fill-opacity=\"1\" stroke=\"#000000\" stroke-opacity=\"1\" stroke-width=\"3.2\"/>\n",
       "<circle clip-path=\"url(#clip702)\" cx=\"2254.11\" cy=\"176.984\" r=\"14\" fill=\"#e26f46\" fill-rule=\"evenodd\" fill-opacity=\"1\" stroke=\"#000000\" stroke-opacity=\"1\" stroke-width=\"3.2\"/>\n",
       "<circle clip-path=\"url(#clip702)\" cx=\"2289.34\" cy=\"87.9763\" r=\"14\" fill=\"#e26f46\" fill-rule=\"evenodd\" fill-opacity=\"1\" stroke=\"#000000\" stroke-opacity=\"1\" stroke-width=\"3.2\"/>\n",
       "<path clip-path=\"url(#clip700)\" d=\"\n",
       "M1916.57 312.204 L2280.76 312.204 L2280.76 130.764 L1916.57 130.764  Z\n",
       "  \" fill=\"#ffffff\" fill-rule=\"evenodd\" fill-opacity=\"1\"/>\n",
       "<polyline clip-path=\"url(#clip700)\" style=\"stroke:#000000; stroke-width:4; stroke-opacity:1; fill:none\" points=\"\n",
       "  1916.57,312.204 2280.76,312.204 2280.76,130.764 1916.57,130.764 1916.57,312.204 \n",
       "  \"/>\n",
       "<polyline clip-path=\"url(#clip700)\" style=\"stroke:#009af9; stroke-width:4; stroke-opacity:1; fill:none\" points=\"\n",
       "  1940.57,191.244 2084.57,191.244 \n",
       "  \"/>\n",
       "<path clip-path=\"url(#clip700)\" d=\"M 0 0 M2108.57 172.506 L2112.83 172.506 L2112.83 208.524 L2108.57 208.524 L2108.57 172.506 Z\" fill=\"#000000\" fill-rule=\"evenodd\" fill-opacity=\"1\" /><path clip-path=\"url(#clip700)\" d=\"M 0 0 M2117.29 182.598 L2121.55 182.598 L2121.55 208.524 L2117.29 208.524 L2117.29 182.598 M2117.29 172.506 L2121.55 172.506 L2121.55 177.899 L2117.29 177.899 L2117.29 172.506 Z\" fill=\"#000000\" fill-rule=\"evenodd\" fill-opacity=\"1\" /><path clip-path=\"url(#clip700)\" d=\"M 0 0 M2147.57 192.876 L2147.57 208.524 L2143.31 208.524 L2143.31 193.015 Q2143.31 189.334 2141.88 187.506 Q2140.44 185.677 2137.57 185.677 Q2134.12 185.677 2132.13 187.876 Q2130.14 190.075 2130.14 193.871 L2130.14 208.524 L2125.86 208.524 L2125.86 182.598 L2130.14 182.598 L2130.14 186.626 Q2131.67 184.288 2133.73 183.131 Q2135.81 181.973 2138.52 181.973 Q2142.99 181.973 2145.28 184.751 Q2147.57 187.506 2147.57 192.876 Z\" fill=\"#000000\" fill-rule=\"evenodd\" fill-opacity=\"1\" /><path clip-path=\"url(#clip700)\" d=\"M 0 0 M2174.21 194.496 L2174.21 196.58 L2154.63 196.58 Q2154.91 200.978 2157.27 203.293 Q2159.65 205.584 2163.89 205.584 Q2166.34 205.584 2168.64 204.982 Q2170.95 204.381 2173.22 203.177 L2173.22 207.205 Q2170.93 208.177 2168.52 208.686 Q2166.11 209.195 2163.64 209.195 Q2157.43 209.195 2153.8 205.584 Q2150.19 201.973 2150.19 195.816 Q2150.19 189.45 2153.61 185.723 Q2157.06 181.973 2162.9 181.973 Q2168.13 181.973 2171.16 185.353 Q2174.21 188.709 2174.21 194.496 M2169.96 193.246 Q2169.91 189.751 2167.99 187.668 Q2166.09 185.584 2162.94 185.584 Q2159.38 185.584 2157.22 187.598 Q2155.09 189.612 2154.77 193.27 L2169.96 193.246 Z\" fill=\"#000000\" fill-rule=\"evenodd\" fill-opacity=\"1\" /><circle clip-path=\"url(#clip700)\" cx=\"2024.57\" cy=\"251.724\" r=\"23\" fill=\"#e26f46\" fill-rule=\"evenodd\" fill-opacity=\"1\" stroke=\"#000000\" stroke-opacity=\"1\" stroke-width=\"5.12\"/>\n",
       "<path clip-path=\"url(#clip700)\" d=\"M 0 0 M2112.85 265.115 L2112.85 278.865 L2108.57 278.865 L2108.57 243.078 L2112.85 243.078 L2112.85 247.013 Q2114.19 244.699 2116.23 243.588 Q2118.29 242.453 2121.14 242.453 Q2125.86 242.453 2128.8 246.203 Q2131.76 249.953 2131.76 256.064 Q2131.76 262.175 2128.8 265.925 Q2125.86 269.675 2121.14 269.675 Q2118.29 269.675 2116.23 268.564 Q2114.19 267.43 2112.85 265.115 M2127.34 256.064 Q2127.34 251.365 2125.4 248.703 Q2123.47 246.018 2120.09 246.018 Q2116.71 246.018 2114.77 248.703 Q2112.85 251.365 2112.85 256.064 Q2112.85 260.763 2114.77 263.449 Q2116.71 266.111 2120.09 266.111 Q2123.47 266.111 2125.4 263.449 Q2127.34 260.763 2127.34 256.064 Z\" fill=\"#000000\" fill-rule=\"evenodd\" fill-opacity=\"1\" /><path clip-path=\"url(#clip700)\" d=\"M 0 0 M2146.27 246.064 Q2142.85 246.064 2140.86 248.75 Q2138.87 251.412 2138.87 256.064 Q2138.87 260.717 2140.84 263.402 Q2142.83 266.064 2146.27 266.064 Q2149.68 266.064 2151.67 263.379 Q2153.66 260.694 2153.66 256.064 Q2153.66 251.458 2151.67 248.773 Q2149.68 246.064 2146.27 246.064 M2146.27 242.453 Q2151.83 242.453 2155 246.064 Q2158.17 249.675 2158.17 256.064 Q2158.17 262.43 2155 266.064 Q2151.83 269.675 2146.27 269.675 Q2140.7 269.675 2137.52 266.064 Q2134.38 262.43 2134.38 256.064 Q2134.38 249.675 2137.52 246.064 Q2140.7 242.453 2146.27 242.453 Z\" fill=\"#000000\" fill-rule=\"evenodd\" fill-opacity=\"1\" /><path clip-path=\"url(#clip700)\" d=\"M 0 0 M2162.64 243.078 L2166.9 243.078 L2166.9 269.004 L2162.64 269.004 L2162.64 243.078 M2162.64 232.986 L2166.9 232.986 L2166.9 238.379 L2162.64 238.379 L2162.64 232.986 Z\" fill=\"#000000\" fill-rule=\"evenodd\" fill-opacity=\"1\" /><path clip-path=\"url(#clip700)\" d=\"M 0 0 M2192.92 253.356 L2192.92 269.004 L2188.66 269.004 L2188.66 253.495 Q2188.66 249.814 2187.22 247.986 Q2185.79 246.157 2182.92 246.157 Q2179.47 246.157 2177.48 248.356 Q2175.49 250.555 2175.49 254.351 L2175.49 269.004 L2171.21 269.004 L2171.21 243.078 L2175.49 243.078 L2175.49 247.106 Q2177.02 244.768 2179.08 243.611 Q2181.16 242.453 2183.87 242.453 Q2188.33 242.453 2190.63 245.231 Q2192.92 247.986 2192.92 253.356 Z\" fill=\"#000000\" fill-rule=\"evenodd\" fill-opacity=\"1\" /><path clip-path=\"url(#clip700)\" d=\"M 0 0 M2201.6 235.717 L2201.6 243.078 L2210.37 243.078 L2210.37 246.388 L2201.6 246.388 L2201.6 260.462 Q2201.6 263.634 2202.46 264.537 Q2203.33 265.439 2206 265.439 L2210.37 265.439 L2210.37 269.004 L2206 269.004 Q2201.07 269.004 2199.19 267.175 Q2197.32 265.324 2197.32 260.462 L2197.32 246.388 L2194.19 246.388 L2194.19 243.078 L2197.32 243.078 L2197.32 235.717 L2201.6 235.717 Z\" fill=\"#000000\" fill-rule=\"evenodd\" fill-opacity=\"1\" /><path clip-path=\"url(#clip700)\" d=\"M 0 0 M2231.37 243.842 L2231.37 247.87 Q2229.56 246.944 2227.62 246.481 Q2225.67 246.018 2223.59 246.018 Q2220.42 246.018 2218.82 246.99 Q2217.25 247.963 2217.25 249.907 Q2217.25 251.388 2218.38 252.245 Q2219.52 253.078 2222.94 253.842 L2224.4 254.166 Q2228.94 255.138 2230.83 256.921 Q2232.76 258.68 2232.76 261.851 Q2232.76 265.462 2229.89 267.569 Q2227.04 269.675 2222.04 269.675 Q2219.96 269.675 2217.69 269.259 Q2215.44 268.865 2212.94 268.055 L2212.94 263.657 Q2215.3 264.884 2217.59 265.509 Q2219.89 266.111 2222.13 266.111 Q2225.14 266.111 2226.76 265.092 Q2228.38 264.05 2228.38 262.175 Q2228.38 260.439 2227.2 259.513 Q2226.04 258.587 2222.08 257.731 L2220.6 257.384 Q2216.64 256.55 2214.89 254.838 Q2213.13 253.101 2213.13 250.092 Q2213.13 246.435 2215.72 244.444 Q2218.31 242.453 2223.08 242.453 Q2225.44 242.453 2227.52 242.801 Q2229.61 243.148 2231.37 243.842 Z\" fill=\"#000000\" fill-rule=\"evenodd\" fill-opacity=\"1\" /></svg>\n"
      ]
     },
     "execution_count": 6,
     "metadata": {},
     "output_type": "execute_result"
    }
   ],
   "source": [
    "using Plots\n",
    "x = -3:0.1:3\n",
    "f(x) = x^2\n",
    "\n",
    "y = f.(x)\n",
    "\n",
    "# load the GR backend\n",
    "gr()\n",
    "plot(x, y, label=\"line\")\n",
    "scatter!(x, y, label=\"points\")"
   ]
  },
  {
   "cell_type": "code",
   "execution_count": 8,
   "metadata": {},
   "outputs": [
    {
     "data": {
      "image/svg+xml": [
       "<?xml version=\"1.0\" encoding=\"utf-8\"?>\n",
       "<svg xmlns=\"http://www.w3.org/2000/svg\" xmlns:xlink=\"http://www.w3.org/1999/xlink\" width=\"600\" height=\"400\" viewBox=\"0 0 2400 1600\">\n",
       "<defs>\n",
       "  <clipPath id=\"clip780\">\n",
       "    <rect x=\"0\" y=\"0\" width=\"2400\" height=\"1600\"/>\n",
       "  </clipPath>\n",
       "</defs>\n",
       "<path clip-path=\"url(#clip780)\" d=\"\n",
       "M0 1600 L2400 1600 L2400 0 L0 0  Z\n",
       "  \" fill=\"#ffffff\" fill-rule=\"evenodd\" fill-opacity=\"1\"/>\n",
       "<defs>\n",
       "  <clipPath id=\"clip781\">\n",
       "    <rect x=\"480\" y=\"0\" width=\"1681\" height=\"1600\"/>\n",
       "  </clipPath>\n",
       "</defs>\n",
       "<path clip-path=\"url(#clip780)\" d=\"\n",
       "M261.324 1423.18 L2352.76 1423.18 L2352.76 123.472 L261.324 123.472  Z\n",
       "  \" fill=\"#ffffff\" fill-rule=\"evenodd\" fill-opacity=\"1\"/>\n",
       "<defs>\n",
       "  <clipPath id=\"clip782\">\n",
       "    <rect x=\"261\" y=\"123\" width=\"2092\" height=\"1301\"/>\n",
       "  </clipPath>\n",
       "</defs>\n",
       "<polyline clip-path=\"url(#clip782)\" style=\"stroke:#000000; stroke-width:2; stroke-opacity:0.1; fill:none\" points=\"\n",
       "  2294.31,1423.18 2294.31,123.472 \n",
       "  \"/>\n",
       "<polyline clip-path=\"url(#clip782)\" style=\"stroke:#000000; stroke-width:2; stroke-opacity:0.1; fill:none\" points=\"\n",
       "  1855.69,1423.18 1855.69,123.472 \n",
       "  \"/>\n",
       "<polyline clip-path=\"url(#clip782)\" style=\"stroke:#000000; stroke-width:2; stroke-opacity:0.1; fill:none\" points=\"\n",
       "  1417.07,1423.18 1417.07,123.472 \n",
       "  \"/>\n",
       "<polyline clip-path=\"url(#clip782)\" style=\"stroke:#000000; stroke-width:2; stroke-opacity:0.1; fill:none\" points=\"\n",
       "  978.447,1423.18 978.447,123.472 \n",
       "  \"/>\n",
       "<polyline clip-path=\"url(#clip782)\" style=\"stroke:#000000; stroke-width:2; stroke-opacity:0.1; fill:none\" points=\"\n",
       "  539.826,1423.18 539.826,123.472 \n",
       "  \"/>\n",
       "<polyline clip-path=\"url(#clip782)\" style=\"stroke:#000000; stroke-width:2; stroke-opacity:0.1; fill:none\" points=\"\n",
       "  2352.76,1298.81 261.324,1298.81 \n",
       "  \"/>\n",
       "<polyline clip-path=\"url(#clip782)\" style=\"stroke:#000000; stroke-width:2; stroke-opacity:0.1; fill:none\" points=\"\n",
       "  2352.76,1079.86 261.324,1079.86 \n",
       "  \"/>\n",
       "<polyline clip-path=\"url(#clip782)\" style=\"stroke:#000000; stroke-width:2; stroke-opacity:0.1; fill:none\" points=\"\n",
       "  2352.76,860.907 261.324,860.907 \n",
       "  \"/>\n",
       "<polyline clip-path=\"url(#clip782)\" style=\"stroke:#000000; stroke-width:2; stroke-opacity:0.1; fill:none\" points=\"\n",
       "  2352.76,641.954 261.324,641.954 \n",
       "  \"/>\n",
       "<polyline clip-path=\"url(#clip782)\" style=\"stroke:#000000; stroke-width:2; stroke-opacity:0.1; fill:none\" points=\"\n",
       "  2352.76,423 261.324,423 \n",
       "  \"/>\n",
       "<polyline clip-path=\"url(#clip782)\" style=\"stroke:#000000; stroke-width:2; stroke-opacity:0.1; fill:none\" points=\"\n",
       "  2352.76,204.047 261.324,204.047 \n",
       "  \"/>\n",
       "<polyline clip-path=\"url(#clip780)\" style=\"stroke:#000000; stroke-width:4; stroke-opacity:1; fill:none\" points=\"\n",
       "  2352.76,1423.18 261.324,1423.18 \n",
       "  \"/>\n",
       "<polyline clip-path=\"url(#clip780)\" style=\"stroke:#000000; stroke-width:4; stroke-opacity:1; fill:none\" points=\"\n",
       "  261.324,1423.18 261.324,123.472 \n",
       "  \"/>\n",
       "<polyline clip-path=\"url(#clip780)\" style=\"stroke:#000000; stroke-width:4; stroke-opacity:1; fill:none\" points=\"\n",
       "  2294.31,1423.18 2294.31,1407.58 \n",
       "  \"/>\n",
       "<polyline clip-path=\"url(#clip780)\" style=\"stroke:#000000; stroke-width:4; stroke-opacity:1; fill:none\" points=\"\n",
       "  1855.69,1423.18 1855.69,1407.58 \n",
       "  \"/>\n",
       "<polyline clip-path=\"url(#clip780)\" style=\"stroke:#000000; stroke-width:4; stroke-opacity:1; fill:none\" points=\"\n",
       "  1417.07,1423.18 1417.07,1407.58 \n",
       "  \"/>\n",
       "<polyline clip-path=\"url(#clip780)\" style=\"stroke:#000000; stroke-width:4; stroke-opacity:1; fill:none\" points=\"\n",
       "  978.447,1423.18 978.447,1407.58 \n",
       "  \"/>\n",
       "<polyline clip-path=\"url(#clip780)\" style=\"stroke:#000000; stroke-width:4; stroke-opacity:1; fill:none\" points=\"\n",
       "  539.826,1423.18 539.826,1407.58 \n",
       "  \"/>\n",
       "<polyline clip-path=\"url(#clip780)\" style=\"stroke:#000000; stroke-width:4; stroke-opacity:1; fill:none\" points=\"\n",
       "  261.324,1298.81 286.422,1298.81 \n",
       "  \"/>\n",
       "<polyline clip-path=\"url(#clip780)\" style=\"stroke:#000000; stroke-width:4; stroke-opacity:1; fill:none\" points=\"\n",
       "  261.324,1079.86 286.422,1079.86 \n",
       "  \"/>\n",
       "<polyline clip-path=\"url(#clip780)\" style=\"stroke:#000000; stroke-width:4; stroke-opacity:1; fill:none\" points=\"\n",
       "  261.324,860.907 286.422,860.907 \n",
       "  \"/>\n",
       "<polyline clip-path=\"url(#clip780)\" style=\"stroke:#000000; stroke-width:4; stroke-opacity:1; fill:none\" points=\"\n",
       "  261.324,641.954 286.422,641.954 \n",
       "  \"/>\n",
       "<polyline clip-path=\"url(#clip780)\" style=\"stroke:#000000; stroke-width:4; stroke-opacity:1; fill:none\" points=\"\n",
       "  261.324,423 286.422,423 \n",
       "  \"/>\n",
       "<polyline clip-path=\"url(#clip780)\" style=\"stroke:#000000; stroke-width:4; stroke-opacity:1; fill:none\" points=\"\n",
       "  261.324,204.047 286.422,204.047 \n",
       "  \"/>\n",
       "<path clip-path=\"url(#clip780)\" d=\"M 0 0 M2294.31 1445.17 Q2290.7 1445.17 2288.87 1448.74 Q2287.06 1452.28 2287.06 1459.41 Q2287.06 1466.51 2288.87 1470.08 Q2290.7 1473.62 2294.31 1473.62 Q2297.94 1473.62 2299.75 1470.08 Q2301.58 1466.51 2301.58 1459.41 Q2301.58 1452.28 2299.75 1448.74 Q2297.94 1445.17 2294.31 1445.17 M2294.31 1441.47 Q2300.12 1441.47 2303.18 1446.07 Q2306.25 1450.66 2306.25 1459.41 Q2306.25 1468.13 2303.18 1472.74 Q2300.12 1477.32 2294.31 1477.32 Q2288.5 1477.32 2285.42 1472.74 Q2282.37 1468.13 2282.37 1459.41 Q2282.37 1450.66 2285.42 1446.07 Q2288.5 1441.47 2294.31 1441.47 Z\" fill=\"#000000\" fill-rule=\"evenodd\" fill-opacity=\"1\" /><path clip-path=\"url(#clip780)\" d=\"M 0 0 M1792.82 1494.25 L1800.46 1494.25 L1800.46 1467.89 L1792.15 1469.55 L1792.15 1465.29 L1800.41 1463.63 L1805.09 1463.63 L1805.09 1494.25 L1812.73 1494.25 L1812.73 1498.19 L1792.82 1498.19 L1792.82 1494.25 Z\" fill=\"#000000\" fill-rule=\"evenodd\" fill-opacity=\"1\" /><path clip-path=\"url(#clip780)\" d=\"M 0 0 M1845.97 1472.72 L1835.39 1483.35 L1845.97 1493.93 L1843.21 1496.73 L1832.59 1486.1 L1821.96 1496.73 L1819.23 1493.93 L1829.79 1483.35 L1819.23 1472.72 L1821.96 1469.92 L1832.59 1480.55 L1843.21 1469.92 L1845.97 1472.72 Z\" fill=\"#000000\" fill-rule=\"evenodd\" fill-opacity=\"1\" /><path clip-path=\"url(#clip780)\" d=\"M 0 0 M1851.85 1494.25 L1859.49 1494.25 L1859.49 1467.89 L1851.18 1469.55 L1851.18 1465.29 L1859.44 1463.63 L1864.12 1463.63 L1864.12 1494.25 L1871.75 1494.25 L1871.75 1498.19 L1851.85 1498.19 L1851.85 1494.25 Z\" fill=\"#000000\" fill-rule=\"evenodd\" fill-opacity=\"1\" /><path clip-path=\"url(#clip780)\" d=\"M 0 0 M1886.82 1466.71 Q1883.21 1466.71 1881.38 1470.27 Q1879.58 1473.81 1879.58 1480.94 Q1879.58 1488.05 1881.38 1491.61 Q1883.21 1495.15 1886.82 1495.15 Q1890.46 1495.15 1892.26 1491.61 Q1894.09 1488.05 1894.09 1480.94 Q1894.09 1473.81 1892.26 1470.27 Q1890.46 1466.71 1886.82 1466.71 M1886.82 1463 Q1892.63 1463 1895.69 1467.61 Q1898.77 1472.19 1898.77 1480.94 Q1898.77 1489.67 1895.69 1494.28 Q1892.63 1498.86 1886.82 1498.86 Q1881.01 1498.86 1877.93 1494.28 Q1874.88 1489.67 1874.88 1480.94 Q1874.88 1472.19 1877.93 1467.61 Q1881.01 1463 1886.82 1463 Z\" fill=\"#000000\" fill-rule=\"evenodd\" fill-opacity=\"1\" /><path clip-path=\"url(#clip780)\" d=\"M 0 0 M1911.44 1446.01 L1901.85 1461 L1911.44 1461 L1911.44 1446.01 M1910.45 1442.7 L1915.22 1442.7 L1915.22 1461 L1919.23 1461 L1919.23 1464.16 L1915.22 1464.16 L1915.22 1470.78 L1911.44 1470.78 L1911.44 1464.16 L1898.77 1464.16 L1898.77 1460.49 L1910.45 1442.7 Z\" fill=\"#000000\" fill-rule=\"evenodd\" fill-opacity=\"1\" /><path clip-path=\"url(#clip780)\" d=\"M 0 0 M1358.47 1494.25 L1374.79 1494.25 L1374.79 1498.19 L1352.84 1498.19 L1352.84 1494.25 Q1355.51 1491.5 1360.09 1486.87 Q1364.7 1482.21 1365.88 1480.87 Q1368.12 1478.35 1369 1476.61 Q1369.9 1474.85 1369.9 1473.16 Q1369.9 1470.41 1367.96 1468.67 Q1366.04 1466.94 1362.94 1466.94 Q1360.74 1466.94 1358.28 1467.7 Q1355.85 1468.46 1353.08 1470.02 L1353.08 1465.29 Q1355.9 1464.16 1358.35 1463.58 Q1360.81 1463 1362.84 1463 Q1368.21 1463 1371.41 1465.69 Q1374.6 1468.37 1374.6 1472.86 Q1374.6 1474.99 1373.79 1476.91 Q1373.01 1478.81 1370.9 1481.4 Q1370.32 1482.08 1367.22 1485.29 Q1364.12 1488.49 1358.47 1494.25 Z\" fill=\"#000000\" fill-rule=\"evenodd\" fill-opacity=\"1\" /><path clip-path=\"url(#clip780)\" d=\"M 0 0 M1408.03 1472.72 L1397.45 1483.35 L1408.03 1493.93 L1405.27 1496.73 L1394.65 1486.1 L1384.02 1496.73 L1381.29 1493.93 L1391.85 1483.35 L1381.29 1472.72 L1384.02 1469.92 L1394.65 1480.55 L1405.27 1469.92 L1408.03 1472.72 Z\" fill=\"#000000\" fill-rule=\"evenodd\" fill-opacity=\"1\" /><path clip-path=\"url(#clip780)\" d=\"M 0 0 M1413.91 1494.25 L1421.55 1494.25 L1421.55 1467.89 L1413.24 1469.55 L1413.24 1465.29 L1421.5 1463.63 L1426.18 1463.63 L1426.18 1494.25 L1433.82 1494.25 L1433.82 1498.19 L1413.91 1498.19 L1413.91 1494.25 Z\" fill=\"#000000\" fill-rule=\"evenodd\" fill-opacity=\"1\" /><path clip-path=\"url(#clip780)\" d=\"M 0 0 M1448.89 1466.71 Q1445.27 1466.71 1443.45 1470.27 Q1441.64 1473.81 1441.64 1480.94 Q1441.64 1488.05 1443.45 1491.61 Q1445.27 1495.15 1448.89 1495.15 Q1452.52 1495.15 1454.32 1491.61 Q1456.15 1488.05 1456.15 1480.94 Q1456.15 1473.81 1454.32 1470.27 Q1452.52 1466.71 1448.89 1466.71 M1448.89 1463 Q1454.7 1463 1457.75 1467.61 Q1460.83 1472.19 1460.83 1480.94 Q1460.83 1489.67 1457.75 1494.28 Q1454.7 1498.86 1448.89 1498.86 Q1443.08 1498.86 1440 1494.28 Q1436.94 1489.67 1436.94 1480.94 Q1436.94 1472.19 1440 1467.61 Q1443.08 1463 1448.89 1463 Z\" fill=\"#000000\" fill-rule=\"evenodd\" fill-opacity=\"1\" /><path clip-path=\"url(#clip780)\" d=\"M 0 0 M1473.51 1446.01 L1463.91 1461 L1473.51 1461 L1473.51 1446.01 M1472.51 1442.7 L1477.29 1442.7 L1477.29 1461 L1481.29 1461 L1481.29 1464.16 L1477.29 1464.16 L1477.29 1470.78 L1473.51 1470.78 L1473.51 1464.16 L1460.83 1464.16 L1460.83 1460.49 L1472.51 1442.7 Z\" fill=\"#000000\" fill-rule=\"evenodd\" fill-opacity=\"1\" /><path clip-path=\"url(#clip780)\" d=\"M 0 0 M929.443 1479.55 Q932.799 1480.27 934.674 1482.54 Q936.572 1484.81 936.572 1488.14 Q936.572 1493.26 933.054 1496.06 Q929.535 1498.86 923.054 1498.86 Q920.878 1498.86 918.563 1498.42 Q916.272 1498 913.818 1497.15 L913.818 1492.63 Q915.762 1493.77 918.077 1494.34 Q920.392 1494.92 922.915 1494.92 Q927.313 1494.92 929.605 1493.19 Q931.92 1491.45 931.92 1488.14 Q931.92 1485.09 929.767 1483.37 Q927.637 1481.64 923.818 1481.64 L919.79 1481.64 L919.79 1477.79 L924.003 1477.79 Q927.452 1477.79 929.281 1476.43 Q931.11 1475.04 931.11 1472.45 Q931.11 1469.78 929.211 1468.37 Q927.336 1466.94 923.818 1466.94 Q921.897 1466.94 919.698 1467.35 Q917.499 1467.77 914.86 1468.65 L914.86 1464.48 Q917.522 1463.74 919.836 1463.37 Q922.174 1463 924.235 1463 Q929.559 1463 932.66 1465.43 Q935.762 1467.84 935.762 1471.96 Q935.762 1474.83 934.119 1476.82 Q932.475 1478.79 929.443 1479.55 Z\" fill=\"#000000\" fill-rule=\"evenodd\" fill-opacity=\"1\" /><path clip-path=\"url(#clip780)\" d=\"M 0 0 M969.813 1472.72 L959.234 1483.35 L969.813 1493.93 L967.058 1496.73 L956.433 1486.1 L945.809 1496.73 L943.077 1493.93 L953.633 1483.35 L943.077 1472.72 L945.809 1469.92 L956.433 1480.55 L967.058 1469.92 L969.813 1472.72 Z\" fill=\"#000000\" fill-rule=\"evenodd\" fill-opacity=\"1\" /><path clip-path=\"url(#clip780)\" d=\"M 0 0 M975.693 1494.25 L983.331 1494.25 L983.331 1467.89 L975.021 1469.55 L975.021 1465.29 L983.285 1463.63 L987.961 1463.63 L987.961 1494.25 L995.6 1494.25 L995.6 1498.19 L975.693 1498.19 L975.693 1494.25 Z\" fill=\"#000000\" fill-rule=\"evenodd\" fill-opacity=\"1\" /><path clip-path=\"url(#clip780)\" d=\"M 0 0 M1010.67 1466.71 Q1007.06 1466.71 1005.23 1470.27 Q1003.42 1473.81 1003.42 1480.94 Q1003.42 1488.05 1005.23 1491.61 Q1007.06 1495.15 1010.67 1495.15 Q1014.3 1495.15 1016.11 1491.61 Q1017.94 1488.05 1017.94 1480.94 Q1017.94 1473.81 1016.11 1470.27 Q1014.3 1466.71 1010.67 1466.71 M1010.67 1463 Q1016.48 1463 1019.54 1467.61 Q1022.61 1472.19 1022.61 1480.94 Q1022.61 1489.67 1019.54 1494.28 Q1016.48 1498.86 1010.67 1498.86 Q1004.86 1498.86 1001.78 1494.28 Q998.725 1489.67 998.725 1480.94 Q998.725 1472.19 1001.78 1467.61 Q1004.86 1463 1010.67 1463 Z\" fill=\"#000000\" fill-rule=\"evenodd\" fill-opacity=\"1\" /><path clip-path=\"url(#clip780)\" d=\"M 0 0 M1035.29 1446.01 L1025.7 1461 L1035.29 1461 L1035.29 1446.01 M1034.29 1442.7 L1039.07 1442.7 L1039.07 1461 L1043.08 1461 L1043.08 1464.16 L1039.07 1464.16 L1039.07 1470.78 L1035.29 1470.78 L1035.29 1464.16 L1022.61 1464.16 L1022.61 1460.49 L1034.29 1442.7 Z\" fill=\"#000000\" fill-rule=\"evenodd\" fill-opacity=\"1\" /><path clip-path=\"url(#clip780)\" d=\"M 0 0 M489.584 1467.7 L477.778 1486.15 L489.584 1486.15 L489.584 1467.7 M488.357 1463.63 L494.236 1463.63 L494.236 1486.15 L499.167 1486.15 L499.167 1490.04 L494.236 1490.04 L494.236 1498.19 L489.584 1498.19 L489.584 1490.04 L473.982 1490.04 L473.982 1485.53 L488.357 1463.63 Z\" fill=\"#000000\" fill-rule=\"evenodd\" fill-opacity=\"1\" /><path clip-path=\"url(#clip780)\" d=\"M 0 0 M532.407 1472.72 L521.829 1483.35 L532.407 1493.93 L529.653 1496.73 L519.028 1486.1 L508.403 1496.73 L505.671 1493.93 L516.227 1483.35 L505.671 1472.72 L508.403 1469.92 L519.028 1480.55 L529.653 1469.92 L532.407 1472.72 Z\" fill=\"#000000\" fill-rule=\"evenodd\" fill-opacity=\"1\" /><path clip-path=\"url(#clip780)\" d=\"M 0 0 M538.287 1494.25 L545.926 1494.25 L545.926 1467.89 L537.616 1469.55 L537.616 1465.29 L545.88 1463.63 L550.555 1463.63 L550.555 1494.25 L558.194 1494.25 L558.194 1498.19 L538.287 1498.19 L538.287 1494.25 Z\" fill=\"#000000\" fill-rule=\"evenodd\" fill-opacity=\"1\" /><path clip-path=\"url(#clip780)\" d=\"M 0 0 M573.264 1466.71 Q569.653 1466.71 567.824 1470.27 Q566.018 1473.81 566.018 1480.94 Q566.018 1488.05 567.824 1491.61 Q569.653 1495.15 573.264 1495.15 Q576.898 1495.15 578.703 1491.61 Q580.532 1488.05 580.532 1480.94 Q580.532 1473.81 578.703 1470.27 Q576.898 1466.71 573.264 1466.71 M573.264 1463 Q579.074 1463 582.129 1467.61 Q585.208 1472.19 585.208 1480.94 Q585.208 1489.67 582.129 1494.28 Q579.074 1498.86 573.264 1498.86 Q567.453 1498.86 564.375 1494.28 Q561.319 1489.67 561.319 1480.94 Q561.319 1472.19 564.375 1467.61 Q567.453 1463 573.264 1463 Z\" fill=\"#000000\" fill-rule=\"evenodd\" fill-opacity=\"1\" /><path clip-path=\"url(#clip780)\" d=\"M 0 0 M597.884 1446.01 L588.292 1461 L597.884 1461 L597.884 1446.01 M596.888 1442.7 L601.665 1442.7 L601.665 1461 L605.671 1461 L605.671 1464.16 L601.665 1464.16 L601.665 1470.78 L597.884 1470.78 L597.884 1464.16 L585.208 1464.16 L585.208 1460.49 L596.888 1442.7 Z\" fill=\"#000000\" fill-rule=\"evenodd\" fill-opacity=\"1\" /><path clip-path=\"url(#clip780)\" d=\"M 0 0 M126.931 1312.16 L134.57 1312.16 L134.57 1285.79 L126.26 1287.46 L126.26 1283.2 L134.524 1281.53 L139.2 1281.53 L139.2 1312.16 L146.839 1312.16 L146.839 1316.09 L126.931 1316.09 L126.931 1312.16 Z\" fill=\"#000000\" fill-rule=\"evenodd\" fill-opacity=\"1\" /><path clip-path=\"url(#clip780)\" d=\"M 0 0 M164.755 1285.61 L152.95 1304.06 L164.755 1304.06 L164.755 1285.61 M163.528 1281.53 L169.408 1281.53 L169.408 1304.06 L174.339 1304.06 L174.339 1307.95 L169.408 1307.95 L169.408 1316.09 L164.755 1316.09 L164.755 1307.95 L149.154 1307.95 L149.154 1303.43 L163.528 1281.53 Z\" fill=\"#000000\" fill-rule=\"evenodd\" fill-opacity=\"1\" /><path clip-path=\"url(#clip780)\" d=\"M 0 0 M179.408 1310.21 L184.292 1310.21 L184.292 1316.09 L179.408 1316.09 L179.408 1310.21 Z\" fill=\"#000000\" fill-rule=\"evenodd\" fill-opacity=\"1\" /><path clip-path=\"url(#clip780)\" d=\"M 0 0 M189.408 1281.53 L207.764 1281.53 L207.764 1285.47 L193.69 1285.47 L193.69 1293.94 Q194.709 1293.59 195.727 1293.43 Q196.746 1293.25 197.764 1293.25 Q203.551 1293.25 206.931 1296.42 Q210.311 1299.59 210.311 1305.01 Q210.311 1310.59 206.838 1313.69 Q203.366 1316.77 197.047 1316.77 Q194.871 1316.77 192.602 1316.4 Q190.357 1316.02 187.95 1315.28 L187.95 1310.59 Q190.033 1311.72 192.255 1312.27 Q194.477 1312.83 196.954 1312.83 Q200.959 1312.83 203.297 1310.72 Q205.635 1308.62 205.635 1305.01 Q205.635 1301.4 203.297 1299.29 Q200.959 1297.18 196.954 1297.18 Q195.079 1297.18 193.204 1297.6 Q191.352 1298.02 189.408 1298.9 L189.408 1281.53 Z\" fill=\"#000000\" fill-rule=\"evenodd\" fill-opacity=\"1\" /><path clip-path=\"url(#clip780)\" d=\"M 0 0 M225.38 1284.61 Q221.769 1284.61 219.94 1288.18 Q218.135 1291.72 218.135 1298.85 Q218.135 1305.96 219.94 1309.52 Q221.769 1313.06 225.38 1313.06 Q229.014 1313.06 230.82 1309.52 Q232.648 1305.96 232.648 1298.85 Q232.648 1291.72 230.82 1288.18 Q229.014 1284.61 225.38 1284.61 M225.38 1280.91 Q231.19 1280.91 234.246 1285.52 Q237.324 1290.1 237.324 1298.85 Q237.324 1307.58 234.246 1312.18 Q231.19 1316.77 225.38 1316.77 Q219.57 1316.77 216.491 1312.18 Q213.436 1307.58 213.436 1298.85 Q213.436 1290.1 216.491 1285.52 Q219.57 1280.91 225.38 1280.91 Z\" fill=\"#000000\" fill-rule=\"evenodd\" fill-opacity=\"1\" /><path clip-path=\"url(#clip780)\" d=\"M 0 0 M127.834 1093.21 L135.473 1093.21 L135.473 1066.84 L127.163 1068.51 L127.163 1064.25 L135.427 1062.58 L140.103 1062.58 L140.103 1093.21 L147.742 1093.21 L147.742 1097.14 L127.834 1097.14 L127.834 1093.21 Z\" fill=\"#000000\" fill-rule=\"evenodd\" fill-opacity=\"1\" /><path clip-path=\"url(#clip780)\" d=\"M 0 0 M165.658 1066.65 L153.853 1085.1 L165.658 1085.1 L165.658 1066.65 M164.431 1062.58 L170.311 1062.58 L170.311 1085.1 L175.241 1085.1 L175.241 1088.99 L170.311 1088.99 L170.311 1097.14 L165.658 1097.14 L165.658 1088.99 L150.056 1088.99 L150.056 1084.48 L164.431 1062.58 Z\" fill=\"#000000\" fill-rule=\"evenodd\" fill-opacity=\"1\" /><path clip-path=\"url(#clip780)\" d=\"M 0 0 M180.311 1091.26 L185.195 1091.26 L185.195 1097.14 L180.311 1097.14 L180.311 1091.26 Z\" fill=\"#000000\" fill-rule=\"evenodd\" fill-opacity=\"1\" /><path clip-path=\"url(#clip780)\" d=\"M 0 0 M189.084 1062.58 L211.306 1062.58 L211.306 1064.57 L198.76 1097.14 L193.876 1097.14 L205.681 1066.52 L189.084 1066.52 L189.084 1062.58 Z\" fill=\"#000000\" fill-rule=\"evenodd\" fill-opacity=\"1\" /><path clip-path=\"url(#clip780)\" d=\"M 0 0 M216.422 1062.58 L234.778 1062.58 L234.778 1066.52 L220.704 1066.52 L220.704 1074.99 Q221.723 1074.64 222.741 1074.48 Q223.76 1074.29 224.778 1074.29 Q230.565 1074.29 233.945 1077.47 Q237.324 1080.64 237.324 1086.05 Q237.324 1091.63 233.852 1094.73 Q230.38 1097.81 224.061 1097.81 Q221.885 1097.81 219.616 1097.44 Q217.371 1097.07 214.963 1096.33 L214.963 1091.63 Q217.047 1092.77 219.269 1093.32 Q221.491 1093.88 223.968 1093.88 Q227.973 1093.88 230.311 1091.77 Q232.648 1089.66 232.648 1086.05 Q232.648 1082.44 230.311 1080.34 Q227.973 1078.23 223.968 1078.23 Q222.093 1078.23 220.218 1078.65 Q218.366 1079.06 216.422 1079.94 L216.422 1062.58 Z\" fill=\"#000000\" fill-rule=\"evenodd\" fill-opacity=\"1\" /><path clip-path=\"url(#clip780)\" d=\"M 0 0 M127.418 874.252 L135.056 874.252 L135.056 847.887 L126.746 849.553 L126.746 845.294 L135.01 843.627 L139.686 843.627 L139.686 874.252 L147.325 874.252 L147.325 878.187 L127.418 878.187 L127.418 874.252 Z\" fill=\"#000000\" fill-rule=\"evenodd\" fill-opacity=\"1\" /><path clip-path=\"url(#clip780)\" d=\"M 0 0 M152.441 843.627 L170.797 843.627 L170.797 847.563 L156.723 847.563 L156.723 856.035 Q157.741 855.687 158.76 855.525 Q159.778 855.34 160.797 855.34 Q166.584 855.34 169.964 858.512 Q173.343 861.683 173.343 867.099 Q173.343 872.678 169.871 875.78 Q166.399 878.859 160.079 878.859 Q157.904 878.859 155.635 878.488 Q153.39 878.118 150.982 877.377 L150.982 872.678 Q153.066 873.812 155.288 874.368 Q157.51 874.923 159.987 874.923 Q163.991 874.923 166.329 872.817 Q168.667 870.711 168.667 867.099 Q168.667 863.488 166.329 861.382 Q163.991 859.275 159.987 859.275 Q158.112 859.275 156.237 859.692 Q154.385 860.109 152.441 860.988 L152.441 843.627 Z\" fill=\"#000000\" fill-rule=\"evenodd\" fill-opacity=\"1\" /><path clip-path=\"url(#clip780)\" d=\"M 0 0 M178.413 872.308 L183.297 872.308 L183.297 878.187 L178.413 878.187 L178.413 872.308 Z\" fill=\"#000000\" fill-rule=\"evenodd\" fill-opacity=\"1\" /><path clip-path=\"url(#clip780)\" d=\"M 0 0 M198.366 846.706 Q194.755 846.706 192.926 850.271 Q191.121 853.812 191.121 860.942 Q191.121 868.049 192.926 871.613 Q194.755 875.155 198.366 875.155 Q202 875.155 203.806 871.613 Q205.635 868.049 205.635 860.942 Q205.635 853.812 203.806 850.271 Q202 846.706 198.366 846.706 M198.366 843.002 Q204.176 843.002 207.232 847.609 Q210.311 852.192 210.311 860.942 Q210.311 869.669 207.232 874.275 Q204.176 878.859 198.366 878.859 Q192.556 878.859 189.477 874.275 Q186.422 869.669 186.422 860.942 Q186.422 852.192 189.477 847.609 Q192.556 843.002 198.366 843.002 Z\" fill=\"#000000\" fill-rule=\"evenodd\" fill-opacity=\"1\" /><path clip-path=\"url(#clip780)\" d=\"M 0 0 M225.38 846.706 Q221.769 846.706 219.94 850.271 Q218.135 853.812 218.135 860.942 Q218.135 868.049 219.94 871.613 Q221.769 875.155 225.38 875.155 Q229.014 875.155 230.82 871.613 Q232.648 868.049 232.648 860.942 Q232.648 853.812 230.82 850.271 Q229.014 846.706 225.38 846.706 M225.38 843.002 Q231.19 843.002 234.246 847.609 Q237.324 852.192 237.324 860.942 Q237.324 869.669 234.246 874.275 Q231.19 878.859 225.38 878.859 Q219.57 878.859 216.491 874.275 Q213.436 869.669 213.436 860.942 Q213.436 852.192 216.491 847.609 Q219.57 843.002 225.38 843.002 Z\" fill=\"#000000\" fill-rule=\"evenodd\" fill-opacity=\"1\" /><path clip-path=\"url(#clip780)\" d=\"M 0 0 M130.01 655.299 L137.649 655.299 L137.649 628.933 L129.339 630.6 L129.339 626.341 L137.603 624.674 L142.279 624.674 L142.279 655.299 L149.917 655.299 L149.917 659.234 L130.01 659.234 L130.01 655.299 Z\" fill=\"#000000\" fill-rule=\"evenodd\" fill-opacity=\"1\" /><path clip-path=\"url(#clip780)\" d=\"M 0 0 M155.033 624.674 L173.39 624.674 L173.39 628.609 L159.316 628.609 L159.316 637.081 Q160.334 636.734 161.353 636.572 Q162.371 636.387 163.39 636.387 Q169.177 636.387 172.556 639.558 Q175.936 642.729 175.936 648.146 Q175.936 653.725 172.464 656.827 Q168.991 659.905 162.672 659.905 Q160.496 659.905 158.228 659.535 Q155.982 659.164 153.575 658.424 L153.575 653.725 Q155.658 654.859 157.88 655.414 Q160.103 655.97 162.579 655.97 Q166.584 655.97 168.922 653.864 Q171.26 651.757 171.26 648.146 Q171.26 644.535 168.922 642.428 Q166.584 640.322 162.579 640.322 Q160.704 640.322 158.829 640.739 Q156.978 641.155 155.033 642.035 L155.033 624.674 Z\" fill=\"#000000\" fill-rule=\"evenodd\" fill-opacity=\"1\" /><path clip-path=\"url(#clip780)\" d=\"M 0 0 M181.005 653.354 L185.889 653.354 L185.889 659.234 L181.005 659.234 L181.005 653.354 Z\" fill=\"#000000\" fill-rule=\"evenodd\" fill-opacity=\"1\" /><path clip-path=\"url(#clip780)\" d=\"M 0 0 M194.987 655.299 L211.306 655.299 L211.306 659.234 L189.362 659.234 L189.362 655.299 Q192.024 652.544 196.607 647.915 Q201.213 643.262 202.394 641.919 Q204.639 639.396 205.519 637.66 Q206.422 635.901 206.422 634.211 Q206.422 631.456 204.477 629.72 Q202.556 627.984 199.454 627.984 Q197.255 627.984 194.801 628.748 Q192.371 629.512 189.593 631.063 L189.593 626.341 Q192.417 625.206 194.871 624.628 Q197.325 624.049 199.362 624.049 Q204.732 624.049 207.926 626.734 Q211.121 629.419 211.121 633.91 Q211.121 636.04 210.311 637.961 Q209.524 639.859 207.417 642.452 Q206.838 643.123 203.737 646.34 Q200.635 649.535 194.987 655.299 Z\" fill=\"#000000\" fill-rule=\"evenodd\" fill-opacity=\"1\" /><path clip-path=\"url(#clip780)\" d=\"M 0 0 M216.422 624.674 L234.778 624.674 L234.778 628.609 L220.704 628.609 L220.704 637.081 Q221.723 636.734 222.741 636.572 Q223.76 636.387 224.778 636.387 Q230.565 636.387 233.945 639.558 Q237.324 642.729 237.324 648.146 Q237.324 653.725 233.852 656.827 Q230.38 659.905 224.061 659.905 Q221.885 659.905 219.616 659.535 Q217.371 659.164 214.963 658.424 L214.963 653.725 Q217.047 654.859 219.269 655.414 Q221.491 655.97 223.968 655.97 Q227.973 655.97 230.311 653.864 Q232.648 651.757 232.648 648.146 Q232.648 644.535 230.311 642.428 Q227.973 640.322 223.968 640.322 Q222.093 640.322 220.218 640.739 Q218.366 641.155 216.422 642.035 L216.422 624.674 Z\" fill=\"#000000\" fill-rule=\"evenodd\" fill-opacity=\"1\" /><path clip-path=\"url(#clip780)\" d=\"M 0 0 M128.413 436.345 L136.052 436.345 L136.052 409.98 L127.742 411.646 L127.742 407.387 L136.005 405.72 L140.681 405.72 L140.681 436.345 L148.32 436.345 L148.32 440.28 L128.413 440.28 L128.413 436.345 Z\" fill=\"#000000\" fill-rule=\"evenodd\" fill-opacity=\"1\" /><path clip-path=\"url(#clip780)\" d=\"M 0 0 M153.436 405.72 L171.792 405.72 L171.792 409.656 L157.718 409.656 L157.718 418.128 Q158.737 417.781 159.755 417.619 Q160.774 417.433 161.792 417.433 Q167.579 417.433 170.959 420.605 Q174.339 423.776 174.339 429.193 Q174.339 434.771 170.866 437.873 Q167.394 440.952 161.075 440.952 Q158.899 440.952 156.63 440.581 Q154.385 440.211 151.978 439.47 L151.978 434.771 Q154.061 435.905 156.283 436.461 Q158.505 437.017 160.982 437.017 Q164.987 437.017 167.325 434.91 Q169.663 432.804 169.663 429.193 Q169.663 425.581 167.325 423.475 Q164.987 421.369 160.982 421.369 Q159.107 421.369 157.232 421.785 Q155.38 422.202 153.436 423.081 L153.436 405.72 Z\" fill=\"#000000\" fill-rule=\"evenodd\" fill-opacity=\"1\" /><path clip-path=\"url(#clip780)\" d=\"M 0 0 M179.408 434.401 L184.292 434.401 L184.292 440.28 L179.408 440.28 L179.408 434.401 Z\" fill=\"#000000\" fill-rule=\"evenodd\" fill-opacity=\"1\" /><path clip-path=\"url(#clip780)\" d=\"M 0 0 M189.408 405.72 L207.764 405.72 L207.764 409.656 L193.69 409.656 L193.69 418.128 Q194.709 417.781 195.727 417.619 Q196.746 417.433 197.764 417.433 Q203.551 417.433 206.931 420.605 Q210.311 423.776 210.311 429.193 Q210.311 434.771 206.838 437.873 Q203.366 440.952 197.047 440.952 Q194.871 440.952 192.602 440.581 Q190.357 440.211 187.95 439.47 L187.95 434.771 Q190.033 435.905 192.255 436.461 Q194.477 437.017 196.954 437.017 Q200.959 437.017 203.297 434.91 Q205.635 432.804 205.635 429.193 Q205.635 425.581 203.297 423.475 Q200.959 421.369 196.954 421.369 Q195.079 421.369 193.204 421.785 Q191.352 422.202 189.408 423.081 L189.408 405.72 Z\" fill=\"#000000\" fill-rule=\"evenodd\" fill-opacity=\"1\" /><path clip-path=\"url(#clip780)\" d=\"M 0 0 M225.38 408.799 Q221.769 408.799 219.94 412.364 Q218.135 415.906 218.135 423.035 Q218.135 430.142 219.94 433.706 Q221.769 437.248 225.38 437.248 Q229.014 437.248 230.82 433.706 Q232.648 430.142 232.648 423.035 Q232.648 415.906 230.82 412.364 Q229.014 408.799 225.38 408.799 M225.38 405.095 Q231.19 405.095 234.246 409.702 Q237.324 414.285 237.324 423.035 Q237.324 431.762 234.246 436.368 Q231.19 440.952 225.38 440.952 Q219.57 440.952 216.491 436.368 Q213.436 431.762 213.436 423.035 Q213.436 414.285 216.491 409.702 Q219.57 405.095 225.38 405.095 Z\" fill=\"#000000\" fill-rule=\"evenodd\" fill-opacity=\"1\" /><path clip-path=\"url(#clip780)\" d=\"M 0 0 M129.316 217.392 L136.955 217.392 L136.955 191.026 L128.644 192.693 L128.644 188.434 L136.908 186.767 L141.584 186.767 L141.584 217.392 L149.223 217.392 L149.223 221.327 L129.316 221.327 L129.316 217.392 Z\" fill=\"#000000\" fill-rule=\"evenodd\" fill-opacity=\"1\" /><path clip-path=\"url(#clip780)\" d=\"M 0 0 M154.339 186.767 L172.695 186.767 L172.695 190.702 L158.621 190.702 L158.621 199.174 Q159.64 198.827 160.658 198.665 Q161.677 198.48 162.695 198.48 Q168.482 198.48 171.862 201.651 Q175.241 204.822 175.241 210.239 Q175.241 215.818 171.769 218.92 Q168.297 221.998 161.978 221.998 Q159.802 221.998 157.533 221.628 Q155.288 221.258 152.88 220.517 L152.88 215.818 Q154.964 216.952 157.186 217.508 Q159.408 218.063 161.885 218.063 Q165.89 218.063 168.228 215.957 Q170.565 213.85 170.565 210.239 Q170.565 206.628 168.228 204.522 Q165.89 202.415 161.885 202.415 Q160.01 202.415 158.135 202.832 Q156.283 203.248 154.339 204.128 L154.339 186.767 Z\" fill=\"#000000\" fill-rule=\"evenodd\" fill-opacity=\"1\" /><path clip-path=\"url(#clip780)\" d=\"M 0 0 M180.311 215.447 L185.195 215.447 L185.195 221.327 L180.311 221.327 L180.311 215.447 Z\" fill=\"#000000\" fill-rule=\"evenodd\" fill-opacity=\"1\" /><path clip-path=\"url(#clip780)\" d=\"M 0 0 M189.084 186.767 L211.306 186.767 L211.306 188.758 L198.76 221.327 L193.876 221.327 L205.681 190.702 L189.084 190.702 L189.084 186.767 Z\" fill=\"#000000\" fill-rule=\"evenodd\" fill-opacity=\"1\" /><path clip-path=\"url(#clip780)\" d=\"M 0 0 M216.422 186.767 L234.778 186.767 L234.778 190.702 L220.704 190.702 L220.704 199.174 Q221.723 198.827 222.741 198.665 Q223.76 198.48 224.778 198.48 Q230.565 198.48 233.945 201.651 Q237.324 204.822 237.324 210.239 Q237.324 215.818 233.852 218.92 Q230.38 221.998 224.061 221.998 Q221.885 221.998 219.616 221.628 Q217.371 221.258 214.963 220.517 L214.963 215.818 Q217.047 216.952 219.269 217.508 Q221.491 218.063 223.968 218.063 Q227.973 218.063 230.311 215.957 Q232.648 213.85 232.648 210.239 Q232.648 206.628 230.311 204.522 Q227.973 202.415 223.968 202.415 Q222.093 202.415 220.218 202.832 Q218.366 203.248 216.422 204.128 L216.422 186.767 Z\" fill=\"#000000\" fill-rule=\"evenodd\" fill-opacity=\"1\" /><path clip-path=\"url(#clip780)\" d=\"M 0 0 M655.331 12.096 L663.513 12.096 L663.513 72.576 L655.331 72.576 L655.331 12.096 Z\" fill=\"#000000\" fill-rule=\"evenodd\" fill-opacity=\"1\" /><path clip-path=\"url(#clip780)\" d=\"M 0 0 M709.046 45.1919 L709.046 72.576 L701.592 72.576 L701.592 45.4349 Q701.592 38.994 699.08 35.7938 Q696.569 32.5936 691.546 32.5936 Q685.51 32.5936 682.026 36.4419 Q678.542 40.2903 678.542 46.9338 L678.542 72.576 L671.048 72.576 L671.048 27.2059 L678.542 27.2059 L678.542 34.2544 Q681.216 30.163 684.821 28.1376 Q688.467 26.1121 693.207 26.1121 Q701.025 26.1121 705.035 30.9732 Q709.046 35.7938 709.046 45.1919 Z\" fill=\"#000000\" fill-rule=\"evenodd\" fill-opacity=\"1\" /><path clip-path=\"url(#clip780)\" d=\"M 0 0 M739.833 9.54393 L739.833 15.7418 L732.703 15.7418 Q728.693 15.7418 727.113 17.3622 Q725.573 18.9825 725.573 23.1955 L725.573 27.2059 L737.848 27.2059 L737.848 32.9987 L725.573 32.9987 L725.573 72.576 L718.079 72.576 L718.079 32.9987 L710.95 32.9987 L710.95 27.2059 L718.079 27.2059 L718.079 24.0462 Q718.079 16.471 721.603 13.0277 Q725.128 9.54393 732.784 9.54393 L739.833 9.54393 Z\" fill=\"#000000\" fill-rule=\"evenodd\" fill-opacity=\"1\" /><path clip-path=\"url(#clip780)\" d=\"M 0 0 M747.651 9.54393 L755.104 9.54393 L755.104 72.576 L747.651 72.576 L747.651 9.54393 Z\" fill=\"#000000\" fill-rule=\"evenodd\" fill-opacity=\"1\" /><path clip-path=\"url(#clip780)\" d=\"M 0 0 M762.153 54.671 L762.153 27.2059 L769.607 27.2059 L769.607 54.3874 Q769.607 60.8284 772.118 64.0691 Q774.63 67.2693 779.653 67.2693 Q785.689 67.2693 789.173 63.421 Q792.697 59.5726 792.697 52.9291 L792.697 27.2059 L800.15 27.2059 L800.15 72.576 L792.697 72.576 L792.697 65.6084 Q789.983 69.7404 786.377 71.7658 Q782.813 73.7508 778.073 73.7508 Q770.255 73.7508 766.204 68.8897 Q762.153 64.0286 762.153 54.671 M780.909 26.1121 L780.909 26.1121 Z\" fill=\"#000000\" fill-rule=\"evenodd\" fill-opacity=\"1\" /><path clip-path=\"url(#clip780)\" d=\"M 0 0 M846.776 48.0275 L846.776 51.6733 L812.506 51.6733 Q812.992 59.3701 817.124 63.421 Q821.296 67.4314 828.709 67.4314 Q833.003 67.4314 837.014 66.3781 Q841.065 65.3249 845.035 63.2184 L845.035 70.267 Q841.024 71.9684 836.811 72.8596 Q832.598 73.7508 828.264 73.7508 Q817.407 73.7508 811.047 67.4314 Q804.728 61.1119 804.728 50.3365 Q804.728 39.1965 810.723 32.6746 Q816.759 26.1121 826.967 26.1121 Q836.123 26.1121 841.429 32.0264 Q846.776 37.9003 846.776 48.0275 M839.323 45.84 Q839.242 39.7232 835.879 36.0774 Q832.558 32.4315 827.049 32.4315 Q820.81 32.4315 817.043 35.9558 Q813.316 39.4801 812.749 45.8805 L839.323 45.84 Z\" fill=\"#000000\" fill-rule=\"evenodd\" fill-opacity=\"1\" /><path clip-path=\"url(#clip780)\" d=\"M 0 0 M892.309 45.1919 L892.309 72.576 L884.855 72.576 L884.855 45.4349 Q884.855 38.994 882.343 35.7938 Q879.832 32.5936 874.809 32.5936 Q868.773 32.5936 865.289 36.4419 Q861.805 40.2903 861.805 46.9338 L861.805 72.576 L854.311 72.576 L854.311 27.2059 L861.805 27.2059 L861.805 34.2544 Q864.479 30.163 868.084 28.1376 Q871.73 26.1121 876.47 26.1121 Q884.288 26.1121 888.298 30.9732 Q892.309 35.7938 892.309 45.1919 Z\" fill=\"#000000\" fill-rule=\"evenodd\" fill-opacity=\"1\" /><path clip-path=\"url(#clip780)\" d=\"M 0 0 M932.777 28.9478 L932.777 35.9153 Q929.617 34.1734 926.417 33.3227 Q923.257 32.4315 920.017 32.4315 Q912.766 32.4315 908.755 37.0496 Q904.745 41.6271 904.745 49.9314 Q904.745 58.2358 908.755 62.8538 Q912.766 67.4314 920.017 67.4314 Q923.257 67.4314 926.417 66.5807 Q929.617 65.6895 932.777 63.9476 L932.777 70.8341 Q929.658 72.2924 926.296 73.0216 Q922.974 73.7508 919.207 73.7508 Q908.958 73.7508 902.922 67.3098 Q896.886 60.8689 896.886 49.9314 Q896.886 38.832 902.962 32.472 Q909.079 26.1121 919.693 26.1121 Q923.136 26.1121 926.417 26.8413 Q929.698 27.5299 932.777 28.9478 Z\" fill=\"#000000\" fill-rule=\"evenodd\" fill-opacity=\"1\" /><path clip-path=\"url(#clip780)\" d=\"M 0 0 M979.403 48.0275 L979.403 51.6733 L945.132 51.6733 Q945.618 59.3701 949.75 63.421 Q953.923 67.4314 961.336 67.4314 Q965.63 67.4314 969.64 66.3781 Q973.691 65.3249 977.661 63.2184 L977.661 70.267 Q973.651 71.9684 969.438 72.8596 Q965.225 73.7508 960.89 73.7508 Q950.034 73.7508 943.674 67.4314 Q937.355 61.1119 937.355 50.3365 Q937.355 39.1965 943.35 32.6746 Q949.386 26.1121 959.594 26.1121 Q968.749 26.1121 974.056 32.0264 Q979.403 37.9003 979.403 48.0275 M971.949 45.84 Q971.868 39.7232 968.506 36.0774 Q965.184 32.4315 959.675 32.4315 Q953.437 32.4315 949.669 35.9558 Q945.943 39.4801 945.375 45.8805 L971.949 45.84 Z\" fill=\"#000000\" fill-rule=\"evenodd\" fill-opacity=\"1\" /><path clip-path=\"url(#clip780)\" d=\"M 0 0 M1031.17 32.4315 Q1025.18 32.4315 1021.69 37.1306 Q1018.21 41.7891 1018.21 49.9314 Q1018.21 58.0738 1021.65 62.7728 Q1025.14 67.4314 1031.17 67.4314 Q1037.13 67.4314 1040.61 62.7323 Q1044.1 58.0333 1044.1 49.9314 Q1044.1 41.8701 1040.61 37.1711 Q1037.13 32.4315 1031.17 32.4315 M1031.17 26.1121 Q1040.9 26.1121 1046.45 32.4315 Q1052 38.7509 1052 49.9314 Q1052 61.0714 1046.45 67.4314 Q1040.9 73.7508 1031.17 73.7508 Q1021.41 73.7508 1015.86 67.4314 Q1010.35 61.0714 1010.35 49.9314 Q1010.35 38.7509 1015.86 32.4315 Q1021.41 26.1121 1031.17 26.1121 Z\" fill=\"#000000\" fill-rule=\"evenodd\" fill-opacity=\"1\" /><path clip-path=\"url(#clip780)\" d=\"M 0 0 M1082.78 9.54393 L1082.78 15.7418 L1075.65 15.7418 Q1071.64 15.7418 1070.06 17.3622 Q1068.52 18.9825 1068.52 23.1955 L1068.52 27.2059 L1080.8 27.2059 L1080.8 32.9987 L1068.52 32.9987 L1068.52 72.576 L1061.03 72.576 L1061.03 32.9987 L1053.9 32.9987 L1053.9 27.2059 L1061.03 27.2059 L1061.03 24.0462 Q1061.03 16.471 1064.55 13.0277 Q1068.08 9.54393 1075.73 9.54393 L1082.78 9.54393 Z\" fill=\"#000000\" fill-rule=\"evenodd\" fill-opacity=\"1\" /><path clip-path=\"url(#clip780)\" d=\"M 0 0 M1124.18 65.7705 L1124.18 89.8329 L1116.69 89.8329 L1116.69 27.2059 L1124.18 27.2059 L1124.18 34.0924 Q1126.53 30.0415 1130.1 28.0971 Q1133.7 26.1121 1138.68 26.1121 Q1146.95 26.1121 1152.09 32.6746 Q1157.28 39.2371 1157.28 49.9314 Q1157.28 60.6258 1152.09 67.1883 Q1146.95 73.7508 1138.68 73.7508 Q1133.7 73.7508 1130.1 71.8063 Q1126.53 69.8214 1124.18 65.7705 M1149.54 49.9314 Q1149.54 41.7081 1146.14 37.0496 Q1142.78 32.3505 1136.86 32.3505 Q1130.95 32.3505 1127.54 37.0496 Q1124.18 41.7081 1124.18 49.9314 Q1124.18 58.1548 1127.54 62.8538 Q1130.95 67.5124 1136.86 67.5124 Q1142.78 67.5124 1146.14 62.8538 Q1149.54 58.1548 1149.54 49.9314 Z\" fill=\"#000000\" fill-rule=\"evenodd\" fill-opacity=\"1\" /><path clip-path=\"url(#clip780)\" d=\"M 0 0 M1165.1 27.2059 L1172.55 27.2059 L1172.55 72.576 L1165.1 72.576 L1165.1 27.2059 M1165.1 9.54393 L1172.55 9.54393 L1172.55 18.9825 L1165.1 18.9825 L1165.1 9.54393 Z\" fill=\"#000000\" fill-rule=\"evenodd\" fill-opacity=\"1\" /><path clip-path=\"url(#clip780)\" d=\"M 0 0 M1206.66 34.1734 Q1205.4 33.4443 1203.9 33.1202 Q1202.45 32.7556 1200.66 32.7556 Q1194.34 32.7556 1190.94 36.8875 Q1187.58 40.9789 1187.58 48.6757 L1187.58 72.576 L1180.08 72.576 L1180.08 27.2059 L1187.58 27.2059 L1187.58 34.2544 Q1189.93 30.1225 1193.7 28.1376 Q1197.46 26.1121 1202.85 26.1121 Q1203.62 26.1121 1204.55 26.2337 Q1205.48 26.3147 1206.62 26.5172 L1206.66 34.1734 Z\" fill=\"#000000\" fill-rule=\"evenodd\" fill-opacity=\"1\" /><path clip-path=\"url(#clip780)\" d=\"M 0 0 M1248.06 65.7705 L1248.06 89.8329 L1240.56 89.8329 L1240.56 27.2059 L1248.06 27.2059 L1248.06 34.0924 Q1250.41 30.0415 1253.97 28.0971 Q1257.58 26.1121 1262.56 26.1121 Q1270.83 26.1121 1275.97 32.6746 Q1281.15 39.2371 1281.15 49.9314 Q1281.15 60.6258 1275.97 67.1883 Q1270.83 73.7508 1262.56 73.7508 Q1257.58 73.7508 1253.97 71.8063 Q1250.41 69.8214 1248.06 65.7705 M1273.42 49.9314 Q1273.42 41.7081 1270.01 37.0496 Q1266.65 32.3505 1260.74 32.3505 Q1254.82 32.3505 1251.42 37.0496 Q1248.06 41.7081 1248.06 49.9314 Q1248.06 58.1548 1251.42 62.8538 Q1254.82 67.5124 1260.74 67.5124 Q1266.65 67.5124 1270.01 62.8538 Q1273.42 58.1548 1273.42 49.9314 Z\" fill=\"#000000\" fill-rule=\"evenodd\" fill-opacity=\"1\" /><path clip-path=\"url(#clip780)\" d=\"M 0 0 M1306.55 32.4315 Q1300.56 32.4315 1297.07 37.1306 Q1293.59 41.7891 1293.59 49.9314 Q1293.59 58.0738 1297.03 62.7728 Q1300.52 67.4314 1306.55 67.4314 Q1312.51 67.4314 1315.99 62.7323 Q1319.48 58.0333 1319.48 49.9314 Q1319.48 41.8701 1315.99 37.1711 Q1312.51 32.4315 1306.55 32.4315 M1306.55 26.1121 Q1316.28 26.1121 1321.83 32.4315 Q1327.38 38.7509 1327.38 49.9314 Q1327.38 61.0714 1321.83 67.4314 Q1316.28 73.7508 1306.55 73.7508 Q1296.79 73.7508 1291.24 67.4314 Q1285.73 61.0714 1285.73 49.9314 Q1285.73 38.7509 1291.24 32.4315 Q1296.79 26.1121 1306.55 26.1121 Z\" fill=\"#000000\" fill-rule=\"evenodd\" fill-opacity=\"1\" /><path clip-path=\"url(#clip780)\" d=\"M 0 0 M1342.4 65.7705 L1342.4 89.8329 L1334.91 89.8329 L1334.91 27.2059 L1342.4 27.2059 L1342.4 34.0924 Q1344.75 30.0415 1348.32 28.0971 Q1351.92 26.1121 1356.91 26.1121 Q1365.17 26.1121 1370.32 32.6746 Q1375.5 39.2371 1375.5 49.9314 Q1375.5 60.6258 1370.32 67.1883 Q1365.17 73.7508 1356.91 73.7508 Q1351.92 73.7508 1348.32 71.8063 Q1344.75 69.8214 1342.4 65.7705 M1367.76 49.9314 Q1367.76 41.7081 1364.36 37.0496 Q1361 32.3505 1355.08 32.3505 Q1349.17 32.3505 1345.77 37.0496 Q1342.4 41.7081 1342.4 49.9314 Q1342.4 58.1548 1345.77 62.8538 Q1349.17 67.5124 1355.08 67.5124 Q1361 67.5124 1364.36 62.8538 Q1367.76 58.1548 1367.76 49.9314 Z\" fill=\"#000000\" fill-rule=\"evenodd\" fill-opacity=\"1\" /><path clip-path=\"url(#clip780)\" d=\"M 0 0 M1427.27 32.4315 Q1421.28 32.4315 1417.79 37.1306 Q1414.31 41.7891 1414.31 49.9314 Q1414.31 58.0738 1417.75 62.7728 Q1421.24 67.4314 1427.27 67.4314 Q1433.23 67.4314 1436.71 62.7323 Q1440.19 58.0333 1440.19 49.9314 Q1440.19 41.8701 1436.71 37.1711 Q1433.23 32.4315 1427.27 32.4315 M1427.27 26.1121 Q1436.99 26.1121 1442.54 32.4315 Q1448.09 38.7509 1448.09 49.9314 Q1448.09 61.0714 1442.54 67.4314 Q1436.99 73.7508 1427.27 73.7508 Q1417.51 73.7508 1411.96 67.4314 Q1406.45 61.0714 1406.45 49.9314 Q1406.45 38.7509 1411.96 32.4315 Q1417.51 26.1121 1427.27 26.1121 Z\" fill=\"#000000\" fill-rule=\"evenodd\" fill-opacity=\"1\" /><path clip-path=\"url(#clip780)\" d=\"M 0 0 M1493.62 45.1919 L1493.62 72.576 L1486.17 72.576 L1486.17 45.4349 Q1486.17 38.994 1483.66 35.7938 Q1481.15 32.5936 1476.12 32.5936 Q1470.09 32.5936 1466.61 36.4419 Q1463.12 40.2903 1463.12 46.9338 L1463.12 72.576 L1455.63 72.576 L1455.63 27.2059 L1463.12 27.2059 L1463.12 34.2544 Q1465.8 30.163 1469.4 28.1376 Q1473.05 26.1121 1477.79 26.1121 Q1485.6 26.1121 1489.61 30.9732 Q1493.62 35.7938 1493.62 45.1919 Z\" fill=\"#000000\" fill-rule=\"evenodd\" fill-opacity=\"1\" /><path clip-path=\"url(#clip780)\" d=\"M 0 0 M1557.67 49.3643 Q1557.67 41.2625 1554.31 36.8065 Q1550.99 32.3505 1544.95 32.3505 Q1538.95 32.3505 1535.59 36.8065 Q1532.27 41.2625 1532.27 49.3643 Q1532.27 57.4256 1535.59 61.8816 Q1538.95 66.3376 1544.95 66.3376 Q1550.99 66.3376 1554.31 61.8816 Q1557.67 57.4256 1557.67 49.3643 M1565.12 66.9452 Q1565.12 78.5308 1559.98 84.1616 Q1554.83 89.8329 1544.22 89.8329 Q1540.29 89.8329 1536.81 89.2252 Q1533.32 88.6581 1530.04 87.4428 L1530.04 80.1917 Q1533.32 81.9741 1536.52 82.8248 Q1539.72 83.6755 1543.05 83.6755 Q1550.38 83.6755 1554.02 79.8271 Q1557.67 76.0193 1557.67 68.282 L1557.67 64.5957 Q1555.36 68.6061 1551.76 70.5911 Q1548.15 72.576 1543.13 72.576 Q1534.78 72.576 1529.68 66.2161 Q1524.57 59.8562 1524.57 49.3643 Q1524.57 38.832 1529.68 32.472 Q1534.78 26.1121 1543.13 26.1121 Q1548.15 26.1121 1551.76 28.0971 Q1555.36 30.082 1557.67 34.0924 L1557.67 27.2059 L1565.12 27.2059 L1565.12 66.9452 Z\" fill=\"#000000\" fill-rule=\"evenodd\" fill-opacity=\"1\" /><path clip-path=\"url(#clip780)\" d=\"M 0 0 M1572.94 9.54393 L1580.4 9.54393 L1580.4 72.576 L1572.94 72.576 L1572.94 9.54393 Z\" fill=\"#000000\" fill-rule=\"evenodd\" fill-opacity=\"1\" /><path clip-path=\"url(#clip780)\" d=\"M 0 0 M1605.79 32.4315 Q1599.8 32.4315 1596.32 37.1306 Q1592.83 41.7891 1592.83 49.9314 Q1592.83 58.0738 1596.27 62.7728 Q1599.76 67.4314 1605.79 67.4314 Q1611.75 67.4314 1615.23 62.7323 Q1618.72 58.0333 1618.72 49.9314 Q1618.72 41.8701 1615.23 37.1711 Q1611.75 32.4315 1605.79 32.4315 M1605.79 26.1121 Q1615.52 26.1121 1621.07 32.4315 Q1626.62 38.7509 1626.62 49.9314 Q1626.62 61.0714 1621.07 67.4314 Q1615.52 73.7508 1605.79 73.7508 Q1596.03 73.7508 1590.48 67.4314 Q1584.97 61.0714 1584.97 49.9314 Q1584.97 38.7509 1590.48 32.4315 Q1596.03 26.1121 1605.79 26.1121 Z\" fill=\"#000000\" fill-rule=\"evenodd\" fill-opacity=\"1\" /><path clip-path=\"url(#clip780)\" d=\"M 0 0 M1667 49.9314 Q1667 41.7081 1663.6 37.0496 Q1660.24 32.3505 1654.32 32.3505 Q1648.41 32.3505 1645.01 37.0496 Q1641.64 41.7081 1641.64 49.9314 Q1641.64 58.1548 1645.01 62.8538 Q1648.41 67.5124 1654.32 67.5124 Q1660.24 67.5124 1663.6 62.8538 Q1667 58.1548 1667 49.9314 M1641.64 34.0924 Q1643.99 30.0415 1647.56 28.0971 Q1651.16 26.1121 1656.15 26.1121 Q1664.41 26.1121 1669.56 32.6746 Q1674.74 39.2371 1674.74 49.9314 Q1674.74 60.6258 1669.56 67.1883 Q1664.41 73.7508 1656.15 73.7508 Q1651.16 73.7508 1647.56 71.8063 Q1643.99 69.8214 1641.64 65.7705 L1641.64 72.576 L1634.15 72.576 L1634.15 9.54393 L1641.64 9.54393 L1641.64 34.0924 Z\" fill=\"#000000\" fill-rule=\"evenodd\" fill-opacity=\"1\" /><path clip-path=\"url(#clip780)\" d=\"M 0 0 M1703.18 49.7694 Q1694.14 49.7694 1690.66 51.8354 Q1687.18 53.9013 1687.18 58.8839 Q1687.18 62.8538 1689.77 65.2034 Q1692.4 67.5124 1696.9 67.5124 Q1703.1 67.5124 1706.82 63.1374 Q1710.59 58.7219 1710.59 51.4303 L1710.59 49.7694 L1703.18 49.7694 M1718.04 46.6907 L1718.04 72.576 L1710.59 72.576 L1710.59 65.6895 Q1708.04 69.8214 1704.23 71.8063 Q1700.42 73.7508 1694.91 73.7508 Q1687.95 73.7508 1683.81 69.8619 Q1679.72 65.9325 1679.72 59.3701 Q1679.72 51.7138 1684.83 47.825 Q1689.97 43.9361 1700.14 43.9361 L1710.59 43.9361 L1710.59 43.2069 Q1710.59 38.0623 1707.19 35.2672 Q1703.83 32.4315 1697.71 32.4315 Q1693.82 32.4315 1690.13 33.3632 Q1686.45 34.295 1683.05 36.1584 L1683.05 29.2718 Q1687.14 27.692 1690.98 26.9223 Q1694.83 26.1121 1698.48 26.1121 Q1708.32 26.1121 1713.18 31.2163 Q1718.04 36.3204 1718.04 46.6907 Z\" fill=\"#000000\" fill-rule=\"evenodd\" fill-opacity=\"1\" /><path clip-path=\"url(#clip780)\" d=\"M 0 0 M1725.86 9.54393 L1733.32 9.54393 L1733.32 72.576 L1725.86 72.576 L1725.86 9.54393 Z\" fill=\"#000000\" fill-rule=\"evenodd\" fill-opacity=\"1\" /><path clip-path=\"url(#clip780)\" d=\"M 0 0 M1774.88 14.324 L1774.88 27.2059 L1790.23 27.2059 L1790.23 32.9987 L1774.88 32.9987 L1774.88 57.6282 Q1774.88 63.1779 1776.38 64.7578 Q1777.92 66.3376 1782.58 66.3376 L1790.23 66.3376 L1790.23 72.576 L1782.58 72.576 Q1773.95 72.576 1770.67 69.3758 Q1767.38 66.1351 1767.38 57.6282 L1767.38 32.9987 L1761.92 32.9987 L1761.92 27.2059 L1767.38 27.2059 L1767.38 14.324 L1774.88 14.324 Z\" fill=\"#000000\" fill-rule=\"evenodd\" fill-opacity=\"1\" /><path clip-path=\"url(#clip780)\" d=\"M 0 0 M1836.86 48.0275 L1836.86 51.6733 L1802.59 51.6733 Q1803.07 59.3701 1807.21 63.421 Q1811.38 67.4314 1818.79 67.4314 Q1823.08 67.4314 1827.1 66.3781 Q1831.15 65.3249 1835.12 63.2184 L1835.12 70.267 Q1831.11 71.9684 1826.89 72.8596 Q1822.68 73.7508 1818.35 73.7508 Q1807.49 73.7508 1801.13 67.4314 Q1794.81 61.1119 1794.81 50.3365 Q1794.81 39.1965 1800.8 32.6746 Q1806.84 26.1121 1817.05 26.1121 Q1826.2 26.1121 1831.51 32.0264 Q1836.86 37.9003 1836.86 48.0275 M1829.4 45.84 Q1829.32 39.7232 1825.96 36.0774 Q1822.64 32.4315 1817.13 32.4315 Q1810.89 32.4315 1807.12 35.9558 Q1803.4 39.4801 1802.83 45.8805 L1829.4 45.84 Z\" fill=\"#000000\" fill-rule=\"evenodd\" fill-opacity=\"1\" /><path clip-path=\"url(#clip780)\" d=\"M 0 0 M1880 35.9153 Q1882.8 30.8922 1886.68 28.5022 Q1890.57 26.1121 1895.84 26.1121 Q1902.93 26.1121 1906.78 31.0947 Q1910.62 36.0368 1910.62 45.1919 L1910.62 72.576 L1903.13 72.576 L1903.13 45.4349 Q1903.13 38.913 1900.82 35.7533 Q1898.51 32.5936 1893.77 32.5936 Q1887.98 32.5936 1884.62 36.4419 Q1881.26 40.2903 1881.26 46.9338 L1881.26 72.576 L1873.76 72.576 L1873.76 45.4349 Q1873.76 38.8725 1871.45 35.7533 Q1869.14 32.5936 1864.32 32.5936 Q1858.61 32.5936 1855.25 36.4824 Q1851.89 40.3308 1851.89 46.9338 L1851.89 72.576 L1844.39 72.576 L1844.39 27.2059 L1851.89 27.2059 L1851.89 34.2544 Q1854.44 30.082 1858 28.0971 Q1861.57 26.1121 1866.47 26.1121 Q1871.41 26.1121 1874.86 28.6237 Q1878.34 31.1352 1880 35.9153 Z\" fill=\"#000000\" fill-rule=\"evenodd\" fill-opacity=\"1\" /><path clip-path=\"url(#clip780)\" d=\"M 0 0 M1925.65 65.7705 L1925.65 89.8329 L1918.16 89.8329 L1918.16 27.2059 L1925.65 27.2059 L1925.65 34.0924 Q1928 30.0415 1931.57 28.0971 Q1935.17 26.1121 1940.16 26.1121 Q1948.42 26.1121 1953.56 32.6746 Q1958.75 39.2371 1958.75 49.9314 Q1958.75 60.6258 1953.56 67.1883 Q1948.42 73.7508 1940.16 73.7508 Q1935.17 73.7508 1931.57 71.8063 Q1928 69.8214 1925.65 65.7705 M1951.01 49.9314 Q1951.01 41.7081 1947.61 37.0496 Q1944.25 32.3505 1938.33 32.3505 Q1932.42 32.3505 1929.02 37.0496 Q1925.65 41.7081 1925.65 49.9314 Q1925.65 58.1548 1929.02 62.8538 Q1932.42 67.5124 1938.33 67.5124 Q1944.25 67.5124 1947.61 62.8538 Q1951.01 58.1548 1951.01 49.9314 Z\" fill=\"#000000\" fill-rule=\"evenodd\" fill-opacity=\"1\" /><path clip-path=\"url(#clip780)\" d=\"M 0 0 M1103.56 1508.52 L1112.22 1508.52 L1133.29 1548.28 L1133.29 1508.52 L1139.53 1508.52 L1139.53 1556.04 L1130.87 1556.04 L1109.8 1516.29 L1109.8 1556.04 L1103.56 1556.04 L1103.56 1508.52 Z\" fill=\"#000000\" fill-rule=\"evenodd\" fill-opacity=\"1\" /><path clip-path=\"url(#clip780)\" d=\"M 0 0 M1145.06 1541.98 L1145.06 1520.4 L1150.92 1520.4 L1150.92 1541.75 Q1150.92 1546.81 1152.89 1549.36 Q1154.87 1551.87 1158.81 1551.87 Q1163.56 1551.87 1166.29 1548.85 Q1169.06 1545.83 1169.06 1540.61 L1169.06 1520.4 L1174.92 1520.4 L1174.92 1556.04 L1169.06 1556.04 L1169.06 1550.57 Q1166.93 1553.82 1164.1 1555.41 Q1161.3 1556.97 1157.57 1556.97 Q1151.43 1556.97 1148.25 1553.15 Q1145.06 1549.33 1145.06 1541.98 M1159.8 1519.54 L1159.8 1519.54 Z\" fill=\"#000000\" fill-rule=\"evenodd\" fill-opacity=\"1\" /><path clip-path=\"url(#clip780)\" d=\"M 0 0 M1208.82 1527.24 Q1211.01 1523.29 1214.07 1521.41 Q1217.12 1519.54 1221.26 1519.54 Q1226.83 1519.54 1229.86 1523.45 Q1232.88 1527.33 1232.88 1534.53 L1232.88 1556.04 L1226.99 1556.04 L1226.99 1534.72 Q1226.99 1529.59 1225.18 1527.11 Q1223.36 1524.63 1219.64 1524.63 Q1215.09 1524.63 1212.45 1527.65 Q1209.8 1530.68 1209.8 1535.9 L1209.8 1556.04 L1203.92 1556.04 L1203.92 1534.72 Q1203.92 1529.56 1202.1 1527.11 Q1200.29 1524.63 1196.5 1524.63 Q1192.01 1524.63 1189.37 1527.68 Q1186.73 1530.71 1186.73 1535.9 L1186.73 1556.04 L1180.84 1556.04 L1180.84 1520.4 L1186.73 1520.4 L1186.73 1525.93 Q1188.73 1522.66 1191.53 1521.1 Q1194.34 1519.54 1198.19 1519.54 Q1202.07 1519.54 1204.78 1521.51 Q1207.51 1523.48 1208.82 1527.24 Z\" fill=\"#000000\" fill-rule=\"evenodd\" fill-opacity=\"1\" /><path clip-path=\"url(#clip780)\" d=\"M 0 0 M1264.61 1538.25 Q1264.61 1531.79 1261.94 1528.13 Q1259.3 1524.44 1254.65 1524.44 Q1250 1524.44 1247.33 1528.13 Q1244.69 1531.79 1244.69 1538.25 Q1244.69 1544.71 1247.33 1548.4 Q1250 1552.07 1254.65 1552.07 Q1259.3 1552.07 1261.94 1548.4 Q1264.61 1544.71 1264.61 1538.25 M1244.69 1525.81 Q1246.53 1522.62 1249.34 1521.1 Q1252.17 1519.54 1256.08 1519.54 Q1262.58 1519.54 1266.62 1524.69 Q1270.69 1529.85 1270.69 1538.25 Q1270.69 1546.65 1266.62 1551.81 Q1262.58 1556.97 1256.08 1556.97 Q1252.17 1556.97 1249.34 1555.44 Q1246.53 1553.88 1244.69 1550.7 L1244.69 1556.04 L1238.8 1556.04 L1238.8 1506.52 L1244.69 1506.52 L1244.69 1525.81 Z\" fill=\"#000000\" fill-rule=\"evenodd\" fill-opacity=\"1\" /><path clip-path=\"url(#clip780)\" d=\"M 0 0 M1307.33 1536.76 L1307.33 1539.62 L1280.4 1539.62 Q1280.78 1545.67 1284.03 1548.85 Q1287.31 1552 1293.13 1552 Q1296.5 1552 1299.66 1551.17 Q1302.84 1550.35 1305.96 1548.69 L1305.96 1554.23 Q1302.81 1555.57 1299.5 1556.27 Q1296.19 1556.97 1292.78 1556.97 Q1284.25 1556.97 1279.25 1552 Q1274.29 1547.04 1274.29 1538.57 Q1274.29 1529.82 1279 1524.69 Q1283.74 1519.54 1291.76 1519.54 Q1298.96 1519.54 1303.13 1524.18 Q1307.33 1528.8 1307.33 1536.76 M1301.47 1535.04 Q1301.41 1530.23 1298.76 1527.37 Q1296.15 1524.5 1291.83 1524.5 Q1286.92 1524.5 1283.96 1527.27 Q1281.04 1530.04 1280.59 1535.07 L1301.47 1535.04 Z\" fill=\"#000000\" fill-rule=\"evenodd\" fill-opacity=\"1\" /><path clip-path=\"url(#clip780)\" d=\"M 0 0 M1334.13 1525.87 Q1333.14 1525.3 1331.96 1525.04 Q1330.82 1524.76 1329.42 1524.76 Q1324.45 1524.76 1321.78 1528 Q1319.13 1531.22 1319.13 1537.27 L1319.13 1556.04 L1313.25 1556.04 L1313.25 1520.4 L1319.13 1520.4 L1319.13 1525.93 Q1320.98 1522.69 1323.94 1521.13 Q1326.9 1519.54 1331.13 1519.54 Q1331.74 1519.54 1332.47 1519.63 Q1333.2 1519.7 1334.09 1519.85 L1334.13 1525.87 Z\" fill=\"#000000\" fill-rule=\"evenodd\" fill-opacity=\"1\" /><path clip-path=\"url(#clip780)\" d=\"M 0 0 M1374.8 1524.5 Q1370.09 1524.5 1367.36 1528.19 Q1364.62 1531.85 1364.62 1538.25 Q1364.62 1544.65 1367.32 1548.34 Q1370.06 1552 1374.8 1552 Q1379.48 1552 1382.22 1548.31 Q1384.96 1544.62 1384.96 1538.25 Q1384.96 1531.92 1382.22 1528.23 Q1379.48 1524.5 1374.8 1524.5 M1374.8 1519.54 Q1382.44 1519.54 1386.8 1524.5 Q1391.16 1529.47 1391.16 1538.25 Q1391.16 1547 1386.8 1552 Q1382.44 1556.97 1374.8 1556.97 Q1367.13 1556.97 1362.77 1552 Q1358.44 1547 1358.44 1538.25 Q1358.44 1529.47 1362.77 1524.5 Q1367.13 1519.54 1374.8 1519.54 Z\" fill=\"#000000\" fill-rule=\"evenodd\" fill-opacity=\"1\" /><path clip-path=\"url(#clip780)\" d=\"M 0 0 M1415.35 1506.52 L1415.35 1511.39 L1409.75 1511.39 Q1406.6 1511.39 1405.36 1512.66 Q1404.15 1513.93 1404.15 1517.24 L1404.15 1520.4 L1413.79 1520.4 L1413.79 1524.95 L1404.15 1524.95 L1404.15 1556.04 L1398.26 1556.04 L1398.26 1524.95 L1392.66 1524.95 L1392.66 1520.4 L1398.26 1520.4 L1398.26 1517.91 Q1398.26 1511.96 1401.03 1509.26 Q1403.8 1506.52 1409.81 1506.52 L1415.35 1506.52 Z\" fill=\"#000000\" fill-rule=\"evenodd\" fill-opacity=\"1\" /><path clip-path=\"url(#clip780)\" d=\"M 0 0 M1448.9 1513.81 L1448.9 1531.66 L1456.98 1531.66 Q1461.47 1531.66 1463.92 1529.34 Q1466.37 1527.02 1466.37 1522.72 Q1466.37 1518.45 1463.92 1516.13 Q1461.47 1513.81 1456.98 1513.81 L1448.9 1513.81 M1442.47 1508.52 L1456.98 1508.52 Q1464.97 1508.52 1469.05 1512.15 Q1473.15 1515.75 1473.15 1522.72 Q1473.15 1529.75 1469.05 1533.35 Q1464.97 1536.95 1456.98 1536.95 L1448.9 1536.95 L1448.9 1556.04 L1442.47 1556.04 L1442.47 1508.52 Z\" fill=\"#000000\" fill-rule=\"evenodd\" fill-opacity=\"1\" /><path clip-path=\"url(#clip780)\" d=\"M 0 0 M1477.86 1520.4 L1483.72 1520.4 L1483.72 1556.04 L1477.86 1556.04 L1477.86 1520.4 M1477.86 1506.52 L1483.72 1506.52 L1483.72 1513.93 L1477.86 1513.93 L1477.86 1506.52 Z\" fill=\"#000000\" fill-rule=\"evenodd\" fill-opacity=\"1\" /><path clip-path=\"url(#clip780)\" d=\"M 0 0 M1510.52 1525.87 Q1509.53 1525.3 1508.36 1525.04 Q1507.21 1524.76 1505.81 1524.76 Q1500.84 1524.76 1498.17 1528 Q1495.53 1531.22 1495.53 1537.27 L1495.53 1556.04 L1489.64 1556.04 L1489.64 1520.4 L1495.53 1520.4 L1495.53 1525.93 Q1497.37 1522.69 1500.33 1521.13 Q1503.29 1519.54 1507.53 1519.54 Q1508.13 1519.54 1508.86 1519.63 Q1509.6 1519.7 1510.49 1519.85 L1510.52 1525.87 Z\" fill=\"#000000\" fill-rule=\"evenodd\" fill-opacity=\"1\" /><path clip-path=\"url(#clip780)\" d=\"M 0 0 M81.2247 913.578 L68.4614 913.578 L68.4614 924.082 L63.1779 924.082 L63.1779 907.213 L83.58 907.213 Q86.2218 910.937 87.5904 915.424 Q88.9272 919.912 88.9272 925.005 Q88.9272 936.145 82.4342 942.447 Q75.9093 948.717 64.2919 948.717 Q52.6427 948.717 46.1496 942.447 Q39.6248 936.145 39.6248 925.005 Q39.6248 920.358 40.7706 916.188 Q41.9164 911.987 44.1444 908.454 L50.9876 908.454 Q47.9639 912.019 46.4361 916.029 Q44.9083 920.04 44.9083 924.464 Q44.9083 933.185 49.7781 937.577 Q54.6479 941.938 64.2919 941.938 Q73.9041 941.938 78.7739 937.577 Q83.6436 933.185 83.6436 924.464 Q83.6436 921.058 83.0707 918.385 Q82.466 915.711 81.2247 913.578 Z\" fill=\"#000000\" fill-rule=\"evenodd\" fill-opacity=\"1\" /><path clip-path=\"url(#clip780)\" d=\"M 0 0 M38.479 901.07 L38.479 895.213 L88.0042 895.213 L88.0042 901.07 L38.479 901.07 Z\" fill=\"#000000\" fill-rule=\"evenodd\" fill-opacity=\"1\" /><path clip-path=\"url(#clip780)\" d=\"M 0 0 M56.4621 875.257 Q56.4621 879.967 60.1542 882.705 Q63.8145 885.442 70.212 885.442 Q76.6095 885.442 80.3017 882.737 Q83.9619 879.999 83.9619 875.257 Q83.9619 870.578 80.2698 867.841 Q76.5777 865.104 70.212 865.104 Q63.8781 865.104 60.186 867.841 Q56.4621 870.578 56.4621 875.257 M51.4968 875.257 Q51.4968 867.618 56.4621 863.258 Q61.4273 858.897 70.212 858.897 Q78.9649 858.897 83.9619 863.258 Q88.9272 867.618 88.9272 875.257 Q88.9272 882.928 83.9619 887.288 Q78.9649 891.617 70.212 891.617 Q61.4273 891.617 56.4621 887.288 Q51.4968 882.928 51.4968 875.257 Z\" fill=\"#000000\" fill-rule=\"evenodd\" fill-opacity=\"1\" /><path clip-path=\"url(#clip780)\" d=\"M 0 0 M70.212 827.164 Q63.7508 827.164 60.0905 829.838 Q56.3984 832.479 56.3984 837.126 Q56.3984 841.773 60.0905 844.447 Q63.7508 847.089 70.212 847.089 Q76.6732 847.089 80.3653 844.447 Q84.0256 841.773 84.0256 837.126 Q84.0256 832.479 80.3653 829.838 Q76.6732 827.164 70.212 827.164 M57.7671 847.089 Q54.5842 845.243 53.0564 842.442 Q51.4968 839.609 51.4968 835.694 Q51.4968 829.201 56.6531 825.159 Q61.8093 821.085 70.212 821.085 Q78.6147 821.085 83.771 825.159 Q88.9272 829.201 88.9272 835.694 Q88.9272 839.609 87.3994 842.442 Q85.8398 845.243 82.657 847.089 L88.0042 847.089 L88.0042 852.977 L38.479 852.977 L38.479 847.089 L57.7671 847.089 Z\" fill=\"#000000\" fill-rule=\"evenodd\" fill-opacity=\"1\" /><path clip-path=\"url(#clip780)\" d=\"M 0 0 M70.0847 798.741 Q70.0847 805.839 71.7079 808.576 Q73.3312 811.313 77.2461 811.313 Q80.3653 811.313 82.2114 809.276 Q84.0256 807.207 84.0256 803.674 Q84.0256 798.805 80.5881 795.876 Q77.1188 792.916 71.3897 792.916 L70.0847 792.916 L70.0847 798.741 M67.6657 787.06 L88.0042 787.06 L88.0042 792.916 L82.5933 792.916 Q85.8398 794.922 87.3994 797.914 Q88.9272 800.905 88.9272 805.234 Q88.9272 810.709 85.8716 813.955 Q82.7843 817.17 77.6281 817.17 Q71.6125 817.17 68.5569 813.159 Q65.5014 809.117 65.5014 801.128 L65.5014 792.916 L64.9285 792.916 Q60.8862 792.916 58.6901 795.59 Q56.4621 798.232 56.4621 803.038 Q56.4621 806.093 57.1941 808.99 Q57.9262 811.886 59.3903 814.56 L53.9795 814.56 Q52.7381 811.345 52.1334 808.321 Q51.4968 805.298 51.4968 802.433 Q51.4968 794.699 55.5072 790.879 Q59.5176 787.06 67.6657 787.06 Z\" fill=\"#000000\" fill-rule=\"evenodd\" fill-opacity=\"1\" /><path clip-path=\"url(#clip780)\" d=\"M 0 0 M38.479 780.917 L38.479 775.061 L88.0042 775.061 L88.0042 780.917 L38.479 780.917 Z\" fill=\"#000000\" fill-rule=\"evenodd\" fill-opacity=\"1\" /><path clip-path=\"url(#clip780)\" d=\"M 0 0 M42.2347 742.405 L52.3562 742.405 L52.3562 730.342 L56.9077 730.342 L56.9077 742.405 L76.2594 742.405 Q80.6199 742.405 81.8613 741.227 Q83.1026 740.017 83.1026 736.357 L83.1026 730.342 L88.0042 730.342 L88.0042 736.357 Q88.0042 743.137 85.4897 745.715 Q82.9434 748.293 76.2594 748.293 L56.9077 748.293 L56.9077 752.59 L52.3562 752.59 L52.3562 748.293 L42.2347 748.293 L42.2347 742.405 Z\" fill=\"#000000\" fill-rule=\"evenodd\" fill-opacity=\"1\" /><path clip-path=\"url(#clip780)\" d=\"M 0 0 M68.7161 693.707 L71.5806 693.707 L71.5806 720.634 Q77.6281 720.252 80.8109 717.005 Q83.9619 713.727 83.9619 707.902 Q83.9619 704.529 83.1344 701.378 Q82.3069 698.195 80.6518 695.076 L86.1899 695.076 Q87.5267 698.227 88.227 701.537 Q88.9272 704.847 88.9272 708.253 Q88.9272 716.783 83.9619 721.78 Q78.9967 726.745 70.5303 726.745 Q61.7774 726.745 56.6531 722.034 Q51.4968 717.292 51.4968 709.271 Q51.4968 702.078 56.1438 697.908 Q60.7589 693.707 68.7161 693.707 M66.9973 699.563 Q62.1912 699.627 59.3266 702.269 Q56.4621 704.879 56.4621 709.207 Q56.4621 714.109 59.2312 717.069 Q62.0002 719.997 67.0292 720.443 L66.9973 699.563 Z\" fill=\"#000000\" fill-rule=\"evenodd\" fill-opacity=\"1\" /><path clip-path=\"url(#clip780)\" d=\"M 0 0 M59.1993 659.81 Q55.2526 657.613 53.3747 654.558 Q51.4968 651.502 51.4968 647.365 Q51.4968 641.795 55.4117 638.771 Q59.2948 635.747 66.4881 635.747 L88.0042 635.747 L88.0042 641.635 L66.679 641.635 Q61.5546 641.635 59.072 643.45 Q56.5894 645.264 56.5894 648.988 Q56.5894 653.539 59.6131 656.181 Q62.6368 658.823 67.8567 658.823 L88.0042 658.823 L88.0042 664.711 L66.679 664.711 Q61.5228 664.711 59.072 666.525 Q56.5894 668.34 56.5894 672.127 Q56.5894 676.615 59.6449 679.257 Q62.6686 681.899 67.8567 681.899 L88.0042 681.899 L88.0042 687.787 L52.3562 687.787 L52.3562 681.899 L57.8944 681.899 Q54.616 679.893 53.0564 677.092 Q51.4968 674.292 51.4968 670.44 Q51.4968 666.557 53.4702 663.852 Q55.4436 661.114 59.1993 659.81 Z\" fill=\"#000000\" fill-rule=\"evenodd\" fill-opacity=\"1\" /><path clip-path=\"url(#clip780)\" d=\"M 0 0 M82.657 623.939 L101.563 623.939 L101.563 629.827 L52.3562 629.827 L52.3562 623.939 L57.7671 623.939 Q54.5842 622.093 53.0564 619.292 Q51.4968 616.459 51.4968 612.544 Q51.4968 606.051 56.6531 602.009 Q61.8093 597.935 70.212 597.935 Q78.6147 597.935 83.771 602.009 Q88.9272 606.051 88.9272 612.544 Q88.9272 616.459 87.3994 619.292 Q85.8398 622.093 82.657 623.939 M70.212 604.014 Q63.7508 604.014 60.0905 606.688 Q56.3984 609.329 56.3984 613.976 Q56.3984 618.623 60.0905 621.297 Q63.7508 623.939 70.212 623.939 Q76.6732 623.939 80.3653 621.297 Q84.0256 618.623 84.0256 613.976 Q84.0256 609.329 80.3653 606.688 Q76.6732 604.014 70.212 604.014 Z\" fill=\"#000000\" fill-rule=\"evenodd\" fill-opacity=\"1\" /><polyline clip-path=\"url(#clip782)\" style=\"stroke:#009af9; stroke-width:4; stroke-opacity:1; fill:none\" points=\"\n",
       "  320.516,1386.4 1417.07,1298.81 1636.38,1036.07 2075,685.745 2276.77,423 2293.56,160.256 \n",
       "  \"/>\n",
       "<circle clip-path=\"url(#clip782)\" cx=\"320.516\" cy=\"1386.4\" r=\"14\" fill=\"#e26f46\" fill-rule=\"evenodd\" fill-opacity=\"1\" stroke=\"#000000\" stroke-opacity=\"1\" stroke-width=\"3.2\"/>\n",
       "<circle clip-path=\"url(#clip782)\" cx=\"1417.07\" cy=\"1298.81\" r=\"14\" fill=\"#e26f46\" fill-rule=\"evenodd\" fill-opacity=\"1\" stroke=\"#000000\" stroke-opacity=\"1\" stroke-width=\"3.2\"/>\n",
       "<circle clip-path=\"url(#clip782)\" cx=\"1636.38\" cy=\"1036.07\" r=\"14\" fill=\"#e26f46\" fill-rule=\"evenodd\" fill-opacity=\"1\" stroke=\"#000000\" stroke-opacity=\"1\" stroke-width=\"3.2\"/>\n",
       "<circle clip-path=\"url(#clip782)\" cx=\"2075\" cy=\"685.745\" r=\"14\" fill=\"#e26f46\" fill-rule=\"evenodd\" fill-opacity=\"1\" stroke=\"#000000\" stroke-opacity=\"1\" stroke-width=\"3.2\"/>\n",
       "<circle clip-path=\"url(#clip782)\" cx=\"2276.77\" cy=\"423\" r=\"14\" fill=\"#e26f46\" fill-rule=\"evenodd\" fill-opacity=\"1\" stroke=\"#000000\" stroke-opacity=\"1\" stroke-width=\"3.2\"/>\n",
       "<circle clip-path=\"url(#clip782)\" cx=\"2293.56\" cy=\"160.256\" r=\"14\" fill=\"#e26f46\" fill-rule=\"evenodd\" fill-opacity=\"1\" stroke=\"#000000\" stroke-opacity=\"1\" stroke-width=\"3.2\"/>\n",
       "</svg>\n"
      ]
     },
     "execution_count": 8,
     "metadata": {},
     "output_type": "execute_result"
    }
   ],
   "source": [
    "globaltemp = [14.4,14.5,14.8,15.2,15.5,15.8]\n",
    "numpir = [45000,20000,15000,5000,400,17]\n",
    "gr()\n",
    "plot(numpir,globaltemp, legend=false)\n",
    "scatter!(numpir,globaltemp)\n",
    "xflip!()\n",
    "xlabel!(\"Number of Pir\")\n",
    "ylabel!(\"Global temp\")\n",
    "title!(\"Influence of pir pop on global temp\")"
   ]
  },
  {
   "cell_type": "code",
   "execution_count": 12,
   "metadata": {},
   "outputs": [
    {
     "data": {
      "image/svg+xml": [
       "<?xml version=\"1.0\" encoding=\"utf-8\"?>\n",
       "<svg xmlns=\"http://www.w3.org/2000/svg\" xmlns:xlink=\"http://www.w3.org/1999/xlink\" width=\"600\" height=\"400\" viewBox=\"0 0 2400 1600\">\n",
       "<defs>\n",
       "  <clipPath id=\"clip900\">\n",
       "    <rect x=\"0\" y=\"0\" width=\"2400\" height=\"1600\"/>\n",
       "  </clipPath>\n",
       "</defs>\n",
       "<path clip-path=\"url(#clip900)\" d=\"\n",
       "M0 1600 L2400 1600 L2400 0 L0 0  Z\n",
       "  \" fill=\"#ffffff\" fill-rule=\"evenodd\" fill-opacity=\"1\"/>\n",
       "<defs>\n",
       "  <clipPath id=\"clip901\">\n",
       "    <rect x=\"480\" y=\"0\" width=\"1681\" height=\"1600\"/>\n",
       "  </clipPath>\n",
       "</defs>\n",
       "<path clip-path=\"url(#clip900)\" d=\"\n",
       "M139.191 686.448 L1132.71 686.448 L1132.71 47.2441 L139.191 47.2441  Z\n",
       "  \" fill=\"#ffffff\" fill-rule=\"evenodd\" fill-opacity=\"1\"/>\n",
       "<defs>\n",
       "  <clipPath id=\"clip902\">\n",
       "    <rect x=\"139\" y=\"47\" width=\"995\" height=\"640\"/>\n",
       "  </clipPath>\n",
       "</defs>\n",
       "<polyline clip-path=\"url(#clip902)\" style=\"stroke:#000000; stroke-width:2; stroke-opacity:0.1; fill:none\" points=\"\n",
       "  167.309,686.448 167.309,47.2441 \n",
       "  \"/>\n",
       "<polyline clip-path=\"url(#clip902)\" style=\"stroke:#000000; stroke-width:2; stroke-opacity:0.1; fill:none\" points=\"\n",
       "  323.523,686.448 323.523,47.2441 \n",
       "  \"/>\n",
       "<polyline clip-path=\"url(#clip902)\" style=\"stroke:#000000; stroke-width:2; stroke-opacity:0.1; fill:none\" points=\"\n",
       "  479.737,686.448 479.737,47.2441 \n",
       "  \"/>\n",
       "<polyline clip-path=\"url(#clip902)\" style=\"stroke:#000000; stroke-width:2; stroke-opacity:0.1; fill:none\" points=\"\n",
       "  635.95,686.448 635.95,47.2441 \n",
       "  \"/>\n",
       "<polyline clip-path=\"url(#clip902)\" style=\"stroke:#000000; stroke-width:2; stroke-opacity:0.1; fill:none\" points=\"\n",
       "  792.164,686.448 792.164,47.2441 \n",
       "  \"/>\n",
       "<polyline clip-path=\"url(#clip902)\" style=\"stroke:#000000; stroke-width:2; stroke-opacity:0.1; fill:none\" points=\"\n",
       "  948.378,686.448 948.378,47.2441 \n",
       "  \"/>\n",
       "<polyline clip-path=\"url(#clip902)\" style=\"stroke:#000000; stroke-width:2; stroke-opacity:0.1; fill:none\" points=\"\n",
       "  1104.59,686.448 1104.59,47.2441 \n",
       "  \"/>\n",
       "<polyline clip-path=\"url(#clip902)\" style=\"stroke:#000000; stroke-width:2; stroke-opacity:0.1; fill:none\" points=\"\n",
       "  139.191,668.357 1132.71,668.357 \n",
       "  \"/>\n",
       "<polyline clip-path=\"url(#clip902)\" style=\"stroke:#000000; stroke-width:2; stroke-opacity:0.1; fill:none\" points=\"\n",
       "  139.191,534.352 1132.71,534.352 \n",
       "  \"/>\n",
       "<polyline clip-path=\"url(#clip902)\" style=\"stroke:#000000; stroke-width:2; stroke-opacity:0.1; fill:none\" points=\"\n",
       "  139.191,400.347 1132.71,400.347 \n",
       "  \"/>\n",
       "<polyline clip-path=\"url(#clip902)\" style=\"stroke:#000000; stroke-width:2; stroke-opacity:0.1; fill:none\" points=\"\n",
       "  139.191,266.342 1132.71,266.342 \n",
       "  \"/>\n",
       "<polyline clip-path=\"url(#clip902)\" style=\"stroke:#000000; stroke-width:2; stroke-opacity:0.1; fill:none\" points=\"\n",
       "  139.191,132.337 1132.71,132.337 \n",
       "  \"/>\n",
       "<polyline clip-path=\"url(#clip900)\" style=\"stroke:#000000; stroke-width:4; stroke-opacity:1; fill:none\" points=\"\n",
       "  139.191,686.448 1132.71,686.448 \n",
       "  \"/>\n",
       "<polyline clip-path=\"url(#clip900)\" style=\"stroke:#000000; stroke-width:4; stroke-opacity:1; fill:none\" points=\"\n",
       "  139.191,686.448 139.191,47.2441 \n",
       "  \"/>\n",
       "<polyline clip-path=\"url(#clip900)\" style=\"stroke:#000000; stroke-width:4; stroke-opacity:1; fill:none\" points=\"\n",
       "  167.309,686.448 167.309,678.777 \n",
       "  \"/>\n",
       "<polyline clip-path=\"url(#clip900)\" style=\"stroke:#000000; stroke-width:4; stroke-opacity:1; fill:none\" points=\"\n",
       "  323.523,686.448 323.523,678.777 \n",
       "  \"/>\n",
       "<polyline clip-path=\"url(#clip900)\" style=\"stroke:#000000; stroke-width:4; stroke-opacity:1; fill:none\" points=\"\n",
       "  479.737,686.448 479.737,678.777 \n",
       "  \"/>\n",
       "<polyline clip-path=\"url(#clip900)\" style=\"stroke:#000000; stroke-width:4; stroke-opacity:1; fill:none\" points=\"\n",
       "  635.95,686.448 635.95,678.777 \n",
       "  \"/>\n",
       "<polyline clip-path=\"url(#clip900)\" style=\"stroke:#000000; stroke-width:4; stroke-opacity:1; fill:none\" points=\"\n",
       "  792.164,686.448 792.164,678.777 \n",
       "  \"/>\n",
       "<polyline clip-path=\"url(#clip900)\" style=\"stroke:#000000; stroke-width:4; stroke-opacity:1; fill:none\" points=\"\n",
       "  948.378,686.448 948.378,678.777 \n",
       "  \"/>\n",
       "<polyline clip-path=\"url(#clip900)\" style=\"stroke:#000000; stroke-width:4; stroke-opacity:1; fill:none\" points=\"\n",
       "  1104.59,686.448 1104.59,678.777 \n",
       "  \"/>\n",
       "<polyline clip-path=\"url(#clip900)\" style=\"stroke:#000000; stroke-width:4; stroke-opacity:1; fill:none\" points=\"\n",
       "  139.191,668.357 151.113,668.357 \n",
       "  \"/>\n",
       "<polyline clip-path=\"url(#clip900)\" style=\"stroke:#000000; stroke-width:4; stroke-opacity:1; fill:none\" points=\"\n",
       "  139.191,534.352 151.113,534.352 \n",
       "  \"/>\n",
       "<polyline clip-path=\"url(#clip900)\" style=\"stroke:#000000; stroke-width:4; stroke-opacity:1; fill:none\" points=\"\n",
       "  139.191,400.347 151.113,400.347 \n",
       "  \"/>\n",
       "<polyline clip-path=\"url(#clip900)\" style=\"stroke:#000000; stroke-width:4; stroke-opacity:1; fill:none\" points=\"\n",
       "  139.191,266.342 151.113,266.342 \n",
       "  \"/>\n",
       "<polyline clip-path=\"url(#clip900)\" style=\"stroke:#000000; stroke-width:4; stroke-opacity:1; fill:none\" points=\"\n",
       "  139.191,132.337 151.113,132.337 \n",
       "  \"/>\n",
       "<path clip-path=\"url(#clip900)\" d=\"M 0 0 M147.888 725.036 L160.365 725.036 L160.365 728.832 L147.888 728.832 L147.888 725.036 Z\" fill=\"#000000\" fill-rule=\"evenodd\" fill-opacity=\"1\" /><path clip-path=\"url(#clip900)\" d=\"M 0 0 M179.601 721.286 Q182.957 722.003 184.832 724.272 Q186.731 726.54 186.731 729.874 Q186.731 734.989 183.212 737.79 Q179.694 740.591 173.212 740.591 Q171.036 740.591 168.721 740.151 Q166.43 739.735 163.976 738.878 L163.976 734.364 Q165.92 735.499 168.235 736.077 Q170.55 736.656 173.073 736.656 Q177.471 736.656 179.763 734.92 Q182.078 733.184 182.078 729.874 Q182.078 726.818 179.925 725.105 Q177.795 723.369 173.976 723.369 L169.948 723.369 L169.948 719.526 L174.161 719.526 Q177.61 719.526 179.439 718.161 Q181.268 716.772 181.268 714.179 Q181.268 711.517 179.369 710.105 Q177.495 708.67 173.976 708.67 Q172.055 708.67 169.856 709.087 Q167.657 709.503 165.018 710.383 L165.018 706.216 Q167.68 705.476 169.995 705.105 Q172.332 704.735 174.393 704.735 Q179.717 704.735 182.819 707.165 Q185.92 709.573 185.92 713.693 Q185.92 716.564 184.277 718.554 Q182.633 720.522 179.601 721.286 Z\" fill=\"#000000\" fill-rule=\"evenodd\" fill-opacity=\"1\" /><path clip-path=\"url(#clip900)\" d=\"M 0 0 M304.576 725.036 L317.053 725.036 L317.053 728.832 L304.576 728.832 L304.576 725.036 Z\" fill=\"#000000\" fill-rule=\"evenodd\" fill-opacity=\"1\" /><path clip-path=\"url(#clip900)\" d=\"M 0 0 M326.15 735.985 L342.47 735.985 L342.47 739.92 L320.525 739.92 L320.525 735.985 Q323.187 733.23 327.771 728.6 Q332.377 723.948 333.558 722.605 Q335.803 720.082 336.683 718.346 Q337.585 716.587 337.585 714.897 Q337.585 712.142 335.641 710.406 Q333.72 708.67 330.618 708.67 Q328.419 708.67 325.965 709.434 Q323.535 710.198 320.757 711.749 L320.757 707.027 Q323.581 705.892 326.035 705.314 Q328.488 704.735 330.525 704.735 Q335.896 704.735 339.09 707.42 Q342.284 710.105 342.284 714.596 Q342.284 716.726 341.474 718.647 Q340.687 720.545 338.581 723.138 Q338.002 723.809 334.9 727.026 Q331.798 730.221 326.15 735.985 Z\" fill=\"#000000\" fill-rule=\"evenodd\" fill-opacity=\"1\" /><path clip-path=\"url(#clip900)\" d=\"M 0 0 M460.605 725.036 L473.082 725.036 L473.082 728.832 L460.605 728.832 L460.605 725.036 Z\" fill=\"#000000\" fill-rule=\"evenodd\" fill-opacity=\"1\" /><path clip-path=\"url(#clip900)\" d=\"M 0 0 M478.961 735.985 L486.6 735.985 L486.6 709.619 L478.29 711.286 L478.29 707.027 L486.554 705.36 L491.23 705.36 L491.23 735.985 L498.869 735.985 L498.869 739.92 L478.961 739.92 L478.961 735.985 Z\" fill=\"#000000\" fill-rule=\"evenodd\" fill-opacity=\"1\" /><path clip-path=\"url(#clip900)\" d=\"M 0 0 M635.95 708.439 Q632.339 708.439 630.511 712.003 Q628.705 715.545 628.705 722.675 Q628.705 729.781 630.511 733.346 Q632.339 736.887 635.95 736.887 Q639.585 736.887 641.39 733.346 Q643.219 729.781 643.219 722.675 Q643.219 715.545 641.39 712.003 Q639.585 708.439 635.95 708.439 M635.95 704.735 Q641.76 704.735 644.816 709.341 Q647.895 713.925 647.895 722.675 Q647.895 731.401 644.816 736.008 Q641.76 740.591 635.95 740.591 Q630.14 740.591 627.061 736.008 Q624.006 731.401 624.006 722.675 Q624.006 713.925 627.061 709.341 Q630.14 704.735 635.95 704.735 Z\" fill=\"#000000\" fill-rule=\"evenodd\" fill-opacity=\"1\" /><path clip-path=\"url(#clip900)\" d=\"M 0 0 M782.546 735.985 L790.185 735.985 L790.185 709.619 L781.875 711.286 L781.875 707.027 L790.139 705.36 L794.814 705.36 L794.814 735.985 L802.453 735.985 L802.453 739.92 L782.546 739.92 L782.546 735.985 Z\" fill=\"#000000\" fill-rule=\"evenodd\" fill-opacity=\"1\" /><path clip-path=\"url(#clip900)\" d=\"M 0 0 M943.03 735.985 L959.35 735.985 L959.35 739.92 L937.405 739.92 L937.405 735.985 Q940.067 733.23 944.651 728.6 Q949.257 723.948 950.438 722.605 Q952.683 720.082 953.563 718.346 Q954.466 716.587 954.466 714.897 Q954.466 712.142 952.521 710.406 Q950.6 708.67 947.498 708.67 Q945.299 708.67 942.845 709.434 Q940.415 710.198 937.637 711.749 L937.637 707.027 Q940.461 705.892 942.915 705.314 Q945.368 704.735 947.405 704.735 Q952.776 704.735 955.97 707.42 Q959.165 710.105 959.165 714.596 Q959.165 716.726 958.354 718.647 Q957.567 720.545 955.461 723.138 Q954.882 723.809 951.78 727.026 Q948.679 730.221 943.03 735.985 Z\" fill=\"#000000\" fill-rule=\"evenodd\" fill-opacity=\"1\" /><path clip-path=\"url(#clip900)\" d=\"M 0 0 M1108.84 721.286 Q1112.2 722.003 1114.07 724.272 Q1115.97 726.54 1115.97 729.874 Q1115.97 734.989 1112.45 737.79 Q1108.93 740.591 1102.45 740.591 Q1100.27 740.591 1097.96 740.151 Q1095.67 739.735 1093.21 738.878 L1093.21 734.364 Q1095.16 735.499 1097.47 736.077 Q1099.79 736.656 1102.31 736.656 Q1106.71 736.656 1109 734.92 Q1111.32 733.184 1111.32 729.874 Q1111.32 726.818 1109.16 725.105 Q1107.03 723.369 1103.21 723.369 L1099.19 723.369 L1099.19 719.526 L1103.4 719.526 Q1106.85 719.526 1108.68 718.161 Q1110.51 716.772 1110.51 714.179 Q1110.51 711.517 1108.61 710.105 Q1106.73 708.67 1103.21 708.67 Q1101.29 708.67 1099.09 709.087 Q1096.89 709.503 1094.26 710.383 L1094.26 706.216 Q1096.92 705.476 1099.23 705.105 Q1101.57 704.735 1103.63 704.735 Q1108.95 704.735 1112.06 707.165 Q1115.16 709.573 1115.16 713.693 Q1115.16 716.564 1113.51 718.554 Q1111.87 720.522 1108.84 721.286 Z\" fill=\"#000000\" fill-rule=\"evenodd\" fill-opacity=\"1\" /><path clip-path=\"url(#clip900)\" d=\"M 0 0 M103.247 654.156 Q99.6354 654.156 97.8068 657.721 Q96.0012 661.262 96.0012 668.392 Q96.0012 675.498 97.8068 679.063 Q99.6354 682.605 103.247 682.605 Q106.881 682.605 108.686 679.063 Q110.515 675.498 110.515 668.392 Q110.515 661.262 108.686 657.721 Q106.881 654.156 103.247 654.156 M103.247 650.452 Q109.057 650.452 112.112 655.059 Q115.191 659.642 115.191 668.392 Q115.191 677.119 112.112 681.725 Q109.057 686.308 103.247 686.308 Q97.4364 686.308 94.3577 681.725 Q91.3022 677.119 91.3022 668.392 Q91.3022 659.642 94.3577 655.059 Q97.4364 650.452 103.247 650.452 Z\" fill=\"#000000\" fill-rule=\"evenodd\" fill-opacity=\"1\" /><path clip-path=\"url(#clip900)\" d=\"M 0 0 M98.8716 547.697 L115.191 547.697 L115.191 551.632 L93.2466 551.632 L93.2466 547.697 Q95.9086 544.942 100.492 540.313 Q105.098 535.66 106.279 534.317 Q108.524 531.794 109.404 530.058 Q110.307 528.299 110.307 526.609 Q110.307 523.855 108.362 522.118 Q106.441 520.382 103.339 520.382 Q101.14 520.382 98.6864 521.146 Q96.2558 521.91 93.4781 523.461 L93.4781 518.739 Q96.3021 517.605 98.7558 517.026 Q101.21 516.447 103.247 516.447 Q108.617 516.447 111.811 519.132 Q115.006 521.818 115.006 526.308 Q115.006 528.438 114.196 530.359 Q113.409 532.257 111.302 534.85 Q110.723 535.521 107.622 538.739 Q104.52 541.933 98.8716 547.697 Z\" fill=\"#000000\" fill-rule=\"evenodd\" fill-opacity=\"1\" /><path clip-path=\"url(#clip900)\" d=\"M 0 0 M105.608 387.141 L93.8021 405.59 L105.608 405.59 L105.608 387.141 M104.381 383.067 L110.26 383.067 L110.26 405.59 L115.191 405.59 L115.191 409.479 L110.26 409.479 L110.26 417.627 L105.608 417.627 L105.608 409.479 L90.0059 409.479 L90.0059 404.965 L104.381 383.067 Z\" fill=\"#000000\" fill-rule=\"evenodd\" fill-opacity=\"1\" /><path clip-path=\"url(#clip900)\" d=\"M 0 0 M103.663 264.479 Q100.515 264.479 98.6632 266.632 Q96.8345 268.784 96.8345 272.534 Q96.8345 276.261 98.6632 278.437 Q100.515 280.59 103.663 280.59 Q106.811 280.59 108.64 278.437 Q110.492 276.261 110.492 272.534 Q110.492 268.784 108.64 266.632 Q106.811 264.479 103.663 264.479 M112.946 249.826 L112.946 254.085 Q111.186 253.252 109.381 252.812 Q107.598 252.372 105.839 252.372 Q101.21 252.372 98.7558 255.497 Q96.3253 258.622 95.9781 264.942 Q97.3438 262.928 99.404 261.863 Q101.464 260.775 103.941 260.775 Q109.149 260.775 112.159 263.946 Q115.191 267.095 115.191 272.534 Q115.191 277.858 112.043 281.076 Q108.895 284.294 103.663 284.294 Q97.6679 284.294 94.4966 279.71 Q91.3253 275.104 91.3253 266.377 Q91.3253 258.183 95.2142 253.321 Q99.103 248.437 105.654 248.437 Q107.413 248.437 109.196 248.784 Q111.001 249.132 112.946 249.826 Z\" fill=\"#000000\" fill-rule=\"evenodd\" fill-opacity=\"1\" /><path clip-path=\"url(#clip900)\" d=\"M 0 0 M103.339 133.205 Q100.006 133.205 98.0845 134.988 Q96.1864 136.77 96.1864 139.895 Q96.1864 143.02 98.0845 144.802 Q100.006 146.585 103.339 146.585 Q106.672 146.585 108.594 144.802 Q110.515 142.997 110.515 139.895 Q110.515 136.77 108.594 134.988 Q106.696 133.205 103.339 133.205 M98.6632 131.215 Q95.654 130.474 93.9642 128.414 Q92.2975 126.353 92.2975 123.391 Q92.2975 119.247 95.2373 116.84 Q98.2003 114.432 103.339 114.432 Q108.501 114.432 111.441 116.84 Q114.381 119.247 114.381 123.391 Q114.381 126.353 112.691 128.414 Q111.024 130.474 108.038 131.215 Q111.418 132.002 113.293 134.293 Q115.191 136.585 115.191 139.895 Q115.191 144.918 112.112 147.603 Q109.057 150.289 103.339 150.289 Q97.6216 150.289 94.5429 147.603 Q91.4873 144.918 91.4873 139.895 Q91.4873 136.585 93.3855 134.293 Q95.2836 132.002 98.6632 131.215 M96.9503 123.83 Q96.9503 126.516 98.6169 128.02 Q100.307 129.525 103.339 129.525 Q106.348 129.525 108.038 128.02 Q109.751 126.516 109.751 123.83 Q109.751 121.145 108.038 119.641 Q106.348 118.136 103.339 118.136 Q100.307 118.136 98.6169 119.641 Q96.9503 121.145 96.9503 123.83 Z\" fill=\"#000000\" fill-rule=\"evenodd\" fill-opacity=\"1\" /><polyline clip-path=\"url(#clip902)\" style=\"stroke:#009af9; stroke-width:4; stroke-opacity:1; fill:none\" points=\"\n",
       "  167.309,65.3348 182.931,104.866 198.552,143.058 214.173,179.909 229.795,215.42 245.416,249.592 261.038,282.423 276.659,313.914 292.28,344.065 307.902,372.876 \n",
       "  323.523,400.347 339.144,426.478 354.766,451.269 370.387,474.72 386.008,496.831 401.63,517.602 417.251,537.032 432.873,555.123 448.494,571.874 464.115,587.284 \n",
       "  479.737,601.355 495.358,614.085 510.979,625.476 526.601,635.526 542.222,644.236 557.843,651.607 573.465,657.637 589.086,662.327 604.708,665.677 620.329,667.687 \n",
       "  635.95,668.357 651.572,667.687 667.193,665.677 682.814,662.327 698.436,657.637 714.057,651.607 729.679,644.236 745.3,635.526 760.921,625.476 776.543,614.085 \n",
       "  792.164,601.355 807.785,587.284 823.407,571.874 839.028,555.123 854.649,537.032 870.271,517.602 885.892,496.831 901.514,474.72 917.135,451.269 932.756,426.478 \n",
       "  948.378,400.347 963.999,372.876 979.62,344.065 995.242,313.914 1010.86,282.423 1026.48,249.592 1042.11,215.42 1057.73,179.909 1073.35,143.058 1088.97,104.866 \n",
       "  1104.59,65.3348 \n",
       "  \"/>\n",
       "<path clip-path=\"url(#clip900)\" d=\"\n",
       "M1332.22 686.448 L2352.76 686.448 L2352.76 47.2441 L1332.22 47.2441  Z\n",
       "  \" fill=\"#ffffff\" fill-rule=\"evenodd\" fill-opacity=\"1\"/>\n",
       "<defs>\n",
       "  <clipPath id=\"clip903\">\n",
       "    <rect x=\"1332\" y=\"47\" width=\"1022\" height=\"640\"/>\n",
       "  </clipPath>\n",
       "</defs>\n",
       "<polyline clip-path=\"url(#clip903)\" style=\"stroke:#000000; stroke-width:2; stroke-opacity:0.1; fill:none\" points=\"\n",
       "  1361.11,686.448 1361.11,47.2441 \n",
       "  \"/>\n",
       "<polyline clip-path=\"url(#clip903)\" style=\"stroke:#000000; stroke-width:2; stroke-opacity:0.1; fill:none\" points=\"\n",
       "  1521.57,686.448 1521.57,47.2441 \n",
       "  \"/>\n",
       "<polyline clip-path=\"url(#clip903)\" style=\"stroke:#000000; stroke-width:2; stroke-opacity:0.1; fill:none\" points=\"\n",
       "  1682.03,686.448 1682.03,47.2441 \n",
       "  \"/>\n",
       "<polyline clip-path=\"url(#clip903)\" style=\"stroke:#000000; stroke-width:2; stroke-opacity:0.1; fill:none\" points=\"\n",
       "  1842.49,686.448 1842.49,47.2441 \n",
       "  \"/>\n",
       "<polyline clip-path=\"url(#clip903)\" style=\"stroke:#000000; stroke-width:2; stroke-opacity:0.1; fill:none\" points=\"\n",
       "  2002.95,686.448 2002.95,47.2441 \n",
       "  \"/>\n",
       "<polyline clip-path=\"url(#clip903)\" style=\"stroke:#000000; stroke-width:2; stroke-opacity:0.1; fill:none\" points=\"\n",
       "  2163.41,686.448 2163.41,47.2441 \n",
       "  \"/>\n",
       "<polyline clip-path=\"url(#clip903)\" style=\"stroke:#000000; stroke-width:2; stroke-opacity:0.1; fill:none\" points=\"\n",
       "  2323.87,686.448 2323.87,47.2441 \n",
       "  \"/>\n",
       "<polyline clip-path=\"url(#clip903)\" style=\"stroke:#000000; stroke-width:2; stroke-opacity:0.1; fill:none\" points=\"\n",
       "  1332.22,590.188 2352.76,590.188 \n",
       "  \"/>\n",
       "<polyline clip-path=\"url(#clip903)\" style=\"stroke:#000000; stroke-width:2; stroke-opacity:0.1; fill:none\" points=\"\n",
       "  1332.22,478.517 2352.76,478.517 \n",
       "  \"/>\n",
       "<polyline clip-path=\"url(#clip903)\" style=\"stroke:#000000; stroke-width:2; stroke-opacity:0.1; fill:none\" points=\"\n",
       "  1332.22,366.846 2352.76,366.846 \n",
       "  \"/>\n",
       "<polyline clip-path=\"url(#clip903)\" style=\"stroke:#000000; stroke-width:2; stroke-opacity:0.1; fill:none\" points=\"\n",
       "  1332.22,255.175 2352.76,255.175 \n",
       "  \"/>\n",
       "<polyline clip-path=\"url(#clip903)\" style=\"stroke:#000000; stroke-width:2; stroke-opacity:0.1; fill:none\" points=\"\n",
       "  1332.22,143.504 2352.76,143.504 \n",
       "  \"/>\n",
       "<polyline clip-path=\"url(#clip900)\" style=\"stroke:#000000; stroke-width:4; stroke-opacity:1; fill:none\" points=\"\n",
       "  1332.22,686.448 2352.76,686.448 \n",
       "  \"/>\n",
       "<polyline clip-path=\"url(#clip900)\" style=\"stroke:#000000; stroke-width:4; stroke-opacity:1; fill:none\" points=\"\n",
       "  1332.22,686.448 1332.22,47.2441 \n",
       "  \"/>\n",
       "<polyline clip-path=\"url(#clip900)\" style=\"stroke:#000000; stroke-width:4; stroke-opacity:1; fill:none\" points=\"\n",
       "  1361.11,686.448 1361.11,678.777 \n",
       "  \"/>\n",
       "<polyline clip-path=\"url(#clip900)\" style=\"stroke:#000000; stroke-width:4; stroke-opacity:1; fill:none\" points=\"\n",
       "  1521.57,686.448 1521.57,678.777 \n",
       "  \"/>\n",
       "<polyline clip-path=\"url(#clip900)\" style=\"stroke:#000000; stroke-width:4; stroke-opacity:1; fill:none\" points=\"\n",
       "  1682.03,686.448 1682.03,678.777 \n",
       "  \"/>\n",
       "<polyline clip-path=\"url(#clip900)\" style=\"stroke:#000000; stroke-width:4; stroke-opacity:1; fill:none\" points=\"\n",
       "  1842.49,686.448 1842.49,678.777 \n",
       "  \"/>\n",
       "<polyline clip-path=\"url(#clip900)\" style=\"stroke:#000000; stroke-width:4; stroke-opacity:1; fill:none\" points=\"\n",
       "  2002.95,686.448 2002.95,678.777 \n",
       "  \"/>\n",
       "<polyline clip-path=\"url(#clip900)\" style=\"stroke:#000000; stroke-width:4; stroke-opacity:1; fill:none\" points=\"\n",
       "  2163.41,686.448 2163.41,678.777 \n",
       "  \"/>\n",
       "<polyline clip-path=\"url(#clip900)\" style=\"stroke:#000000; stroke-width:4; stroke-opacity:1; fill:none\" points=\"\n",
       "  2323.87,686.448 2323.87,678.777 \n",
       "  \"/>\n",
       "<polyline clip-path=\"url(#clip900)\" style=\"stroke:#000000; stroke-width:4; stroke-opacity:1; fill:none\" points=\"\n",
       "  1332.22,590.188 1344.47,590.188 \n",
       "  \"/>\n",
       "<polyline clip-path=\"url(#clip900)\" style=\"stroke:#000000; stroke-width:4; stroke-opacity:1; fill:none\" points=\"\n",
       "  1332.22,478.517 1344.47,478.517 \n",
       "  \"/>\n",
       "<polyline clip-path=\"url(#clip900)\" style=\"stroke:#000000; stroke-width:4; stroke-opacity:1; fill:none\" points=\"\n",
       "  1332.22,366.846 1344.47,366.846 \n",
       "  \"/>\n",
       "<polyline clip-path=\"url(#clip900)\" style=\"stroke:#000000; stroke-width:4; stroke-opacity:1; fill:none\" points=\"\n",
       "  1332.22,255.175 1344.47,255.175 \n",
       "  \"/>\n",
       "<polyline clip-path=\"url(#clip900)\" style=\"stroke:#000000; stroke-width:4; stroke-opacity:1; fill:none\" points=\"\n",
       "  1332.22,143.504 1344.47,143.504 \n",
       "  \"/>\n",
       "<path clip-path=\"url(#clip900)\" d=\"M 0 0 M1341.69 725.036 L1354.16 725.036 L1354.16 728.832 L1341.69 728.832 L1341.69 725.036 Z\" fill=\"#000000\" fill-rule=\"evenodd\" fill-opacity=\"1\" /><path clip-path=\"url(#clip900)\" d=\"M 0 0 M1373.4 721.286 Q1376.75 722.003 1378.63 724.272 Q1380.53 726.54 1380.53 729.874 Q1380.53 734.989 1377.01 737.79 Q1373.49 740.591 1367.01 740.591 Q1364.83 740.591 1362.52 740.151 Q1360.23 739.735 1357.77 738.878 L1357.77 734.364 Q1359.72 735.499 1362.03 736.077 Q1364.35 736.656 1366.87 736.656 Q1371.27 736.656 1373.56 734.92 Q1375.87 733.184 1375.87 729.874 Q1375.87 726.818 1373.72 725.105 Q1371.59 723.369 1367.77 723.369 L1363.75 723.369 L1363.75 719.526 L1367.96 719.526 Q1371.41 719.526 1373.24 718.161 Q1375.06 716.772 1375.06 714.179 Q1375.06 711.517 1373.17 710.105 Q1371.29 708.67 1367.77 708.67 Q1365.85 708.67 1363.65 709.087 Q1361.45 709.503 1358.81 710.383 L1358.81 706.216 Q1361.48 705.476 1363.79 705.105 Q1366.13 704.735 1368.19 704.735 Q1373.51 704.735 1376.62 707.165 Q1379.72 709.573 1379.72 713.693 Q1379.72 716.564 1378.07 718.554 Q1376.43 720.522 1373.4 721.286 Z\" fill=\"#000000\" fill-rule=\"evenodd\" fill-opacity=\"1\" /><path clip-path=\"url(#clip900)\" d=\"M 0 0 M1502.62 725.036 L1515.1 725.036 L1515.1 728.832 L1502.62 728.832 L1502.62 725.036 Z\" fill=\"#000000\" fill-rule=\"evenodd\" fill-opacity=\"1\" /><path clip-path=\"url(#clip900)\" d=\"M 0 0 M1524.19 735.985 L1540.51 735.985 L1540.51 739.92 L1518.57 739.92 L1518.57 735.985 Q1521.23 733.23 1525.82 728.6 Q1530.42 723.948 1531.6 722.605 Q1533.85 720.082 1534.73 718.346 Q1535.63 716.587 1535.63 714.897 Q1535.63 712.142 1533.69 710.406 Q1531.76 708.67 1528.66 708.67 Q1526.46 708.67 1524.01 709.434 Q1521.58 710.198 1518.8 711.749 L1518.8 707.027 Q1521.63 705.892 1524.08 705.314 Q1526.53 704.735 1528.57 704.735 Q1533.94 704.735 1537.13 707.42 Q1540.33 710.105 1540.33 714.596 Q1540.33 716.726 1539.52 718.647 Q1538.73 720.545 1536.63 723.138 Q1536.05 723.809 1532.94 727.026 Q1529.84 730.221 1524.19 735.985 Z\" fill=\"#000000\" fill-rule=\"evenodd\" fill-opacity=\"1\" /><path clip-path=\"url(#clip900)\" d=\"M 0 0 M1662.9 725.036 L1675.37 725.036 L1675.37 728.832 L1662.9 728.832 L1662.9 725.036 Z\" fill=\"#000000\" fill-rule=\"evenodd\" fill-opacity=\"1\" /><path clip-path=\"url(#clip900)\" d=\"M 0 0 M1681.25 735.985 L1688.89 735.985 L1688.89 709.619 L1680.58 711.286 L1680.58 707.027 L1688.85 705.36 L1693.52 705.36 L1693.52 735.985 L1701.16 735.985 L1701.16 739.92 L1681.25 739.92 L1681.25 735.985 Z\" fill=\"#000000\" fill-rule=\"evenodd\" fill-opacity=\"1\" /><path clip-path=\"url(#clip900)\" d=\"M 0 0 M1842.49 708.439 Q1838.88 708.439 1837.05 712.003 Q1835.24 715.545 1835.24 722.675 Q1835.24 729.781 1837.05 733.346 Q1838.88 736.887 1842.49 736.887 Q1846.12 736.887 1847.93 733.346 Q1849.76 729.781 1849.76 722.675 Q1849.76 715.545 1847.93 712.003 Q1846.12 708.439 1842.49 708.439 M1842.49 704.735 Q1848.3 704.735 1851.36 709.341 Q1854.43 713.925 1854.43 722.675 Q1854.43 731.401 1851.36 736.008 Q1848.3 740.591 1842.49 740.591 Q1836.68 740.591 1833.6 736.008 Q1830.55 731.401 1830.55 722.675 Q1830.55 713.925 1833.6 709.341 Q1836.68 704.735 1842.49 704.735 Z\" fill=\"#000000\" fill-rule=\"evenodd\" fill-opacity=\"1\" /><path clip-path=\"url(#clip900)\" d=\"M 0 0 M1993.33 735.985 L2000.97 735.985 L2000.97 709.619 L1992.66 711.286 L1992.66 707.027 L2000.93 705.36 L2005.6 705.36 L2005.6 735.985 L2013.24 735.985 L2013.24 739.92 L1993.33 739.92 L1993.33 735.985 Z\" fill=\"#000000\" fill-rule=\"evenodd\" fill-opacity=\"1\" /><path clip-path=\"url(#clip900)\" d=\"M 0 0 M2158.06 735.985 L2174.38 735.985 L2174.38 739.92 L2152.44 739.92 L2152.44 735.985 Q2155.1 733.23 2159.68 728.6 Q2164.29 723.948 2165.47 722.605 Q2167.72 720.082 2168.6 718.346 Q2169.5 716.587 2169.5 714.897 Q2169.5 712.142 2167.56 710.406 Q2165.63 708.67 2162.53 708.67 Q2160.33 708.67 2157.88 709.434 Q2155.45 710.198 2152.67 711.749 L2152.67 707.027 Q2155.5 705.892 2157.95 705.314 Q2160.4 704.735 2162.44 704.735 Q2167.81 704.735 2171 707.42 Q2174.2 710.105 2174.2 714.596 Q2174.2 716.726 2173.39 718.647 Q2172.6 720.545 2170.5 723.138 Q2169.92 723.809 2166.81 727.026 Q2163.71 730.221 2158.06 735.985 Z\" fill=\"#000000\" fill-rule=\"evenodd\" fill-opacity=\"1\" /><path clip-path=\"url(#clip900)\" d=\"M 0 0 M2328.12 721.286 Q2331.48 722.003 2333.35 724.272 Q2335.25 726.54 2335.25 729.874 Q2335.25 734.989 2331.73 737.79 Q2328.21 740.591 2321.73 740.591 Q2319.56 740.591 2317.24 740.151 Q2314.95 739.735 2312.5 738.878 L2312.5 734.364 Q2314.44 735.499 2316.75 736.077 Q2319.07 736.656 2321.59 736.656 Q2325.99 736.656 2328.28 734.92 Q2330.6 733.184 2330.6 729.874 Q2330.6 726.818 2328.44 725.105 Q2326.32 723.369 2322.5 723.369 L2318.47 723.369 L2318.47 719.526 L2322.68 719.526 Q2326.13 719.526 2327.96 718.161 Q2329.79 716.772 2329.79 714.179 Q2329.79 711.517 2327.89 710.105 Q2326.01 708.67 2322.5 708.67 Q2320.57 708.67 2318.38 709.087 Q2316.18 709.503 2313.54 710.383 L2313.54 706.216 Q2316.2 705.476 2318.51 705.105 Q2320.85 704.735 2322.91 704.735 Q2328.24 704.735 2331.34 707.165 Q2334.44 709.573 2334.44 713.693 Q2334.44 716.564 2332.8 718.554 Q2331.15 720.522 2328.12 721.286 Z\" fill=\"#000000\" fill-rule=\"evenodd\" fill-opacity=\"1\" /><path clip-path=\"url(#clip900)\" d=\"M 0 0 M1243.32 592.583 L1255.79 592.583 L1255.79 596.38 L1243.32 596.38 L1243.32 592.583 Z\" fill=\"#000000\" fill-rule=\"evenodd\" fill-opacity=\"1\" /><path clip-path=\"url(#clip900)\" d=\"M 0 0 M1264.89 603.532 L1281.21 603.532 L1281.21 607.468 L1259.27 607.468 L1259.27 603.532 Q1261.93 600.778 1266.51 596.148 Q1271.12 591.495 1272.3 590.153 Q1274.54 587.63 1275.42 585.894 Q1276.33 584.134 1276.33 582.445 Q1276.33 579.69 1274.38 577.954 Q1272.46 576.218 1269.36 576.218 Q1267.16 576.218 1264.71 576.982 Q1262.27 577.746 1259.5 579.296 L1259.5 574.574 Q1262.32 573.44 1264.77 572.861 Q1267.23 572.283 1269.27 572.283 Q1274.64 572.283 1277.83 574.968 Q1281.02 577.653 1281.02 582.144 Q1281.02 584.273 1280.21 586.195 Q1279.43 588.093 1277.32 590.685 Q1276.74 591.357 1273.64 594.574 Q1270.54 597.769 1264.89 603.532 Z\" fill=\"#000000\" fill-rule=\"evenodd\" fill-opacity=\"1\" /><path clip-path=\"url(#clip900)\" d=\"M 0 0 M1296.28 575.986 Q1292.67 575.986 1290.84 579.551 Q1289.03 583.093 1289.03 590.222 Q1289.03 597.329 1290.84 600.894 Q1292.67 604.435 1296.28 604.435 Q1299.91 604.435 1301.72 600.894 Q1303.55 597.329 1303.55 590.222 Q1303.55 583.093 1301.72 579.551 Q1299.91 575.986 1296.28 575.986 M1296.28 572.283 Q1302.09 572.283 1305.14 576.889 Q1308.22 581.472 1308.22 590.222 Q1308.22 598.949 1305.14 603.556 Q1302.09 608.139 1296.28 608.139 Q1290.47 608.139 1287.39 603.556 Q1284.33 598.949 1284.33 590.222 Q1284.33 581.472 1287.39 576.889 Q1290.47 572.283 1296.28 572.283 Z\" fill=\"#000000\" fill-rule=\"evenodd\" fill-opacity=\"1\" /><path clip-path=\"url(#clip900)\" d=\"M 0 0 M1242.95 480.913 L1255.42 480.913 L1255.42 484.709 L1242.95 484.709 L1242.95 480.913 Z\" fill=\"#000000\" fill-rule=\"evenodd\" fill-opacity=\"1\" /><path clip-path=\"url(#clip900)\" d=\"M 0 0 M1261.3 491.862 L1268.94 491.862 L1268.94 465.496 L1260.63 467.163 L1260.63 462.903 L1268.89 461.237 L1273.57 461.237 L1273.57 491.862 L1281.21 491.862 L1281.21 495.797 L1261.3 495.797 L1261.3 491.862 Z\" fill=\"#000000\" fill-rule=\"evenodd\" fill-opacity=\"1\" /><path clip-path=\"url(#clip900)\" d=\"M 0 0 M1296.28 464.315 Q1292.67 464.315 1290.84 467.88 Q1289.03 471.422 1289.03 478.552 Q1289.03 485.658 1290.84 489.223 Q1292.67 492.764 1296.28 492.764 Q1299.91 492.764 1301.72 489.223 Q1303.55 485.658 1303.55 478.552 Q1303.55 471.422 1301.72 467.88 Q1299.91 464.315 1296.28 464.315 M1296.28 460.612 Q1302.09 460.612 1305.14 465.218 Q1308.22 469.802 1308.22 478.552 Q1308.22 487.278 1305.14 491.885 Q1302.09 496.468 1296.28 496.468 Q1290.47 496.468 1287.39 491.885 Q1284.33 487.278 1284.33 478.552 Q1284.33 469.802 1287.39 465.218 Q1290.47 460.612 1296.28 460.612 Z\" fill=\"#000000\" fill-rule=\"evenodd\" fill-opacity=\"1\" /><path clip-path=\"url(#clip900)\" d=\"M 0 0 M1296.28 352.645 Q1292.67 352.645 1290.84 356.209 Q1289.03 359.751 1289.03 366.881 Q1289.03 373.987 1290.84 377.552 Q1292.67 381.094 1296.28 381.094 Q1299.91 381.094 1301.72 377.552 Q1303.55 373.987 1303.55 366.881 Q1303.55 359.751 1301.72 356.209 Q1299.91 352.645 1296.28 352.645 M1296.28 348.941 Q1302.09 348.941 1305.14 353.547 Q1308.22 358.131 1308.22 366.881 Q1308.22 375.608 1305.14 380.214 Q1302.09 384.797 1296.28 384.797 Q1290.47 384.797 1287.39 380.214 Q1284.33 375.608 1284.33 366.881 Q1284.33 358.131 1287.39 353.547 Q1290.47 348.941 1296.28 348.941 Z\" fill=\"#000000\" fill-rule=\"evenodd\" fill-opacity=\"1\" /><path clip-path=\"url(#clip900)\" d=\"M 0 0 M1261.3 268.52 L1268.94 268.52 L1268.94 242.154 L1260.63 243.821 L1260.63 239.562 L1268.89 237.895 L1273.57 237.895 L1273.57 268.52 L1281.21 268.52 L1281.21 272.455 L1261.3 272.455 L1261.3 268.52 Z\" fill=\"#000000\" fill-rule=\"evenodd\" fill-opacity=\"1\" /><path clip-path=\"url(#clip900)\" d=\"M 0 0 M1296.28 240.974 Q1292.67 240.974 1290.84 244.539 Q1289.03 248.08 1289.03 255.21 Q1289.03 262.316 1290.84 265.881 Q1292.67 269.423 1296.28 269.423 Q1299.91 269.423 1301.72 265.881 Q1303.55 262.316 1303.55 255.21 Q1303.55 248.08 1301.72 244.539 Q1299.91 240.974 1296.28 240.974 M1296.28 237.27 Q1302.09 237.27 1305.14 241.877 Q1308.22 246.46 1308.22 255.21 Q1308.22 263.937 1305.14 268.543 Q1302.09 273.126 1296.28 273.126 Q1290.47 273.126 1287.39 268.543 Q1284.33 263.937 1284.33 255.21 Q1284.33 246.46 1287.39 241.877 Q1290.47 237.27 1296.28 237.27 Z\" fill=\"#000000\" fill-rule=\"evenodd\" fill-opacity=\"1\" /><path clip-path=\"url(#clip900)\" d=\"M 0 0 M1264.89 156.849 L1281.21 156.849 L1281.21 160.784 L1259.27 160.784 L1259.27 156.849 Q1261.93 154.095 1266.51 149.465 Q1271.12 144.812 1272.3 143.47 Q1274.54 140.946 1275.42 139.21 Q1276.33 137.451 1276.33 135.761 Q1276.33 133.007 1274.38 131.271 Q1272.46 129.535 1269.36 129.535 Q1267.16 129.535 1264.71 130.298 Q1262.27 131.062 1259.5 132.613 L1259.5 127.891 Q1262.32 126.757 1264.77 126.178 Q1267.23 125.599 1269.27 125.599 Q1274.64 125.599 1277.83 128.285 Q1281.02 130.97 1281.02 135.46 Q1281.02 137.59 1280.21 139.511 Q1279.43 141.409 1277.32 144.002 Q1276.74 144.673 1273.64 147.891 Q1270.54 151.085 1264.89 156.849 Z\" fill=\"#000000\" fill-rule=\"evenodd\" fill-opacity=\"1\" /><path clip-path=\"url(#clip900)\" d=\"M 0 0 M1296.28 129.303 Q1292.67 129.303 1290.84 132.868 Q1289.03 136.409 1289.03 143.539 Q1289.03 150.646 1290.84 154.21 Q1292.67 157.752 1296.28 157.752 Q1299.91 157.752 1301.72 154.21 Q1303.55 150.646 1303.55 143.539 Q1303.55 136.409 1301.72 132.868 Q1299.91 129.303 1296.28 129.303 M1296.28 125.599 Q1302.09 125.599 1305.14 130.206 Q1308.22 134.789 1308.22 143.539 Q1308.22 152.266 1305.14 156.872 Q1302.09 161.456 1296.28 161.456 Q1290.47 161.456 1287.39 156.872 Q1284.33 152.266 1284.33 143.539 Q1284.33 134.789 1287.39 130.206 Q1290.47 125.599 1296.28 125.599 Z\" fill=\"#000000\" fill-rule=\"evenodd\" fill-opacity=\"1\" /><polyline clip-path=\"url(#clip903)\" style=\"stroke:#009af9; stroke-width:4; stroke-opacity:1; fill:none\" points=\"\n",
       "  1361.11,668.357 1377.15,639.2 1393.2,611.986 1409.24,586.648 1425.29,563.119 1441.34,541.332 1457.38,521.22 1473.43,502.716 1489.48,485.753 1505.52,470.264 \n",
       "  1521.57,456.183 1537.61,443.441 1553.66,431.972 1569.71,421.71 1585.75,412.586 1601.8,404.535 1617.84,397.488 1633.89,391.38 1649.94,386.143 1665.98,381.709 \n",
       "  1682.03,378.013 1698.07,374.987 1714.12,372.564 1730.17,370.676 1746.21,369.258 1762.26,368.242 1778.31,367.561 1794.35,367.147 1810.4,366.935 1826.44,366.857 \n",
       "  1842.49,366.846 1858.54,366.835 1874.58,366.757 1890.63,366.544 1906.67,366.131 1922.72,365.45 1938.77,364.434 1954.81,363.016 1970.86,361.128 1986.9,358.705 \n",
       "  2002.95,355.679 2019,351.983 2035.04,347.549 2051.09,342.312 2067.14,336.204 2083.18,329.157 2099.23,321.106 2115.27,311.982 2131.32,301.72 2147.37,290.251 \n",
       "  2163.41,277.509 2179.46,263.428 2195.5,247.939 2211.55,230.976 2227.6,212.472 2243.64,192.36 2259.69,170.573 2275.73,147.044 2291.78,121.706 2307.83,94.492 \n",
       "  2323.87,65.3348 \n",
       "  \"/>\n",
       "<path clip-path=\"url(#clip900)\" d=\"\n",
       "M139.191 1486.45 L1132.71 1486.45 L1132.71 847.244 L139.191 847.244  Z\n",
       "  \" fill=\"#ffffff\" fill-rule=\"evenodd\" fill-opacity=\"1\"/>\n",
       "<defs>\n",
       "  <clipPath id=\"clip904\">\n",
       "    <rect x=\"139\" y=\"847\" width=\"995\" height=\"640\"/>\n",
       "  </clipPath>\n",
       "</defs>\n",
       "<polyline clip-path=\"url(#clip904)\" style=\"stroke:#000000; stroke-width:2; stroke-opacity:0.1; fill:none\" points=\"\n",
       "  167.309,1486.45 167.309,847.244 \n",
       "  \"/>\n",
       "<polyline clip-path=\"url(#clip904)\" style=\"stroke:#000000; stroke-width:2; stroke-opacity:0.1; fill:none\" points=\"\n",
       "  323.523,1486.45 323.523,847.244 \n",
       "  \"/>\n",
       "<polyline clip-path=\"url(#clip904)\" style=\"stroke:#000000; stroke-width:2; stroke-opacity:0.1; fill:none\" points=\"\n",
       "  479.737,1486.45 479.737,847.244 \n",
       "  \"/>\n",
       "<polyline clip-path=\"url(#clip904)\" style=\"stroke:#000000; stroke-width:2; stroke-opacity:0.1; fill:none\" points=\"\n",
       "  635.95,1486.45 635.95,847.244 \n",
       "  \"/>\n",
       "<polyline clip-path=\"url(#clip904)\" style=\"stroke:#000000; stroke-width:2; stroke-opacity:0.1; fill:none\" points=\"\n",
       "  792.164,1486.45 792.164,847.244 \n",
       "  \"/>\n",
       "<polyline clip-path=\"url(#clip904)\" style=\"stroke:#000000; stroke-width:2; stroke-opacity:0.1; fill:none\" points=\"\n",
       "  948.378,1486.45 948.378,847.244 \n",
       "  \"/>\n",
       "<polyline clip-path=\"url(#clip904)\" style=\"stroke:#000000; stroke-width:2; stroke-opacity:0.1; fill:none\" points=\"\n",
       "  1104.59,1486.45 1104.59,847.244 \n",
       "  \"/>\n",
       "<polyline clip-path=\"url(#clip904)\" style=\"stroke:#000000; stroke-width:2; stroke-opacity:0.1; fill:none\" points=\"\n",
       "  139.191,1468.36 1132.71,1468.36 \n",
       "  \"/>\n",
       "<polyline clip-path=\"url(#clip904)\" style=\"stroke:#000000; stroke-width:2; stroke-opacity:0.1; fill:none\" points=\"\n",
       "  139.191,1319.46 1132.71,1319.46 \n",
       "  \"/>\n",
       "<polyline clip-path=\"url(#clip904)\" style=\"stroke:#000000; stroke-width:2; stroke-opacity:0.1; fill:none\" points=\"\n",
       "  139.191,1170.57 1132.71,1170.57 \n",
       "  \"/>\n",
       "<polyline clip-path=\"url(#clip904)\" style=\"stroke:#000000; stroke-width:2; stroke-opacity:0.1; fill:none\" points=\"\n",
       "  139.191,1021.67 1132.71,1021.67 \n",
       "  \"/>\n",
       "<polyline clip-path=\"url(#clip904)\" style=\"stroke:#000000; stroke-width:2; stroke-opacity:0.1; fill:none\" points=\"\n",
       "  139.191,872.779 1132.71,872.779 \n",
       "  \"/>\n",
       "<polyline clip-path=\"url(#clip900)\" style=\"stroke:#000000; stroke-width:4; stroke-opacity:1; fill:none\" points=\"\n",
       "  139.191,1486.45 1132.71,1486.45 \n",
       "  \"/>\n",
       "<polyline clip-path=\"url(#clip900)\" style=\"stroke:#000000; stroke-width:4; stroke-opacity:1; fill:none\" points=\"\n",
       "  139.191,1486.45 139.191,847.244 \n",
       "  \"/>\n",
       "<polyline clip-path=\"url(#clip900)\" style=\"stroke:#000000; stroke-width:4; stroke-opacity:1; fill:none\" points=\"\n",
       "  167.309,1486.45 167.309,1478.78 \n",
       "  \"/>\n",
       "<polyline clip-path=\"url(#clip900)\" style=\"stroke:#000000; stroke-width:4; stroke-opacity:1; fill:none\" points=\"\n",
       "  323.523,1486.45 323.523,1478.78 \n",
       "  \"/>\n",
       "<polyline clip-path=\"url(#clip900)\" style=\"stroke:#000000; stroke-width:4; stroke-opacity:1; fill:none\" points=\"\n",
       "  479.737,1486.45 479.737,1478.78 \n",
       "  \"/>\n",
       "<polyline clip-path=\"url(#clip900)\" style=\"stroke:#000000; stroke-width:4; stroke-opacity:1; fill:none\" points=\"\n",
       "  635.95,1486.45 635.95,1478.78 \n",
       "  \"/>\n",
       "<polyline clip-path=\"url(#clip900)\" style=\"stroke:#000000; stroke-width:4; stroke-opacity:1; fill:none\" points=\"\n",
       "  792.164,1486.45 792.164,1478.78 \n",
       "  \"/>\n",
       "<polyline clip-path=\"url(#clip900)\" style=\"stroke:#000000; stroke-width:4; stroke-opacity:1; fill:none\" points=\"\n",
       "  948.378,1486.45 948.378,1478.78 \n",
       "  \"/>\n",
       "<polyline clip-path=\"url(#clip900)\" style=\"stroke:#000000; stroke-width:4; stroke-opacity:1; fill:none\" points=\"\n",
       "  1104.59,1486.45 1104.59,1478.78 \n",
       "  \"/>\n",
       "<polyline clip-path=\"url(#clip900)\" style=\"stroke:#000000; stroke-width:4; stroke-opacity:1; fill:none\" points=\"\n",
       "  139.191,1468.36 151.113,1468.36 \n",
       "  \"/>\n",
       "<polyline clip-path=\"url(#clip900)\" style=\"stroke:#000000; stroke-width:4; stroke-opacity:1; fill:none\" points=\"\n",
       "  139.191,1319.46 151.113,1319.46 \n",
       "  \"/>\n",
       "<polyline clip-path=\"url(#clip900)\" style=\"stroke:#000000; stroke-width:4; stroke-opacity:1; fill:none\" points=\"\n",
       "  139.191,1170.57 151.113,1170.57 \n",
       "  \"/>\n",
       "<polyline clip-path=\"url(#clip900)\" style=\"stroke:#000000; stroke-width:4; stroke-opacity:1; fill:none\" points=\"\n",
       "  139.191,1021.67 151.113,1021.67 \n",
       "  \"/>\n",
       "<polyline clip-path=\"url(#clip900)\" style=\"stroke:#000000; stroke-width:4; stroke-opacity:1; fill:none\" points=\"\n",
       "  139.191,872.779 151.113,872.779 \n",
       "  \"/>\n",
       "<path clip-path=\"url(#clip900)\" d=\"M 0 0 M147.888 1525.04 L160.365 1525.04 L160.365 1528.83 L147.888 1528.83 L147.888 1525.04 Z\" fill=\"#000000\" fill-rule=\"evenodd\" fill-opacity=\"1\" /><path clip-path=\"url(#clip900)\" d=\"M 0 0 M179.601 1521.29 Q182.957 1522 184.832 1524.27 Q186.731 1526.54 186.731 1529.87 Q186.731 1534.99 183.212 1537.79 Q179.694 1540.59 173.212 1540.59 Q171.036 1540.59 168.721 1540.15 Q166.43 1539.73 163.976 1538.88 L163.976 1534.36 Q165.92 1535.5 168.235 1536.08 Q170.55 1536.66 173.073 1536.66 Q177.471 1536.66 179.763 1534.92 Q182.078 1533.18 182.078 1529.87 Q182.078 1526.82 179.925 1525.11 Q177.795 1523.37 173.976 1523.37 L169.948 1523.37 L169.948 1519.53 L174.161 1519.53 Q177.61 1519.53 179.439 1518.16 Q181.268 1516.77 181.268 1514.18 Q181.268 1511.52 179.369 1510.11 Q177.495 1508.67 173.976 1508.67 Q172.055 1508.67 169.856 1509.09 Q167.657 1509.5 165.018 1510.38 L165.018 1506.22 Q167.68 1505.48 169.995 1505.11 Q172.332 1504.73 174.393 1504.73 Q179.717 1504.73 182.819 1507.17 Q185.92 1509.57 185.92 1513.69 Q185.92 1516.56 184.277 1518.55 Q182.633 1520.52 179.601 1521.29 Z\" fill=\"#000000\" fill-rule=\"evenodd\" fill-opacity=\"1\" /><path clip-path=\"url(#clip900)\" d=\"M 0 0 M304.576 1525.04 L317.053 1525.04 L317.053 1528.83 L304.576 1528.83 L304.576 1525.04 Z\" fill=\"#000000\" fill-rule=\"evenodd\" fill-opacity=\"1\" /><path clip-path=\"url(#clip900)\" d=\"M 0 0 M326.15 1535.98 L342.47 1535.98 L342.47 1539.92 L320.525 1539.92 L320.525 1535.98 Q323.187 1533.23 327.771 1528.6 Q332.377 1523.95 333.558 1522.61 Q335.803 1520.08 336.683 1518.35 Q337.585 1516.59 337.585 1514.9 Q337.585 1512.14 335.641 1510.41 Q333.72 1508.67 330.618 1508.67 Q328.419 1508.67 325.965 1509.43 Q323.535 1510.2 320.757 1511.75 L320.757 1507.03 Q323.581 1505.89 326.035 1505.31 Q328.488 1504.73 330.525 1504.73 Q335.896 1504.73 339.09 1507.42 Q342.284 1510.11 342.284 1514.6 Q342.284 1516.73 341.474 1518.65 Q340.687 1520.54 338.581 1523.14 Q338.002 1523.81 334.9 1527.03 Q331.798 1530.22 326.15 1535.98 Z\" fill=\"#000000\" fill-rule=\"evenodd\" fill-opacity=\"1\" /><path clip-path=\"url(#clip900)\" d=\"M 0 0 M460.605 1525.04 L473.082 1525.04 L473.082 1528.83 L460.605 1528.83 L460.605 1525.04 Z\" fill=\"#000000\" fill-rule=\"evenodd\" fill-opacity=\"1\" /><path clip-path=\"url(#clip900)\" d=\"M 0 0 M478.961 1535.98 L486.6 1535.98 L486.6 1509.62 L478.29 1511.29 L478.29 1507.03 L486.554 1505.36 L491.23 1505.36 L491.23 1535.98 L498.869 1535.98 L498.869 1539.92 L478.961 1539.92 L478.961 1535.98 Z\" fill=\"#000000\" fill-rule=\"evenodd\" fill-opacity=\"1\" /><path clip-path=\"url(#clip900)\" d=\"M 0 0 M635.95 1508.44 Q632.339 1508.44 630.511 1512 Q628.705 1515.55 628.705 1522.67 Q628.705 1529.78 630.511 1533.35 Q632.339 1536.89 635.95 1536.89 Q639.585 1536.89 641.39 1533.35 Q643.219 1529.78 643.219 1522.67 Q643.219 1515.55 641.39 1512 Q639.585 1508.44 635.95 1508.44 M635.95 1504.73 Q641.76 1504.73 644.816 1509.34 Q647.895 1513.92 647.895 1522.67 Q647.895 1531.4 644.816 1536.01 Q641.76 1540.59 635.95 1540.59 Q630.14 1540.59 627.061 1536.01 Q624.006 1531.4 624.006 1522.67 Q624.006 1513.92 627.061 1509.34 Q630.14 1504.73 635.95 1504.73 Z\" fill=\"#000000\" fill-rule=\"evenodd\" fill-opacity=\"1\" /><path clip-path=\"url(#clip900)\" d=\"M 0 0 M782.546 1535.98 L790.185 1535.98 L790.185 1509.62 L781.875 1511.29 L781.875 1507.03 L790.139 1505.36 L794.814 1505.36 L794.814 1535.98 L802.453 1535.98 L802.453 1539.92 L782.546 1539.92 L782.546 1535.98 Z\" fill=\"#000000\" fill-rule=\"evenodd\" fill-opacity=\"1\" /><path clip-path=\"url(#clip900)\" d=\"M 0 0 M943.03 1535.98 L959.35 1535.98 L959.35 1539.92 L937.405 1539.92 L937.405 1535.98 Q940.067 1533.23 944.651 1528.6 Q949.257 1523.95 950.438 1522.61 Q952.683 1520.08 953.563 1518.35 Q954.466 1516.59 954.466 1514.9 Q954.466 1512.14 952.521 1510.41 Q950.6 1508.67 947.498 1508.67 Q945.299 1508.67 942.845 1509.43 Q940.415 1510.2 937.637 1511.75 L937.637 1507.03 Q940.461 1505.89 942.915 1505.31 Q945.368 1504.73 947.405 1504.73 Q952.776 1504.73 955.97 1507.42 Q959.165 1510.11 959.165 1514.6 Q959.165 1516.73 958.354 1518.65 Q957.567 1520.54 955.461 1523.14 Q954.882 1523.81 951.78 1527.03 Q948.679 1530.22 943.03 1535.98 Z\" fill=\"#000000\" fill-rule=\"evenodd\" fill-opacity=\"1\" /><path clip-path=\"url(#clip900)\" d=\"M 0 0 M1108.84 1521.29 Q1112.2 1522 1114.07 1524.27 Q1115.97 1526.54 1115.97 1529.87 Q1115.97 1534.99 1112.45 1537.79 Q1108.93 1540.59 1102.45 1540.59 Q1100.27 1540.59 1097.96 1540.15 Q1095.67 1539.73 1093.21 1538.88 L1093.21 1534.36 Q1095.16 1535.5 1097.47 1536.08 Q1099.79 1536.66 1102.31 1536.66 Q1106.71 1536.66 1109 1534.92 Q1111.32 1533.18 1111.32 1529.87 Q1111.32 1526.82 1109.16 1525.11 Q1107.03 1523.37 1103.21 1523.37 L1099.19 1523.37 L1099.19 1519.53 L1103.4 1519.53 Q1106.85 1519.53 1108.68 1518.16 Q1110.51 1516.77 1110.51 1514.18 Q1110.51 1511.52 1108.61 1510.11 Q1106.73 1508.67 1103.21 1508.67 Q1101.29 1508.67 1099.09 1509.09 Q1096.89 1509.5 1094.26 1510.38 L1094.26 1506.22 Q1096.92 1505.48 1099.23 1505.11 Q1101.57 1504.73 1103.63 1504.73 Q1108.95 1504.73 1112.06 1507.17 Q1115.16 1509.57 1115.16 1513.69 Q1115.16 1516.56 1113.51 1518.55 Q1111.87 1520.52 1108.84 1521.29 Z\" fill=\"#000000\" fill-rule=\"evenodd\" fill-opacity=\"1\" /><path clip-path=\"url(#clip900)\" d=\"M 0 0 M103.247 1454.16 Q99.6354 1454.16 97.8068 1457.72 Q96.0012 1461.26 96.0012 1468.39 Q96.0012 1475.5 97.8068 1479.06 Q99.6354 1482.6 103.247 1482.6 Q106.881 1482.6 108.686 1479.06 Q110.515 1475.5 110.515 1468.39 Q110.515 1461.26 108.686 1457.72 Q106.881 1454.16 103.247 1454.16 M103.247 1450.45 Q109.057 1450.45 112.112 1455.06 Q115.191 1459.64 115.191 1468.39 Q115.191 1477.12 112.112 1481.73 Q109.057 1486.31 103.247 1486.31 Q97.4364 1486.31 94.3577 1481.73 Q91.3022 1477.12 91.3022 1468.39 Q91.3022 1459.64 94.3577 1455.06 Q97.4364 1450.45 103.247 1450.45 Z\" fill=\"#000000\" fill-rule=\"evenodd\" fill-opacity=\"1\" /><path clip-path=\"url(#clip900)\" d=\"M 0 0 M71.8578 1332.81 L88.1772 1332.81 L88.1772 1336.74 L66.2328 1336.74 L66.2328 1332.81 Q68.8949 1330.05 73.4782 1325.42 Q78.0846 1320.77 79.2652 1319.43 Q81.5105 1316.9 82.3902 1315.17 Q83.2929 1313.41 83.2929 1311.72 Q83.2929 1308.97 81.3485 1307.23 Q79.4272 1305.49 76.3254 1305.49 Q74.1263 1305.49 71.6726 1306.26 Q69.2421 1307.02 66.4643 1308.57 L66.4643 1303.85 Q69.2884 1302.72 71.7421 1302.14 Q74.1958 1301.56 76.2328 1301.56 Q81.6031 1301.56 84.7976 1304.24 Q87.992 1306.93 87.992 1311.42 Q87.992 1313.55 87.1818 1315.47 Q86.3948 1317.37 84.2883 1319.96 Q83.7096 1320.63 80.6078 1323.85 Q77.5059 1327.04 71.8578 1332.81 Z\" fill=\"#000000\" fill-rule=\"evenodd\" fill-opacity=\"1\" /><path clip-path=\"url(#clip900)\" d=\"M 0 0 M103.247 1305.26 Q99.6354 1305.26 97.8068 1308.83 Q96.0012 1312.37 96.0012 1319.5 Q96.0012 1326.6 97.8068 1330.17 Q99.6354 1333.71 103.247 1333.71 Q106.881 1333.71 108.686 1330.17 Q110.515 1326.6 110.515 1319.5 Q110.515 1312.37 108.686 1308.83 Q106.881 1305.26 103.247 1305.26 M103.247 1301.56 Q109.057 1301.56 112.112 1306.16 Q115.191 1310.75 115.191 1319.5 Q115.191 1328.22 112.112 1332.83 Q109.057 1337.41 103.247 1337.41 Q97.4364 1337.41 94.3577 1332.83 Q91.3022 1328.22 91.3022 1319.5 Q91.3022 1310.75 94.3577 1306.16 Q97.4364 1301.56 103.247 1301.56 Z\" fill=\"#000000\" fill-rule=\"evenodd\" fill-opacity=\"1\" /><path clip-path=\"url(#clip900)\" d=\"M 0 0 M78.5939 1157.36 L66.7884 1175.81 L78.5939 1175.81 L78.5939 1157.36 M77.367 1153.29 L83.2466 1153.29 L83.2466 1175.81 L88.1772 1175.81 L88.1772 1179.7 L83.2466 1179.7 L83.2466 1187.85 L78.5939 1187.85 L78.5939 1179.7 L62.9921 1179.7 L62.9921 1175.19 L77.367 1153.29 Z\" fill=\"#000000\" fill-rule=\"evenodd\" fill-opacity=\"1\" /><path clip-path=\"url(#clip900)\" d=\"M 0 0 M103.247 1156.37 Q99.6354 1156.37 97.8068 1159.93 Q96.0012 1163.47 96.0012 1170.6 Q96.0012 1177.71 97.8068 1181.27 Q99.6354 1184.82 103.247 1184.82 Q106.881 1184.82 108.686 1181.27 Q110.515 1177.71 110.515 1170.6 Q110.515 1163.47 108.686 1159.93 Q106.881 1156.37 103.247 1156.37 M103.247 1152.66 Q109.057 1152.66 112.112 1157.27 Q115.191 1161.85 115.191 1170.6 Q115.191 1179.33 112.112 1183.94 Q109.057 1188.52 103.247 1188.52 Q97.4364 1188.52 94.3577 1183.94 Q91.3022 1179.33 91.3022 1170.6 Q91.3022 1161.85 94.3577 1157.27 Q97.4364 1152.66 103.247 1152.66 Z\" fill=\"#000000\" fill-rule=\"evenodd\" fill-opacity=\"1\" /><path clip-path=\"url(#clip900)\" d=\"M 0 0 M76.6495 1019.81 Q73.5013 1019.81 71.6495 1021.96 Q69.8208 1024.12 69.8208 1027.87 Q69.8208 1031.59 71.6495 1033.77 Q73.5013 1035.92 76.6495 1035.92 Q79.7976 1035.92 81.6263 1033.77 Q83.4781 1031.59 83.4781 1027.87 Q83.4781 1024.12 81.6263 1021.96 Q79.7976 1019.81 76.6495 1019.81 M85.9318 1005.16 L85.9318 1009.42 Q84.1726 1008.58 82.367 1008.14 Q80.5846 1007.7 78.8254 1007.7 Q74.1958 1007.7 71.7421 1010.83 Q69.3115 1013.95 68.9643 1020.27 Q70.33 1018.26 72.3902 1017.19 Q74.4504 1016.11 76.9272 1016.11 Q82.1355 1016.11 85.1448 1019.28 Q88.1772 1022.43 88.1772 1027.87 Q88.1772 1033.19 85.029 1036.41 Q81.8809 1039.63 76.6495 1039.63 Q70.6541 1039.63 67.4828 1035.04 Q64.3116 1030.44 64.3116 1021.71 Q64.3116 1013.51 68.2004 1008.65 Q72.0893 1003.77 78.6402 1003.77 Q80.3994 1003.77 82.1818 1004.12 Q83.9874 1004.46 85.9318 1005.16 Z\" fill=\"#000000\" fill-rule=\"evenodd\" fill-opacity=\"1\" /><path clip-path=\"url(#clip900)\" d=\"M 0 0 M103.247 1007.47 Q99.6354 1007.47 97.8068 1011.04 Q96.0012 1014.58 96.0012 1021.71 Q96.0012 1028.82 97.8068 1032.38 Q99.6354 1035.92 103.247 1035.92 Q106.881 1035.92 108.686 1032.38 Q110.515 1028.82 110.515 1021.71 Q110.515 1014.58 108.686 1011.04 Q106.881 1007.47 103.247 1007.47 M103.247 1003.77 Q109.057 1003.77 112.112 1008.38 Q115.191 1012.96 115.191 1021.71 Q115.191 1030.44 112.112 1035.04 Q109.057 1039.63 103.247 1039.63 Q97.4364 1039.63 94.3577 1035.04 Q91.3022 1030.44 91.3022 1021.71 Q91.3022 1012.96 94.3577 1008.38 Q97.4364 1003.77 103.247 1003.77 Z\" fill=\"#000000\" fill-rule=\"evenodd\" fill-opacity=\"1\" /><path clip-path=\"url(#clip900)\" d=\"M 0 0 M76.3254 873.648 Q72.9921 873.648 71.0708 875.43 Q69.1726 877.212 69.1726 880.337 Q69.1726 883.462 71.0708 885.245 Q72.9921 887.027 76.3254 887.027 Q79.6587 887.027 81.58 885.245 Q83.5013 883.439 83.5013 880.337 Q83.5013 877.212 81.58 875.43 Q79.6819 873.648 76.3254 873.648 M71.6495 871.657 Q68.6402 870.916 66.9504 868.856 Q65.2838 866.796 65.2838 863.833 Q65.2838 859.689 68.2236 857.282 Q71.1865 854.874 76.3254 854.874 Q81.4874 854.874 84.4272 857.282 Q87.367 859.689 87.367 863.833 Q87.367 866.796 85.6772 868.856 Q84.0105 870.916 81.0244 871.657 Q84.404 872.444 86.279 874.735 Q88.1772 877.027 88.1772 880.337 Q88.1772 885.36 85.0985 888.046 Q82.0429 890.731 76.3254 890.731 Q70.6078 890.731 67.5291 888.046 Q64.4736 885.36 64.4736 880.337 Q64.4736 877.027 66.3717 874.735 Q68.2699 872.444 71.6495 871.657 M69.9365 864.273 Q69.9365 866.958 71.6032 868.462 Q73.293 869.967 76.3254 869.967 Q79.3346 869.967 81.0244 868.462 Q82.7374 866.958 82.7374 864.273 Q82.7374 861.587 81.0244 860.083 Q79.3346 858.578 76.3254 858.578 Q73.293 858.578 71.6032 860.083 Q69.9365 861.587 69.9365 864.273 Z\" fill=\"#000000\" fill-rule=\"evenodd\" fill-opacity=\"1\" /><path clip-path=\"url(#clip900)\" d=\"M 0 0 M103.247 858.578 Q99.6354 858.578 97.8068 862.143 Q96.0012 865.685 96.0012 872.814 Q96.0012 879.921 97.8068 883.485 Q99.6354 887.027 103.247 887.027 Q106.881 887.027 108.686 883.485 Q110.515 879.921 110.515 872.814 Q110.515 865.685 108.686 862.143 Q106.881 858.578 103.247 858.578 M103.247 854.874 Q109.057 854.874 112.112 859.481 Q115.191 864.064 115.191 872.814 Q115.191 881.541 112.112 886.147 Q109.057 890.731 103.247 890.731 Q97.4364 890.731 94.3577 886.147 Q91.3022 881.541 91.3022 872.814 Q91.3022 864.064 94.3577 859.481 Q97.4364 854.874 103.247 854.874 Z\" fill=\"#000000\" fill-rule=\"evenodd\" fill-opacity=\"1\" /><polyline clip-path=\"url(#clip904)\" style=\"stroke:#009af9; stroke-width:4; stroke-opacity:1; fill:none\" points=\"\n",
       "  167.309,865.335 182.931,941.806 198.552,1010.76 214.173,1072.71 229.795,1128.15 245.416,1177.55 261.038,1221.36 276.659,1260.02 292.28,1293.96 307.902,1323.57 \n",
       "  323.523,1349.24 339.144,1371.34 354.766,1390.21 370.387,1406.18 386.008,1419.57 401.63,1430.67 417.251,1439.76 432.873,1447.09 448.494,1452.92 464.115,1457.46 \n",
       "  479.737,1460.91 495.358,1463.47 510.979,1465.31 526.601,1466.57 542.222,1467.39 557.843,1467.89 573.465,1468.17 589.086,1468.3 604.708,1468.35 620.329,1468.36 \n",
       "  635.95,1468.36 651.572,1468.36 667.193,1468.35 682.814,1468.3 698.436,1468.17 714.057,1467.89 729.679,1467.39 745.3,1466.57 760.921,1465.31 776.543,1463.47 \n",
       "  792.164,1460.91 807.785,1457.46 823.407,1452.92 839.028,1447.09 854.649,1439.76 870.271,1430.67 885.892,1419.57 901.514,1406.18 917.135,1390.21 932.756,1371.34 \n",
       "  948.378,1349.24 963.999,1323.57 979.62,1293.96 995.242,1260.02 1010.86,1221.36 1026.48,1177.55 1042.11,1128.15 1057.73,1072.71 1073.35,1010.76 1088.97,941.806 \n",
       "  1104.59,865.335 \n",
       "  \"/>\n",
       "<path clip-path=\"url(#clip900)\" d=\"\n",
       "M1359.24 1486.45 L2352.76 1486.45 L2352.76 847.244 L1359.24 847.244  Z\n",
       "  \" fill=\"#ffffff\" fill-rule=\"evenodd\" fill-opacity=\"1\"/>\n",
       "<defs>\n",
       "  <clipPath id=\"clip905\">\n",
       "    <rect x=\"1359\" y=\"847\" width=\"995\" height=\"640\"/>\n",
       "  </clipPath>\n",
       "</defs>\n",
       "<polyline clip-path=\"url(#clip905)\" style=\"stroke:#000000; stroke-width:2; stroke-opacity:0.1; fill:none\" points=\"\n",
       "  1387.36,1486.45 1387.36,847.244 \n",
       "  \"/>\n",
       "<polyline clip-path=\"url(#clip905)\" style=\"stroke:#000000; stroke-width:2; stroke-opacity:0.1; fill:none\" points=\"\n",
       "  1543.57,1486.45 1543.57,847.244 \n",
       "  \"/>\n",
       "<polyline clip-path=\"url(#clip905)\" style=\"stroke:#000000; stroke-width:2; stroke-opacity:0.1; fill:none\" points=\"\n",
       "  1699.78,1486.45 1699.78,847.244 \n",
       "  \"/>\n",
       "<polyline clip-path=\"url(#clip905)\" style=\"stroke:#000000; stroke-width:2; stroke-opacity:0.1; fill:none\" points=\"\n",
       "  1856,1486.45 1856,847.244 \n",
       "  \"/>\n",
       "<polyline clip-path=\"url(#clip905)\" style=\"stroke:#000000; stroke-width:2; stroke-opacity:0.1; fill:none\" points=\"\n",
       "  2012.21,1486.45 2012.21,847.244 \n",
       "  \"/>\n",
       "<polyline clip-path=\"url(#clip905)\" style=\"stroke:#000000; stroke-width:2; stroke-opacity:0.1; fill:none\" points=\"\n",
       "  2168.42,1486.45 2168.42,847.244 \n",
       "  \"/>\n",
       "<polyline clip-path=\"url(#clip905)\" style=\"stroke:#000000; stroke-width:2; stroke-opacity:0.1; fill:none\" points=\"\n",
       "  2324.64,1486.45 2324.64,847.244 \n",
       "  \"/>\n",
       "<polyline clip-path=\"url(#clip905)\" style=\"stroke:#000000; stroke-width:2; stroke-opacity:0.1; fill:none\" points=\"\n",
       "  1359.24,1415 2352.76,1415 \n",
       "  \"/>\n",
       "<polyline clip-path=\"url(#clip905)\" style=\"stroke:#000000; stroke-width:2; stroke-opacity:0.1; fill:none\" points=\"\n",
       "  1359.24,1290.92 2352.76,1290.92 \n",
       "  \"/>\n",
       "<polyline clip-path=\"url(#clip905)\" style=\"stroke:#000000; stroke-width:2; stroke-opacity:0.1; fill:none\" points=\"\n",
       "  1359.24,1166.85 2352.76,1166.85 \n",
       "  \"/>\n",
       "<polyline clip-path=\"url(#clip905)\" style=\"stroke:#000000; stroke-width:2; stroke-opacity:0.1; fill:none\" points=\"\n",
       "  1359.24,1042.77 2352.76,1042.77 \n",
       "  \"/>\n",
       "<polyline clip-path=\"url(#clip905)\" style=\"stroke:#000000; stroke-width:2; stroke-opacity:0.1; fill:none\" points=\"\n",
       "  1359.24,918.689 2352.76,918.689 \n",
       "  \"/>\n",
       "<polyline clip-path=\"url(#clip900)\" style=\"stroke:#000000; stroke-width:4; stroke-opacity:1; fill:none\" points=\"\n",
       "  1359.24,1486.45 2352.76,1486.45 \n",
       "  \"/>\n",
       "<polyline clip-path=\"url(#clip900)\" style=\"stroke:#000000; stroke-width:4; stroke-opacity:1; fill:none\" points=\"\n",
       "  1359.24,1486.45 1359.24,847.244 \n",
       "  \"/>\n",
       "<polyline clip-path=\"url(#clip900)\" style=\"stroke:#000000; stroke-width:4; stroke-opacity:1; fill:none\" points=\"\n",
       "  1387.36,1486.45 1387.36,1478.78 \n",
       "  \"/>\n",
       "<polyline clip-path=\"url(#clip900)\" style=\"stroke:#000000; stroke-width:4; stroke-opacity:1; fill:none\" points=\"\n",
       "  1543.57,1486.45 1543.57,1478.78 \n",
       "  \"/>\n",
       "<polyline clip-path=\"url(#clip900)\" style=\"stroke:#000000; stroke-width:4; stroke-opacity:1; fill:none\" points=\"\n",
       "  1699.78,1486.45 1699.78,1478.78 \n",
       "  \"/>\n",
       "<polyline clip-path=\"url(#clip900)\" style=\"stroke:#000000; stroke-width:4; stroke-opacity:1; fill:none\" points=\"\n",
       "  1856,1486.45 1856,1478.78 \n",
       "  \"/>\n",
       "<polyline clip-path=\"url(#clip900)\" style=\"stroke:#000000; stroke-width:4; stroke-opacity:1; fill:none\" points=\"\n",
       "  2012.21,1486.45 2012.21,1478.78 \n",
       "  \"/>\n",
       "<polyline clip-path=\"url(#clip900)\" style=\"stroke:#000000; stroke-width:4; stroke-opacity:1; fill:none\" points=\"\n",
       "  2168.42,1486.45 2168.42,1478.78 \n",
       "  \"/>\n",
       "<polyline clip-path=\"url(#clip900)\" style=\"stroke:#000000; stroke-width:4; stroke-opacity:1; fill:none\" points=\"\n",
       "  2324.64,1486.45 2324.64,1478.78 \n",
       "  \"/>\n",
       "<polyline clip-path=\"url(#clip900)\" style=\"stroke:#000000; stroke-width:4; stroke-opacity:1; fill:none\" points=\"\n",
       "  1359.24,1415 1371.16,1415 \n",
       "  \"/>\n",
       "<polyline clip-path=\"url(#clip900)\" style=\"stroke:#000000; stroke-width:4; stroke-opacity:1; fill:none\" points=\"\n",
       "  1359.24,1290.92 1371.16,1290.92 \n",
       "  \"/>\n",
       "<polyline clip-path=\"url(#clip900)\" style=\"stroke:#000000; stroke-width:4; stroke-opacity:1; fill:none\" points=\"\n",
       "  1359.24,1166.85 1371.16,1166.85 \n",
       "  \"/>\n",
       "<polyline clip-path=\"url(#clip900)\" style=\"stroke:#000000; stroke-width:4; stroke-opacity:1; fill:none\" points=\"\n",
       "  1359.24,1042.77 1371.16,1042.77 \n",
       "  \"/>\n",
       "<polyline clip-path=\"url(#clip900)\" style=\"stroke:#000000; stroke-width:4; stroke-opacity:1; fill:none\" points=\"\n",
       "  1359.24,918.689 1371.16,918.689 \n",
       "  \"/>\n",
       "<path clip-path=\"url(#clip900)\" d=\"M 0 0 M1367.93 1525.04 L1380.41 1525.04 L1380.41 1528.83 L1367.93 1528.83 L1367.93 1525.04 Z\" fill=\"#000000\" fill-rule=\"evenodd\" fill-opacity=\"1\" /><path clip-path=\"url(#clip900)\" d=\"M 0 0 M1399.65 1521.29 Q1403 1522 1404.88 1524.27 Q1406.78 1526.54 1406.78 1529.87 Q1406.78 1534.99 1403.26 1537.79 Q1399.74 1540.59 1393.26 1540.59 Q1391.08 1540.59 1388.77 1540.15 Q1386.48 1539.73 1384.02 1538.88 L1384.02 1534.36 Q1385.97 1535.5 1388.28 1536.08 Q1390.6 1536.66 1393.12 1536.66 Q1397.52 1536.66 1399.81 1534.92 Q1402.12 1533.18 1402.12 1529.87 Q1402.12 1526.82 1399.97 1525.11 Q1397.84 1523.37 1394.02 1523.37 L1389.99 1523.37 L1389.99 1519.53 L1394.21 1519.53 Q1397.66 1519.53 1399.49 1518.16 Q1401.31 1516.77 1401.31 1514.18 Q1401.31 1511.52 1399.42 1510.11 Q1397.54 1508.67 1394.02 1508.67 Q1392.1 1508.67 1389.9 1509.09 Q1387.7 1509.5 1385.06 1510.38 L1385.06 1506.22 Q1387.73 1505.48 1390.04 1505.11 Q1392.38 1504.73 1394.44 1504.73 Q1399.76 1504.73 1402.86 1507.17 Q1405.97 1509.57 1405.97 1513.69 Q1405.97 1516.56 1404.32 1518.55 Q1402.68 1520.52 1399.65 1521.29 Z\" fill=\"#000000\" fill-rule=\"evenodd\" fill-opacity=\"1\" /><path clip-path=\"url(#clip900)\" d=\"M 0 0 M1524.62 1525.04 L1537.1 1525.04 L1537.1 1528.83 L1524.62 1528.83 L1524.62 1525.04 Z\" fill=\"#000000\" fill-rule=\"evenodd\" fill-opacity=\"1\" /><path clip-path=\"url(#clip900)\" d=\"M 0 0 M1546.2 1535.98 L1562.52 1535.98 L1562.52 1539.92 L1540.57 1539.92 L1540.57 1535.98 Q1543.23 1533.23 1547.82 1528.6 Q1552.42 1523.95 1553.6 1522.61 Q1555.85 1520.08 1556.73 1518.35 Q1557.63 1516.59 1557.63 1514.9 Q1557.63 1512.14 1555.69 1510.41 Q1553.77 1508.67 1550.66 1508.67 Q1548.47 1508.67 1546.01 1509.43 Q1543.58 1510.2 1540.8 1511.75 L1540.8 1507.03 Q1543.63 1505.89 1546.08 1505.31 Q1548.53 1504.73 1550.57 1504.73 Q1555.94 1504.73 1559.14 1507.42 Q1562.33 1510.11 1562.33 1514.6 Q1562.33 1516.73 1561.52 1518.65 Q1560.73 1520.54 1558.63 1523.14 Q1558.05 1523.81 1554.95 1527.03 Q1551.84 1530.22 1546.2 1535.98 Z\" fill=\"#000000\" fill-rule=\"evenodd\" fill-opacity=\"1\" /><path clip-path=\"url(#clip900)\" d=\"M 0 0 M1680.65 1525.04 L1693.13 1525.04 L1693.13 1528.83 L1680.65 1528.83 L1680.65 1525.04 Z\" fill=\"#000000\" fill-rule=\"evenodd\" fill-opacity=\"1\" /><path clip-path=\"url(#clip900)\" d=\"M 0 0 M1699.01 1535.98 L1706.65 1535.98 L1706.65 1509.62 L1698.34 1511.29 L1698.34 1507.03 L1706.6 1505.36 L1711.28 1505.36 L1711.28 1535.98 L1718.91 1535.98 L1718.91 1539.92 L1699.01 1539.92 L1699.01 1535.98 Z\" fill=\"#000000\" fill-rule=\"evenodd\" fill-opacity=\"1\" /><path clip-path=\"url(#clip900)\" d=\"M 0 0 M1856 1508.44 Q1852.39 1508.44 1850.56 1512 Q1848.75 1515.55 1848.75 1522.67 Q1848.75 1529.78 1850.56 1533.35 Q1852.39 1536.89 1856 1536.89 Q1859.63 1536.89 1861.44 1533.35 Q1863.26 1529.78 1863.26 1522.67 Q1863.26 1515.55 1861.44 1512 Q1859.63 1508.44 1856 1508.44 M1856 1504.73 Q1861.81 1504.73 1864.86 1509.34 Q1867.94 1513.92 1867.94 1522.67 Q1867.94 1531.4 1864.86 1536.01 Q1861.81 1540.59 1856 1540.59 Q1850.19 1540.59 1847.11 1536.01 Q1844.05 1531.4 1844.05 1522.67 Q1844.05 1513.92 1847.11 1509.34 Q1850.19 1504.73 1856 1504.73 Z\" fill=\"#000000\" fill-rule=\"evenodd\" fill-opacity=\"1\" /><path clip-path=\"url(#clip900)\" d=\"M 0 0 M2002.59 1535.98 L2010.23 1535.98 L2010.23 1509.62 L2001.92 1511.29 L2001.92 1507.03 L2010.18 1505.36 L2014.86 1505.36 L2014.86 1535.98 L2022.5 1535.98 L2022.5 1539.92 L2002.59 1539.92 L2002.59 1535.98 Z\" fill=\"#000000\" fill-rule=\"evenodd\" fill-opacity=\"1\" /><path clip-path=\"url(#clip900)\" d=\"M 0 0 M2163.08 1535.98 L2179.4 1535.98 L2179.4 1539.92 L2157.45 1539.92 L2157.45 1535.98 Q2160.11 1533.23 2164.7 1528.6 Q2169.3 1523.95 2170.48 1522.61 Q2172.73 1520.08 2173.61 1518.35 Q2174.51 1516.59 2174.51 1514.9 Q2174.51 1512.14 2172.57 1510.41 Q2170.65 1508.67 2167.54 1508.67 Q2165.35 1508.67 2162.89 1509.43 Q2160.46 1510.2 2157.68 1511.75 L2157.68 1507.03 Q2160.51 1505.89 2162.96 1505.31 Q2165.41 1504.73 2167.45 1504.73 Q2172.82 1504.73 2176.02 1507.42 Q2179.21 1510.11 2179.21 1514.6 Q2179.21 1516.73 2178.4 1518.65 Q2177.61 1520.54 2175.51 1523.14 Q2174.93 1523.81 2171.83 1527.03 Q2168.72 1530.22 2163.08 1535.98 Z\" fill=\"#000000\" fill-rule=\"evenodd\" fill-opacity=\"1\" /><path clip-path=\"url(#clip900)\" d=\"M 0 0 M2328.89 1521.29 Q2332.24 1522 2334.12 1524.27 Q2336.01 1526.54 2336.01 1529.87 Q2336.01 1534.99 2332.5 1537.79 Q2328.98 1540.59 2322.5 1540.59 Q2320.32 1540.59 2318.01 1540.15 Q2315.71 1539.73 2313.26 1538.88 L2313.26 1534.36 Q2315.2 1535.5 2317.52 1536.08 Q2319.83 1536.66 2322.36 1536.66 Q2326.76 1536.66 2329.05 1534.92 Q2331.36 1533.18 2331.36 1529.87 Q2331.36 1526.82 2329.21 1525.11 Q2327.08 1523.37 2323.26 1523.37 L2319.23 1523.37 L2319.23 1519.53 L2323.45 1519.53 Q2326.89 1519.53 2328.72 1518.16 Q2330.55 1516.77 2330.55 1514.18 Q2330.55 1511.52 2328.65 1510.11 Q2326.78 1508.67 2323.26 1508.67 Q2321.34 1508.67 2319.14 1509.09 Q2316.94 1509.5 2314.3 1510.38 L2314.3 1506.22 Q2316.96 1505.48 2319.28 1505.11 Q2321.62 1504.73 2323.68 1504.73 Q2329 1504.73 2332.1 1507.17 Q2335.2 1509.57 2335.2 1513.69 Q2335.2 1516.56 2333.56 1518.55 Q2331.92 1520.52 2328.89 1521.29 Z\" fill=\"#000000\" fill-rule=\"evenodd\" fill-opacity=\"1\" /><path clip-path=\"url(#clip900)\" d=\"M 0 0 M1243.32 1417.4 L1255.79 1417.4 L1255.79 1421.2 L1243.32 1421.2 L1243.32 1417.4 Z\" fill=\"#000000\" fill-rule=\"evenodd\" fill-opacity=\"1\" /><path clip-path=\"url(#clip900)\" d=\"M 0 0 M1264.89 1428.35 L1281.21 1428.35 L1281.21 1432.28 L1259.27 1432.28 L1259.27 1428.35 Q1261.93 1425.59 1266.51 1420.96 Q1271.12 1416.31 1272.3 1414.97 Q1274.54 1412.45 1275.42 1410.71 Q1276.33 1408.95 1276.33 1407.26 Q1276.33 1404.51 1274.38 1402.77 Q1272.46 1401.03 1269.36 1401.03 Q1267.16 1401.03 1264.71 1401.8 Q1262.27 1402.56 1259.5 1404.11 L1259.5 1399.39 Q1262.32 1398.26 1264.77 1397.68 Q1267.23 1397.1 1269.27 1397.1 Q1274.64 1397.1 1277.83 1399.78 Q1281.02 1402.47 1281.02 1406.96 Q1281.02 1409.09 1280.21 1411.01 Q1279.43 1412.91 1277.32 1415.5 Q1276.74 1416.17 1273.64 1419.39 Q1270.54 1422.58 1264.89 1428.35 Z\" fill=\"#000000\" fill-rule=\"evenodd\" fill-opacity=\"1\" /><path clip-path=\"url(#clip900)\" d=\"M 0 0 M1296.28 1400.8 Q1292.67 1400.8 1290.84 1404.37 Q1289.03 1407.91 1289.03 1415.04 Q1289.03 1422.14 1290.84 1425.71 Q1292.67 1429.25 1296.28 1429.25 Q1299.91 1429.25 1301.72 1425.71 Q1303.55 1422.14 1303.55 1415.04 Q1303.55 1407.91 1301.72 1404.37 Q1299.91 1400.8 1296.28 1400.8 M1296.28 1397.1 Q1302.09 1397.1 1305.14 1401.7 Q1308.22 1406.29 1308.22 1415.04 Q1308.22 1423.76 1305.14 1428.37 Q1302.09 1432.95 1296.28 1432.95 Q1290.47 1432.95 1287.39 1428.37 Q1284.33 1423.76 1284.33 1415.04 Q1284.33 1406.29 1287.39 1401.7 Q1290.47 1397.1 1296.28 1397.1 Z\" fill=\"#000000\" fill-rule=\"evenodd\" fill-opacity=\"1\" /><path clip-path=\"url(#clip900)\" d=\"M 0 0 M1323.29 1400.8 Q1319.68 1400.8 1317.85 1404.37 Q1316.05 1407.91 1316.05 1415.04 Q1316.05 1422.14 1317.85 1425.71 Q1319.68 1429.25 1323.29 1429.25 Q1326.93 1429.25 1328.73 1425.71 Q1330.56 1422.14 1330.56 1415.04 Q1330.56 1407.91 1328.73 1404.37 Q1326.93 1400.8 1323.29 1400.8 M1323.29 1397.1 Q1329.1 1397.1 1332.16 1401.7 Q1335.24 1406.29 1335.24 1415.04 Q1335.24 1423.76 1332.16 1428.37 Q1329.1 1432.95 1323.29 1432.95 Q1317.48 1432.95 1314.4 1428.37 Q1311.35 1423.76 1311.35 1415.04 Q1311.35 1406.29 1314.4 1401.7 Q1317.48 1397.1 1323.29 1397.1 Z\" fill=\"#000000\" fill-rule=\"evenodd\" fill-opacity=\"1\" /><path clip-path=\"url(#clip900)\" d=\"M 0 0 M1242.95 1293.32 L1255.42 1293.32 L1255.42 1297.12 L1242.95 1297.12 L1242.95 1293.32 Z\" fill=\"#000000\" fill-rule=\"evenodd\" fill-opacity=\"1\" /><path clip-path=\"url(#clip900)\" d=\"M 0 0 M1261.3 1304.27 L1268.94 1304.27 L1268.94 1277.9 L1260.63 1279.57 L1260.63 1275.31 L1268.89 1273.64 L1273.57 1273.64 L1273.57 1304.27 L1281.21 1304.27 L1281.21 1308.2 L1261.3 1308.2 L1261.3 1304.27 Z\" fill=\"#000000\" fill-rule=\"evenodd\" fill-opacity=\"1\" /><path clip-path=\"url(#clip900)\" d=\"M 0 0 M1296.28 1276.72 Q1292.67 1276.72 1290.84 1280.29 Q1289.03 1283.83 1289.03 1290.96 Q1289.03 1298.07 1290.84 1301.63 Q1292.67 1305.17 1296.28 1305.17 Q1299.91 1305.17 1301.72 1301.63 Q1303.55 1298.07 1303.55 1290.96 Q1303.55 1283.83 1301.72 1280.29 Q1299.91 1276.72 1296.28 1276.72 M1296.28 1273.02 Q1302.09 1273.02 1305.14 1277.63 Q1308.22 1282.21 1308.22 1290.96 Q1308.22 1299.69 1305.14 1304.29 Q1302.09 1308.88 1296.28 1308.88 Q1290.47 1308.88 1287.39 1304.29 Q1284.33 1299.69 1284.33 1290.96 Q1284.33 1282.21 1287.39 1277.63 Q1290.47 1273.02 1296.28 1273.02 Z\" fill=\"#000000\" fill-rule=\"evenodd\" fill-opacity=\"1\" /><path clip-path=\"url(#clip900)\" d=\"M 0 0 M1323.29 1276.72 Q1319.68 1276.72 1317.85 1280.29 Q1316.05 1283.83 1316.05 1290.96 Q1316.05 1298.07 1317.85 1301.63 Q1319.68 1305.17 1323.29 1305.17 Q1326.93 1305.17 1328.73 1301.63 Q1330.56 1298.07 1330.56 1290.96 Q1330.56 1283.83 1328.73 1280.29 Q1326.93 1276.72 1323.29 1276.72 M1323.29 1273.02 Q1329.1 1273.02 1332.16 1277.63 Q1335.24 1282.21 1335.24 1290.96 Q1335.24 1299.69 1332.16 1304.29 Q1329.1 1308.88 1323.29 1308.88 Q1317.48 1308.88 1314.4 1304.29 Q1311.35 1299.69 1311.35 1290.96 Q1311.35 1282.21 1314.4 1277.63 Q1317.48 1273.02 1323.29 1273.02 Z\" fill=\"#000000\" fill-rule=\"evenodd\" fill-opacity=\"1\" /><path clip-path=\"url(#clip900)\" d=\"M 0 0 M1323.29 1152.64 Q1319.68 1152.64 1317.85 1156.21 Q1316.05 1159.75 1316.05 1166.88 Q1316.05 1173.99 1317.85 1177.55 Q1319.68 1181.09 1323.29 1181.09 Q1326.93 1181.09 1328.73 1177.55 Q1330.56 1173.99 1330.56 1166.88 Q1330.56 1159.75 1328.73 1156.21 Q1326.93 1152.64 1323.29 1152.64 M1323.29 1148.94 Q1329.1 1148.94 1332.16 1153.55 Q1335.24 1158.13 1335.24 1166.88 Q1335.24 1175.61 1332.16 1180.21 Q1329.1 1184.8 1323.29 1184.8 Q1317.48 1184.8 1314.4 1180.21 Q1311.35 1175.61 1311.35 1166.88 Q1311.35 1158.13 1314.4 1153.55 Q1317.48 1148.94 1323.29 1148.94 Z\" fill=\"#000000\" fill-rule=\"evenodd\" fill-opacity=\"1\" /><path clip-path=\"url(#clip900)\" d=\"M 0 0 M1261.3 1056.11 L1268.94 1056.11 L1268.94 1029.75 L1260.63 1031.41 L1260.63 1027.15 L1268.89 1025.49 L1273.57 1025.49 L1273.57 1056.11 L1281.21 1056.11 L1281.21 1060.05 L1261.3 1060.05 L1261.3 1056.11 Z\" fill=\"#000000\" fill-rule=\"evenodd\" fill-opacity=\"1\" /><path clip-path=\"url(#clip900)\" d=\"M 0 0 M1296.28 1028.57 Q1292.67 1028.57 1290.84 1032.13 Q1289.03 1035.67 1289.03 1042.8 Q1289.03 1049.91 1290.84 1053.47 Q1292.67 1057.01 1296.28 1057.01 Q1299.91 1057.01 1301.72 1053.47 Q1303.55 1049.91 1303.55 1042.8 Q1303.55 1035.67 1301.72 1032.13 Q1299.91 1028.57 1296.28 1028.57 M1296.28 1024.86 Q1302.09 1024.86 1305.14 1029.47 Q1308.22 1034.05 1308.22 1042.8 Q1308.22 1051.53 1305.14 1056.14 Q1302.09 1060.72 1296.28 1060.72 Q1290.47 1060.72 1287.39 1056.14 Q1284.33 1051.53 1284.33 1042.8 Q1284.33 1034.05 1287.39 1029.47 Q1290.47 1024.86 1296.28 1024.86 Z\" fill=\"#000000\" fill-rule=\"evenodd\" fill-opacity=\"1\" /><path clip-path=\"url(#clip900)\" d=\"M 0 0 M1323.29 1028.57 Q1319.68 1028.57 1317.85 1032.13 Q1316.05 1035.67 1316.05 1042.8 Q1316.05 1049.91 1317.85 1053.47 Q1319.68 1057.01 1323.29 1057.01 Q1326.93 1057.01 1328.73 1053.47 Q1330.56 1049.91 1330.56 1042.8 Q1330.56 1035.67 1328.73 1032.13 Q1326.93 1028.57 1323.29 1028.57 M1323.29 1024.86 Q1329.1 1024.86 1332.16 1029.47 Q1335.24 1034.05 1335.24 1042.8 Q1335.24 1051.53 1332.16 1056.14 Q1329.1 1060.72 1323.29 1060.72 Q1317.48 1060.72 1314.4 1056.14 Q1311.35 1051.53 1311.35 1042.8 Q1311.35 1034.05 1314.4 1029.47 Q1317.48 1024.86 1323.29 1024.86 Z\" fill=\"#000000\" fill-rule=\"evenodd\" fill-opacity=\"1\" /><path clip-path=\"url(#clip900)\" d=\"M 0 0 M1264.89 932.033 L1281.21 932.033 L1281.21 935.969 L1259.27 935.969 L1259.27 932.033 Q1261.93 929.279 1266.51 924.649 Q1271.12 919.996 1272.3 918.654 Q1274.54 916.131 1275.42 914.395 Q1276.33 912.635 1276.33 910.946 Q1276.33 908.191 1274.38 906.455 Q1272.46 904.719 1269.36 904.719 Q1267.16 904.719 1264.71 905.483 Q1262.27 906.247 1259.5 907.797 L1259.5 903.075 Q1262.32 901.941 1264.77 901.362 Q1267.23 900.784 1269.27 900.784 Q1274.64 900.784 1277.83 903.469 Q1281.02 906.154 1281.02 910.645 Q1281.02 912.774 1280.21 914.696 Q1279.43 916.594 1277.32 919.186 Q1276.74 919.858 1273.64 923.075 Q1270.54 926.27 1264.89 932.033 Z\" fill=\"#000000\" fill-rule=\"evenodd\" fill-opacity=\"1\" /><path clip-path=\"url(#clip900)\" d=\"M 0 0 M1296.28 904.487 Q1292.67 904.487 1290.84 908.052 Q1289.03 911.594 1289.03 918.723 Q1289.03 925.83 1290.84 929.395 Q1292.67 932.936 1296.28 932.936 Q1299.91 932.936 1301.72 929.395 Q1303.55 925.83 1303.55 918.723 Q1303.55 911.594 1301.72 908.052 Q1299.91 904.487 1296.28 904.487 M1296.28 900.784 Q1302.09 900.784 1305.14 905.39 Q1308.22 909.973 1308.22 918.723 Q1308.22 927.45 1305.14 932.057 Q1302.09 936.64 1296.28 936.64 Q1290.47 936.64 1287.39 932.057 Q1284.33 927.45 1284.33 918.723 Q1284.33 909.973 1287.39 905.39 Q1290.47 900.784 1296.28 900.784 Z\" fill=\"#000000\" fill-rule=\"evenodd\" fill-opacity=\"1\" /><path clip-path=\"url(#clip900)\" d=\"M 0 0 M1323.29 904.487 Q1319.68 904.487 1317.85 908.052 Q1316.05 911.594 1316.05 918.723 Q1316.05 925.83 1317.85 929.395 Q1319.68 932.936 1323.29 932.936 Q1326.93 932.936 1328.73 929.395 Q1330.56 925.83 1330.56 918.723 Q1330.56 911.594 1328.73 908.052 Q1326.93 904.487 1323.29 904.487 M1323.29 900.784 Q1329.1 900.784 1332.16 905.39 Q1335.24 909.973 1335.24 918.723 Q1335.24 927.45 1332.16 932.057 Q1329.1 936.64 1323.29 936.64 Q1317.48 936.64 1314.4 932.057 Q1311.35 927.45 1311.35 918.723 Q1311.35 909.973 1314.4 905.39 Q1317.48 900.784 1323.29 900.784 Z\" fill=\"#000000\" fill-rule=\"evenodd\" fill-opacity=\"1\" /><polyline clip-path=\"url(#clip905)\" style=\"stroke:#009af9; stroke-width:4; stroke-opacity:1; fill:none\" points=\"\n",
       "  1387.36,1468.36 1402.98,1421.35 1418.6,1380.39 1434.22,1344.89 1449.84,1314.27 1465.46,1288.02 1481.08,1265.65 1496.71,1246.71 1512.33,1230.79 1527.95,1217.52 \n",
       "  1543.57,1206.55 1559.19,1197.57 1574.81,1190.29 1590.43,1184.46 1606.05,1179.86 1621.68,1176.27 1637.3,1173.52 1652.92,1171.45 1668.54,1169.93 1684.16,1168.84 \n",
       "  1699.78,1168.09 1715.4,1167.58 1731.03,1167.25 1746.65,1167.05 1762.27,1166.94 1777.89,1166.88 1793.51,1166.86 1809.13,1166.85 1824.75,1166.85 1840.38,1166.85 \n",
       "  1856,1166.85 1871.62,1166.85 1887.24,1166.85 1902.86,1166.84 1918.48,1166.83 1934.1,1166.81 1949.72,1166.75 1965.35,1166.64 1980.97,1166.44 1996.59,1166.11 \n",
       "  2012.21,1165.61 2027.83,1164.85 2043.45,1163.76 2059.07,1162.24 2074.7,1160.17 2090.32,1157.42 2105.94,1153.84 2121.56,1149.23 2137.18,1143.4 2152.8,1136.12 \n",
       "  2168.42,1127.14 2184.05,1116.17 2199.67,1102.9 2215.29,1086.98 2230.91,1068.05 2246.53,1045.68 2262.15,1019.42 2277.77,988.807 2293.39,953.302 2309.02,912.346 \n",
       "  2324.64,865.335 \n",
       "  \"/>\n",
       "</svg>\n"
      ]
     },
     "execution_count": 12,
     "metadata": {},
     "output_type": "execute_result"
    }
   ],
   "source": [
    "gr()\n",
    "p1 = plot(x, x.^2, label=false)\n",
    "p2 = plot(x, x.^3, label=false)\n",
    "p3=  plot(x, x.^4, label=false)\n",
    "p4 = plot(x, x.^5, label=false)\n",
    "\n",
    "plot(p1,p2,p3,p4)\n"
   ]
  },
  {
   "cell_type": "code",
   "execution_count": 14,
   "metadata": {},
   "outputs": [
    {
     "name": "stdout",
     "output_type": "stream",
     "text": [
      "\u001b[32m\u001b[1m  Updating\u001b[22m\u001b[39m registry at `C:\\Users\\tangy\\.juliapro\\JuliaPro_v1.0.5-2\\registries\\General`\n",
      "\u001b[32m\u001b[1m  Updating\u001b[22m\u001b[39m git-repo `https://pkg.juliacomputing.com/registry/General`\n",
      "\u001b[2K\u001b[?25h[1mFetching:\u001b[22m\u001b[39m [========================================>]  100.0 %.0 %\u001b[36m\u001b[1mFetching:\u001b[22m\u001b[39m [=>                                       ]  0.6 % [=>                                       ]  1.5 %==>                                      ]  4.2 % % [====>                                    ]  8.9 %\u001b[36m\u001b[1mFetching:\u001b[22m\u001b[39m [====>                                    ]  9.8 %\u001b[36m\u001b[1mFetching:\u001b[22m\u001b[39m [======>                                  ]  12.9 %]  16.2 %.5 %>                                ]  17.7 %                                ]  17.8 %19.1 %]  20.5 %                               ]  21.7 %==========>                              ]  23.5 %                             ]  25.5 % [===========>                             ]  26.8 %===========>                             ]  27.2 %                            ]  28.2 %\u001b[36m\u001b[1mFetching:\u001b[22m\u001b[39m [============>                            ]  29.5 %                           ]  31.3 %\u001b[36m\u001b[1mFetching:\u001b[22m\u001b[39m [==============>                          ]  34.4 %==============>                          ]  35.0 % %]  48.6 %\u001b[36m\u001b[1mFetching:\u001b[22m\u001b[39m [======================>                  ]  52.6 %4 %.5 %                ]  58.3 % % [==========================>              ]  63.2 %============================>            ]  69.4 %72.1 %]  75.1 % %\u001b[36m\u001b[1mFetching:\u001b[22m\u001b[39m [====================================>    ]  89.8 %]  92.2 %> ]  96.5 %========================================>]  97.8 %]  99.2 %\u001b[32m\u001b[1m Resolving\u001b[22m\u001b[39m package versions...\n",
      "\u001b[32m\u001b[1m Installed\u001b[22m\u001b[39m TrajectoryOptimization ─ v0.4.1\n",
      "\u001b[32m\u001b[1m Installed\u001b[22m\u001b[39m WebSockets ───────────── v1.5.5\n",
      "\u001b[32m\u001b[1m Installed\u001b[22m\u001b[39m Requires ─────────────── v1.1.2\n",
      "\u001b[32m\u001b[1m Installed\u001b[22m\u001b[39m RobotDynamics ────────── v0.3.1\n",
      "\u001b[32m\u001b[1m Installed\u001b[22m\u001b[39m StaticArrays ─────────── v1.0.1\n",
      "\u001b[32m\u001b[1m Installed\u001b[22m\u001b[39m JuliaInterpreter ─────── v0.8.7\n",
      "\u001b[32m\u001b[1m  Updating\u001b[22m\u001b[39m `C:\\Users\\tangy\\.juliapro\\JuliaPro_v1.0.5-2\\environments\\v1.0\\Project.toml`\n",
      " \u001b[90m [c79d492b]\u001b[39m\u001b[93m ↑ TrajectoryOptimization v0.4.0 ⇒ v0.4.1\u001b[39m\n",
      "\u001b[32m\u001b[1m  Updating\u001b[22m\u001b[39m `C:\\Users\\tangy\\.juliapro\\JuliaPro_v1.0.5-2\\environments\\v1.0\\Manifest.toml`\n",
      " \u001b[90m [aa1ae85d]\u001b[39m\u001b[93m ↑ JuliaInterpreter v0.8.6 ⇒ v0.8.7\u001b[39m\n",
      " \u001b[90m [ae029012]\u001b[39m\u001b[93m ↑ Requires v1.1.1 ⇒ v1.1.2\u001b[39m\n",
      " \u001b[90m [38ceca67]\u001b[39m\u001b[93m ↑ RobotDynamics v0.3.0 ⇒ v0.3.1\u001b[39m\n",
      " \u001b[90m [90137ffa]\u001b[39m\u001b[93m ↑ StaticArrays v0.12.5 ⇒ v1.0.1\u001b[39m\n",
      " \u001b[90m [c79d492b]\u001b[39m\u001b[93m ↑ TrajectoryOptimization v0.4.0 ⇒ v0.4.1\u001b[39m\n",
      " \u001b[90m [104b5d7c]\u001b[39m\u001b[93m ↑ WebSockets v1.5.2 ⇒ v1.5.5\u001b[39m\n",
      "\u001b[32m\u001b[1m    Status\u001b[22m\u001b[39m `C:\\Users\\tangy\\.juliapro\\JuliaPro_v1.0.5-2\\environments\\v1.0\\Project.toml`\n",
      " \u001b[90m [c52e3926]\u001b[39m\u001b[37m Atom v0.12.28\u001b[39m\n",
      " \u001b[90m [7876af07]\u001b[39m\u001b[37m Example v0.5.3\u001b[39m\n",
      " \u001b[90m [7073ff75]\u001b[39m\u001b[37m IJulia v1.23.1\u001b[39m\n",
      " \u001b[90m [682c06a0]\u001b[39m\u001b[37m JSON v0.21.1\u001b[39m\n",
      " \u001b[90m [e5e0dc1b]\u001b[39m\u001b[37m Juno v0.8.4\u001b[39m\n",
      " \u001b[90m [91a5bcdd]\u001b[39m\u001b[37m Plots v1.4.3\u001b[39m\n",
      " \u001b[90m [c79d492b]\u001b[39m\u001b[37m TrajectoryOptimization v0.4.1\u001b[39m\n"
     ]
    }
   ],
   "source": [
    "using Pkg\n",
    "Pkg.update()\n",
    "Pkg.status()"
   ]
  },
  {
   "cell_type": "markdown",
   "metadata": {},
   "source": [
    "Multiple Dispatch"
   ]
  },
  {
   "cell_type": "code",
   "execution_count": 15,
   "metadata": {
    "collapsed": true
   },
   "outputs": [
    {
     "data": {
      "text/html": [
       "217 methods for generic function <b>+</b>:<ul><li> +(x::<b>Bool</b>, z::<b>Complex{Bool}</b>) in Base at <a href=\"https://github.com/JuliaLang/julia/tree/3af96bcefcb0aec559d4652fd75e1bc3fcfe99da/base/complex.jl#L277\" target=\"_blank\">complex.jl:277</a></li> <li> +(x::<b>Bool</b>, y::<b>Bool</b>) in Base at <a href=\"https://github.com/JuliaLang/julia/tree/3af96bcefcb0aec559d4652fd75e1bc3fcfe99da/base/bool.jl#L104\" target=\"_blank\">bool.jl:104</a></li> <li> +(x::<b>Bool</b>) in Base at <a href=\"https://github.com/JuliaLang/julia/tree/3af96bcefcb0aec559d4652fd75e1bc3fcfe99da/base/bool.jl#L101\" target=\"_blank\">bool.jl:101</a></li> <li> +<i>{T<:AbstractFloat}</i>(x::<b>Bool</b>, y::<b>T</b>) in Base at <a href=\"https://github.com/JuliaLang/julia/tree/3af96bcefcb0aec559d4652fd75e1bc3fcfe99da/base/bool.jl#L112\" target=\"_blank\">bool.jl:112</a></li> <li> +(x::<b>Bool</b>, z::<b>Complex</b>) in Base at <a href=\"https://github.com/JuliaLang/julia/tree/3af96bcefcb0aec559d4652fd75e1bc3fcfe99da/base/complex.jl#L284\" target=\"_blank\">complex.jl:284</a></li> <li> +(a::<b>Float16</b>, b::<b>Float16</b>) in Base at <a href=\"https://github.com/JuliaLang/julia/tree/3af96bcefcb0aec559d4652fd75e1bc3fcfe99da/base/float.jl#L392\" target=\"_blank\">float.jl:392</a></li> <li> +(x::<b>Float32</b>, y::<b>Float32</b>) in Base at <a href=\"https://github.com/JuliaLang/julia/tree/3af96bcefcb0aec559d4652fd75e1bc3fcfe99da/base/float.jl#L394\" target=\"_blank\">float.jl:394</a></li> <li> +(x::<b>Float64</b>, y::<b>Float64</b>) in Base at <a href=\"https://github.com/JuliaLang/julia/tree/3af96bcefcb0aec559d4652fd75e1bc3fcfe99da/base/float.jl#L395\" target=\"_blank\">float.jl:395</a></li> <li> +(z::<b>Complex{Bool}</b>, x::<b>Bool</b>) in Base at <a href=\"https://github.com/JuliaLang/julia/tree/3af96bcefcb0aec559d4652fd75e1bc3fcfe99da/base/complex.jl#L278\" target=\"_blank\">complex.jl:278</a></li> <li> +(z::<b>Complex{Bool}</b>, x::<b>Real</b>) in Base at <a href=\"https://github.com/JuliaLang/julia/tree/3af96bcefcb0aec559d4652fd75e1bc3fcfe99da/base/complex.jl#L292\" target=\"_blank\">complex.jl:292</a></li> <li> +(::<b>Missing</b>, ::<b>Missing</b>) in Base at <a href=\"https://github.com/JuliaLang/julia/tree/3af96bcefcb0aec559d4652fd75e1bc3fcfe99da/base/missing.jl#L92\" target=\"_blank\">missing.jl:92</a></li> <li> +(::<b>Missing</b>) in Base at <a href=\"https://github.com/JuliaLang/julia/tree/3af96bcefcb0aec559d4652fd75e1bc3fcfe99da/base/missing.jl#L79\" target=\"_blank\">missing.jl:79</a></li> <li> +(::<b>Missing</b>, ::<b>Number</b>) in Base at <a href=\"https://github.com/JuliaLang/julia/tree/3af96bcefcb0aec559d4652fd75e1bc3fcfe99da/base/missing.jl#L93\" target=\"_blank\">missing.jl:93</a></li> <li> +(level::<b>Base.CoreLogging.LogLevel</b>, inc::<b>Integer</b>) in Base.CoreLogging at <a href=\"https://github.com/JuliaLang/julia/tree/3af96bcefcb0aec559d4652fd75e1bc3fcfe99da/base/logging.jl#L106\" target=\"_blank\">logging.jl:106</a></li> <li> +(c::<b>BigInt</b>, x::<b>BigFloat</b>) in Base.MPFR at <a href=\"https://github.com/JuliaLang/julia/tree/3af96bcefcb0aec559d4652fd75e1bc3fcfe99da/base/mpfr.jl#L353\" target=\"_blank\">mpfr.jl:353</a></li> <li> +(a::<b>BigInt</b>, b::<b>BigInt</b>, c::<b>BigInt</b>, d::<b>BigInt</b>, e::<b>BigInt</b>) in Base.GMP at <a href=\"https://github.com/JuliaLang/julia/tree/3af96bcefcb0aec559d4652fd75e1bc3fcfe99da/base/gmp.jl#L443\" target=\"_blank\">gmp.jl:443</a></li> <li> +(a::<b>BigInt</b>, b::<b>BigInt</b>, c::<b>BigInt</b>, d::<b>BigInt</b>) in Base.GMP at <a href=\"https://github.com/JuliaLang/julia/tree/3af96bcefcb0aec559d4652fd75e1bc3fcfe99da/base/gmp.jl#L442\" target=\"_blank\">gmp.jl:442</a></li> <li> +(a::<b>BigInt</b>, b::<b>BigInt</b>, c::<b>BigInt</b>) in Base.GMP at <a href=\"https://github.com/JuliaLang/julia/tree/3af96bcefcb0aec559d4652fd75e1bc3fcfe99da/base/gmp.jl#L441\" target=\"_blank\">gmp.jl:441</a></li> <li> +(x::<b>BigInt</b>, y::<b>BigInt</b>) in Base.GMP at <a href=\"https://github.com/JuliaLang/julia/tree/3af96bcefcb0aec559d4652fd75e1bc3fcfe99da/base/gmp.jl#L412\" target=\"_blank\">gmp.jl:412</a></li> <li> +(x::<b>BigInt</b>, c::<b>Union{UInt16, UInt32, UInt8}</b>) in Base.GMP at <a href=\"https://github.com/JuliaLang/julia/tree/3af96bcefcb0aec559d4652fd75e1bc3fcfe99da/base/gmp.jl#L449\" target=\"_blank\">gmp.jl:449</a></li> <li> +(x::<b>BigInt</b>, c::<b>Union{Int16, Int32, Int8}</b>) in Base.GMP at <a href=\"https://github.com/JuliaLang/julia/tree/3af96bcefcb0aec559d4652fd75e1bc3fcfe99da/base/gmp.jl#L455\" target=\"_blank\">gmp.jl:455</a></li> <li> +(a::<b>BigFloat</b>, b::<b>BigFloat</b>, c::<b>BigFloat</b>, d::<b>BigFloat</b>, e::<b>BigFloat</b>) in Base.MPFR at <a href=\"https://github.com/JuliaLang/julia/tree/3af96bcefcb0aec559d4652fd75e1bc3fcfe99da/base/mpfr.jl#L503\" target=\"_blank\">mpfr.jl:503</a></li> <li> +(a::<b>BigFloat</b>, b::<b>BigFloat</b>, c::<b>BigFloat</b>, d::<b>BigFloat</b>) in Base.MPFR at <a href=\"https://github.com/JuliaLang/julia/tree/3af96bcefcb0aec559d4652fd75e1bc3fcfe99da/base/mpfr.jl#L496\" target=\"_blank\">mpfr.jl:496</a></li> <li> +(a::<b>BigFloat</b>, b::<b>BigFloat</b>, c::<b>BigFloat</b>) in Base.MPFR at <a href=\"https://github.com/JuliaLang/julia/tree/3af96bcefcb0aec559d4652fd75e1bc3fcfe99da/base/mpfr.jl#L490\" target=\"_blank\">mpfr.jl:490</a></li> <li> +(x::<b>BigFloat</b>, c::<b>BigInt</b>) in Base.MPFR at <a href=\"https://github.com/JuliaLang/julia/tree/3af96bcefcb0aec559d4652fd75e1bc3fcfe99da/base/mpfr.jl#L349\" target=\"_blank\">mpfr.jl:349</a></li> <li> +(x::<b>BigFloat</b>, y::<b>BigFloat</b>) in Base.MPFR at <a href=\"https://github.com/JuliaLang/julia/tree/3af96bcefcb0aec559d4652fd75e1bc3fcfe99da/base/mpfr.jl#L318\" target=\"_blank\">mpfr.jl:318</a></li> <li> +(x::<b>BigFloat</b>, c::<b>Union{UInt16, UInt32, UInt8}</b>) in Base.MPFR at <a href=\"https://github.com/JuliaLang/julia/tree/3af96bcefcb0aec559d4652fd75e1bc3fcfe99da/base/mpfr.jl#L325\" target=\"_blank\">mpfr.jl:325</a></li> <li> +(x::<b>BigFloat</b>, c::<b>Union{Int16, Int32, Int8}</b>) in Base.MPFR at <a href=\"https://github.com/JuliaLang/julia/tree/3af96bcefcb0aec559d4652fd75e1bc3fcfe99da/base/mpfr.jl#L333\" target=\"_blank\">mpfr.jl:333</a></li> <li> +(x::<b>BigFloat</b>, c::<b>Union{Float16, Float32, Float64}</b>) in Base.MPFR at <a href=\"https://github.com/JuliaLang/julia/tree/3af96bcefcb0aec559d4652fd75e1bc3fcfe99da/base/mpfr.jl#L341\" target=\"_blank\">mpfr.jl:341</a></li> <li> +(x::<b>Dates.CompoundPeriod</b>, y::<b>Dates.CompoundPeriod</b>) in Dates at <a href=\"file://C:/Users/julia/AppData/Local/Julia-1.0.5/share/julia/stdlib/v1.0/Dates/src/periods.jl\" target=\"_blank\">C:\\Users\\julia\\AppData\\Local\\Julia-1.0.5\\share\\julia\\stdlib\\v1.0\\Dates\\src\\periods.jl:355</a></li> <li> +(x::<b>Dates.CompoundPeriod</b>, y::<b>Dates.Period</b>) in Dates at <a href=\"file://C:/Users/julia/AppData/Local/Julia-1.0.5/share/julia/stdlib/v1.0/Dates/src/periods.jl\" target=\"_blank\">C:\\Users\\julia\\AppData\\Local\\Julia-1.0.5\\share\\julia\\stdlib\\v1.0\\Dates\\src\\periods.jl:353</a></li> <li> +(x::<b>Dates.CompoundPeriod</b>, y::<b>Dates.TimeType</b>) in Dates at <a href=\"file://C:/Users/julia/AppData/Local/Julia-1.0.5/share/julia/stdlib/v1.0/Dates/src/periods.jl\" target=\"_blank\">C:\\Users\\julia\\AppData\\Local\\Julia-1.0.5\\share\\julia\\stdlib\\v1.0\\Dates\\src\\periods.jl:391</a></li> <li> +(x::<b>Dates.Date</b>, y::<b>Dates.Day</b>) in Dates at <a href=\"file://C:/Users/julia/AppData/Local/Julia-1.0.5/share/julia/stdlib/v1.0/Dates/src/arithmetic.jl\" target=\"_blank\">C:\\Users\\julia\\AppData\\Local\\Julia-1.0.5\\share\\julia\\stdlib\\v1.0\\Dates\\src\\arithmetic.jl:78</a></li> <li> +(x::<b>Dates.Date</b>, y::<b>Dates.Week</b>) in Dates at <a href=\"file://C:/Users/julia/AppData/Local/Julia-1.0.5/share/julia/stdlib/v1.0/Dates/src/arithmetic.jl\" target=\"_blank\">C:\\Users\\julia\\AppData\\Local\\Julia-1.0.5\\share\\julia\\stdlib\\v1.0\\Dates\\src\\arithmetic.jl:76</a></li> <li> +(dt::<b>Dates.Date</b>, z::<b>Dates.Month</b>) in Dates at <a href=\"file://C:/Users/julia/AppData/Local/Julia-1.0.5/share/julia/stdlib/v1.0/Dates/src/arithmetic.jl\" target=\"_blank\">C:\\Users\\julia\\AppData\\Local\\Julia-1.0.5\\share\\julia\\stdlib\\v1.0\\Dates\\src\\arithmetic.jl:59</a></li> <li> +(dt::<b>Dates.Date</b>, y::<b>Dates.Year</b>) in Dates at <a href=\"file://C:/Users/julia/AppData/Local/Julia-1.0.5/share/julia/stdlib/v1.0/Dates/src/arithmetic.jl\" target=\"_blank\">C:\\Users\\julia\\AppData\\Local\\Julia-1.0.5\\share\\julia\\stdlib\\v1.0\\Dates\\src\\arithmetic.jl:32</a></li> <li> +(dt::<b>Dates.Date</b>, t::<b>Dates.Time</b>) in Dates at <a href=\"file://C:/Users/julia/AppData/Local/Julia-1.0.5/share/julia/stdlib/v1.0/Dates/src/arithmetic.jl\" target=\"_blank\">C:\\Users\\julia\\AppData\\Local\\Julia-1.0.5\\share\\julia\\stdlib\\v1.0\\Dates\\src\\arithmetic.jl:20</a></li> <li> +(t::<b>Dates.Time</b>, dt::<b>Dates.Date</b>) in Dates at <a href=\"file://C:/Users/julia/AppData/Local/Julia-1.0.5/share/julia/stdlib/v1.0/Dates/src/arithmetic.jl\" target=\"_blank\">C:\\Users\\julia\\AppData\\Local\\Julia-1.0.5\\share\\julia\\stdlib\\v1.0\\Dates\\src\\arithmetic.jl:24</a></li> <li> +(x::<b>Dates.Time</b>, y::<b>Dates.TimePeriod</b>) in Dates at <a href=\"file://C:/Users/julia/AppData/Local/Julia-1.0.5/share/julia/stdlib/v1.0/Dates/src/arithmetic.jl\" target=\"_blank\">C:\\Users\\julia\\AppData\\Local\\Julia-1.0.5\\share\\julia\\stdlib\\v1.0\\Dates\\src\\arithmetic.jl:82</a></li> <li> +(dt::<b>Dates.DateTime</b>, z::<b>Dates.Month</b>) in Dates at <a href=\"file://C:/Users/julia/AppData/Local/Julia-1.0.5/share/julia/stdlib/v1.0/Dates/src/arithmetic.jl\" target=\"_blank\">C:\\Users\\julia\\AppData\\Local\\Julia-1.0.5\\share\\julia\\stdlib\\v1.0\\Dates\\src\\arithmetic.jl:52</a></li> <li> +(dt::<b>Dates.DateTime</b>, y::<b>Dates.Year</b>) in Dates at <a href=\"file://C:/Users/julia/AppData/Local/Julia-1.0.5/share/julia/stdlib/v1.0/Dates/src/arithmetic.jl\" target=\"_blank\">C:\\Users\\julia\\AppData\\Local\\Julia-1.0.5\\share\\julia\\stdlib\\v1.0\\Dates\\src\\arithmetic.jl:28</a></li> <li> +(x::<b>Dates.DateTime</b>, y::<b>Dates.Period</b>) in Dates at <a href=\"file://C:/Users/julia/AppData/Local/Julia-1.0.5/share/julia/stdlib/v1.0/Dates/src/arithmetic.jl\" target=\"_blank\">C:\\Users\\julia\\AppData\\Local\\Julia-1.0.5\\share\\julia\\stdlib\\v1.0\\Dates\\src\\arithmetic.jl:80</a></li> <li> +(B::<b>BitArray{2}</b>, J::<b>LinearAlgebra.UniformScaling</b>) in LinearAlgebra at <a href=\"file://C:/Users/julia/AppData/Local/Julia-1.0.5/share/julia/stdlib/v1.0/LinearAlgebra/src/uniformscaling.jl\" target=\"_blank\">C:\\Users\\julia\\AppData\\Local\\Julia-1.0.5\\share\\julia\\stdlib\\v1.0\\LinearAlgebra\\src\\uniformscaling.jl:88</a></li> <li> +(a::<b>Pkg.Resolve.VersionWeights.VersionWeight</b>, b::<b>Pkg.Resolve.VersionWeights.VersionWeight</b>) in Pkg.Resolve.VersionWeights at <a href=\"file://C:/Users/julia/AppData/Local/Julia-1.0.5/share/julia/stdlib/v1.0/Pkg/src/resolve/VersionWeights.jl\" target=\"_blank\">C:\\Users\\julia\\AppData\\Local\\Julia-1.0.5\\share\\julia\\stdlib\\v1.0\\Pkg\\src\\resolve\\VersionWeights.jl:26</a></li> <li> +(a::<b>Pkg.Resolve.MaxSum.FieldValues.FieldValue</b>, b::<b>Pkg.Resolve.MaxSum.FieldValues.FieldValue</b>) in Pkg.Resolve.MaxSum.FieldValues at <a href=\"file://C:/Users/julia/AppData/Local/Julia-1.0.5/share/julia/stdlib/v1.0/Pkg/src/resolve/FieldValues.jl\" target=\"_blank\">C:\\Users\\julia\\AppData\\Local\\Julia-1.0.5\\share\\julia\\stdlib\\v1.0\\Pkg\\src\\resolve\\FieldValues.jl:49</a></li> <li> +(z::<b>MutableArithmetics.Zero</b>, ::<b>MutableArithmetics.Zero</b>) in MutableArithmetics at <a href=\"file://C:/Users/tangy/.juliapro/JuliaPro_v1.0.5-2/packages/MutableArithmetics/0tlz5/src/rewrite.jl\" target=\"_blank\">C:\\Users\\tangy\\.juliapro\\JuliaPro_v1.0.5-2\\packages\\MutableArithmetics\\0tlz5\\src\\rewrite.jl:54</a></li> <li> +(::<b>MutableArithmetics.Zero</b>, x) in MutableArithmetics at <a href=\"file://C:/Users/tangy/.juliapro/JuliaPro_v1.0.5-2/packages/MutableArithmetics/0tlz5/src/rewrite.jl\" target=\"_blank\">C:\\Users\\tangy\\.juliapro\\JuliaPro_v1.0.5-2\\packages\\MutableArithmetics\\0tlz5\\src\\rewrite.jl:52</a></li> <li> +(f::<b>MathOptInterface.SingleVariable</b>, α::<b>Number</b>) in MathOptInterface.Utilities at <a href=\"file://C:/Users/tangy/.juliapro/JuliaPro_v1.0.5-2/packages/MathOptInterface/ZJFKw/src/Utilities/functions.jl\" target=\"_blank\">C:\\Users\\tangy\\.juliapro\\JuliaPro_v1.0.5-2\\packages\\MathOptInterface\\ZJFKw\\src\\Utilities\\functions.jl:1141</a></li> <li> +(y::<b>AbstractFloat</b>, x::<b>Bool</b>) in Base at <a href=\"https://github.com/JuliaLang/julia/tree/3af96bcefcb0aec559d4652fd75e1bc3fcfe99da/base/bool.jl#L114\" target=\"_blank\">bool.jl:114</a></li> <li> +<i>{T<:Union{Int128, Int16, Int32, Int64, Int8, UInt128, UInt16, UInt32, UInt64, UInt8}}</i>(x::<b>T</b>, y::<b>T</b>) in Base at <a href=\"https://github.com/JuliaLang/julia/tree/3af96bcefcb0aec559d4652fd75e1bc3fcfe99da/base/int.jl#L53\" target=\"_blank\">int.jl:53</a></li> <li> +(c::<b>Union{UInt16, UInt32, UInt8}</b>, x::<b>BigInt</b>) in Base.GMP at <a href=\"https://github.com/JuliaLang/julia/tree/3af96bcefcb0aec559d4652fd75e1bc3fcfe99da/base/gmp.jl#L450\" target=\"_blank\">gmp.jl:450</a></li> <li> +(c::<b>Union{Int16, Int32, Int8}</b>, x::<b>BigInt</b>) in Base.GMP at <a href=\"https://github.com/JuliaLang/julia/tree/3af96bcefcb0aec559d4652fd75e1bc3fcfe99da/base/gmp.jl#L456\" target=\"_blank\">gmp.jl:456</a></li> <li> +<i>{O}</i>(x::<b>GeometryTypes.OffsetInteger{O,T} where T<:Integer</b>, y::<b>GeometryTypes.OffsetInteger{O,T} where T<:Integer</b>) in GeometryTypes at <a href=\"file://C:/Users/tangy/.juliapro/JuliaPro_v1.0.5-2/packages/GeometryTypes/Xxur0/src/faces.jl\" target=\"_blank\">C:\\Users\\tangy\\.juliapro\\JuliaPro_v1.0.5-2\\packages\\GeometryTypes\\Xxur0\\src\\faces.jl:32</a></li> <li> +(a::<b>Integer</b>, b::<b>Integer</b>) in Base at <a href=\"https://github.com/JuliaLang/julia/tree/3af96bcefcb0aec559d4652fd75e1bc3fcfe99da/base/int.jl#L800\" target=\"_blank\">int.jl:800</a></li> <li> +(x::<b>Integer</b>, y::<b>Ptr</b>) in Base at <a href=\"https://github.com/JuliaLang/julia/tree/3af96bcefcb0aec559d4652fd75e1bc3fcfe99da/base/pointer.jl#L157\" target=\"_blank\">pointer.jl:157</a></li> <li> +(z::<b>Complex</b>, w::<b>Complex</b>) in Base at <a href=\"https://github.com/JuliaLang/julia/tree/3af96bcefcb0aec559d4652fd75e1bc3fcfe99da/base/complex.jl#L266\" target=\"_blank\">complex.jl:266</a></li> <li> +(z::<b>Complex</b>, x::<b>Bool</b>) in Base at <a href=\"https://github.com/JuliaLang/julia/tree/3af96bcefcb0aec559d4652fd75e1bc3fcfe99da/base/complex.jl#L285\" target=\"_blank\">complex.jl:285</a></li> <li> +(x::<b>Real</b>, z::<b>Complex{Bool}</b>) in Base at <a href=\"https://github.com/JuliaLang/julia/tree/3af96bcefcb0aec559d4652fd75e1bc3fcfe99da/base/complex.jl#L291\" target=\"_blank\">complex.jl:291</a></li> <li> +(x::<b>Real</b>, z::<b>Complex</b>) in Base at <a href=\"https://github.com/JuliaLang/julia/tree/3af96bcefcb0aec559d4652fd75e1bc3fcfe99da/base/complex.jl#L303\" target=\"_blank\">complex.jl:303</a></li> <li> +(z::<b>Complex</b>, x::<b>Real</b>) in Base at <a href=\"https://github.com/JuliaLang/julia/tree/3af96bcefcb0aec559d4652fd75e1bc3fcfe99da/base/complex.jl#L304\" target=\"_blank\">complex.jl:304</a></li> <li> +(x::<b>Rational</b>, y::<b>Rational</b>) in Base at <a href=\"https://github.com/JuliaLang/julia/tree/3af96bcefcb0aec559d4652fd75e1bc3fcfe99da/base/rational.jl#L252\" target=\"_blank\">rational.jl:252</a></li> <li> +(x::<b>Integer</b>, y::<b>AbstractChar</b>) in Base at <a href=\"https://github.com/JuliaLang/julia/tree/3af96bcefcb0aec559d4652fd75e1bc3fcfe99da/base/char.jl#L208\" target=\"_blank\">char.jl:208</a></li> <li> +(c::<b>Union{UInt16, UInt32, UInt8}</b>, x::<b>BigFloat</b>) in Base.MPFR at <a href=\"https://github.com/JuliaLang/julia/tree/3af96bcefcb0aec559d4652fd75e1bc3fcfe99da/base/mpfr.jl#L329\" target=\"_blank\">mpfr.jl:329</a></li> <li> +(c::<b>Union{Int16, Int32, Int8}</b>, x::<b>BigFloat</b>) in Base.MPFR at <a href=\"https://github.com/JuliaLang/julia/tree/3af96bcefcb0aec559d4652fd75e1bc3fcfe99da/base/mpfr.jl#L337\" target=\"_blank\">mpfr.jl:337</a></li> <li> +(c::<b>Union{Float16, Float32, Float64}</b>, x::<b>BigFloat</b>) in Base.MPFR at <a href=\"https://github.com/JuliaLang/julia/tree/3af96bcefcb0aec559d4652fd75e1bc3fcfe99da/base/mpfr.jl#L345\" target=\"_blank\">mpfr.jl:345</a></li> <li> +(x::<b>AbstractIrrational</b>, y::<b>AbstractIrrational</b>) in Base at <a href=\"https://github.com/JuliaLang/julia/tree/3af96bcefcb0aec559d4652fd75e1bc3fcfe99da/base/irrationals.jl#L133\" target=\"_blank\">irrationals.jl:133</a></li> <li> +<i>{Txy}</i>(x::<b>ForwardDiff.Dual{Txy,V,N} where N where V</b>, y::<b>ForwardDiff.Dual{Txy,V,N} where N where V</b>) in ForwardDiff at <a href=\"file://C:/Users/tangy/.juliapro/JuliaPro_v1.0.5-2/packages/ForwardDiff/qTmqf/src/dual.jl\" target=\"_blank\">C:\\Users\\tangy\\.juliapro\\JuliaPro_v1.0.5-2\\packages\\ForwardDiff\\qTmqf\\src\\dual.jl:134</a></li> <li> +<i>{Tx, Ty}</i>(x::<b>ForwardDiff.Dual{Tx,V,N} where N where V</b>, y::<b>ForwardDiff.Dual{Ty,V,N} where N where V</b>) in ForwardDiff at <a href=\"file://C:/Users/tangy/.juliapro/JuliaPro_v1.0.5-2/packages/ForwardDiff/qTmqf/src/dual.jl\" target=\"_blank\">C:\\Users\\tangy\\.juliapro\\JuliaPro_v1.0.5-2\\packages\\ForwardDiff\\qTmqf\\src\\dual.jl:135</a></li> <li> +<i>{Tx}</i>(x::<b>ForwardDiff.Dual{Tx,V,N} where N where V</b>, y::<b>AbstractFloat</b>) in ForwardDiff at <a href=\"file://C:/Users/tangy/.juliapro/JuliaPro_v1.0.5-2/packages/ForwardDiff/qTmqf/src/dual.jl\" target=\"_blank\">C:\\Users\\tangy\\.juliapro\\JuliaPro_v1.0.5-2\\packages\\ForwardDiff\\qTmqf\\src\\dual.jl:139</a></li> <li> +<i>{Ty}</i>(x::<b>AbstractFloat</b>, y::<b>ForwardDiff.Dual{Ty,V,N} where N where V</b>) in ForwardDiff at <a href=\"file://C:/Users/tangy/.juliapro/JuliaPro_v1.0.5-2/packages/ForwardDiff/qTmqf/src/dual.jl\" target=\"_blank\">C:\\Users\\tangy\\.juliapro\\JuliaPro_v1.0.5-2\\packages\\ForwardDiff\\qTmqf\\src\\dual.jl:140</a></li> <li> +<i>{Tx}</i>(x::<b>ForwardDiff.Dual{Tx,V,N} where N where V</b>, y::<b>Irrational</b>) in ForwardDiff at <a href=\"file://C:/Users/tangy/.juliapro/JuliaPro_v1.0.5-2/packages/ForwardDiff/qTmqf/src/dual.jl\" target=\"_blank\">C:\\Users\\tangy\\.juliapro\\JuliaPro_v1.0.5-2\\packages\\ForwardDiff\\qTmqf\\src\\dual.jl:139</a></li> <li> +<i>{Ty}</i>(x::<b>Irrational</b>, y::<b>ForwardDiff.Dual{Ty,V,N} where N where V</b>) in ForwardDiff at <a href=\"file://C:/Users/tangy/.juliapro/JuliaPro_v1.0.5-2/packages/ForwardDiff/qTmqf/src/dual.jl\" target=\"_blank\">C:\\Users\\tangy\\.juliapro\\JuliaPro_v1.0.5-2\\packages\\ForwardDiff\\qTmqf\\src\\dual.jl:140</a></li> <li> +<i>{Tx}</i>(x::<b>ForwardDiff.Dual{Tx,V,N} where N where V</b>, y::<b>Integer</b>) in ForwardDiff at <a href=\"file://C:/Users/tangy/.juliapro/JuliaPro_v1.0.5-2/packages/ForwardDiff/qTmqf/src/dual.jl\" target=\"_blank\">C:\\Users\\tangy\\.juliapro\\JuliaPro_v1.0.5-2\\packages\\ForwardDiff\\qTmqf\\src\\dual.jl:139</a></li> <li> +<i>{Ty}</i>(x::<b>Integer</b>, y::<b>ForwardDiff.Dual{Ty,V,N} where N where V</b>) in ForwardDiff at <a href=\"file://C:/Users/tangy/.juliapro/JuliaPro_v1.0.5-2/packages/ForwardDiff/qTmqf/src/dual.jl\" target=\"_blank\">C:\\Users\\tangy\\.juliapro\\JuliaPro_v1.0.5-2\\packages\\ForwardDiff\\qTmqf\\src\\dual.jl:140</a></li> <li> +<i>{Tx}</i>(x::<b>ForwardDiff.Dual{Tx,V,N} where N where V</b>, y::<b>Rational</b>) in ForwardDiff at <a href=\"file://C:/Users/tangy/.juliapro/JuliaPro_v1.0.5-2/packages/ForwardDiff/qTmqf/src/dual.jl\" target=\"_blank\">C:\\Users\\tangy\\.juliapro\\JuliaPro_v1.0.5-2\\packages\\ForwardDiff\\qTmqf\\src\\dual.jl:139</a></li> <li> +<i>{Ty}</i>(x::<b>Rational</b>, y::<b>ForwardDiff.Dual{Ty,V,N} where N where V</b>) in ForwardDiff at <a href=\"file://C:/Users/tangy/.juliapro/JuliaPro_v1.0.5-2/packages/ForwardDiff/qTmqf/src/dual.jl\" target=\"_blank\">C:\\Users\\tangy\\.juliapro\\JuliaPro_v1.0.5-2\\packages\\ForwardDiff\\qTmqf\\src\\dual.jl:140</a></li> <li> +<i>{Tx}</i>(x::<b>ForwardDiff.Dual{Tx,V,N} where N where V</b>, y::<b>Real</b>) in ForwardDiff at <a href=\"file://C:/Users/tangy/.juliapro/JuliaPro_v1.0.5-2/packages/ForwardDiff/qTmqf/src/dual.jl\" target=\"_blank\">C:\\Users\\tangy\\.juliapro\\JuliaPro_v1.0.5-2\\packages\\ForwardDiff\\qTmqf\\src\\dual.jl:139</a></li> <li> +<i>{Ty}</i>(x::<b>Real</b>, y::<b>ForwardDiff.Dual{Ty,V,N} where N where V</b>) in ForwardDiff at <a href=\"file://C:/Users/tangy/.juliapro/JuliaPro_v1.0.5-2/packages/ForwardDiff/qTmqf/src/dual.jl\" target=\"_blank\">C:\\Users\\tangy\\.juliapro\\JuliaPro_v1.0.5-2\\packages\\ForwardDiff\\qTmqf\\src\\dual.jl:140</a></li> <li> +<i>{Tx}</i>(x::<b>ForwardDiff.Dual{Tx,V,N} where N where V</b>, y::<b>RoundingMode</b>) in ForwardDiff at <a href=\"file://C:/Users/tangy/.juliapro/JuliaPro_v1.0.5-2/packages/ForwardDiff/qTmqf/src/dual.jl\" target=\"_blank\">C:\\Users\\tangy\\.juliapro\\JuliaPro_v1.0.5-2\\packages\\ForwardDiff\\qTmqf\\src\\dual.jl:139</a></li> <li> +<i>{X<:FixedPoint}</i>(x::<b>X</b>, y::<b>X</b>) in FixedPointNumbers at <a href=\"file://C:/Users/tangy/.juliapro/JuliaPro_v1.0.5-2/packages/FixedPointNumbers/HAGk2/src/FixedPointNumbers.jl\" target=\"_blank\">C:\\Users\\tangy\\.juliapro\\JuliaPro_v1.0.5-2\\packages\\FixedPointNumbers\\HAGk2\\src\\FixedPointNumbers.jl:237</a></li> <li> +(x::<b>Number</b>) in Base at <a href=\"https://github.com/JuliaLang/julia/tree/3af96bcefcb0aec559d4652fd75e1bc3fcfe99da/base/operators.jl#L477\" target=\"_blank\">operators.jl:477</a></li> <li> +<i>{T<:Number}</i>(x::<b>T</b>, y::<b>T</b>) in Base at <a href=\"https://github.com/JuliaLang/julia/tree/3af96bcefcb0aec559d4652fd75e1bc3fcfe99da/base/promotion.jl#L411\" target=\"_blank\">promotion.jl:411</a></li> <li> +(x::<b>Number</b>, y::<b>Number</b>) in Base at <a href=\"https://github.com/JuliaLang/julia/tree/3af96bcefcb0aec559d4652fd75e1bc3fcfe99da/base/promotion.jl#L313\" target=\"_blank\">promotion.jl:313</a></li> <li> +(r1::<b>OrdinalRange</b>, r2::<b>OrdinalRange</b>) in Base at <a href=\"https://github.com/JuliaLang/julia/tree/3af96bcefcb0aec559d4652fd75e1bc3fcfe99da/base/range.jl#L978\" target=\"_blank\">range.jl:978</a></li> <li> +<i>{T}</i>(r1::<b>LinRange{T}</b>, r2::<b>LinRange{T}</b>) in Base at <a href=\"https://github.com/JuliaLang/julia/tree/3af96bcefcb0aec559d4652fd75e1bc3fcfe99da/base/range.jl#L985\" target=\"_blank\">range.jl:985</a></li> <li> +<i>{R<:TwicePrecision, T}</i>(r1::<b>StepRangeLen{T,R,S} where S</b>, r2::<b>StepRangeLen{T,R,S} where S</b>) in Base at <a href=\"https://github.com/JuliaLang/julia/tree/3af96bcefcb0aec559d4652fd75e1bc3fcfe99da/base/twiceprecision.jl#L557\" target=\"_blank\">twiceprecision.jl:557</a></li> <li> +<i>{T, S}</i>(r1::<b>StepRangeLen{T,S,S1} where S1</b>, r2::<b>StepRangeLen{T,S,S1} where S1</b>) in Base at <a href=\"https://github.com/JuliaLang/julia/tree/3af96bcefcb0aec559d4652fd75e1bc3fcfe99da/base/range.jl#L1001\" target=\"_blank\">range.jl:1001</a></li> <li> +(r1::<b>Union{LinRange, OrdinalRange, StepRangeLen}</b>, r2::<b>Union{LinRange, OrdinalRange, StepRangeLen}</b>) in Base at <a href=\"https://github.com/JuliaLang/julia/tree/3af96bcefcb0aec559d4652fd75e1bc3fcfe99da/base/range.jl#L993\" target=\"_blank\">range.jl:993</a></li> <li> +(x::<b>Ptr</b>, y::<b>Integer</b>) in Base at <a href=\"https://github.com/JuliaLang/julia/tree/3af96bcefcb0aec559d4652fd75e1bc3fcfe99da/base/pointer.jl#L155\" target=\"_blank\">pointer.jl:155</a></li> <li> +(x::<b>Base.TwicePrecision</b>, y::<b>Number</b>) in Base at <a href=\"https://github.com/JuliaLang/julia/tree/3af96bcefcb0aec559d4652fd75e1bc3fcfe99da/base/twiceprecision.jl#L265\" target=\"_blank\">twiceprecision.jl:265</a></li> <li> +(x::<b>Number</b>, y::<b>Base.TwicePrecision</b>) in Base at <a href=\"https://github.com/JuliaLang/julia/tree/3af96bcefcb0aec559d4652fd75e1bc3fcfe99da/base/twiceprecision.jl#L268\" target=\"_blank\">twiceprecision.jl:268</a></li> <li> +<i>{T}</i>(x::<b>Base.TwicePrecision{T}</b>, y::<b>Base.TwicePrecision{T}</b>) in Base at <a href=\"https://github.com/JuliaLang/julia/tree/3af96bcefcb0aec559d4652fd75e1bc3fcfe99da/base/twiceprecision.jl#L271\" target=\"_blank\">twiceprecision.jl:271</a></li> <li> +(x::<b>Base.TwicePrecision</b>, y::<b>Base.TwicePrecision</b>) in Base at <a href=\"https://github.com/JuliaLang/julia/tree/3af96bcefcb0aec559d4652fd75e1bc3fcfe99da/base/twiceprecision.jl#L275\" target=\"_blank\">twiceprecision.jl:275</a></li> <li> +(A::<b>Array</b>, Bs::<b>Array...</b>) in Base at <a href=\"https://github.com/JuliaLang/julia/tree/3af96bcefcb0aec559d4652fd75e1bc3fcfe99da/base/arraymath.jl#L44\" target=\"_blank\">arraymath.jl:44</a></li> <li> +(A::<b>BitArray</b>, B::<b>BitArray</b>) in Base at <a href=\"https://github.com/JuliaLang/julia/tree/3af96bcefcb0aec559d4652fd75e1bc3fcfe99da/base/bitarray.jl#L1075\" target=\"_blank\">bitarray.jl:1075</a></li> <li> +(A::<b>Array{T,2} where T</b>, B::<b>LinearAlgebra.Diagonal</b>) in LinearAlgebra at <a href=\"file://C:/Users/julia/AppData/Local/Julia-1.0.5/share/julia/stdlib/v1.0/LinearAlgebra/src/special.jl\" target=\"_blank\">C:\\Users\\julia\\AppData\\Local\\Julia-1.0.5\\share\\julia\\stdlib\\v1.0\\LinearAlgebra\\src\\special.jl:88</a></li> <li> +(A::<b>Array{T,2} where T</b>, B::<b>LinearAlgebra.Bidiagonal</b>) in LinearAlgebra at <a href=\"file://C:/Users/julia/AppData/Local/Julia-1.0.5/share/julia/stdlib/v1.0/LinearAlgebra/src/special.jl\" target=\"_blank\">C:\\Users\\julia\\AppData\\Local\\Julia-1.0.5\\share\\julia\\stdlib\\v1.0\\LinearAlgebra\\src\\special.jl:88</a></li> <li> +(A::<b>Array{T,2} where T</b>, B::<b>LinearAlgebra.Tridiagonal</b>) in LinearAlgebra at <a href=\"file://C:/Users/julia/AppData/Local/Julia-1.0.5/share/julia/stdlib/v1.0/LinearAlgebra/src/special.jl\" target=\"_blank\">C:\\Users\\julia\\AppData\\Local\\Julia-1.0.5\\share\\julia\\stdlib\\v1.0\\LinearAlgebra\\src\\special.jl:88</a></li> <li> +(A::<b>Array{T,2} where T</b>, B::<b>LinearAlgebra.SymTridiagonal</b>) in LinearAlgebra at <a href=\"file://C:/Users/julia/AppData/Local/Julia-1.0.5/share/julia/stdlib/v1.0/LinearAlgebra/src/special.jl\" target=\"_blank\">C:\\Users\\julia\\AppData\\Local\\Julia-1.0.5\\share\\julia\\stdlib\\v1.0\\LinearAlgebra\\src\\special.jl:97</a></li> <li> +(A::<b>Array{T,2} where T</b>, B::<b>LinearAlgebra.AbstractTriangular</b>) in LinearAlgebra at <a href=\"file://C:/Users/julia/AppData/Local/Julia-1.0.5/share/julia/stdlib/v1.0/LinearAlgebra/src/special.jl\" target=\"_blank\">C:\\Users\\julia\\AppData\\Local\\Julia-1.0.5\\share\\julia\\stdlib\\v1.0\\LinearAlgebra\\src\\special.jl:125</a></li> <li> +(A::<b>Array</b>, B::<b>SparseArrays.SparseMatrixCSC</b>) in SparseArrays at <a href=\"file://C:/Users/julia/AppData/Local/Julia-1.0.5/share/julia/stdlib/v1.0/SparseArrays/src/sparsematrix.jl\" target=\"_blank\">C:\\Users\\julia\\AppData\\Local\\Julia-1.0.5\\share\\julia\\stdlib\\v1.0\\SparseArrays\\src\\sparsematrix.jl:1584</a></li> <li> +<i>{T}</i>(α::<b>Array{T,1}</b>, f::<b>Union{VectorAffineFunction{T}, VectorOfVariables, VectorQuadraticFunction{T}}</b>, g::<b>Union{VectorAffineFunction{T}, VectorOfVariables, VectorQuadraticFunction{T}}...</b>) in MathOptInterface.Utilities at <a href=\"file://C:/Users/tangy/.juliapro/JuliaPro_v1.0.5-2/packages/MathOptInterface/ZJFKw/src/Utilities/functions.jl\" target=\"_blank\">C:\\Users\\tangy\\.juliapro\\JuliaPro_v1.0.5-2\\packages\\MathOptInterface\\ZJFKw\\src\\Utilities\\functions.jl:1407</a></li> <li> +(x::<b>Union{DenseArray{#s546,N}, ReinterpretArray{#s546,N,S,A} where S where A<:Union{SubArray{T,N,A,I,true} where I<:Tuple{AbstractUnitRange,Vararg{Any,N} where N} where A<:DenseArray where N where T, DenseArray}, ReshapedArray{#s546,N,A,MI} where MI<:Tuple{Vararg{SignedMultiplicativeInverse{Int64},N} where N} where A<:Union{ReinterpretArray{T,N,S,A} where S where A<:Union{SubArray{T,N,A,I,true} where I<:Tuple{AbstractUnitRange,Vararg{Any,N} where N} where A<:DenseArray where N where T, DenseArray} where N where T, SubArray{T,N,A,I,true} where I<:Tuple{AbstractUnitRange,Vararg{Any,N} where N} where A<:DenseArray where N where T, DenseArray}, SubArray{#s546,N,A,I,L} where L where I<:Tuple{Vararg{Union{Int64, AbstractRange{Int64}, AbstractCartesianIndex},N} where N} where A<:Union{ReinterpretArray{T,N,S,A} where S where A<:Union{SubArray{T,N,A,I,true} where I<:Tuple{AbstractUnitRange,Vararg{Any,N} where N} where A<:DenseArray where N where T, DenseArray} where N where T, ReshapedArray{T,N,A,MI} where MI<:Tuple{Vararg{SignedMultiplicativeInverse{Int64},N} where N} where A<:Union{ReinterpretArray{T,N,S,A} where S where A<:Union{SubArray{T,N,A,I,true} where I<:Tuple{AbstractUnitRange,Vararg{Any,N} where N} where A<:DenseArray where N where T, DenseArray} where N where T, SubArray{T,N,A,I,true} where I<:Tuple{AbstractUnitRange,Vararg{Any,N} where N} where A<:DenseArray where N where T, DenseArray} where N where T, DenseArray}} where N where #s546<:Union{CompoundPeriod, Period}</b>) in Dates at <a href=\"file://C:/Users/julia/AppData/Local/Julia-1.0.5/share/julia/stdlib/v1.0/Dates/src/periods.jl\" target=\"_blank\">C:\\Users\\julia\\AppData\\Local\\Julia-1.0.5\\share\\julia\\stdlib\\v1.0\\Dates\\src\\periods.jl:364</a></li> <li> +(X::<b>Union{DenseArray{#s546,N}, ReinterpretArray{#s546,N,S,A} where S where A<:Union{SubArray{T,N,A,I,true} where I<:Tuple{AbstractUnitRange,Vararg{Any,N} where N} where A<:DenseArray where N where T, DenseArray}, ReshapedArray{#s546,N,A,MI} where MI<:Tuple{Vararg{SignedMultiplicativeInverse{Int64},N} where N} where A<:Union{ReinterpretArray{T,N,S,A} where S where A<:Union{SubArray{T,N,A,I,true} where I<:Tuple{AbstractUnitRange,Vararg{Any,N} where N} where A<:DenseArray where N where T, DenseArray} where N where T, SubArray{T,N,A,I,true} where I<:Tuple{AbstractUnitRange,Vararg{Any,N} where N} where A<:DenseArray where N where T, DenseArray}, SubArray{#s546,N,A,I,L} where L where I<:Tuple{Vararg{Union{Int64, AbstractRange{Int64}, AbstractCartesianIndex},N} where N} where A<:Union{ReinterpretArray{T,N,S,A} where S where A<:Union{SubArray{T,N,A,I,true} where I<:Tuple{AbstractUnitRange,Vararg{Any,N} where N} where A<:DenseArray where N where T, DenseArray} where N where T, ReshapedArray{T,N,A,MI} where MI<:Tuple{Vararg{SignedMultiplicativeInverse{Int64},N} where N} where A<:Union{ReinterpretArray{T,N,S,A} where S where A<:Union{SubArray{T,N,A,I,true} where I<:Tuple{AbstractUnitRange,Vararg{Any,N} where N} where A<:DenseArray where N where T, DenseArray} where N where T, SubArray{T,N,A,I,true} where I<:Tuple{AbstractUnitRange,Vararg{Any,N} where N} where A<:DenseArray where N where T, DenseArray} where N where T, DenseArray}} where N where #s546<:Union{CompoundPeriod, Period}</b>, Y::<b>Union{DenseArray{#s545,N}, ReinterpretArray{#s545,N,S,A} where S where A<:Union{SubArray{T,N,A,I,true} where I<:Tuple{AbstractUnitRange,Vararg{Any,N} where N} where A<:DenseArray where N where T, DenseArray}, ReshapedArray{#s545,N,A,MI} where MI<:Tuple{Vararg{SignedMultiplicativeInverse{Int64},N} where N} where A<:Union{ReinterpretArray{T,N,S,A} where S where A<:Union{SubArray{T,N,A,I,true} where I<:Tuple{AbstractUnitRange,Vararg{Any,N} where N} where A<:DenseArray where N where T, DenseArray} where N where T, SubArray{T,N,A,I,true} where I<:Tuple{AbstractUnitRange,Vararg{Any,N} where N} where A<:DenseArray where N where T, DenseArray}, SubArray{#s545,N,A,I,L} where L where I<:Tuple{Vararg{Union{Int64, AbstractRange{Int64}, AbstractCartesianIndex},N} where N} where A<:Union{ReinterpretArray{T,N,S,A} where S where A<:Union{SubArray{T,N,A,I,true} where I<:Tuple{AbstractUnitRange,Vararg{Any,N} where N} where A<:DenseArray where N where T, DenseArray} where N where T, ReshapedArray{T,N,A,MI} where MI<:Tuple{Vararg{SignedMultiplicativeInverse{Int64},N} where N} where A<:Union{ReinterpretArray{T,N,S,A} where S where A<:Union{SubArray{T,N,A,I,true} where I<:Tuple{AbstractUnitRange,Vararg{Any,N} where N} where A<:DenseArray where N where T, DenseArray} where N where T, SubArray{T,N,A,I,true} where I<:Tuple{AbstractUnitRange,Vararg{Any,N} where N} where A<:DenseArray where N where T, DenseArray} where N where T, DenseArray}} where N where #s545<:Union{CompoundPeriod, Period}</b>) in Dates at <a href=\"file://C:/Users/julia/AppData/Local/Julia-1.0.5/share/julia/stdlib/v1.0/Dates/src/periods.jl\" target=\"_blank\">C:\\Users\\julia\\AppData\\Local\\Julia-1.0.5\\share\\julia\\stdlib\\v1.0\\Dates\\src\\periods.jl:368</a></li> <li> +(x::<b>Union{DenseArray{#s546,N}, ReinterpretArray{#s546,N,S,A} where S where A<:Union{SubArray{T,N,A,I,true} where I<:Tuple{AbstractUnitRange,Vararg{Any,N} where N} where A<:DenseArray where N where T, DenseArray}, ReshapedArray{#s546,N,A,MI} where MI<:Tuple{Vararg{SignedMultiplicativeInverse{Int64},N} where N} where A<:Union{ReinterpretArray{T,N,S,A} where S where A<:Union{SubArray{T,N,A,I,true} where I<:Tuple{AbstractUnitRange,Vararg{Any,N} where N} where A<:DenseArray where N where T, DenseArray} where N where T, SubArray{T,N,A,I,true} where I<:Tuple{AbstractUnitRange,Vararg{Any,N} where N} where A<:DenseArray where N where T, DenseArray}, SubArray{#s546,N,A,I,L} where L where I<:Tuple{Vararg{Union{Int64, AbstractRange{Int64}, AbstractCartesianIndex},N} where N} where A<:Union{ReinterpretArray{T,N,S,A} where S where A<:Union{SubArray{T,N,A,I,true} where I<:Tuple{AbstractUnitRange,Vararg{Any,N} where N} where A<:DenseArray where N where T, DenseArray} where N where T, ReshapedArray{T,N,A,MI} where MI<:Tuple{Vararg{SignedMultiplicativeInverse{Int64},N} where N} where A<:Union{ReinterpretArray{T,N,S,A} where S where A<:Union{SubArray{T,N,A,I,true} where I<:Tuple{AbstractUnitRange,Vararg{Any,N} where N} where A<:DenseArray where N where T, DenseArray} where N where T, SubArray{T,N,A,I,true} where I<:Tuple{AbstractUnitRange,Vararg{Any,N} where N} where A<:DenseArray where N where T, DenseArray} where N where T, DenseArray}} where N where #s546<:Union{CompoundPeriod, Period}</b>, y::<b>Dates.TimeType</b>) in Dates at <a href=\"file://C:/Users/julia/AppData/Local/Julia-1.0.5/share/julia/stdlib/v1.0/Dates/src/arithmetic.jl\" target=\"_blank\">C:\\Users\\julia\\AppData\\Local\\Julia-1.0.5\\share\\julia\\stdlib\\v1.0\\Dates\\src\\arithmetic.jl:87</a></li> <li> +(r::<b>AbstractRange{#s546} where #s546<:Dates.TimeType</b>, x::<b>Dates.Period</b>) in Dates at <a href=\"file://C:/Users/julia/AppData/Local/Julia-1.0.5/share/julia/stdlib/v1.0/Dates/src/ranges.jl\" target=\"_blank\">C:\\Users\\julia\\AppData\\Local\\Julia-1.0.5\\share\\julia\\stdlib\\v1.0\\Dates\\src\\ranges.jl:58</a></li> <li> +(A::<b>LinearAlgebra.SymTridiagonal</b>, B::<b>LinearAlgebra.SymTridiagonal</b>) in LinearAlgebra at <a href=\"file://C:/Users/julia/AppData/Local/Julia-1.0.5/share/julia/stdlib/v1.0/LinearAlgebra/src/tridiag.jl\" target=\"_blank\">C:\\Users\\julia\\AppData\\Local\\Julia-1.0.5\\share\\julia\\stdlib\\v1.0\\LinearAlgebra\\src\\tridiag.jl:158</a></li> <li> +(A::<b>LinearAlgebra.Tridiagonal</b>, B::<b>LinearAlgebra.Tridiagonal</b>) in LinearAlgebra at <a href=\"file://C:/Users/julia/AppData/Local/Julia-1.0.5/share/julia/stdlib/v1.0/LinearAlgebra/src/tridiag.jl\" target=\"_blank\">C:\\Users\\julia\\AppData\\Local\\Julia-1.0.5\\share\\julia\\stdlib\\v1.0\\LinearAlgebra\\src\\tridiag.jl:612</a></li> <li> +(A::<b>LinearAlgebra.UpperTriangular</b>, B::<b>LinearAlgebra.UpperTriangular</b>) in LinearAlgebra at <a href=\"file://C:/Users/julia/AppData/Local/Julia-1.0.5/share/julia/stdlib/v1.0/LinearAlgebra/src/triangular.jl\" target=\"_blank\">C:\\Users\\julia\\AppData\\Local\\Julia-1.0.5\\share\\julia\\stdlib\\v1.0\\LinearAlgebra\\src\\triangular.jl:487</a></li> <li> +(A::<b>LinearAlgebra.LowerTriangular</b>, B::<b>LinearAlgebra.LowerTriangular</b>) in LinearAlgebra at <a href=\"file://C:/Users/julia/AppData/Local/Julia-1.0.5/share/julia/stdlib/v1.0/LinearAlgebra/src/triangular.jl\" target=\"_blank\">C:\\Users\\julia\\AppData\\Local\\Julia-1.0.5\\share\\julia\\stdlib\\v1.0\\LinearAlgebra\\src\\triangular.jl:488</a></li> <li> +(A::<b>LinearAlgebra.UpperTriangular</b>, B::<b>LinearAlgebra.UnitUpperTriangular</b>) in LinearAlgebra at <a href=\"file://C:/Users/julia/AppData/Local/Julia-1.0.5/share/julia/stdlib/v1.0/LinearAlgebra/src/triangular.jl\" target=\"_blank\">C:\\Users\\julia\\AppData\\Local\\Julia-1.0.5\\share\\julia\\stdlib\\v1.0\\LinearAlgebra\\src\\triangular.jl:489</a></li> <li> +(A::<b>LinearAlgebra.LowerTriangular</b>, B::<b>LinearAlgebra.UnitLowerTriangular</b>) in LinearAlgebra at <a href=\"file://C:/Users/julia/AppData/Local/Julia-1.0.5/share/julia/stdlib/v1.0/LinearAlgebra/src/triangular.jl\" target=\"_blank\">C:\\Users\\julia\\AppData\\Local\\Julia-1.0.5\\share\\julia\\stdlib\\v1.0\\LinearAlgebra\\src\\triangular.jl:490</a></li> <li> +(A::<b>LinearAlgebra.UnitUpperTriangular</b>, B::<b>LinearAlgebra.UpperTriangular</b>) in LinearAlgebra at <a href=\"file://C:/Users/julia/AppData/Local/Julia-1.0.5/share/julia/stdlib/v1.0/LinearAlgebra/src/triangular.jl\" target=\"_blank\">C:\\Users\\julia\\AppData\\Local\\Julia-1.0.5\\share\\julia\\stdlib\\v1.0\\LinearAlgebra\\src\\triangular.jl:491</a></li> <li> +(A::<b>LinearAlgebra.UnitLowerTriangular</b>, B::<b>LinearAlgebra.LowerTriangular</b>) in LinearAlgebra at <a href=\"file://C:/Users/julia/AppData/Local/Julia-1.0.5/share/julia/stdlib/v1.0/LinearAlgebra/src/triangular.jl\" target=\"_blank\">C:\\Users\\julia\\AppData\\Local\\Julia-1.0.5\\share\\julia\\stdlib\\v1.0\\LinearAlgebra\\src\\triangular.jl:492</a></li> <li> +(A::<b>LinearAlgebra.UnitUpperTriangular</b>, B::<b>LinearAlgebra.UnitUpperTriangular</b>) in LinearAlgebra at <a href=\"file://C:/Users/julia/AppData/Local/Julia-1.0.5/share/julia/stdlib/v1.0/LinearAlgebra/src/triangular.jl\" target=\"_blank\">C:\\Users\\julia\\AppData\\Local\\Julia-1.0.5\\share\\julia\\stdlib\\v1.0\\LinearAlgebra\\src\\triangular.jl:493</a></li> <li> +(A::<b>LinearAlgebra.UnitLowerTriangular</b>, B::<b>LinearAlgebra.UnitLowerTriangular</b>) in LinearAlgebra at <a href=\"file://C:/Users/julia/AppData/Local/Julia-1.0.5/share/julia/stdlib/v1.0/LinearAlgebra/src/triangular.jl\" target=\"_blank\">C:\\Users\\julia\\AppData\\Local\\Julia-1.0.5\\share\\julia\\stdlib\\v1.0\\LinearAlgebra\\src\\triangular.jl:494</a></li> <li> +(A::<b>LinearAlgebra.AbstractTriangular</b>, B::<b>LinearAlgebra.AbstractTriangular</b>) in LinearAlgebra at <a href=\"file://C:/Users/julia/AppData/Local/Julia-1.0.5/share/julia/stdlib/v1.0/LinearAlgebra/src/triangular.jl\" target=\"_blank\">C:\\Users\\julia\\AppData\\Local\\Julia-1.0.5\\share\\julia\\stdlib\\v1.0\\LinearAlgebra\\src\\triangular.jl:495</a></li> <li> +(Da::<b>LinearAlgebra.Diagonal</b>, Db::<b>LinearAlgebra.Diagonal</b>) in LinearAlgebra at <a href=\"file://C:/Users/julia/AppData/Local/Julia-1.0.5/share/julia/stdlib/v1.0/LinearAlgebra/src/diagonal.jl\" target=\"_blank\">C:\\Users\\julia\\AppData\\Local\\Julia-1.0.5\\share\\julia\\stdlib\\v1.0\\LinearAlgebra\\src\\diagonal.jl:152</a></li> <li> +(A::<b>LinearAlgebra.Bidiagonal</b>, B::<b>LinearAlgebra.Bidiagonal</b>) in LinearAlgebra at <a href=\"file://C:/Users/julia/AppData/Local/Julia-1.0.5/share/julia/stdlib/v1.0/LinearAlgebra/src/bidiag.jl\" target=\"_blank\">C:\\Users\\julia\\AppData\\Local\\Julia-1.0.5\\share\\julia\\stdlib\\v1.0\\LinearAlgebra\\src\\bidiag.jl:305</a></li> <li> +(UL::<b>LinearAlgebra.UnitUpperTriangular</b>, J::<b>LinearAlgebra.UniformScaling</b>) in LinearAlgebra at <a href=\"file://C:/Users/julia/AppData/Local/Julia-1.0.5/share/julia/stdlib/v1.0/LinearAlgebra/src/uniformscaling.jl\" target=\"_blank\">C:\\Users\\julia\\AppData\\Local\\Julia-1.0.5\\share\\julia\\stdlib\\v1.0\\LinearAlgebra\\src\\uniformscaling.jl:104</a></li> <li> +(UL::<b>LinearAlgebra.UnitLowerTriangular</b>, J::<b>LinearAlgebra.UniformScaling</b>) in LinearAlgebra at <a href=\"file://C:/Users/julia/AppData/Local/Julia-1.0.5/share/julia/stdlib/v1.0/LinearAlgebra/src/uniformscaling.jl\" target=\"_blank\">C:\\Users\\julia\\AppData\\Local\\Julia-1.0.5\\share\\julia\\stdlib\\v1.0\\LinearAlgebra\\src\\uniformscaling.jl:104</a></li> <li> +(A::<b>SparseArrays.SparseMatrixCSC</b>, J::<b>LinearAlgebra.UniformScaling</b>) in SparseArrays at <a href=\"file://C:/Users/julia/AppData/Local/Julia-1.0.5/share/julia/stdlib/v1.0/SparseArrays/src/sparsematrix.jl\" target=\"_blank\">C:\\Users\\julia\\AppData\\Local\\Julia-1.0.5\\share\\julia\\stdlib\\v1.0\\SparseArrays\\src\\sparsematrix.jl:3515</a></li> <li> +(a::<b>StaticArrays.StaticArray{Tuple{N,M},T,2} where T where M where N</b>, b::<b>LinearAlgebra.UniformScaling</b>) in StaticArrays at <a href=\"file://C:/Users/tangy/.juliapro/JuliaPro_v1.0.5-2/packages/StaticArrays/LJQEe/src/linalg.jl\" target=\"_blank\">C:\\Users\\tangy\\.juliapro\\JuliaPro_v1.0.5-2\\packages\\StaticArrays\\LJQEe\\src\\linalg.jl:28</a></li> <li> +(A::<b>AbstractArray{T,2} where T</b>, J::<b>LinearAlgebra.UniformScaling</b>) in LinearAlgebra at <a href=\"file://C:/Users/julia/AppData/Local/Julia-1.0.5/share/julia/stdlib/v1.0/LinearAlgebra/src/uniformscaling.jl\" target=\"_blank\">C:\\Users\\julia\\AppData\\Local\\Julia-1.0.5\\share\\julia\\stdlib\\v1.0\\LinearAlgebra\\src\\uniformscaling.jl:114</a></li> <li> +(A::<b>LinearAlgebra.Diagonal</b>, B::<b>LinearAlgebra.Bidiagonal</b>) in LinearAlgebra at <a href=\"file://C:/Users/julia/AppData/Local/Julia-1.0.5/share/julia/stdlib/v1.0/LinearAlgebra/src/special.jl\" target=\"_blank\">C:\\Users\\julia\\AppData\\Local\\Julia-1.0.5\\share\\julia\\stdlib\\v1.0\\LinearAlgebra\\src\\special.jl:87</a></li> <li> +(A::<b>LinearAlgebra.Bidiagonal</b>, B::<b>LinearAlgebra.Diagonal</b>) in LinearAlgebra at <a href=\"file://C:/Users/julia/AppData/Local/Julia-1.0.5/share/julia/stdlib/v1.0/LinearAlgebra/src/special.jl\" target=\"_blank\">C:\\Users\\julia\\AppData\\Local\\Julia-1.0.5\\share\\julia\\stdlib\\v1.0\\LinearAlgebra\\src\\special.jl:88</a></li> <li> +(A::<b>LinearAlgebra.Diagonal</b>, B::<b>LinearAlgebra.Tridiagonal</b>) in LinearAlgebra at <a href=\"file://C:/Users/julia/AppData/Local/Julia-1.0.5/share/julia/stdlib/v1.0/LinearAlgebra/src/special.jl\" target=\"_blank\">C:\\Users\\julia\\AppData\\Local\\Julia-1.0.5\\share\\julia\\stdlib\\v1.0\\LinearAlgebra\\src\\special.jl:87</a></li> <li> +(A::<b>LinearAlgebra.Tridiagonal</b>, B::<b>LinearAlgebra.Diagonal</b>) in LinearAlgebra at <a href=\"file://C:/Users/julia/AppData/Local/Julia-1.0.5/share/julia/stdlib/v1.0/LinearAlgebra/src/special.jl\" target=\"_blank\">C:\\Users\\julia\\AppData\\Local\\Julia-1.0.5\\share\\julia\\stdlib\\v1.0\\LinearAlgebra\\src\\special.jl:88</a></li> <li> +(A::<b>LinearAlgebra.Diagonal</b>, B::<b>Array{T,2} where T</b>) in LinearAlgebra at <a href=\"file://C:/Users/julia/AppData/Local/Julia-1.0.5/share/julia/stdlib/v1.0/LinearAlgebra/src/special.jl\" target=\"_blank\">C:\\Users\\julia\\AppData\\Local\\Julia-1.0.5\\share\\julia\\stdlib\\v1.0\\LinearAlgebra\\src\\special.jl:87</a></li> <li> +(A::<b>LinearAlgebra.Bidiagonal</b>, B::<b>LinearAlgebra.Tridiagonal</b>) in LinearAlgebra at <a href=\"file://C:/Users/julia/AppData/Local/Julia-1.0.5/share/julia/stdlib/v1.0/LinearAlgebra/src/special.jl\" target=\"_blank\">C:\\Users\\julia\\AppData\\Local\\Julia-1.0.5\\share\\julia\\stdlib\\v1.0\\LinearAlgebra\\src\\special.jl:87</a></li> <li> +(A::<b>LinearAlgebra.Tridiagonal</b>, B::<b>LinearAlgebra.Bidiagonal</b>) in LinearAlgebra at <a href=\"file://C:/Users/julia/AppData/Local/Julia-1.0.5/share/julia/stdlib/v1.0/LinearAlgebra/src/special.jl\" target=\"_blank\">C:\\Users\\julia\\AppData\\Local\\Julia-1.0.5\\share\\julia\\stdlib\\v1.0\\LinearAlgebra\\src\\special.jl:88</a></li> <li> +(A::<b>LinearAlgebra.Bidiagonal</b>, B::<b>Array{T,2} where T</b>) in LinearAlgebra at <a href=\"file://C:/Users/julia/AppData/Local/Julia-1.0.5/share/julia/stdlib/v1.0/LinearAlgebra/src/special.jl\" target=\"_blank\">C:\\Users\\julia\\AppData\\Local\\Julia-1.0.5\\share\\julia\\stdlib\\v1.0\\LinearAlgebra\\src\\special.jl:87</a></li> <li> +(A::<b>LinearAlgebra.Tridiagonal</b>, B::<b>Array{T,2} where T</b>) in LinearAlgebra at <a href=\"file://C:/Users/julia/AppData/Local/Julia-1.0.5/share/julia/stdlib/v1.0/LinearAlgebra/src/special.jl\" target=\"_blank\">C:\\Users\\julia\\AppData\\Local\\Julia-1.0.5\\share\\julia\\stdlib\\v1.0\\LinearAlgebra\\src\\special.jl:87</a></li> <li> +(A::<b>LinearAlgebra.SymTridiagonal</b>, B::<b>LinearAlgebra.Tridiagonal</b>) in LinearAlgebra at <a href=\"file://C:/Users/julia/AppData/Local/Julia-1.0.5/share/julia/stdlib/v1.0/LinearAlgebra/src/special.jl\" target=\"_blank\">C:\\Users\\julia\\AppData\\Local\\Julia-1.0.5\\share\\julia\\stdlib\\v1.0\\LinearAlgebra\\src\\special.jl:96</a></li> <li> +(A::<b>LinearAlgebra.Tridiagonal</b>, B::<b>LinearAlgebra.SymTridiagonal</b>) in LinearAlgebra at <a href=\"file://C:/Users/julia/AppData/Local/Julia-1.0.5/share/julia/stdlib/v1.0/LinearAlgebra/src/special.jl\" target=\"_blank\">C:\\Users\\julia\\AppData\\Local\\Julia-1.0.5\\share\\julia\\stdlib\\v1.0\\LinearAlgebra\\src\\special.jl:97</a></li> <li> +(A::<b>LinearAlgebra.SymTridiagonal</b>, B::<b>Array{T,2} where T</b>) in LinearAlgebra at <a href=\"file://C:/Users/julia/AppData/Local/Julia-1.0.5/share/julia/stdlib/v1.0/LinearAlgebra/src/special.jl\" target=\"_blank\">C:\\Users\\julia\\AppData\\Local\\Julia-1.0.5\\share\\julia\\stdlib\\v1.0\\LinearAlgebra\\src\\special.jl:96</a></li> <li> +(A::<b>LinearAlgebra.Diagonal</b>, B::<b>LinearAlgebra.SymTridiagonal</b>) in LinearAlgebra at <a href=\"file://C:/Users/julia/AppData/Local/Julia-1.0.5/share/julia/stdlib/v1.0/LinearAlgebra/src/special.jl\" target=\"_blank\">C:\\Users\\julia\\AppData\\Local\\Julia-1.0.5\\share\\julia\\stdlib\\v1.0\\LinearAlgebra\\src\\special.jl:105</a></li> <li> +(A::<b>LinearAlgebra.SymTridiagonal</b>, B::<b>LinearAlgebra.Diagonal</b>) in LinearAlgebra at <a href=\"file://C:/Users/julia/AppData/Local/Julia-1.0.5/share/julia/stdlib/v1.0/LinearAlgebra/src/special.jl\" target=\"_blank\">C:\\Users\\julia\\AppData\\Local\\Julia-1.0.5\\share\\julia\\stdlib\\v1.0\\LinearAlgebra\\src\\special.jl:106</a></li> <li> +(A::<b>LinearAlgebra.Bidiagonal</b>, B::<b>LinearAlgebra.SymTridiagonal</b>) in LinearAlgebra at <a href=\"file://C:/Users/julia/AppData/Local/Julia-1.0.5/share/julia/stdlib/v1.0/LinearAlgebra/src/special.jl\" target=\"_blank\">C:\\Users\\julia\\AppData\\Local\\Julia-1.0.5\\share\\julia\\stdlib\\v1.0\\LinearAlgebra\\src\\special.jl:105</a></li> <li> +(A::<b>LinearAlgebra.SymTridiagonal</b>, B::<b>LinearAlgebra.Bidiagonal</b>) in LinearAlgebra at <a href=\"file://C:/Users/julia/AppData/Local/Julia-1.0.5/share/julia/stdlib/v1.0/LinearAlgebra/src/special.jl\" target=\"_blank\">C:\\Users\\julia\\AppData\\Local\\Julia-1.0.5\\share\\julia\\stdlib\\v1.0\\LinearAlgebra\\src\\special.jl:106</a></li> <li> +(A::<b>LinearAlgebra.Diagonal</b>, B::<b>LinearAlgebra.UpperTriangular</b>) in LinearAlgebra at <a href=\"file://C:/Users/julia/AppData/Local/Julia-1.0.5/share/julia/stdlib/v1.0/LinearAlgebra/src/special.jl\" target=\"_blank\">C:\\Users\\julia\\AppData\\Local\\Julia-1.0.5\\share\\julia\\stdlib\\v1.0\\LinearAlgebra\\src\\special.jl:117</a></li> <li> +(A::<b>LinearAlgebra.UpperTriangular</b>, B::<b>LinearAlgebra.Diagonal</b>) in LinearAlgebra at <a href=\"file://C:/Users/julia/AppData/Local/Julia-1.0.5/share/julia/stdlib/v1.0/LinearAlgebra/src/special.jl\" target=\"_blank\">C:\\Users\\julia\\AppData\\Local\\Julia-1.0.5\\share\\julia\\stdlib\\v1.0\\LinearAlgebra\\src\\special.jl:118</a></li> <li> +(A::<b>LinearAlgebra.Diagonal</b>, B::<b>LinearAlgebra.UnitUpperTriangular</b>) in LinearAlgebra at <a href=\"file://C:/Users/julia/AppData/Local/Julia-1.0.5/share/julia/stdlib/v1.0/LinearAlgebra/src/special.jl\" target=\"_blank\">C:\\Users\\julia\\AppData\\Local\\Julia-1.0.5\\share\\julia\\stdlib\\v1.0\\LinearAlgebra\\src\\special.jl:117</a></li> <li> +(A::<b>LinearAlgebra.UnitUpperTriangular</b>, B::<b>LinearAlgebra.Diagonal</b>) in LinearAlgebra at <a href=\"file://C:/Users/julia/AppData/Local/Julia-1.0.5/share/julia/stdlib/v1.0/LinearAlgebra/src/special.jl\" target=\"_blank\">C:\\Users\\julia\\AppData\\Local\\Julia-1.0.5\\share\\julia\\stdlib\\v1.0\\LinearAlgebra\\src\\special.jl:118</a></li> <li> +(A::<b>LinearAlgebra.Diagonal</b>, B::<b>LinearAlgebra.LowerTriangular</b>) in LinearAlgebra at <a href=\"file://C:/Users/julia/AppData/Local/Julia-1.0.5/share/julia/stdlib/v1.0/LinearAlgebra/src/special.jl\" target=\"_blank\">C:\\Users\\julia\\AppData\\Local\\Julia-1.0.5\\share\\julia\\stdlib\\v1.0\\LinearAlgebra\\src\\special.jl:117</a></li> <li> +(A::<b>LinearAlgebra.LowerTriangular</b>, B::<b>LinearAlgebra.Diagonal</b>) in LinearAlgebra at <a href=\"file://C:/Users/julia/AppData/Local/Julia-1.0.5/share/julia/stdlib/v1.0/LinearAlgebra/src/special.jl\" target=\"_blank\">C:\\Users\\julia\\AppData\\Local\\Julia-1.0.5\\share\\julia\\stdlib\\v1.0\\LinearAlgebra\\src\\special.jl:118</a></li> <li> +(A::<b>LinearAlgebra.Diagonal</b>, B::<b>LinearAlgebra.UnitLowerTriangular</b>) in LinearAlgebra at <a href=\"file://C:/Users/julia/AppData/Local/Julia-1.0.5/share/julia/stdlib/v1.0/LinearAlgebra/src/special.jl\" target=\"_blank\">C:\\Users\\julia\\AppData\\Local\\Julia-1.0.5\\share\\julia\\stdlib\\v1.0\\LinearAlgebra\\src\\special.jl:117</a></li> <li> +(A::<b>LinearAlgebra.UnitLowerTriangular</b>, B::<b>LinearAlgebra.Diagonal</b>) in LinearAlgebra at <a href=\"file://C:/Users/julia/AppData/Local/Julia-1.0.5/share/julia/stdlib/v1.0/LinearAlgebra/src/special.jl\" target=\"_blank\">C:\\Users\\julia\\AppData\\Local\\Julia-1.0.5\\share\\julia\\stdlib\\v1.0\\LinearAlgebra\\src\\special.jl:118</a></li> <li> +(A::<b>LinearAlgebra.AbstractTriangular</b>, B::<b>LinearAlgebra.SymTridiagonal</b>) in LinearAlgebra at <a href=\"file://C:/Users/julia/AppData/Local/Julia-1.0.5/share/julia/stdlib/v1.0/LinearAlgebra/src/special.jl\" target=\"_blank\">C:\\Users\\julia\\AppData\\Local\\Julia-1.0.5\\share\\julia\\stdlib\\v1.0\\LinearAlgebra\\src\\special.jl:124</a></li> <li> +(A::<b>LinearAlgebra.SymTridiagonal</b>, B::<b>LinearAlgebra.AbstractTriangular</b>) in LinearAlgebra at <a href=\"file://C:/Users/julia/AppData/Local/Julia-1.0.5/share/julia/stdlib/v1.0/LinearAlgebra/src/special.jl\" target=\"_blank\">C:\\Users\\julia\\AppData\\Local\\Julia-1.0.5\\share\\julia\\stdlib\\v1.0\\LinearAlgebra\\src\\special.jl:125</a></li> <li> +(A::<b>LinearAlgebra.AbstractTriangular</b>, B::<b>LinearAlgebra.Tridiagonal</b>) in LinearAlgebra at <a href=\"file://C:/Users/julia/AppData/Local/Julia-1.0.5/share/julia/stdlib/v1.0/LinearAlgebra/src/special.jl\" target=\"_blank\">C:\\Users\\julia\\AppData\\Local\\Julia-1.0.5\\share\\julia\\stdlib\\v1.0\\LinearAlgebra\\src\\special.jl:124</a></li> <li> +(A::<b>LinearAlgebra.Tridiagonal</b>, B::<b>LinearAlgebra.AbstractTriangular</b>) in LinearAlgebra at <a href=\"file://C:/Users/julia/AppData/Local/Julia-1.0.5/share/julia/stdlib/v1.0/LinearAlgebra/src/special.jl\" target=\"_blank\">C:\\Users\\julia\\AppData\\Local\\Julia-1.0.5\\share\\julia\\stdlib\\v1.0\\LinearAlgebra\\src\\special.jl:125</a></li> <li> +(A::<b>LinearAlgebra.AbstractTriangular</b>, B::<b>LinearAlgebra.Bidiagonal</b>) in LinearAlgebra at <a href=\"file://C:/Users/julia/AppData/Local/Julia-1.0.5/share/julia/stdlib/v1.0/LinearAlgebra/src/special.jl\" target=\"_blank\">C:\\Users\\julia\\AppData\\Local\\Julia-1.0.5\\share\\julia\\stdlib\\v1.0\\LinearAlgebra\\src\\special.jl:124</a></li> <li> +(A::<b>LinearAlgebra.Bidiagonal</b>, B::<b>LinearAlgebra.AbstractTriangular</b>) in LinearAlgebra at <a href=\"file://C:/Users/julia/AppData/Local/Julia-1.0.5/share/julia/stdlib/v1.0/LinearAlgebra/src/special.jl\" target=\"_blank\">C:\\Users\\julia\\AppData\\Local\\Julia-1.0.5\\share\\julia\\stdlib\\v1.0\\LinearAlgebra\\src\\special.jl:125</a></li> <li> +(A::<b>LinearAlgebra.AbstractTriangular</b>, B::<b>Array{T,2} where T</b>) in LinearAlgebra at <a href=\"file://C:/Users/julia/AppData/Local/Julia-1.0.5/share/julia/stdlib/v1.0/LinearAlgebra/src/special.jl\" target=\"_blank\">C:\\Users\\julia\\AppData\\Local\\Julia-1.0.5\\share\\julia\\stdlib\\v1.0\\LinearAlgebra\\src\\special.jl:124</a></li> <li> +(A::<b>SparseArrays.SparseMatrixCSC</b>, B::<b>SparseArrays.SparseMatrixCSC</b>) in SparseArrays at <a href=\"file://C:/Users/julia/AppData/Local/Julia-1.0.5/share/julia/stdlib/v1.0/SparseArrays/src/sparsematrix.jl\" target=\"_blank\">C:\\Users\\julia\\AppData\\Local\\Julia-1.0.5\\share\\julia\\stdlib\\v1.0\\SparseArrays\\src\\sparsematrix.jl:1580</a></li> <li> +(A::<b>SparseArrays.SparseMatrixCSC</b>, B::<b>Array</b>) in SparseArrays at <a href=\"file://C:/Users/julia/AppData/Local/Julia-1.0.5/share/julia/stdlib/v1.0/SparseArrays/src/sparsematrix.jl\" target=\"_blank\">C:\\Users\\julia\\AppData\\Local\\Julia-1.0.5\\share\\julia\\stdlib\\v1.0\\SparseArrays\\src\\sparsematrix.jl:1583</a></li> <li> +(x::<b>SparseArrays.AbstractSparseArray{Tv,Ti,1} where Ti where Tv</b>, y::<b>SparseArrays.AbstractSparseArray{Tv,Ti,1} where Ti where Tv</b>) in SparseArrays at <a href=\"file://C:/Users/julia/AppData/Local/Julia-1.0.5/share/julia/stdlib/v1.0/SparseArrays/src/sparsevector.jl\" target=\"_blank\">C:\\Users\\julia\\AppData\\Local\\Julia-1.0.5\\share\\julia\\stdlib\\v1.0\\SparseArrays\\src\\sparsevector.jl:1290</a></li> <li> +(s1::<b>RobotDynamics.RBState</b>, s2::<b>RobotDynamics.RBState</b>) in RobotDynamics at <a href=\"file://C:/Users/tangy/.juliapro/JuliaPro_v1.0.5-2/packages/RobotDynamics/xquSI/src/rbstate.jl\" target=\"_blank\">C:\\Users\\tangy\\.juliapro\\JuliaPro_v1.0.5-2\\packages\\RobotDynamics\\xquSI\\src\\rbstate.jl:154</a></li> <li> +(a::<b>StaticArrays.StaticArray</b>, b::<b>StaticArrays.StaticArray</b>) in StaticArrays at <a href=\"file://C:/Users/tangy/.juliapro/JuliaPro_v1.0.5-2/packages/StaticArrays/LJQEe/src/linalg.jl\" target=\"_blank\">C:\\Users\\tangy\\.juliapro\\JuliaPro_v1.0.5-2\\packages\\StaticArrays\\LJQEe\\src\\linalg.jl:11</a></li> <li> +(a::<b>StaticArrays.StaticArray</b>, b::<b>AbstractArray</b>) in StaticArrays at <a href=\"file://C:/Users/tangy/.juliapro/JuliaPro_v1.0.5-2/packages/StaticArrays/LJQEe/src/linalg.jl\" target=\"_blank\">C:\\Users\\tangy\\.juliapro\\JuliaPro_v1.0.5-2\\packages\\StaticArrays\\LJQEe\\src\\linalg.jl:13</a></li> <li> +(a::<b>StaticArrays.SHermitianCompact</b>, b::<b>Number</b>) in StaticArrays at <a href=\"file://E:\\ComputingSoftware\\Julia\\Julia-1.0.5\\bin\\..\\share\\julia\\base\\deprecated.jl\" target=\"_blank\">deprecated.jl:53</a></li> <li> +(a::<b>StaticArrays.StaticArray</b>, b::<b>Number</b>) in StaticArrays at <a href=\"file://E:\\ComputingSoftware\\Julia\\Julia-1.0.5\\bin\\..\\share\\julia\\base\\deprecated.jl\" target=\"_blank\">deprecated.jl:53</a></li> <li> +<i>{A, B}</i>(a::<b>ForwardDiff.Partials{0,A}</b>, b::<b>ForwardDiff.Partials{0,B}</b>) in ForwardDiff at <a href=\"file://C:/Users/tangy/.juliapro/JuliaPro_v1.0.5-2/packages/ForwardDiff/qTmqf/src/partials.jl\" target=\"_blank\">C:\\Users\\tangy\\.juliapro\\JuliaPro_v1.0.5-2\\packages\\ForwardDiff\\qTmqf\\src\\partials.jl:126</a></li> <li> +<i>{N, A, B}</i>(a::<b>ForwardDiff.Partials{0,A}</b>, b::<b>ForwardDiff.Partials{N,B}</b>) in ForwardDiff at <a href=\"file://C:/Users/tangy/.juliapro/JuliaPro_v1.0.5-2/packages/ForwardDiff/qTmqf/src/partials.jl\" target=\"_blank\">C:\\Users\\tangy\\.juliapro\\JuliaPro_v1.0.5-2\\packages\\ForwardDiff\\qTmqf\\src\\partials.jl:127</a></li> <li> +<i>{N, A, B}</i>(a::<b>ForwardDiff.Partials{N,A}</b>, b::<b>ForwardDiff.Partials{0,B}</b>) in ForwardDiff at <a href=\"file://C:/Users/tangy/.juliapro/JuliaPro_v1.0.5-2/packages/ForwardDiff/qTmqf/src/partials.jl\" target=\"_blank\">C:\\Users\\tangy\\.juliapro\\JuliaPro_v1.0.5-2\\packages\\ForwardDiff\\qTmqf\\src\\partials.jl:128</a></li> <li> +<i>{N}</i>(a::<b>ForwardDiff.Partials{N,V} where V</b>, b::<b>ForwardDiff.Partials{N,V} where V</b>) in ForwardDiff at <a href=\"file://C:/Users/tangy/.juliapro/JuliaPro_v1.0.5-2/packages/ForwardDiff/qTmqf/src/partials.jl\" target=\"_blank\">C:\\Users\\tangy\\.juliapro\\JuliaPro_v1.0.5-2\\packages\\ForwardDiff\\qTmqf\\src\\partials.jl:81</a></li> <li> +(x::<b>AbstractArray{T,1} where T</b>, z1::<b>RobotDynamics.AbstractKnotPoint</b>) in RobotDynamics at <a href=\"file://C:/Users/tangy/.juliapro/JuliaPro_v1.0.5-2/packages/RobotDynamics/xquSI/src/knotpoint.jl\" target=\"_blank\">C:\\Users\\tangy\\.juliapro\\JuliaPro_v1.0.5-2\\packages\\RobotDynamics\\xquSI\\src\\knotpoint.jl:208</a></li> <li> +(x::<b>AbstractArray{#s57,N} where N where #s57<:Number</b>) in Base at <a href=\"https://github.com/JuliaLang/julia/tree/3af96bcefcb0aec559d4652fd75e1bc3fcfe99da/base/abstractarraymath.jl#L98\" target=\"_blank\">abstractarraymath.jl:98</a></li> <li> +(A::<b>AbstractArray{#s50,N} where N where #s50<:MutableArithmetics.AbstractMutable</b>) in MutableArithmetics at <a href=\"file://C:/Users/tangy/.juliapro/JuliaPro_v1.0.5-2/packages/MutableArithmetics/0tlz5/src/dispatch.jl\" target=\"_blank\">C:\\Users\\tangy\\.juliapro\\JuliaPro_v1.0.5-2\\packages\\MutableArithmetics\\0tlz5\\src\\dispatch.jl:202</a></li> <li> +(a::<b>AbstractArray</b>, b::<b>StaticArrays.StaticArray</b>) in StaticArrays at <a href=\"file://C:/Users/tangy/.juliapro/JuliaPro_v1.0.5-2/packages/StaticArrays/LJQEe/src/linalg.jl\" target=\"_blank\">C:\\Users\\tangy\\.juliapro\\JuliaPro_v1.0.5-2\\packages\\StaticArrays\\LJQEe\\src\\linalg.jl:12</a></li> <li> +(A::<b>AbstractArray</b>, B::<b>AbstractArray</b>) in Base at <a href=\"https://github.com/JuliaLang/julia/tree/3af96bcefcb0aec559d4652fd75e1bc3fcfe99da/base/arraymath.jl#L38\" target=\"_blank\">arraymath.jl:38</a></li> <li> +<i>{T<:AbstractChar}</i>(x::<b>T</b>, y::<b>Integer</b>) in Base at <a href=\"https://github.com/JuliaLang/julia/tree/3af96bcefcb0aec559d4652fd75e1bc3fcfe99da/base/char.jl#L207\" target=\"_blank\">char.jl:207</a></li> <li> +<i>{N}</i>(index1::<b>CartesianIndex{N}</b>, index2::<b>CartesianIndex{N}</b>) in Base.IteratorsMD at <a href=\"https://github.com/JuliaLang/julia/tree/3af96bcefcb0aec559d4652fd75e1bc3fcfe99da/base/multidimensional.jl#L106\" target=\"_blank\">multidimensional.jl:106</a></li> <li> +(::<b>Number</b>, ::<b>Missing</b>) in Base at <a href=\"https://github.com/JuliaLang/julia/tree/3af96bcefcb0aec559d4652fd75e1bc3fcfe99da/base/missing.jl#L94\" target=\"_blank\">missing.jl:94</a></li> <li> +<i>{P<:Period}</i>(x::<b>P</b>, y::<b>P</b>) in Dates at <a href=\"file://C:/Users/julia/AppData/Local/Julia-1.0.5/share/julia/stdlib/v1.0/Dates/src/periods.jl\" target=\"_blank\">C:\\Users\\julia\\AppData\\Local\\Julia-1.0.5\\share\\julia\\stdlib\\v1.0\\Dates\\src\\periods.jl:75</a></li> <li> +(x::<b>Dates.Period</b>, y::<b>Dates.Period</b>) in Dates at <a href=\"file://C:/Users/julia/AppData/Local/Julia-1.0.5/share/julia/stdlib/v1.0/Dates/src/periods.jl\" target=\"_blank\">C:\\Users\\julia\\AppData\\Local\\Julia-1.0.5\\share\\julia\\stdlib\\v1.0\\Dates\\src\\periods.jl:352</a></li> <li> +(y::<b>Dates.Period</b>, x::<b>Dates.CompoundPeriod</b>) in Dates at <a href=\"file://C:/Users/julia/AppData/Local/Julia-1.0.5/share/julia/stdlib/v1.0/Dates/src/periods.jl\" target=\"_blank\">C:\\Users\\julia\\AppData\\Local\\Julia-1.0.5\\share\\julia\\stdlib\\v1.0\\Dates\\src\\periods.jl:354</a></li> <li> +(x::<b>Union{CompoundPeriod, Period}</b>) in Dates at <a href=\"file://C:/Users/julia/AppData/Local/Julia-1.0.5/share/julia/stdlib/v1.0/Dates/src/periods.jl\" target=\"_blank\">C:\\Users\\julia\\AppData\\Local\\Julia-1.0.5\\share\\julia\\stdlib\\v1.0\\Dates\\src\\periods.jl:363</a></li> <li> +(x::<b>Dates.TimeType</b>) in Dates at <a href=\"file://C:/Users/julia/AppData/Local/Julia-1.0.5/share/julia/stdlib/v1.0/Dates/src/arithmetic.jl\" target=\"_blank\">C:\\Users\\julia\\AppData\\Local\\Julia-1.0.5\\share\\julia\\stdlib\\v1.0\\Dates\\src\\arithmetic.jl:8</a></li> <li> +(a::<b>Dates.TimeType</b>, b::<b>Dates.Period</b>, c::<b>Dates.Period</b>) in Dates at <a href=\"file://C:/Users/julia/AppData/Local/Julia-1.0.5/share/julia/stdlib/v1.0/Dates/src/periods.jl\" target=\"_blank\">C:\\Users\\julia\\AppData\\Local\\Julia-1.0.5\\share\\julia\\stdlib\\v1.0\\Dates\\src\\periods.jl:382</a></li> <li> +(a::<b>Dates.TimeType</b>, b::<b>Dates.Period</b>, c::<b>Dates.Period</b>, d::<b>Dates.Period...</b>) in Dates at <a href=\"file://C:/Users/julia/AppData/Local/Julia-1.0.5/share/julia/stdlib/v1.0/Dates/src/periods.jl\" target=\"_blank\">C:\\Users\\julia\\AppData\\Local\\Julia-1.0.5\\share\\julia\\stdlib\\v1.0\\Dates\\src\\periods.jl:383</a></li> <li> +(x::<b>Dates.TimeType</b>, y::<b>Dates.CompoundPeriod</b>) in Dates at <a href=\"file://C:/Users/julia/AppData/Local/Julia-1.0.5/share/julia/stdlib/v1.0/Dates/src/periods.jl\" target=\"_blank\">C:\\Users\\julia\\AppData\\Local\\Julia-1.0.5\\share\\julia\\stdlib\\v1.0\\Dates\\src\\periods.jl:386</a></li> <li> +(x::<b>Dates.Instant</b>) in Dates at <a href=\"file://C:/Users/julia/AppData/Local/Julia-1.0.5/share/julia/stdlib/v1.0/Dates/src/arithmetic.jl\" target=\"_blank\">C:\\Users\\julia\\AppData\\Local\\Julia-1.0.5\\share\\julia\\stdlib\\v1.0\\Dates\\src\\arithmetic.jl:4</a></li> <li> +(y::<b>Dates.Period</b>, x::<b>Dates.TimeType</b>) in Dates at <a href=\"file://C:/Users/julia/AppData/Local/Julia-1.0.5/share/julia/stdlib/v1.0/Dates/src/arithmetic.jl\" target=\"_blank\">C:\\Users\\julia\\AppData\\Local\\Julia-1.0.5\\share\\julia\\stdlib\\v1.0\\Dates\\src\\arithmetic.jl:84</a></li> <li> +(x::<b>AbstractArray{#s546,N} where N where #s546<:Dates.TimeType</b>, y::<b>Union{CompoundPeriod, Period}</b>) in Dates at <a href=\"file://C:/Users/julia/AppData/Local/Julia-1.0.5/share/julia/stdlib/v1.0/Dates/src/arithmetic.jl\" target=\"_blank\">C:\\Users\\julia\\AppData\\Local\\Julia-1.0.5\\share\\julia\\stdlib\\v1.0\\Dates\\src\\arithmetic.jl:86</a></li> <li> +(x::<b>Dates.Period</b>, r::<b>AbstractRange{#s546} where #s546<:Dates.TimeType</b>) in Dates at <a href=\"file://C:/Users/julia/AppData/Local/Julia-1.0.5/share/julia/stdlib/v1.0/Dates/src/ranges.jl\" target=\"_blank\">C:\\Users\\julia\\AppData\\Local\\Julia-1.0.5\\share\\julia\\stdlib\\v1.0\\Dates\\src\\ranges.jl:57</a></li> <li> +(y::<b>Union{CompoundPeriod, Period}</b>, x::<b>AbstractArray{#s546,N} where N where #s546<:Dates.TimeType</b>) in Dates at <a href=\"file://C:/Users/julia/AppData/Local/Julia-1.0.5/share/julia/stdlib/v1.0/Dates/src/arithmetic.jl\" target=\"_blank\">C:\\Users\\julia\\AppData\\Local\\Julia-1.0.5\\share\\julia\\stdlib\\v1.0\\Dates\\src\\arithmetic.jl:88</a></li> <li> +(y::<b>Dates.TimeType</b>, x::<b>Union{DenseArray{#s546,N}, ReinterpretArray{#s546,N,S,A} where S where A<:Union{SubArray{T,N,A,I,true} where I<:Tuple{AbstractUnitRange,Vararg{Any,N} where N} where A<:DenseArray where N where T, DenseArray}, ReshapedArray{#s546,N,A,MI} where MI<:Tuple{Vararg{SignedMultiplicativeInverse{Int64},N} where N} where A<:Union{ReinterpretArray{T,N,S,A} where S where A<:Union{SubArray{T,N,A,I,true} where I<:Tuple{AbstractUnitRange,Vararg{Any,N} where N} where A<:DenseArray where N where T, DenseArray} where N where T, SubArray{T,N,A,I,true} where I<:Tuple{AbstractUnitRange,Vararg{Any,N} where N} where A<:DenseArray where N where T, DenseArray}, SubArray{#s546,N,A,I,L} where L where I<:Tuple{Vararg{Union{Int64, AbstractRange{Int64}, AbstractCartesianIndex},N} where N} where A<:Union{ReinterpretArray{T,N,S,A} where S where A<:Union{SubArray{T,N,A,I,true} where I<:Tuple{AbstractUnitRange,Vararg{Any,N} where N} where A<:DenseArray where N where T, DenseArray} where N where T, ReshapedArray{T,N,A,MI} where MI<:Tuple{Vararg{SignedMultiplicativeInverse{Int64},N} where N} where A<:Union{ReinterpretArray{T,N,S,A} where S where A<:Union{SubArray{T,N,A,I,true} where I<:Tuple{AbstractUnitRange,Vararg{Any,N} where N} where A<:DenseArray where N where T, DenseArray} where N where T, SubArray{T,N,A,I,true} where I<:Tuple{AbstractUnitRange,Vararg{Any,N} where N} where A<:DenseArray where N where T, DenseArray} where N where T, DenseArray}} where N where #s546<:Union{CompoundPeriod, Period}</b>) in Dates at <a href=\"file://C:/Users/julia/AppData/Local/Julia-1.0.5/share/julia/stdlib/v1.0/Dates/src/arithmetic.jl\" target=\"_blank\">C:\\Users\\julia\\AppData\\Local\\Julia-1.0.5\\share\\julia\\stdlib\\v1.0\\Dates\\src\\arithmetic.jl:89</a></li> <li> +(J::<b>LinearAlgebra.UniformScaling</b>, x::<b>Number</b>) in LinearAlgebra at <a href=\"file://C:/Users/julia/AppData/Local/Julia-1.0.5/share/julia/stdlib/v1.0/LinearAlgebra/src/uniformscaling.jl\" target=\"_blank\">C:\\Users\\julia\\AppData\\Local\\Julia-1.0.5\\share\\julia\\stdlib\\v1.0\\LinearAlgebra\\src\\uniformscaling.jl:82</a></li> <li> +(x::<b>Number</b>, J::<b>LinearAlgebra.UniformScaling</b>) in LinearAlgebra at <a href=\"file://C:/Users/julia/AppData/Local/Julia-1.0.5/share/julia/stdlib/v1.0/LinearAlgebra/src/uniformscaling.jl\" target=\"_blank\">C:\\Users\\julia\\AppData\\Local\\Julia-1.0.5\\share\\julia\\stdlib\\v1.0\\LinearAlgebra\\src\\uniformscaling.jl:83</a></li> <li> +(J1::<b>LinearAlgebra.UniformScaling</b>, J2::<b>LinearAlgebra.UniformScaling</b>) in LinearAlgebra at <a href=\"file://C:/Users/julia/AppData/Local/Julia-1.0.5/share/julia/stdlib/v1.0/LinearAlgebra/src/uniformscaling.jl\" target=\"_blank\">C:\\Users\\julia\\AppData\\Local\\Julia-1.0.5\\share\\julia\\stdlib\\v1.0\\LinearAlgebra\\src\\uniformscaling.jl:87</a></li> <li> +(J::<b>LinearAlgebra.UniformScaling</b>, B::<b>BitArray{2}</b>) in LinearAlgebra at <a href=\"file://C:/Users/julia/AppData/Local/Julia-1.0.5/share/julia/stdlib/v1.0/LinearAlgebra/src/uniformscaling.jl\" target=\"_blank\">C:\\Users\\julia\\AppData\\Local\\Julia-1.0.5\\share\\julia\\stdlib\\v1.0\\LinearAlgebra\\src\\uniformscaling.jl:89</a></li> <li> +(a::<b>LinearAlgebra.UniformScaling</b>, b::<b>StaticArrays.StaticArray{Tuple{N,M},T,2} where T where M where N</b>) in StaticArrays at <a href=\"file://C:/Users/tangy/.juliapro/JuliaPro_v1.0.5-2/packages/StaticArrays/LJQEe/src/linalg.jl\" target=\"_blank\">C:\\Users\\tangy\\.juliapro\\JuliaPro_v1.0.5-2\\packages\\StaticArrays\\LJQEe\\src\\linalg.jl:29</a></li> <li> +(J::<b>LinearAlgebra.UniformScaling</b>, A::<b>AbstractArray{T,2} where T</b>) in LinearAlgebra at <a href=\"file://C:/Users/julia/AppData/Local/Julia-1.0.5/share/julia/stdlib/v1.0/LinearAlgebra/src/uniformscaling.jl\" target=\"_blank\">C:\\Users\\julia\\AppData\\Local\\Julia-1.0.5\\share\\julia\\stdlib\\v1.0\\LinearAlgebra\\src\\uniformscaling.jl:90</a></li> <li> +(a::<b>Number</b>, b::<b>StaticArrays.SHermitianCompact</b>) in StaticArrays at <a href=\"file://E:\\ComputingSoftware\\Julia\\Julia-1.0.5\\bin\\..\\share\\julia\\base\\deprecated.jl\" target=\"_blank\">deprecated.jl:53</a></li> <li> +(a::<b>Number</b>, b::<b>StaticArrays.StaticArray</b>) in StaticArrays at <a href=\"file://E:\\ComputingSoftware\\Julia\\Julia-1.0.5\\bin\\..\\share\\julia\\base\\deprecated.jl\" target=\"_blank\">deprecated.jl:53</a></li> <li> +<i>{Ty}</i>(x::<b>RoundingMode</b>, y::<b>ForwardDiff.Dual{Ty,V,N} where N where V</b>) in ForwardDiff at <a href=\"file://C:/Users/tangy/.juliapro/JuliaPro_v1.0.5-2/packages/ForwardDiff/qTmqf/src/dual.jl\" target=\"_blank\">C:\\Users\\tangy\\.juliapro\\JuliaPro_v1.0.5-2\\packages\\ForwardDiff\\qTmqf\\src\\dual.jl:140</a></li> <li> +<i>{T}</i>(arg::<b>Union{SingleVariable, ScalarAffineFunction{T}, ScalarQuadraticFunction{T}}</b>, args::<b>Union{SingleVariable, ScalarAffineFunction{T}, ScalarQuadraticFunction{T}}...</b>) in MathOptInterface.Utilities at <a href=\"file://C:/Users/tangy/.juliapro/JuliaPro_v1.0.5-2/packages/MathOptInterface/ZJFKw/src/Utilities/functions.jl\" target=\"_blank\">C:\\Users\\tangy\\.juliapro\\JuliaPro_v1.0.5-2\\packages\\MathOptInterface\\ZJFKw\\src\\Utilities\\functions.jl:1129</a></li> <li> +(α::<b>Number</b>, f::<b>MathOptInterface.SingleVariable</b>) in MathOptInterface.Utilities at <a href=\"file://C:/Users/tangy/.juliapro/JuliaPro_v1.0.5-2/packages/MathOptInterface/ZJFKw/src/Utilities/functions.jl\" target=\"_blank\">C:\\Users\\tangy\\.juliapro\\JuliaPro_v1.0.5-2\\packages\\MathOptInterface\\ZJFKw\\src\\Utilities\\functions.jl:1135</a></li> <li> +<i>{T}</i>(f::<b>Union{ScalarAffineFunction{T}, ScalarQuadraticFunction{T}}</b>, α::<b>T</b>) in MathOptInterface.Utilities at <a href=\"file://C:/Users/tangy/.juliapro/JuliaPro_v1.0.5-2/packages/MathOptInterface/ZJFKw/src/Utilities/functions.jl\" target=\"_blank\">C:\\Users\\tangy\\.juliapro\\JuliaPro_v1.0.5-2\\packages\\MathOptInterface\\ZJFKw\\src\\Utilities\\functions.jl:1138</a></li> <li> +<i>{T}</i>(args::<b>Union{VectorAffineFunction{T}, VectorOfVariables, VectorQuadraticFunction{T}}...</b>) in MathOptInterface.Utilities at <a href=\"file://C:/Users/tangy/.juliapro/JuliaPro_v1.0.5-2/packages/MathOptInterface/ZJFKw/src/Utilities/functions.jl\" target=\"_blank\">C:\\Users\\tangy\\.juliapro\\JuliaPro_v1.0.5-2\\packages\\MathOptInterface\\ZJFKw\\src\\Utilities\\functions.jl:1402</a></li> <li> +<i>{T}</i>(f::<b>Union{VectorAffineFunction{T}, VectorOfVariables, VectorQuadraticFunction{T}}</b>, α::<b>Array{T,1}</b>) in MathOptInterface.Utilities at <a href=\"file://C:/Users/tangy/.juliapro/JuliaPro_v1.0.5-2/packages/MathOptInterface/ZJFKw/src/Utilities/functions.jl\" target=\"_blank\">C:\\Users\\tangy\\.juliapro\\JuliaPro_v1.0.5-2\\packages\\MathOptInterface\\ZJFKw\\src\\Utilities\\functions.jl:1410</a></li> <li> +(z1::<b>RobotDynamics.AbstractKnotPoint</b>, z2::<b>RobotDynamics.AbstractKnotPoint</b>) in RobotDynamics at <a href=\"file://C:/Users/tangy/.juliapro/JuliaPro_v1.0.5-2/packages/RobotDynamics/xquSI/src/knotpoint.jl\" target=\"_blank\">C:\\Users\\tangy\\.juliapro\\JuliaPro_v1.0.5-2\\packages\\RobotDynamics\\xquSI\\src\\knotpoint.jl:202</a></li> <li> +(z1::<b>RobotDynamics.AbstractKnotPoint</b>, x::<b>AbstractArray{T,1} where T</b>) in RobotDynamics at <a href=\"file://C:/Users/tangy/.juliapro/JuliaPro_v1.0.5-2/packages/RobotDynamics/xquSI/src/knotpoint.jl\" target=\"_blank\">C:\\Users\\tangy\\.juliapro\\JuliaPro_v1.0.5-2\\packages\\RobotDynamics\\xquSI\\src\\knotpoint.jl:206</a></li> <li> +(c1::<b>TrajectoryOptimization.QuadraticCostFunction</b>, c2::<b>TrajectoryOptimization.QuadraticCostFunction</b>) in TrajectoryOptimization at <a href=\"file://C:/Users/tangy/.juliapro/JuliaPro_v1.0.5-2/packages/TrajectoryOptimization/ub6DZ/src/costfunctions.jl\" target=\"_blank\">C:\\Users\\tangy\\.juliapro\\JuliaPro_v1.0.5-2\\packages\\TrajectoryOptimization\\ub6DZ\\src\\costfunctions.jl:160</a></li> <li> +<i>{C<:Union{LMS, XYZ}}</i>(a::<b>C</b>, b::<b>C</b>) in Colors at <a href=\"file://C:/Users/tangy/.juliapro/JuliaPro_v1.0.5-2/packages/Colors/kc2v8/src/algorithms.jl\" target=\"_blank\">C:\\Users\\tangy\\.juliapro\\JuliaPro_v1.0.5-2\\packages\\Colors\\kc2v8\\src\\algorithms.jl:4</a></li> <li> +<i>{U}</i>(a::<b>Measures.Length{U,T} where T</b>, b::<b>Measures.Length{U,T} where T</b>) in Measures at <a href=\"file://C:/Users/tangy/.juliapro/JuliaPro_v1.0.5-2/packages/Measures/0Zkai/src/length.jl\" target=\"_blank\">C:\\Users\\tangy\\.juliapro\\JuliaPro_v1.0.5-2\\packages\\Measures\\0Zkai\\src\\length.jl:28</a></li> <li> +(a::<b>Measures.Measure</b>, b::<b>Measures.Measure</b>) in Measures at <a href=\"file://C:/Users/tangy/.juliapro/JuliaPro_v1.0.5-2/packages/Measures/0Zkai/src/operations.jl\" target=\"_blank\">C:\\Users\\tangy\\.juliapro\\JuliaPro_v1.0.5-2\\packages\\Measures\\0Zkai\\src\\operations.jl:41</a></li> <li> +<i>{N}</i>(a::<b>Tuple{Vararg{Measures.Measure,N}}</b>, b::<b>Tuple{Vararg{Measures.Measure,N}}</b>) in Measures at <a href=\"file://C:/Users/tangy/.juliapro/JuliaPro_v1.0.5-2/packages/Measures/0Zkai/src/point.jl\" target=\"_blank\">C:\\Users\\tangy\\.juliapro\\JuliaPro_v1.0.5-2\\packages\\Measures\\0Zkai\\src\\point.jl:22</a></li> <li> +(a::<b>Tuple{Vararg{Measures.Measure,N}} where N</b>, b::<b>Tuple{Vararg{Measures.Measure,N}} where N</b>) in Measures at <a href=\"file://C:/Users/tangy/.juliapro/JuliaPro_v1.0.5-2/packages/Measures/0Zkai/src/point.jl\" target=\"_blank\">C:\\Users\\tangy\\.juliapro\\JuliaPro_v1.0.5-2\\packages\\Measures\\0Zkai\\src\\point.jl:15</a></li> <li> +<i>{N, T}</i>(h::<b>GeometryTypes.HyperRectangle{N,T}</b>, move::<b>GeometryTypes.Vec{N,T} where T</b>) in GeometryTypes at <a href=\"file://C:/Users/tangy/.juliapro/JuliaPro_v1.0.5-2/packages/GeometryTypes/Xxur0/src/hyperrectangles.jl\" target=\"_blank\">C:\\Users\\tangy\\.juliapro\\JuliaPro_v1.0.5-2\\packages\\GeometryTypes\\Xxur0\\src\\hyperrectangles.jl:202</a></li> <li> +<i>{T}</i>(h::<b>GeometryTypes.SimpleRectangle{T}</b>, move::<b>GeometryTypes.Vec{2,T} where T</b>) in GeometryTypes at <a href=\"file://C:/Users/tangy/.juliapro/JuliaPro_v1.0.5-2/packages/GeometryTypes/Xxur0/src/hyperrectangles.jl\" target=\"_blank\">C:\\Users\\tangy\\.juliapro\\JuliaPro_v1.0.5-2\\packages\\GeometryTypes\\Xxur0\\src\\hyperrectangles.jl:209</a></li> <li> +(bb1::<b>Measures.BoundingBox</b>, bb2::<b>Measures.BoundingBox</b>) in Plots at <a href=\"file://C:/Users/tangy/.juliapro/JuliaPro_v1.0.5-2/packages/Plots/E3MWZ/src/layouts.jl\" target=\"_blank\">C:\\Users\\tangy\\.juliapro\\JuliaPro_v1.0.5-2\\packages\\Plots\\E3MWZ\\src\\layouts.jl:49</a></li> <li> +(x, ::<b>MutableArithmetics.Zero</b>) in MutableArithmetics at <a href=\"file://C:/Users/tangy/.juliapro/JuliaPro_v1.0.5-2/packages/MutableArithmetics/0tlz5/src/rewrite.jl\" target=\"_blank\">C:\\Users\\tangy\\.juliapro\\JuliaPro_v1.0.5-2\\packages\\MutableArithmetics\\0tlz5\\src\\rewrite.jl:53</a></li> <li> +<i>{T}</i>(α::<b>T</b>, arg::<b>Union{ScalarAffineFunction{T}, ScalarQuadraticFunction{T}}</b>, args::<b>Union{SingleVariable, ScalarAffineFunction{T}, ScalarQuadraticFunction{T}}...</b>) in MathOptInterface.Utilities at <a href=\"file://C:/Users/tangy/.juliapro/JuliaPro_v1.0.5-2/packages/MathOptInterface/ZJFKw/src/Utilities/functions.jl\" target=\"_blank\">C:\\Users\\tangy\\.juliapro\\JuliaPro_v1.0.5-2\\packages\\MathOptInterface\\ZJFKw\\src\\Utilities\\functions.jl:1132</a></li> <li> +(a, b, c, xs...) in Base at <a href=\"https://github.com/JuliaLang/julia/tree/3af96bcefcb0aec559d4652fd75e1bc3fcfe99da/base/operators.jl#L502\" target=\"_blank\">operators.jl:502</a></li> </ul>"
      ],
      "text/plain": [
       "# 217 methods for generic function \"+\":\n",
       "[1] +(x::Bool, z::Complex{Bool}) in Base at complex.jl:277\n",
       "[2] +(x::Bool, y::Bool) in Base at bool.jl:104\n",
       "[3] +(x::Bool) in Base at bool.jl:101\n",
       "[4] +(x::Bool, y::T) where T<:AbstractFloat in Base at bool.jl:112\n",
       "[5] +(x::Bool, z::Complex) in Base at complex.jl:284\n",
       "[6] +(a::Float16, b::Float16) in Base at float.jl:392\n",
       "[7] +(x::Float32, y::Float32) in Base at float.jl:394\n",
       "[8] +(x::Float64, y::Float64) in Base at float.jl:395\n",
       "[9] +(z::Complex{Bool}, x::Bool) in Base at complex.jl:278\n",
       "[10] +(z::Complex{Bool}, x::Real) in Base at complex.jl:292\n",
       "[11] +(::Missing, ::Missing) in Base at missing.jl:92\n",
       "[12] +(::Missing) in Base at missing.jl:79\n",
       "[13] +(::Missing, ::Number) in Base at missing.jl:93\n",
       "[14] +(level::Base.CoreLogging.LogLevel, inc::Integer) in Base.CoreLogging at logging.jl:106\n",
       "[15] +(c::BigInt, x::BigFloat) in Base.MPFR at mpfr.jl:353\n",
       "[16] +(a::BigInt, b::BigInt, c::BigInt, d::BigInt, e::BigInt) in Base.GMP at gmp.jl:443\n",
       "[17] +(a::BigInt, b::BigInt, c::BigInt, d::BigInt) in Base.GMP at gmp.jl:442\n",
       "[18] +(a::BigInt, b::BigInt, c::BigInt) in Base.GMP at gmp.jl:441\n",
       "[19] +(x::BigInt, y::BigInt) in Base.GMP at gmp.jl:412\n",
       "[20] +(x::BigInt, c::Union{UInt16, UInt32, UInt8}) in Base.GMP at gmp.jl:449\n",
       "[21] +(x::BigInt, c::Union{Int16, Int32, Int8}) in Base.GMP at gmp.jl:455\n",
       "[22] +(a::BigFloat, b::BigFloat, c::BigFloat, d::BigFloat, e::BigFloat) in Base.MPFR at mpfr.jl:503\n",
       "[23] +(a::BigFloat, b::BigFloat, c::BigFloat, d::BigFloat) in Base.MPFR at mpfr.jl:496\n",
       "[24] +(a::BigFloat, b::BigFloat, c::BigFloat) in Base.MPFR at mpfr.jl:490\n",
       "[25] +(x::BigFloat, c::BigInt) in Base.MPFR at mpfr.jl:349\n",
       "[26] +(x::BigFloat, y::BigFloat) in Base.MPFR at mpfr.jl:318\n",
       "[27] +(x::BigFloat, c::Union{UInt16, UInt32, UInt8}) in Base.MPFR at mpfr.jl:325\n",
       "[28] +(x::BigFloat, c::Union{Int16, Int32, Int8}) in Base.MPFR at mpfr.jl:333\n",
       "[29] +(x::BigFloat, c::Union{Float16, Float32, Float64}) in Base.MPFR at mpfr.jl:341\n",
       "[30] +(x::Dates.CompoundPeriod, y::Dates.CompoundPeriod) in Dates at C:\\Users\\julia\\AppData\\Local\\Julia-1.0.5\\share\\julia\\stdlib\\v1.0\\Dates\\src\\periods.jl:355\n",
       "[31] +(x::Dates.CompoundPeriod, y::Dates.Period) in Dates at C:\\Users\\julia\\AppData\\Local\\Julia-1.0.5\\share\\julia\\stdlib\\v1.0\\Dates\\src\\periods.jl:353\n",
       "[32] +(x::Dates.CompoundPeriod, y::Dates.TimeType) in Dates at C:\\Users\\julia\\AppData\\Local\\Julia-1.0.5\\share\\julia\\stdlib\\v1.0\\Dates\\src\\periods.jl:391\n",
       "[33] +(x::Dates.Date, y::Dates.Day) in Dates at C:\\Users\\julia\\AppData\\Local\\Julia-1.0.5\\share\\julia\\stdlib\\v1.0\\Dates\\src\\arithmetic.jl:78\n",
       "[34] +(x::Dates.Date, y::Dates.Week) in Dates at C:\\Users\\julia\\AppData\\Local\\Julia-1.0.5\\share\\julia\\stdlib\\v1.0\\Dates\\src\\arithmetic.jl:76\n",
       "[35] +(dt::Dates.Date, z::Dates.Month) in Dates at C:\\Users\\julia\\AppData\\Local\\Julia-1.0.5\\share\\julia\\stdlib\\v1.0\\Dates\\src\\arithmetic.jl:59\n",
       "[36] +(dt::Dates.Date, y::Dates.Year) in Dates at C:\\Users\\julia\\AppData\\Local\\Julia-1.0.5\\share\\julia\\stdlib\\v1.0\\Dates\\src\\arithmetic.jl:32\n",
       "[37] +(dt::Dates.Date, t::Dates.Time) in Dates at C:\\Users\\julia\\AppData\\Local\\Julia-1.0.5\\share\\julia\\stdlib\\v1.0\\Dates\\src\\arithmetic.jl:20\n",
       "[38] +(t::Dates.Time, dt::Dates.Date) in Dates at C:\\Users\\julia\\AppData\\Local\\Julia-1.0.5\\share\\julia\\stdlib\\v1.0\\Dates\\src\\arithmetic.jl:24\n",
       "[39] +(x::Dates.Time, y::Dates.TimePeriod) in Dates at C:\\Users\\julia\\AppData\\Local\\Julia-1.0.5\\share\\julia\\stdlib\\v1.0\\Dates\\src\\arithmetic.jl:82\n",
       "[40] +(dt::Dates.DateTime, z::Dates.Month) in Dates at C:\\Users\\julia\\AppData\\Local\\Julia-1.0.5\\share\\julia\\stdlib\\v1.0\\Dates\\src\\arithmetic.jl:52\n",
       "[41] +(dt::Dates.DateTime, y::Dates.Year) in Dates at C:\\Users\\julia\\AppData\\Local\\Julia-1.0.5\\share\\julia\\stdlib\\v1.0\\Dates\\src\\arithmetic.jl:28\n",
       "[42] +(x::Dates.DateTime, y::Dates.Period) in Dates at C:\\Users\\julia\\AppData\\Local\\Julia-1.0.5\\share\\julia\\stdlib\\v1.0\\Dates\\src\\arithmetic.jl:80\n",
       "[43] +(B::BitArray{2}, J::LinearAlgebra.UniformScaling) in LinearAlgebra at C:\\Users\\julia\\AppData\\Local\\Julia-1.0.5\\share\\julia\\stdlib\\v1.0\\LinearAlgebra\\src\\uniformscaling.jl:88\n",
       "[44] +(a::Pkg.Resolve.VersionWeights.VersionWeight, b::Pkg.Resolve.VersionWeights.VersionWeight) in Pkg.Resolve.VersionWeights at C:\\Users\\julia\\AppData\\Local\\Julia-1.0.5\\share\\julia\\stdlib\\v1.0\\Pkg\\src\\resolve\\VersionWeights.jl:26\n",
       "[45] +(a::Pkg.Resolve.MaxSum.FieldValues.FieldValue, b::Pkg.Resolve.MaxSum.FieldValues.FieldValue) in Pkg.Resolve.MaxSum.FieldValues at C:\\Users\\julia\\AppData\\Local\\Julia-1.0.5\\share\\julia\\stdlib\\v1.0\\Pkg\\src\\resolve\\FieldValues.jl:49\n",
       "[46] +(z::MutableArithmetics.Zero, ::MutableArithmetics.Zero) in MutableArithmetics at C:\\Users\\tangy\\.juliapro\\JuliaPro_v1.0.5-2\\packages\\MutableArithmetics\\0tlz5\\src\\rewrite.jl:54\n",
       "[47] +(::MutableArithmetics.Zero, x) in MutableArithmetics at C:\\Users\\tangy\\.juliapro\\JuliaPro_v1.0.5-2\\packages\\MutableArithmetics\\0tlz5\\src\\rewrite.jl:52\n",
       "[48] +(f::MathOptInterface.SingleVariable, α::Number) in MathOptInterface.Utilities at C:\\Users\\tangy\\.juliapro\\JuliaPro_v1.0.5-2\\packages\\MathOptInterface\\ZJFKw\\src\\Utilities\\functions.jl:1141\n",
       "[49] +(y::AbstractFloat, x::Bool) in Base at bool.jl:114\n",
       "[50] +(x::T, y::T) where T<:Union{Int128, Int16, Int32, Int64, Int8, UInt128, UInt16, UInt32, UInt64, UInt8} in Base at int.jl:53\n",
       "[51] +(c::Union{UInt16, UInt32, UInt8}, x::BigInt) in Base.GMP at gmp.jl:450\n",
       "[52] +(c::Union{Int16, Int32, Int8}, x::BigInt) in Base.GMP at gmp.jl:456\n",
       "[53] +(x::GeometryTypes.OffsetInteger{O,T} where T<:Integer, y::GeometryTypes.OffsetInteger{O,T} where T<:Integer) where O in GeometryTypes at C:\\Users\\tangy\\.juliapro\\JuliaPro_v1.0.5-2\\packages\\GeometryTypes\\Xxur0\\src\\faces.jl:32\n",
       "[54] +(a::Integer, b::Integer) in Base at int.jl:800\n",
       "[55] +(x::Integer, y::Ptr) in Base at pointer.jl:157\n",
       "[56] +(z::Complex, w::Complex) in Base at complex.jl:266\n",
       "[57] +(z::Complex, x::Bool) in Base at complex.jl:285\n",
       "[58] +(x::Real, z::Complex{Bool}) in Base at complex.jl:291\n",
       "[59] +(x::Real, z::Complex) in Base at complex.jl:303\n",
       "[60] +(z::Complex, x::Real) in Base at complex.jl:304\n",
       "[61] +(x::Rational, y::Rational) in Base at rational.jl:252\n",
       "[62] +(x::Integer, y::AbstractChar) in Base at char.jl:208\n",
       "[63] +(c::Union{UInt16, UInt32, UInt8}, x::BigFloat) in Base.MPFR at mpfr.jl:329\n",
       "[64] +(c::Union{Int16, Int32, Int8}, x::BigFloat) in Base.MPFR at mpfr.jl:337\n",
       "[65] +(c::Union{Float16, Float32, Float64}, x::BigFloat) in Base.MPFR at mpfr.jl:345\n",
       "[66] +(x::AbstractIrrational, y::AbstractIrrational) in Base at irrationals.jl:133\n",
       "[67] +(x::ForwardDiff.Dual{Txy,V,N} where N where V, y::ForwardDiff.Dual{Txy,V,N} where N where V) where Txy in ForwardDiff at C:\\Users\\tangy\\.juliapro\\JuliaPro_v1.0.5-2\\packages\\ForwardDiff\\qTmqf\\src\\dual.jl:134\n",
       "[68] +(x::ForwardDiff.Dual{Tx,V,N} where N where V, y::ForwardDiff.Dual{Ty,V,N} where N where V) where {Tx, Ty} in ForwardDiff at C:\\Users\\tangy\\.juliapro\\JuliaPro_v1.0.5-2\\packages\\ForwardDiff\\qTmqf\\src\\dual.jl:135\n",
       "[69] +(x::ForwardDiff.Dual{Tx,V,N} where N where V, y::AbstractFloat) where Tx in ForwardDiff at C:\\Users\\tangy\\.juliapro\\JuliaPro_v1.0.5-2\\packages\\ForwardDiff\\qTmqf\\src\\dual.jl:139\n",
       "[70] +(x::AbstractFloat, y::ForwardDiff.Dual{Ty,V,N} where N where V) where Ty in ForwardDiff at C:\\Users\\tangy\\.juliapro\\JuliaPro_v1.0.5-2\\packages\\ForwardDiff\\qTmqf\\src\\dual.jl:140\n",
       "[71] +(x::ForwardDiff.Dual{Tx,V,N} where N where V, y::Irrational) where Tx in ForwardDiff at C:\\Users\\tangy\\.juliapro\\JuliaPro_v1.0.5-2\\packages\\ForwardDiff\\qTmqf\\src\\dual.jl:139\n",
       "[72] +(x::Irrational, y::ForwardDiff.Dual{Ty,V,N} where N where V) where Ty in ForwardDiff at C:\\Users\\tangy\\.juliapro\\JuliaPro_v1.0.5-2\\packages\\ForwardDiff\\qTmqf\\src\\dual.jl:140\n",
       "[73] +(x::ForwardDiff.Dual{Tx,V,N} where N where V, y::Integer) where Tx in ForwardDiff at C:\\Users\\tangy\\.juliapro\\JuliaPro_v1.0.5-2\\packages\\ForwardDiff\\qTmqf\\src\\dual.jl:139\n",
       "[74] +(x::Integer, y::ForwardDiff.Dual{Ty,V,N} where N where V) where Ty in ForwardDiff at C:\\Users\\tangy\\.juliapro\\JuliaPro_v1.0.5-2\\packages\\ForwardDiff\\qTmqf\\src\\dual.jl:140\n",
       "[75] +(x::ForwardDiff.Dual{Tx,V,N} where N where V, y::Rational) where Tx in ForwardDiff at C:\\Users\\tangy\\.juliapro\\JuliaPro_v1.0.5-2\\packages\\ForwardDiff\\qTmqf\\src\\dual.jl:139\n",
       "[76] +(x::Rational, y::ForwardDiff.Dual{Ty,V,N} where N where V) where Ty in ForwardDiff at C:\\Users\\tangy\\.juliapro\\JuliaPro_v1.0.5-2\\packages\\ForwardDiff\\qTmqf\\src\\dual.jl:140\n",
       "[77] +(x::ForwardDiff.Dual{Tx,V,N} where N where V, y::Real) where Tx in ForwardDiff at C:\\Users\\tangy\\.juliapro\\JuliaPro_v1.0.5-2\\packages\\ForwardDiff\\qTmqf\\src\\dual.jl:139\n",
       "[78] +(x::Real, y::ForwardDiff.Dual{Ty,V,N} where N where V) where Ty in ForwardDiff at C:\\Users\\tangy\\.juliapro\\JuliaPro_v1.0.5-2\\packages\\ForwardDiff\\qTmqf\\src\\dual.jl:140\n",
       "[79] +(x::ForwardDiff.Dual{Tx,V,N} where N where V, y::RoundingMode) where Tx in ForwardDiff at C:\\Users\\tangy\\.juliapro\\JuliaPro_v1.0.5-2\\packages\\ForwardDiff\\qTmqf\\src\\dual.jl:139\n",
       "[80] +(x::X, y::X) where X<:FixedPointNumbers.FixedPoint in FixedPointNumbers at C:\\Users\\tangy\\.juliapro\\JuliaPro_v1.0.5-2\\packages\\FixedPointNumbers\\HAGk2\\src\\FixedPointNumbers.jl:237\n",
       "[81] +(x::Number) in Base at operators.jl:477\n",
       "[82] +(x::T, y::T) where T<:Number in Base at promotion.jl:411\n",
       "[83] +(x::Number, y::Number) in Base at promotion.jl:313\n",
       "[84] +(r1::OrdinalRange, r2::OrdinalRange) in Base at range.jl:978\n",
       "[85] +(r1::LinRange{T}, r2::LinRange{T}) where T in Base at range.jl:985\n",
       "[86] +(r1::StepRangeLen{T,R,S} where S, r2::StepRangeLen{T,R,S} where S) where {R<:TwicePrecision, T} in Base at twiceprecision.jl:557\n",
       "[87] +(r1::StepRangeLen{T,S,S1} where S1, r2::StepRangeLen{T,S,S1} where S1) where {T, S} in Base at range.jl:1001\n",
       "[88] +(r1::Union{LinRange, OrdinalRange, StepRangeLen}, r2::Union{LinRange, OrdinalRange, StepRangeLen}) in Base at range.jl:993\n",
       "[89] +(x::Ptr, y::Integer) in Base at pointer.jl:155\n",
       "[90] +(x::Base.TwicePrecision, y::Number) in Base at twiceprecision.jl:265\n",
       "[91] +(x::Number, y::Base.TwicePrecision) in Base at twiceprecision.jl:268\n",
       "[92] +(x::Base.TwicePrecision{T}, y::Base.TwicePrecision{T}) where T in Base at twiceprecision.jl:271\n",
       "[93] +(x::Base.TwicePrecision, y::Base.TwicePrecision) in Base at twiceprecision.jl:275\n",
       "[94] +(A::Array, Bs::Array...) in Base at arraymath.jl:44\n",
       "[95] +(A::BitArray, B::BitArray) in Base at bitarray.jl:1075\n",
       "[96] +(A::Array{T,2} where T, B::LinearAlgebra.Diagonal) in LinearAlgebra at C:\\Users\\julia\\AppData\\Local\\Julia-1.0.5\\share\\julia\\stdlib\\v1.0\\LinearAlgebra\\src\\special.jl:88\n",
       "[97] +(A::Array{T,2} where T, B::LinearAlgebra.Bidiagonal) in LinearAlgebra at C:\\Users\\julia\\AppData\\Local\\Julia-1.0.5\\share\\julia\\stdlib\\v1.0\\LinearAlgebra\\src\\special.jl:88\n",
       "[98] +(A::Array{T,2} where T, B::LinearAlgebra.Tridiagonal) in LinearAlgebra at C:\\Users\\julia\\AppData\\Local\\Julia-1.0.5\\share\\julia\\stdlib\\v1.0\\LinearAlgebra\\src\\special.jl:88\n",
       "[99] +(A::Array{T,2} where T, B::LinearAlgebra.SymTridiagonal) in LinearAlgebra at C:\\Users\\julia\\AppData\\Local\\Julia-1.0.5\\share\\julia\\stdlib\\v1.0\\LinearAlgebra\\src\\special.jl:97\n",
       "[100] +(A::Array{T,2} where T, B::LinearAlgebra.AbstractTriangular) in LinearAlgebra at C:\\Users\\julia\\AppData\\Local\\Julia-1.0.5\\share\\julia\\stdlib\\v1.0\\LinearAlgebra\\src\\special.jl:125\n",
       "[101] +(A::Array, B::SparseArrays.SparseMatrixCSC) in SparseArrays at C:\\Users\\julia\\AppData\\Local\\Julia-1.0.5\\share\\julia\\stdlib\\v1.0\\SparseArrays\\src\\sparsematrix.jl:1584\n",
       "[102] +(α::Array{T,1}, f::Union{VectorAffineFunction{T}, VectorOfVariables, VectorQuadraticFunction{T}}, g::Union{VectorAffineFunction{T}, VectorOfVariables, VectorQuadraticFunction{T}}...) where T in MathOptInterface.Utilities at C:\\Users\\tangy\\.juliapro\\JuliaPro_v1.0.5-2\\packages\\MathOptInterface\\ZJFKw\\src\\Utilities\\functions.jl:1407\n",
       "[103] +(x::Union{DenseArray{#s546,N}, ReinterpretArray{#s546,N,S,A} where S where A<:Union{SubArray{T,N,A,I,true} where I<:Tuple{AbstractUnitRange,Vararg{Any,N} where N} where A<:DenseArray where N where T, DenseArray}, ReshapedArray{#s546,N,A,MI} where MI<:Tuple{Vararg{SignedMultiplicativeInverse{Int64},N} where N} where A<:Union{ReinterpretArray{T,N,S,A} where S where A<:Union{SubArray{T,N,A,I,true} where I<:Tuple{AbstractUnitRange,Vararg{Any,N} where N} where A<:DenseArray where N where T, DenseArray} where N where T, SubArray{T,N,A,I,true} where I<:Tuple{AbstractUnitRange,Vararg{Any,N} where N} where A<:DenseArray where N where T, DenseArray}, SubArray{#s546,N,A,I,L} where L where I<:Tuple{Vararg{Union{Int64, AbstractRange{Int64}, AbstractCartesianIndex},N} where N} where A<:Union{ReinterpretArray{T,N,S,A} where S where A<:Union{SubArray{T,N,A,I,true} where I<:Tuple{AbstractUnitRange,Vararg{Any,N} where N} where A<:DenseArray where N where T, DenseArray} where N where T, ReshapedArray{T,N,A,MI} where MI<:Tuple{Vararg{SignedMultiplicativeInverse{Int64},N} where N} where A<:Union{ReinterpretArray{T,N,S,A} where S where A<:Union{SubArray{T,N,A,I,true} where I<:Tuple{AbstractUnitRange,Vararg{Any,N} where N} where A<:DenseArray where N where T, DenseArray} where N where T, SubArray{T,N,A,I,true} where I<:Tuple{AbstractUnitRange,Vararg{Any,N} where N} where A<:DenseArray where N where T, DenseArray} where N where T, DenseArray}} where N where #s546<:Union{CompoundPeriod, Period}) in Dates at C:\\Users\\julia\\AppData\\Local\\Julia-1.0.5\\share\\julia\\stdlib\\v1.0\\Dates\\src\\periods.jl:364\n",
       "[104] +(X::Union{DenseArray{#s546,N}, ReinterpretArray{#s546,N,S,A} where S where A<:Union{SubArray{T,N,A,I,true} where I<:Tuple{AbstractUnitRange,Vararg{Any,N} where N} where A<:DenseArray where N where T, DenseArray}, ReshapedArray{#s546,N,A,MI} where MI<:Tuple{Vararg{SignedMultiplicativeInverse{Int64},N} where N} where A<:Union{ReinterpretArray{T,N,S,A} where S where A<:Union{SubArray{T,N,A,I,true} where I<:Tuple{AbstractUnitRange,Vararg{Any,N} where N} where A<:DenseArray where N where T, DenseArray} where N where T, SubArray{T,N,A,I,true} where I<:Tuple{AbstractUnitRange,Vararg{Any,N} where N} where A<:DenseArray where N where T, DenseArray}, SubArray{#s546,N,A,I,L} where L where I<:Tuple{Vararg{Union{Int64, AbstractRange{Int64}, AbstractCartesianIndex},N} where N} where A<:Union{ReinterpretArray{T,N,S,A} where S where A<:Union{SubArray{T,N,A,I,true} where I<:Tuple{AbstractUnitRange,Vararg{Any,N} where N} where A<:DenseArray where N where T, DenseArray} where N where T, ReshapedArray{T,N,A,MI} where MI<:Tuple{Vararg{SignedMultiplicativeInverse{Int64},N} where N} where A<:Union{ReinterpretArray{T,N,S,A} where S where A<:Union{SubArray{T,N,A,I,true} where I<:Tuple{AbstractUnitRange,Vararg{Any,N} where N} where A<:DenseArray where N where T, DenseArray} where N where T, SubArray{T,N,A,I,true} where I<:Tuple{AbstractUnitRange,Vararg{Any,N} where N} where A<:DenseArray where N where T, DenseArray} where N where T, DenseArray}} where N where #s546<:Union{CompoundPeriod, Period}, Y::Union{DenseArray{#s545,N}, ReinterpretArray{#s545,N,S,A} where S where A<:Union{SubArray{T,N,A,I,true} where I<:Tuple{AbstractUnitRange,Vararg{Any,N} where N} where A<:DenseArray where N where T, DenseArray}, ReshapedArray{#s545,N,A,MI} where MI<:Tuple{Vararg{SignedMultiplicativeInverse{Int64},N} where N} where A<:Union{ReinterpretArray{T,N,S,A} where S where A<:Union{SubArray{T,N,A,I,true} where I<:Tuple{AbstractUnitRange,Vararg{Any,N} where N} where A<:DenseArray where N where T, DenseArray} where N where T, SubArray{T,N,A,I,true} where I<:Tuple{AbstractUnitRange,Vararg{Any,N} where N} where A<:DenseArray where N where T, DenseArray}, SubArray{#s545,N,A,I,L} where L where I<:Tuple{Vararg{Union{Int64, AbstractRange{Int64}, AbstractCartesianIndex},N} where N} where A<:Union{ReinterpretArray{T,N,S,A} where S where A<:Union{SubArray{T,N,A,I,true} where I<:Tuple{AbstractUnitRange,Vararg{Any,N} where N} where A<:DenseArray where N where T, DenseArray} where N where T, ReshapedArray{T,N,A,MI} where MI<:Tuple{Vararg{SignedMultiplicativeInverse{Int64},N} where N} where A<:Union{ReinterpretArray{T,N,S,A} where S where A<:Union{SubArray{T,N,A,I,true} where I<:Tuple{AbstractUnitRange,Vararg{Any,N} where N} where A<:DenseArray where N where T, DenseArray} where N where T, SubArray{T,N,A,I,true} where I<:Tuple{AbstractUnitRange,Vararg{Any,N} where N} where A<:DenseArray where N where T, DenseArray} where N where T, DenseArray}} where N where #s545<:Union{CompoundPeriod, Period}) in Dates at C:\\Users\\julia\\AppData\\Local\\Julia-1.0.5\\share\\julia\\stdlib\\v1.0\\Dates\\src\\periods.jl:368\n",
       "[105] +(x::Union{DenseArray{#s546,N}, ReinterpretArray{#s546,N,S,A} where S where A<:Union{SubArray{T,N,A,I,true} where I<:Tuple{AbstractUnitRange,Vararg{Any,N} where N} where A<:DenseArray where N where T, DenseArray}, ReshapedArray{#s546,N,A,MI} where MI<:Tuple{Vararg{SignedMultiplicativeInverse{Int64},N} where N} where A<:Union{ReinterpretArray{T,N,S,A} where S where A<:Union{SubArray{T,N,A,I,true} where I<:Tuple{AbstractUnitRange,Vararg{Any,N} where N} where A<:DenseArray where N where T, DenseArray} where N where T, SubArray{T,N,A,I,true} where I<:Tuple{AbstractUnitRange,Vararg{Any,N} where N} where A<:DenseArray where N where T, DenseArray}, SubArray{#s546,N,A,I,L} where L where I<:Tuple{Vararg{Union{Int64, AbstractRange{Int64}, AbstractCartesianIndex},N} where N} where A<:Union{ReinterpretArray{T,N,S,A} where S where A<:Union{SubArray{T,N,A,I,true} where I<:Tuple{AbstractUnitRange,Vararg{Any,N} where N} where A<:DenseArray where N where T, DenseArray} where N where T, ReshapedArray{T,N,A,MI} where MI<:Tuple{Vararg{SignedMultiplicativeInverse{Int64},N} where N} where A<:Union{ReinterpretArray{T,N,S,A} where S where A<:Union{SubArray{T,N,A,I,true} where I<:Tuple{AbstractUnitRange,Vararg{Any,N} where N} where A<:DenseArray where N where T, DenseArray} where N where T, SubArray{T,N,A,I,true} where I<:Tuple{AbstractUnitRange,Vararg{Any,N} where N} where A<:DenseArray where N where T, DenseArray} where N where T, DenseArray}} where N where #s546<:Union{CompoundPeriod, Period}, y::Dates.TimeType) in Dates at C:\\Users\\julia\\AppData\\Local\\Julia-1.0.5\\share\\julia\\stdlib\\v1.0\\Dates\\src\\arithmetic.jl:87\n",
       "[106] +(r::AbstractRange{#s546} where #s546<:Dates.TimeType, x::Dates.Period) in Dates at C:\\Users\\julia\\AppData\\Local\\Julia-1.0.5\\share\\julia\\stdlib\\v1.0\\Dates\\src\\ranges.jl:58\n",
       "[107] +(A::LinearAlgebra.SymTridiagonal, B::LinearAlgebra.SymTridiagonal) in LinearAlgebra at C:\\Users\\julia\\AppData\\Local\\Julia-1.0.5\\share\\julia\\stdlib\\v1.0\\LinearAlgebra\\src\\tridiag.jl:158\n",
       "[108] +(A::LinearAlgebra.Tridiagonal, B::LinearAlgebra.Tridiagonal) in LinearAlgebra at C:\\Users\\julia\\AppData\\Local\\Julia-1.0.5\\share\\julia\\stdlib\\v1.0\\LinearAlgebra\\src\\tridiag.jl:612\n",
       "[109] +(A::LinearAlgebra.UpperTriangular, B::LinearAlgebra.UpperTriangular) in LinearAlgebra at C:\\Users\\julia\\AppData\\Local\\Julia-1.0.5\\share\\julia\\stdlib\\v1.0\\LinearAlgebra\\src\\triangular.jl:487\n",
       "[110] +(A::LinearAlgebra.LowerTriangular, B::LinearAlgebra.LowerTriangular) in LinearAlgebra at C:\\Users\\julia\\AppData\\Local\\Julia-1.0.5\\share\\julia\\stdlib\\v1.0\\LinearAlgebra\\src\\triangular.jl:488\n",
       "[111] +(A::LinearAlgebra.UpperTriangular, B::LinearAlgebra.UnitUpperTriangular) in LinearAlgebra at C:\\Users\\julia\\AppData\\Local\\Julia-1.0.5\\share\\julia\\stdlib\\v1.0\\LinearAlgebra\\src\\triangular.jl:489\n",
       "[112] +(A::LinearAlgebra.LowerTriangular, B::LinearAlgebra.UnitLowerTriangular) in LinearAlgebra at C:\\Users\\julia\\AppData\\Local\\Julia-1.0.5\\share\\julia\\stdlib\\v1.0\\LinearAlgebra\\src\\triangular.jl:490\n",
       "[113] +(A::LinearAlgebra.UnitUpperTriangular, B::LinearAlgebra.UpperTriangular) in LinearAlgebra at C:\\Users\\julia\\AppData\\Local\\Julia-1.0.5\\share\\julia\\stdlib\\v1.0\\LinearAlgebra\\src\\triangular.jl:491\n",
       "[114] +(A::LinearAlgebra.UnitLowerTriangular, B::LinearAlgebra.LowerTriangular) in LinearAlgebra at C:\\Users\\julia\\AppData\\Local\\Julia-1.0.5\\share\\julia\\stdlib\\v1.0\\LinearAlgebra\\src\\triangular.jl:492\n",
       "[115] +(A::LinearAlgebra.UnitUpperTriangular, B::LinearAlgebra.UnitUpperTriangular) in LinearAlgebra at C:\\Users\\julia\\AppData\\Local\\Julia-1.0.5\\share\\julia\\stdlib\\v1.0\\LinearAlgebra\\src\\triangular.jl:493\n",
       "[116] +(A::LinearAlgebra.UnitLowerTriangular, B::LinearAlgebra.UnitLowerTriangular) in LinearAlgebra at C:\\Users\\julia\\AppData\\Local\\Julia-1.0.5\\share\\julia\\stdlib\\v1.0\\LinearAlgebra\\src\\triangular.jl:494\n",
       "[117] +(A::LinearAlgebra.AbstractTriangular, B::LinearAlgebra.AbstractTriangular) in LinearAlgebra at C:\\Users\\julia\\AppData\\Local\\Julia-1.0.5\\share\\julia\\stdlib\\v1.0\\LinearAlgebra\\src\\triangular.jl:495\n",
       "[118] +(Da::LinearAlgebra.Diagonal, Db::LinearAlgebra.Diagonal) in LinearAlgebra at C:\\Users\\julia\\AppData\\Local\\Julia-1.0.5\\share\\julia\\stdlib\\v1.0\\LinearAlgebra\\src\\diagonal.jl:152\n",
       "[119] +(A::LinearAlgebra.Bidiagonal, B::LinearAlgebra.Bidiagonal) in LinearAlgebra at C:\\Users\\julia\\AppData\\Local\\Julia-1.0.5\\share\\julia\\stdlib\\v1.0\\LinearAlgebra\\src\\bidiag.jl:305\n",
       "[120] +(UL::LinearAlgebra.UnitUpperTriangular, J::LinearAlgebra.UniformScaling) in LinearAlgebra at C:\\Users\\julia\\AppData\\Local\\Julia-1.0.5\\share\\julia\\stdlib\\v1.0\\LinearAlgebra\\src\\uniformscaling.jl:104\n",
       "[121] +(UL::LinearAlgebra.UnitLowerTriangular, J::LinearAlgebra.UniformScaling) in LinearAlgebra at C:\\Users\\julia\\AppData\\Local\\Julia-1.0.5\\share\\julia\\stdlib\\v1.0\\LinearAlgebra\\src\\uniformscaling.jl:104\n",
       "[122] +(A::SparseArrays.SparseMatrixCSC, J::LinearAlgebra.UniformScaling) in SparseArrays at C:\\Users\\julia\\AppData\\Local\\Julia-1.0.5\\share\\julia\\stdlib\\v1.0\\SparseArrays\\src\\sparsematrix.jl:3515\n",
       "[123] +(a::StaticArrays.StaticArray{Tuple{N,M},T,2} where T where M where N, b::LinearAlgebra.UniformScaling) in StaticArrays at C:\\Users\\tangy\\.juliapro\\JuliaPro_v1.0.5-2\\packages\\StaticArrays\\LJQEe\\src\\linalg.jl:28\n",
       "[124] +(A::AbstractArray{T,2} where T, J::LinearAlgebra.UniformScaling) in LinearAlgebra at C:\\Users\\julia\\AppData\\Local\\Julia-1.0.5\\share\\julia\\stdlib\\v1.0\\LinearAlgebra\\src\\uniformscaling.jl:114\n",
       "[125] +(A::LinearAlgebra.Diagonal, B::LinearAlgebra.Bidiagonal) in LinearAlgebra at C:\\Users\\julia\\AppData\\Local\\Julia-1.0.5\\share\\julia\\stdlib\\v1.0\\LinearAlgebra\\src\\special.jl:87\n",
       "[126] +(A::LinearAlgebra.Bidiagonal, B::LinearAlgebra.Diagonal) in LinearAlgebra at C:\\Users\\julia\\AppData\\Local\\Julia-1.0.5\\share\\julia\\stdlib\\v1.0\\LinearAlgebra\\src\\special.jl:88\n",
       "[127] +(A::LinearAlgebra.Diagonal, B::LinearAlgebra.Tridiagonal) in LinearAlgebra at C:\\Users\\julia\\AppData\\Local\\Julia-1.0.5\\share\\julia\\stdlib\\v1.0\\LinearAlgebra\\src\\special.jl:87\n",
       "[128] +(A::LinearAlgebra.Tridiagonal, B::LinearAlgebra.Diagonal) in LinearAlgebra at C:\\Users\\julia\\AppData\\Local\\Julia-1.0.5\\share\\julia\\stdlib\\v1.0\\LinearAlgebra\\src\\special.jl:88\n",
       "[129] +(A::LinearAlgebra.Diagonal, B::Array{T,2} where T) in LinearAlgebra at C:\\Users\\julia\\AppData\\Local\\Julia-1.0.5\\share\\julia\\stdlib\\v1.0\\LinearAlgebra\\src\\special.jl:87\n",
       "[130] +(A::LinearAlgebra.Bidiagonal, B::LinearAlgebra.Tridiagonal) in LinearAlgebra at C:\\Users\\julia\\AppData\\Local\\Julia-1.0.5\\share\\julia\\stdlib\\v1.0\\LinearAlgebra\\src\\special.jl:87\n",
       "[131] +(A::LinearAlgebra.Tridiagonal, B::LinearAlgebra.Bidiagonal) in LinearAlgebra at C:\\Users\\julia\\AppData\\Local\\Julia-1.0.5\\share\\julia\\stdlib\\v1.0\\LinearAlgebra\\src\\special.jl:88\n",
       "[132] +(A::LinearAlgebra.Bidiagonal, B::Array{T,2} where T) in LinearAlgebra at C:\\Users\\julia\\AppData\\Local\\Julia-1.0.5\\share\\julia\\stdlib\\v1.0\\LinearAlgebra\\src\\special.jl:87\n",
       "[133] +(A::LinearAlgebra.Tridiagonal, B::Array{T,2} where T) in LinearAlgebra at C:\\Users\\julia\\AppData\\Local\\Julia-1.0.5\\share\\julia\\stdlib\\v1.0\\LinearAlgebra\\src\\special.jl:87\n",
       "[134] +(A::LinearAlgebra.SymTridiagonal, B::LinearAlgebra.Tridiagonal) in LinearAlgebra at C:\\Users\\julia\\AppData\\Local\\Julia-1.0.5\\share\\julia\\stdlib\\v1.0\\LinearAlgebra\\src\\special.jl:96\n",
       "[135] +(A::LinearAlgebra.Tridiagonal, B::LinearAlgebra.SymTridiagonal) in LinearAlgebra at C:\\Users\\julia\\AppData\\Local\\Julia-1.0.5\\share\\julia\\stdlib\\v1.0\\LinearAlgebra\\src\\special.jl:97\n",
       "[136] +(A::LinearAlgebra.SymTridiagonal, B::Array{T,2} where T) in LinearAlgebra at C:\\Users\\julia\\AppData\\Local\\Julia-1.0.5\\share\\julia\\stdlib\\v1.0\\LinearAlgebra\\src\\special.jl:96\n",
       "[137] +(A::LinearAlgebra.Diagonal, B::LinearAlgebra.SymTridiagonal) in LinearAlgebra at C:\\Users\\julia\\AppData\\Local\\Julia-1.0.5\\share\\julia\\stdlib\\v1.0\\LinearAlgebra\\src\\special.jl:105\n",
       "[138] +(A::LinearAlgebra.SymTridiagonal, B::LinearAlgebra.Diagonal) in LinearAlgebra at C:\\Users\\julia\\AppData\\Local\\Julia-1.0.5\\share\\julia\\stdlib\\v1.0\\LinearAlgebra\\src\\special.jl:106\n",
       "[139] +(A::LinearAlgebra.Bidiagonal, B::LinearAlgebra.SymTridiagonal) in LinearAlgebra at C:\\Users\\julia\\AppData\\Local\\Julia-1.0.5\\share\\julia\\stdlib\\v1.0\\LinearAlgebra\\src\\special.jl:105\n",
       "[140] +(A::LinearAlgebra.SymTridiagonal, B::LinearAlgebra.Bidiagonal) in LinearAlgebra at C:\\Users\\julia\\AppData\\Local\\Julia-1.0.5\\share\\julia\\stdlib\\v1.0\\LinearAlgebra\\src\\special.jl:106\n",
       "[141] +(A::LinearAlgebra.Diagonal, B::LinearAlgebra.UpperTriangular) in LinearAlgebra at C:\\Users\\julia\\AppData\\Local\\Julia-1.0.5\\share\\julia\\stdlib\\v1.0\\LinearAlgebra\\src\\special.jl:117\n",
       "[142] +(A::LinearAlgebra.UpperTriangular, B::LinearAlgebra.Diagonal) in LinearAlgebra at C:\\Users\\julia\\AppData\\Local\\Julia-1.0.5\\share\\julia\\stdlib\\v1.0\\LinearAlgebra\\src\\special.jl:118\n",
       "[143] +(A::LinearAlgebra.Diagonal, B::LinearAlgebra.UnitUpperTriangular) in LinearAlgebra at C:\\Users\\julia\\AppData\\Local\\Julia-1.0.5\\share\\julia\\stdlib\\v1.0\\LinearAlgebra\\src\\special.jl:117\n",
       "[144] +(A::LinearAlgebra.UnitUpperTriangular, B::LinearAlgebra.Diagonal) in LinearAlgebra at C:\\Users\\julia\\AppData\\Local\\Julia-1.0.5\\share\\julia\\stdlib\\v1.0\\LinearAlgebra\\src\\special.jl:118\n",
       "[145] +(A::LinearAlgebra.Diagonal, B::LinearAlgebra.LowerTriangular) in LinearAlgebra at C:\\Users\\julia\\AppData\\Local\\Julia-1.0.5\\share\\julia\\stdlib\\v1.0\\LinearAlgebra\\src\\special.jl:117\n",
       "[146] +(A::LinearAlgebra.LowerTriangular, B::LinearAlgebra.Diagonal) in LinearAlgebra at C:\\Users\\julia\\AppData\\Local\\Julia-1.0.5\\share\\julia\\stdlib\\v1.0\\LinearAlgebra\\src\\special.jl:118\n",
       "[147] +(A::LinearAlgebra.Diagonal, B::LinearAlgebra.UnitLowerTriangular) in LinearAlgebra at C:\\Users\\julia\\AppData\\Local\\Julia-1.0.5\\share\\julia\\stdlib\\v1.0\\LinearAlgebra\\src\\special.jl:117\n",
       "[148] +(A::LinearAlgebra.UnitLowerTriangular, B::LinearAlgebra.Diagonal) in LinearAlgebra at C:\\Users\\julia\\AppData\\Local\\Julia-1.0.5\\share\\julia\\stdlib\\v1.0\\LinearAlgebra\\src\\special.jl:118\n",
       "[149] +(A::LinearAlgebra.AbstractTriangular, B::LinearAlgebra.SymTridiagonal) in LinearAlgebra at C:\\Users\\julia\\AppData\\Local\\Julia-1.0.5\\share\\julia\\stdlib\\v1.0\\LinearAlgebra\\src\\special.jl:124\n",
       "[150] +(A::LinearAlgebra.SymTridiagonal, B::LinearAlgebra.AbstractTriangular) in LinearAlgebra at C:\\Users\\julia\\AppData\\Local\\Julia-1.0.5\\share\\julia\\stdlib\\v1.0\\LinearAlgebra\\src\\special.jl:125\n",
       "[151] +(A::LinearAlgebra.AbstractTriangular, B::LinearAlgebra.Tridiagonal) in LinearAlgebra at C:\\Users\\julia\\AppData\\Local\\Julia-1.0.5\\share\\julia\\stdlib\\v1.0\\LinearAlgebra\\src\\special.jl:124\n",
       "[152] +(A::LinearAlgebra.Tridiagonal, B::LinearAlgebra.AbstractTriangular) in LinearAlgebra at C:\\Users\\julia\\AppData\\Local\\Julia-1.0.5\\share\\julia\\stdlib\\v1.0\\LinearAlgebra\\src\\special.jl:125\n",
       "[153] +(A::LinearAlgebra.AbstractTriangular, B::LinearAlgebra.Bidiagonal) in LinearAlgebra at C:\\Users\\julia\\AppData\\Local\\Julia-1.0.5\\share\\julia\\stdlib\\v1.0\\LinearAlgebra\\src\\special.jl:124\n",
       "[154] +(A::LinearAlgebra.Bidiagonal, B::LinearAlgebra.AbstractTriangular) in LinearAlgebra at C:\\Users\\julia\\AppData\\Local\\Julia-1.0.5\\share\\julia\\stdlib\\v1.0\\LinearAlgebra\\src\\special.jl:125\n",
       "[155] +(A::LinearAlgebra.AbstractTriangular, B::Array{T,2} where T) in LinearAlgebra at C:\\Users\\julia\\AppData\\Local\\Julia-1.0.5\\share\\julia\\stdlib\\v1.0\\LinearAlgebra\\src\\special.jl:124\n",
       "[156] +(A::SparseArrays.SparseMatrixCSC, B::SparseArrays.SparseMatrixCSC) in SparseArrays at C:\\Users\\julia\\AppData\\Local\\Julia-1.0.5\\share\\julia\\stdlib\\v1.0\\SparseArrays\\src\\sparsematrix.jl:1580\n",
       "[157] +(A::SparseArrays.SparseMatrixCSC, B::Array) in SparseArrays at C:\\Users\\julia\\AppData\\Local\\Julia-1.0.5\\share\\julia\\stdlib\\v1.0\\SparseArrays\\src\\sparsematrix.jl:1583\n",
       "[158] +(x::SparseArrays.AbstractSparseArray{Tv,Ti,1} where Ti where Tv, y::SparseArrays.AbstractSparseArray{Tv,Ti,1} where Ti where Tv) in SparseArrays at C:\\Users\\julia\\AppData\\Local\\Julia-1.0.5\\share\\julia\\stdlib\\v1.0\\SparseArrays\\src\\sparsevector.jl:1290\n",
       "[159] +(s1::RobotDynamics.RBState, s2::RobotDynamics.RBState) in RobotDynamics at C:\\Users\\tangy\\.juliapro\\JuliaPro_v1.0.5-2\\packages\\RobotDynamics\\xquSI\\src\\rbstate.jl:154\n",
       "[160] +(a::StaticArrays.StaticArray, b::StaticArrays.StaticArray) in StaticArrays at C:\\Users\\tangy\\.juliapro\\JuliaPro_v1.0.5-2\\packages\\StaticArrays\\LJQEe\\src\\linalg.jl:11\n",
       "[161] +(a::StaticArrays.StaticArray, b::AbstractArray) in StaticArrays at C:\\Users\\tangy\\.juliapro\\JuliaPro_v1.0.5-2\\packages\\StaticArrays\\LJQEe\\src\\linalg.jl:13\n",
       "[162] +(a::StaticArrays.SHermitianCompact, b::Number) in StaticArrays at deprecated.jl:53\n",
       "[163] +(a::StaticArrays.StaticArray, b::Number) in StaticArrays at deprecated.jl:53\n",
       "[164] +(a::ForwardDiff.Partials{0,A}, b::ForwardDiff.Partials{0,B}) where {A, B} in ForwardDiff at C:\\Users\\tangy\\.juliapro\\JuliaPro_v1.0.5-2\\packages\\ForwardDiff\\qTmqf\\src\\partials.jl:126\n",
       "[165] +(a::ForwardDiff.Partials{0,A}, b::ForwardDiff.Partials{N,B}) where {N, A, B} in ForwardDiff at C:\\Users\\tangy\\.juliapro\\JuliaPro_v1.0.5-2\\packages\\ForwardDiff\\qTmqf\\src\\partials.jl:127\n",
       "[166] +(a::ForwardDiff.Partials{N,A}, b::ForwardDiff.Partials{0,B}) where {N, A, B} in ForwardDiff at C:\\Users\\tangy\\.juliapro\\JuliaPro_v1.0.5-2\\packages\\ForwardDiff\\qTmqf\\src\\partials.jl:128\n",
       "[167] +(a::ForwardDiff.Partials{N,V} where V, b::ForwardDiff.Partials{N,V} where V) where N in ForwardDiff at C:\\Users\\tangy\\.juliapro\\JuliaPro_v1.0.5-2\\packages\\ForwardDiff\\qTmqf\\src\\partials.jl:81\n",
       "[168] +(x::AbstractArray{T,1} where T, z1::RobotDynamics.AbstractKnotPoint) in RobotDynamics at C:\\Users\\tangy\\.juliapro\\JuliaPro_v1.0.5-2\\packages\\RobotDynamics\\xquSI\\src\\knotpoint.jl:208\n",
       "[169] +(x::AbstractArray{#s57,N} where N where #s57<:Number) in Base at abstractarraymath.jl:98\n",
       "[170] +(A::AbstractArray{#s50,N} where N where #s50<:MutableArithmetics.AbstractMutable) in MutableArithmetics at C:\\Users\\tangy\\.juliapro\\JuliaPro_v1.0.5-2\\packages\\MutableArithmetics\\0tlz5\\src\\dispatch.jl:202\n",
       "[171] +(a::AbstractArray, b::StaticArrays.StaticArray) in StaticArrays at C:\\Users\\tangy\\.juliapro\\JuliaPro_v1.0.5-2\\packages\\StaticArrays\\LJQEe\\src\\linalg.jl:12\n",
       "[172] +(A::AbstractArray, B::AbstractArray) in Base at arraymath.jl:38\n",
       "[173] +(x::T, y::Integer) where T<:AbstractChar in Base at char.jl:207\n",
       "[174] +(index1::CartesianIndex{N}, index2::CartesianIndex{N}) where N in Base.IteratorsMD at multidimensional.jl:106\n",
       "[175] +(::Number, ::Missing) in Base at missing.jl:94\n",
       "[176] +(x::P, y::P) where P<:Dates.Period in Dates at C:\\Users\\julia\\AppData\\Local\\Julia-1.0.5\\share\\julia\\stdlib\\v1.0\\Dates\\src\\periods.jl:75\n",
       "[177] +(x::Dates.Period, y::Dates.Period) in Dates at C:\\Users\\julia\\AppData\\Local\\Julia-1.0.5\\share\\julia\\stdlib\\v1.0\\Dates\\src\\periods.jl:352\n",
       "[178] +(y::Dates.Period, x::Dates.CompoundPeriod) in Dates at C:\\Users\\julia\\AppData\\Local\\Julia-1.0.5\\share\\julia\\stdlib\\v1.0\\Dates\\src\\periods.jl:354\n",
       "[179] +(x::Union{CompoundPeriod, Period}) in Dates at C:\\Users\\julia\\AppData\\Local\\Julia-1.0.5\\share\\julia\\stdlib\\v1.0\\Dates\\src\\periods.jl:363\n",
       "[180] +(x::Dates.TimeType) in Dates at C:\\Users\\julia\\AppData\\Local\\Julia-1.0.5\\share\\julia\\stdlib\\v1.0\\Dates\\src\\arithmetic.jl:8\n",
       "[181] +(a::Dates.TimeType, b::Dates.Period, c::Dates.Period) in Dates at C:\\Users\\julia\\AppData\\Local\\Julia-1.0.5\\share\\julia\\stdlib\\v1.0\\Dates\\src\\periods.jl:382\n",
       "[182] +(a::Dates.TimeType, b::Dates.Period, c::Dates.Period, d::Dates.Period...) in Dates at C:\\Users\\julia\\AppData\\Local\\Julia-1.0.5\\share\\julia\\stdlib\\v1.0\\Dates\\src\\periods.jl:383\n",
       "[183] +(x::Dates.TimeType, y::Dates.CompoundPeriod) in Dates at C:\\Users\\julia\\AppData\\Local\\Julia-1.0.5\\share\\julia\\stdlib\\v1.0\\Dates\\src\\periods.jl:386\n",
       "[184] +(x::Dates.Instant) in Dates at C:\\Users\\julia\\AppData\\Local\\Julia-1.0.5\\share\\julia\\stdlib\\v1.0\\Dates\\src\\arithmetic.jl:4\n",
       "[185] +(y::Dates.Period, x::Dates.TimeType) in Dates at C:\\Users\\julia\\AppData\\Local\\Julia-1.0.5\\share\\julia\\stdlib\\v1.0\\Dates\\src\\arithmetic.jl:84\n",
       "[186] +(x::AbstractArray{#s546,N} where N where #s546<:Dates.TimeType, y::Union{CompoundPeriod, Period}) in Dates at C:\\Users\\julia\\AppData\\Local\\Julia-1.0.5\\share\\julia\\stdlib\\v1.0\\Dates\\src\\arithmetic.jl:86\n",
       "[187] +(x::Dates.Period, r::AbstractRange{#s546} where #s546<:Dates.TimeType) in Dates at C:\\Users\\julia\\AppData\\Local\\Julia-1.0.5\\share\\julia\\stdlib\\v1.0\\Dates\\src\\ranges.jl:57\n",
       "[188] +(y::Union{CompoundPeriod, Period}, x::AbstractArray{#s546,N} where N where #s546<:Dates.TimeType) in Dates at C:\\Users\\julia\\AppData\\Local\\Julia-1.0.5\\share\\julia\\stdlib\\v1.0\\Dates\\src\\arithmetic.jl:88\n",
       "[189] +(y::Dates.TimeType, x::Union{DenseArray{#s546,N}, ReinterpretArray{#s546,N,S,A} where S where A<:Union{SubArray{T,N,A,I,true} where I<:Tuple{AbstractUnitRange,Vararg{Any,N} where N} where A<:DenseArray where N where T, DenseArray}, ReshapedArray{#s546,N,A,MI} where MI<:Tuple{Vararg{SignedMultiplicativeInverse{Int64},N} where N} where A<:Union{ReinterpretArray{T,N,S,A} where S where A<:Union{SubArray{T,N,A,I,true} where I<:Tuple{AbstractUnitRange,Vararg{Any,N} where N} where A<:DenseArray where N where T, DenseArray} where N where T, SubArray{T,N,A,I,true} where I<:Tuple{AbstractUnitRange,Vararg{Any,N} where N} where A<:DenseArray where N where T, DenseArray}, SubArray{#s546,N,A,I,L} where L where I<:Tuple{Vararg{Union{Int64, AbstractRange{Int64}, AbstractCartesianIndex},N} where N} where A<:Union{ReinterpretArray{T,N,S,A} where S where A<:Union{SubArray{T,N,A,I,true} where I<:Tuple{AbstractUnitRange,Vararg{Any,N} where N} where A<:DenseArray where N where T, DenseArray} where N where T, ReshapedArray{T,N,A,MI} where MI<:Tuple{Vararg{SignedMultiplicativeInverse{Int64},N} where N} where A<:Union{ReinterpretArray{T,N,S,A} where S where A<:Union{SubArray{T,N,A,I,true} where I<:Tuple{AbstractUnitRange,Vararg{Any,N} where N} where A<:DenseArray where N where T, DenseArray} where N where T, SubArray{T,N,A,I,true} where I<:Tuple{AbstractUnitRange,Vararg{Any,N} where N} where A<:DenseArray where N where T, DenseArray} where N where T, DenseArray}} where N where #s546<:Union{CompoundPeriod, Period}) in Dates at C:\\Users\\julia\\AppData\\Local\\Julia-1.0.5\\share\\julia\\stdlib\\v1.0\\Dates\\src\\arithmetic.jl:89\n",
       "[190] +(J::LinearAlgebra.UniformScaling, x::Number) in LinearAlgebra at C:\\Users\\julia\\AppData\\Local\\Julia-1.0.5\\share\\julia\\stdlib\\v1.0\\LinearAlgebra\\src\\uniformscaling.jl:82\n",
       "[191] +(x::Number, J::LinearAlgebra.UniformScaling) in LinearAlgebra at C:\\Users\\julia\\AppData\\Local\\Julia-1.0.5\\share\\julia\\stdlib\\v1.0\\LinearAlgebra\\src\\uniformscaling.jl:83\n",
       "[192] +(J1::LinearAlgebra.UniformScaling, J2::LinearAlgebra.UniformScaling) in LinearAlgebra at C:\\Users\\julia\\AppData\\Local\\Julia-1.0.5\\share\\julia\\stdlib\\v1.0\\LinearAlgebra\\src\\uniformscaling.jl:87\n",
       "[193] +(J::LinearAlgebra.UniformScaling, B::BitArray{2}) in LinearAlgebra at C:\\Users\\julia\\AppData\\Local\\Julia-1.0.5\\share\\julia\\stdlib\\v1.0\\LinearAlgebra\\src\\uniformscaling.jl:89\n",
       "[194] +(a::LinearAlgebra.UniformScaling, b::StaticArrays.StaticArray{Tuple{N,M},T,2} where T where M where N) in StaticArrays at C:\\Users\\tangy\\.juliapro\\JuliaPro_v1.0.5-2\\packages\\StaticArrays\\LJQEe\\src\\linalg.jl:29\n",
       "[195] +(J::LinearAlgebra.UniformScaling, A::AbstractArray{T,2} where T) in LinearAlgebra at C:\\Users\\julia\\AppData\\Local\\Julia-1.0.5\\share\\julia\\stdlib\\v1.0\\LinearAlgebra\\src\\uniformscaling.jl:90\n",
       "[196] +(a::Number, b::StaticArrays.SHermitianCompact) in StaticArrays at deprecated.jl:53\n",
       "[197] +(a::Number, b::StaticArrays.StaticArray) in StaticArrays at deprecated.jl:53\n",
       "[198] +(x::RoundingMode, y::ForwardDiff.Dual{Ty,V,N} where N where V) where Ty in ForwardDiff at C:\\Users\\tangy\\.juliapro\\JuliaPro_v1.0.5-2\\packages\\ForwardDiff\\qTmqf\\src\\dual.jl:140\n",
       "[199] +(arg::Union{SingleVariable, ScalarAffineFunction{T}, ScalarQuadraticFunction{T}}, args::Union{SingleVariable, ScalarAffineFunction{T}, ScalarQuadraticFunction{T}}...) where T in MathOptInterface.Utilities at C:\\Users\\tangy\\.juliapro\\JuliaPro_v1.0.5-2\\packages\\MathOptInterface\\ZJFKw\\src\\Utilities\\functions.jl:1129\n",
       "[200] +(α::Number, f::MathOptInterface.SingleVariable) in MathOptInterface.Utilities at C:\\Users\\tangy\\.juliapro\\JuliaPro_v1.0.5-2\\packages\\MathOptInterface\\ZJFKw\\src\\Utilities\\functions.jl:1135\n",
       "[201] +(f::Union{ScalarAffineFunction{T}, ScalarQuadraticFunction{T}}, α::T) where T in MathOptInterface.Utilities at C:\\Users\\tangy\\.juliapro\\JuliaPro_v1.0.5-2\\packages\\MathOptInterface\\ZJFKw\\src\\Utilities\\functions.jl:1138\n",
       "[202] +(args::Union{VectorAffineFunction{T}, VectorOfVariables, VectorQuadraticFunction{T}}...) where T in MathOptInterface.Utilities at C:\\Users\\tangy\\.juliapro\\JuliaPro_v1.0.5-2\\packages\\MathOptInterface\\ZJFKw\\src\\Utilities\\functions.jl:1402\n",
       "[203] +(f::Union{VectorAffineFunction{T}, VectorOfVariables, VectorQuadraticFunction{T}}, α::Array{T,1}) where T in MathOptInterface.Utilities at C:\\Users\\tangy\\.juliapro\\JuliaPro_v1.0.5-2\\packages\\MathOptInterface\\ZJFKw\\src\\Utilities\\functions.jl:1410\n",
       "[204] +(z1::RobotDynamics.AbstractKnotPoint, z2::RobotDynamics.AbstractKnotPoint) in RobotDynamics at C:\\Users\\tangy\\.juliapro\\JuliaPro_v1.0.5-2\\packages\\RobotDynamics\\xquSI\\src\\knotpoint.jl:202\n",
       "[205] +(z1::RobotDynamics.AbstractKnotPoint, x::AbstractArray{T,1} where T) in RobotDynamics at C:\\Users\\tangy\\.juliapro\\JuliaPro_v1.0.5-2\\packages\\RobotDynamics\\xquSI\\src\\knotpoint.jl:206\n",
       "[206] +(c1::TrajectoryOptimization.QuadraticCostFunction, c2::TrajectoryOptimization.QuadraticCostFunction) in TrajectoryOptimization at C:\\Users\\tangy\\.juliapro\\JuliaPro_v1.0.5-2\\packages\\TrajectoryOptimization\\ub6DZ\\src\\costfunctions.jl:160\n",
       "[207] +(a::C, b::C) where C<:Union{LMS, XYZ} in Colors at C:\\Users\\tangy\\.juliapro\\JuliaPro_v1.0.5-2\\packages\\Colors\\kc2v8\\src\\algorithms.jl:4\n",
       "[208] +(a::Measures.Length{U,T} where T, b::Measures.Length{U,T} where T) where U in Measures at C:\\Users\\tangy\\.juliapro\\JuliaPro_v1.0.5-2\\packages\\Measures\\0Zkai\\src\\length.jl:28\n",
       "[209] +(a::Measures.Measure, b::Measures.Measure) in Measures at C:\\Users\\tangy\\.juliapro\\JuliaPro_v1.0.5-2\\packages\\Measures\\0Zkai\\src\\operations.jl:41\n",
       "[210] +(a::Tuple{Vararg{Measures.Measure,N}}, b::Tuple{Vararg{Measures.Measure,N}}) where N in Measures at C:\\Users\\tangy\\.juliapro\\JuliaPro_v1.0.5-2\\packages\\Measures\\0Zkai\\src\\point.jl:22\n",
       "[211] +(a::Tuple{Vararg{Measures.Measure,N}} where N, b::Tuple{Vararg{Measures.Measure,N}} where N) in Measures at C:\\Users\\tangy\\.juliapro\\JuliaPro_v1.0.5-2\\packages\\Measures\\0Zkai\\src\\point.jl:15\n",
       "[212] +(h::GeometryTypes.HyperRectangle{N,T}, move::GeometryTypes.Vec{N,T} where T) where {N, T} in GeometryTypes at C:\\Users\\tangy\\.juliapro\\JuliaPro_v1.0.5-2\\packages\\GeometryTypes\\Xxur0\\src\\hyperrectangles.jl:202\n",
       "[213] +(h::GeometryTypes.SimpleRectangle{T}, move::GeometryTypes.Vec{2,T} where T) where T in GeometryTypes at C:\\Users\\tangy\\.juliapro\\JuliaPro_v1.0.5-2\\packages\\GeometryTypes\\Xxur0\\src\\hyperrectangles.jl:209\n",
       "[214] +(bb1::Measures.BoundingBox, bb2::Measures.BoundingBox) in Plots at C:\\Users\\tangy\\.juliapro\\JuliaPro_v1.0.5-2\\packages\\Plots\\E3MWZ\\src\\layouts.jl:49\n",
       "[215] +(x, ::MutableArithmetics.Zero) in MutableArithmetics at C:\\Users\\tangy\\.juliapro\\JuliaPro_v1.0.5-2\\packages\\MutableArithmetics\\0tlz5\\src\\rewrite.jl:53\n",
       "[216] +(α::T, arg::Union{ScalarAffineFunction{T}, ScalarQuadraticFunction{T}}, args::Union{SingleVariable, ScalarAffineFunction{T}, ScalarQuadraticFunction{T}}...) where T in MathOptInterface.Utilities at C:\\Users\\tangy\\.juliapro\\JuliaPro_v1.0.5-2\\packages\\MathOptInterface\\ZJFKw\\src\\Utilities\\functions.jl:1132\n",
       "[217] +(a, b, c, xs...) in Base at operators.jl:502"
      ]
     },
     "execution_count": 15,
     "metadata": {},
     "output_type": "execute_result"
    }
   ],
   "source": [
    "methods(+)"
   ]
  },
  {
   "cell_type": "code",
   "execution_count": 16,
   "metadata": {},
   "outputs": [
    {
     "data": {
      "text/html": [
       "+<i>{T<:Union{Int128, Int16, Int32, Int64, Int8, UInt128, UInt16, UInt32, UInt64, UInt8}}</i>(x::<b>T</b>, y::<b>T</b>) in Base at <a href=\"https://github.com/JuliaLang/julia/tree/3af96bcefcb0aec559d4652fd75e1bc3fcfe99da/base/int.jl#L53\" target=\"_blank\">int.jl:53</a>"
      ],
      "text/plain": [
       "+(x::T, y::T) where T<:Union{Int128, Int16, Int32, Int64, Int8, UInt128, UInt16, UInt32, UInt64, UInt8} in Base at int.jl:53"
      ]
     },
     "execution_count": 16,
     "metadata": {},
     "output_type": "execute_result"
    }
   ],
   "source": [
    "@which 3 + 3"
   ]
  },
  {
   "cell_type": "markdown",
   "metadata": {},
   "source": [
    "basic linear algebra in Julia"
   ]
  },
  {
   "cell_type": "code",
   "execution_count": 25,
   "metadata": {},
   "outputs": [
    {
     "data": {
      "text/plain": [
       "3×6 Array{Int64,2}:\n",
       " 17  2  3  1  2  3\n",
       "  1  1  3  1  1  3\n",
       "  2  4  3  2  4  3"
      ]
     },
     "execution_count": 25,
     "metadata": {},
     "output_type": "execute_result"
    }
   ],
   "source": [
    "A = rand(1:4, 3, 3)\n",
    "B = A  # declaring a pointer, update A, also update B\n",
    "C = copy(A)\n",
    "[B C]\n",
    "A[1,1] = 17\n",
    "[B C]"
   ]
  },
  {
   "cell_type": "code",
   "execution_count": 32,
   "metadata": {},
   "outputs": [
    {
     "data": {
      "text/plain": [
       "3×3 Array{Int64,2}:\n",
       " 17  2  3\n",
       "  1  1  3\n",
       "  2  4  3"
      ]
     },
     "metadata": {},
     "output_type": "display_data"
    },
    {
     "data": {
      "text/plain": [
       "3×3 Array{Int64,2}:\n",
       " 294  43  60\n",
       "  43  21  21\n",
       "  60  21  27"
      ]
     },
     "execution_count": 32,
     "metadata": {},
     "output_type": "execute_result"
    }
   ],
   "source": [
    "x = ones(3)\n",
    "b = A * x\n",
    "display(A)\n",
    "\n",
    "# transpose\n",
    "Asym = A' + A # ' is conjugate transpose and .' is just pure transpose for real part of element\n",
    "\n",
    "# transpose multiplication\n",
    "Apd = A'A"
   ]
  },
  {
   "cell_type": "code",
   "execution_count": 31,
   "metadata": {},
   "outputs": [
    {
     "data": {
      "text/plain": [
       "3-element Array{Float64,1}:\n",
       " 1.0\n",
       " 1.0\n",
       " 1.0"
      ]
     },
     "execution_count": 31,
     "metadata": {},
     "output_type": "execute_result"
    }
   ],
   "source": [
    "# solving linear system Ax=b\n",
    "A\\b"
   ]
  },
  {
   "cell_type": "code",
   "execution_count": 35,
   "metadata": {},
   "outputs": [
    {
     "data": {
      "text/plain": [
       "3×2 Array{Int64,2}:\n",
       " 17  2\n",
       "  1  1\n",
       "  2  4"
      ]
     },
     "metadata": {},
     "output_type": "display_data"
    },
    {
     "data": {
      "text/plain": [
       "2-element Array{Float64,1}:\n",
       " 1.0825433526011556\n",
       " 1.8309826589595373"
      ]
     },
     "metadata": {},
     "output_type": "display_data"
    },
    {
     "data": {
      "text/plain": [
       "2×3 Array{Int64,2}:\n",
       " 17  2  3\n",
       "  1  1  3"
      ]
     },
     "metadata": {},
     "output_type": "display_data"
    },
    {
     "data": {
      "text/plain": [
       "3-element Array{Float64,1}:\n",
       " 1.0354609929078011 \n",
       " 0.43262411347517715\n",
       " 1.1773049645390068 "
      ]
     },
     "metadata": {},
     "output_type": "display_data"
    }
   ],
   "source": [
    "Atall = A[:,1:2]\n",
    "display(Atall)\n",
    "display(Atall\\b)\n",
    "Ashort = A[1:2,:]\n",
    "display(Ashort)\n",
    "display(Ashort\\b[1:2])"
   ]
  },
  {
   "cell_type": "markdown",
   "metadata": {},
   "source": [
    "Let's see How Fast Julia could be "
   ]
  },
  {
   "cell_type": "code",
   "execution_count": 36,
   "metadata": {},
   "outputs": [
    {
     "data": {
      "text/plain": [
       "5.000291879088092e6"
      ]
     },
     "execution_count": 36,
     "metadata": {},
     "output_type": "execute_result"
    }
   ],
   "source": [
    "a = rand(10^7)   # a very long 1D vector, lets sum them up\n",
    "sum(a)\n"
   ]
  },
  {
   "cell_type": "code",
   "execution_count": 37,
   "metadata": {},
   "outputs": [
    {
     "name": "stdout",
     "output_type": "stream",
     "text": [
      "\u001b[32m\u001b[1m Resolving\u001b[22m\u001b[39m package versions...\n",
      "\u001b[32m\u001b[1m  Updating\u001b[22m\u001b[39m `C:\\Users\\tangy\\.juliapro\\JuliaPro_v1.0.5-2\\environments\\v1.0\\Project.toml`\n",
      " \u001b[90m [6e4b80f9]\u001b[39m\u001b[92m + BenchmarkTools v0.5.0\u001b[39m\n",
      "\u001b[32m\u001b[1m  Updating\u001b[22m\u001b[39m `C:\\Users\\tangy\\.juliapro\\JuliaPro_v1.0.5-2\\environments\\v1.0\\Manifest.toml`\n",
      "\u001b[90m [no changes]\u001b[39m\n"
     ]
    }
   ],
   "source": [
    "Pkg.add(\"BenchmarkTools\")"
   ]
  },
  {
   "cell_type": "code",
   "execution_count": 41,
   "metadata": {},
   "outputs": [
    {
     "name": "stdout",
     "output_type": "stream",
     "text": [
      "\u001b[32m\u001b[1m Resolving\u001b[22m\u001b[39m package versions...\n",
      "\u001b[32m\u001b[1m Installed\u001b[22m\u001b[39m PyCall ─ v1.92.1\n",
      "\u001b[32m\u001b[1m  Updating\u001b[22m\u001b[39m `C:\\Users\\tangy\\.juliapro\\JuliaPro_v1.0.5-2\\environments\\v1.0\\Project.toml`\n",
      " \u001b[90m [438e738f]\u001b[39m\u001b[92m + PyCall v1.92.1\u001b[39m\n",
      "\u001b[32m\u001b[1m  Updating\u001b[22m\u001b[39m `C:\\Users\\tangy\\.juliapro\\JuliaPro_v1.0.5-2\\environments\\v1.0\\Manifest.toml`\n",
      " \u001b[90m [438e738f]\u001b[39m\u001b[92m + PyCall v1.92.1\u001b[39m\n",
      "\u001b[32m\u001b[1m  Building\u001b[22m\u001b[39m PyCall → `C:\\Users\\tangy\\.juliapro\\JuliaPro_v1.0.5-2\\packages\\PyCall\\BcTLp\\deps\\build.log`\n"
     ]
    }
   ],
   "source": [
    "Pkg.add(\"PyCall\")"
   ]
  },
  {
   "cell_type": "code",
   "execution_count": 42,
   "metadata": {},
   "outputs": [
    {
     "name": "stderr",
     "output_type": "stream",
     "text": [
      "┌ Info: Precompiling PyCall [438e738f-606a-5dbb-bf0a-cddfbfd45ab0]\n",
      "└ @ Base loading.jl:1192\n"
     ]
    }
   ],
   "source": [
    "using BenchmarkTools\n",
    "using PyCall"
   ]
  },
  {
   "cell_type": "code",
   "execution_count": 46,
   "metadata": {},
   "outputs": [
    {
     "data": {
      "text/plain": [
       "5.000291879088091e6"
      ]
     },
     "execution_count": 46,
     "metadata": {},
     "output_type": "execute_result"
    }
   ],
   "source": [
    "#a_py_list = PyCall.array2py(a,1,1)\n",
    "pysum = pybuiltin(\"sum\")\n",
    "pysum(a)"
   ]
  },
  {
   "cell_type": "markdown",
   "metadata": {},
   "source": [
    "Factorization and other fun"
   ]
  }
 ],
 "metadata": {
  "kernelspec": {
   "display_name": "Julia 1.0.5",
   "language": "julia",
   "name": "julia-1.0"
  },
  "language_info": {
   "file_extension": ".jl",
   "mimetype": "application/julia",
   "name": "julia",
   "version": "1.0.5"
  }
 },
 "nbformat": 4,
 "nbformat_minor": 4
}
