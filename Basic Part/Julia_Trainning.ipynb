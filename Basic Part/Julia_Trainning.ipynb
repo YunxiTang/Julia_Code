{
 "cells": [
  {
   "cell_type": "markdown",
   "metadata": {},
   "source": [
    "Julia Tutorial Note"
   ]
  },
  {
   "cell_type": "code",
   "execution_count": 2,
   "metadata": {},
   "outputs": [
    {
     "name": "stdout",
     "output_type": "stream",
     "text": [
      "I am interested in learning Julia for robotics\n"
     ]
    }
   ],
   "source": [
    "println(\"I am interested in learning Julia for robotics\")"
   ]
  },
  {
   "cell_type": "markdown",
   "metadata": {},
   "source": [
    " How to assign variables"
   ]
  },
  {
   "cell_type": "code",
   "execution_count": 5,
   "metadata": {},
   "outputs": [
    {
     "name": "stdout",
     "output_type": "stream",
     "text": [
      "Int64\n",
      "Float64\n",
      "String\n"
     ]
    }
   ],
   "source": [
    "true_answer = 64\n",
    "short_pi = 3.14\n",
    "title_name = \"TYX\"\n",
    "println(typeof(true_answer))\n",
    "println(typeof(short_pi))\n",
    "println(typeof(title_name))"
   ]
  },
  {
   "cell_type": "markdown",
   "metadata": {},
   "source": [
    "reassign value to the variable is fine"
   ]
  },
  {
   "cell_type": "code",
   "execution_count": 6,
   "metadata": {},
   "outputs": [
    {
     "name": "stdout",
     "output_type": "stream",
     "text": [
      "Int64\n"
     ]
    }
   ],
   "source": [
    "title_name = true_answer\n",
    "println(typeof(title_name))"
   ]
  },
  {
   "cell_type": "markdown",
   "metadata": {},
   "source": [
    "how to comment "
   ]
  },
  {
   "cell_type": "code",
   "execution_count": 9,
   "metadata": {},
   "outputs": [],
   "source": [
    "# this is for comments\n",
    "#=\n",
    "this is also for multiline comments\n",
    "=#"
   ]
  },
  {
   "cell_type": "markdown",
   "metadata": {},
   "source": [
    "Syntax for basic math"
   ]
  },
  {
   "cell_type": "code",
   "execution_count": 11,
   "metadata": {},
   "outputs": [
    {
     "name": "stdout",
     "output_type": "stream",
     "text": [
      "10\n"
     ]
    },
    {
     "data": {
      "text/plain": [
       "1"
      ]
     },
     "execution_count": 11,
     "metadata": {},
     "output_type": "execute_result"
    }
   ],
   "source": [
    "sum = 3 + 7\n",
    "println(sum)\n",
    "diff = 3 - 7\n",
    "product = 3 * 7\n",
    "quotient = 3 / 7\n",
    "power = 3 ^ 7\n",
    "modulus = 101 % 2 "
   ]
  },
  {
   "cell_type": "markdown",
   "metadata": {},
   "source": [
    "Strings"
   ]
  },
  {
   "cell_type": "code",
   "execution_count": 13,
   "metadata": {},
   "outputs": [
    {
     "name": "stdout",
     "output_type": "stream",
     "text": [
      "This a string\n",
      "This is also a string\n",
      "a\n",
      "This is a special \"string\" \n"
     ]
    }
   ],
   "source": [
    "s1 = \"This a string\"\n",
    "s2 = \"\"\"This is also a string\"\"\"\n",
    "s3 = 'a'\n",
    "s4 = \"\"\"This is a special \"string\" \"\"\"\n",
    "println(s1)\n",
    "println(s2)\n",
    "println(s3)\n",
    "println(s4)"
   ]
  },
  {
   "cell_type": "code",
   "execution_count": 14,
   "metadata": {},
   "outputs": [
    {
     "data": {
      "text/plain": [
       "Char"
      ]
     },
     "execution_count": 14,
     "metadata": {},
     "output_type": "execute_result"
    }
   ],
   "source": [
    "typeof(s3)"
   ]
  },
  {
   "cell_type": "code",
   "execution_count": 17,
   "metadata": {},
   "outputs": [
    {
     "name": "stdout",
     "output_type": "stream",
     "text": [
      "Hello, my name is Sarah.\n",
      "I have 10 fingers and 10 toes.\n"
     ]
    }
   ],
   "source": [
    " # use a $ sign to insert existing variables into a string\n",
    "# string interpolation\n",
    "name = \"Sarah\"\n",
    "num_finger = 10\n",
    "num_toe = 10\n",
    "\n",
    "println(\"Hello, my name is $name.\")\n",
    "println(\"I have $(num_finger) fingers and $(num_toe) toes.\")"
   ]
  },
  {
   "cell_type": "code",
   "execution_count": 32,
   "metadata": {},
   "outputs": [
    {
     "name": "stdout",
     "output_type": "stream",
     "text": [
      "How manycats do you have?\n",
      "At least 10 I guess.\n",
      "How many do you have?\n",
      "How many do you have?\n"
     ]
    }
   ],
   "source": [
    "#= string concatenation\n",
    "Three ways to do this \n",
    "=#\n",
    "\n",
    "# function: string\n",
    "s5 = string(\"How many cats\", \" do you have?\")\n",
    "println(s5)\n",
    "println(string(\"At least \", 10, \" I guess.\"))\n",
    "\n",
    "# use *\n",
    "s6 = \"How many\"\n",
    "s7 = \" do you have?\"\n",
    "s8 = s6*s7\n",
    "println(s8)\n",
    "\n",
    "# use $\n",
    "s9 = \"$s6$s7\"\n",
    "println(s9)"
   ]
  },
  {
   "cell_type": "markdown",
   "metadata": {},
   "source": [
    "DATA STRUCTURE: \n",
    "Ordered: array, tuple (we can index into them)\n",
    "Non-ordered: dictionary\n",
    "\n",
    "Mutable: Dictionary, array\n",
    "Unmutable: Tuple"
   ]
  },
  {
   "cell_type": "code",
   "execution_count": 35,
   "metadata": {},
   "outputs": [
    {
     "name": "stdout",
     "output_type": "stream",
     "text": [
      "Dict(\"Russ\"=>\"9908\",\"Sarah\"=>\"1234\",\"Lee\"=>\"5678\",\"Goeg\"=>\"86-49240\")\n",
      "Dict(\"Russ\"=>\"9908\",\"Sarah\"=>\"1234\",\"Lee\"=>\"52807\",\"Goeg\"=>\"86-49240\")\n",
      "Dict(\"Russ\"=>\"9908\",\"Lee\"=>\"52807\",\"Goeg\"=>\"86-49240\")\n"
     ]
    }
   ],
   "source": [
    "# Dictionary Initialization (Mutable, not ordered)\n",
    "TelephoneBook = Dict(\"Sarah\" => \"1234\", \"Lee\" => \"5678\", \"Russ\" => \"9908\")\n",
    " \n",
    "# add entry to dictionary\n",
    "TelephoneBook[\"Goeg\"] = \"86-49240\"\n",
    "println(TelephoneBook)\n",
    "\n",
    "# update is allowed\n",
    "TelephoneBook[\"Lee\"] = \"52807\"\n",
    "println(TelephoneBook)\n",
    "\n",
    "# use pop! to delete the entry\n",
    "pop!(TelephoneBook, \"Sarah\")\n",
    "println(TelephoneBook)\n",
    "\n",
    "# Dictionary is not indexed, dont use TelephoneBook[1]"
   ]
  },
  {
   "cell_type": "code",
   "execution_count": 34,
   "metadata": {},
   "outputs": [
    {
     "name": "stdout",
     "output_type": "stream",
     "text": [
      "a\n"
     ]
    }
   ],
   "source": [
    "# Tuple (Unmutable, orded)\n",
    "# create tupels by encloseing an \"ordered\" sequence of elements in (), index is allowed, the first is indexed with 1\n",
    "room_mate = ('a', 'c', 'd')\n",
    "println(room_mate[1])\n",
    "\n",
    "# tuples are not mutable, we cannot update it, i.e. room_mate[1] = 'd'"
   ]
  },
  {
   "cell_type": "code",
   "execution_count": 41,
   "metadata": {},
   "outputs": [
    {
     "name": "stdout",
     "output_type": "stream",
     "text": [
      "[12, 23, 54, 55, 98]\n",
      "[23, 54]\n",
      "[12, 75, 54, 55, 98]\n",
      "Any[3, 5, 7, 9, 3, 'q']\n"
     ]
    }
   ],
   "source": [
    "# Arrays (Mutable and ordered)\n",
    "# create an array by enclosing this ordered sequence of elements within []\n",
    "score = [12,23,54,55,98]\n",
    "println(score)\n",
    "println(score[2:3])\n",
    "score[2] = 75\n",
    "println(score)\n",
    "score\n",
    "\n",
    "# mixed type is allowed\n",
    "mix = [3,5,7,9,3,'q']\n",
    "println(mix)"
   ]
  },
  {
   "cell_type": "code",
   "execution_count": 2,
   "metadata": {},
   "outputs": [
    {
     "name": "stdout",
     "output_type": "stream",
     "text": [
      "[2, 4, 5, 67, 43, 84, 9]\n",
      "[2, 4, 5, 67, 43, 84, 9, 33]\n",
      "[2, 4, 5, 67, 43, 84, 9]\n",
      "[2, 21, 5, 67, 43, 84, 9]\n",
      "Array{Float64,1}[[0.0, 0.0, 2.0], [1.0, 2.0], [3.0, 3.0], [4.0, 4.0]]\n"
     ]
    },
    {
     "data": {
      "text/plain": [
       "4×3×2 Array{Float64,3}:\n",
       "[:, :, 1] =\n",
       " 0.622974  0.775998  0.946173\n",
       " 0.940046  0.430494  0.896922\n",
       " 0.890219  0.29093   0.959709\n",
       " 0.241332  0.422879  0.911347\n",
       "\n",
       "[:, :, 2] =\n",
       " 0.668176  0.557233  0.813031\n",
       " 0.114344  0.402834  0.109944\n",
       " 0.899438  0.828058  0.561753\n",
       " 0.21375   0.215303  0.757439"
      ]
     },
     "execution_count": 2,
     "metadata": {},
     "output_type": "execute_result"
    }
   ],
   "source": [
    "# we can use push! and pop! to add or remove the last element in the array\n",
    "state = [2,4,5,67,43,84,9]\n",
    "println(state)\n",
    "push!(state, 33)\n",
    "println(state)\n",
    "pop!(state)\n",
    "println(state)\n",
    "state[2] = 21\n",
    "println(state)\n",
    "\n",
    "# multidimensional arrays\n",
    "states = [[0.0,0.0,2.0],[1.0,2.0],[3.0,3.0],[4.0,4.0]]\n",
    "println(states)\n",
    "# use rand to create random arrays\n",
    "M = rand(4,3,2)\n",
    "M"
   ]
  },
  {
   "cell_type": "markdown",
   "metadata": {},
   "source": [
    "LOOPS in Julia (WHILE AND FOR LOOP)"
   ]
  },
  {
   "cell_type": "code",
   "execution_count": 9,
   "metadata": {
    "collapsed": true
   },
   "outputs": [
    {
     "name": "stdout",
     "output_type": "stream",
     "text": [
      "this is the 0 step.\n",
      "this is the 1 step.\n",
      "this is the 2 step.\n",
      "this is the 3 step.\n",
      "this is the 4 step.\n",
      "this is the 5 step.\n",
      "this is the 6 step.\n",
      "this is the 7 step.\n",
      "this is the 8 step.\n",
      "this is the 9 step.\n",
      "this is the 10 step.\n",
      "This is the book named dv\n",
      "This is the book named cs\n",
      "This is the book named csd\n",
      "This is the book named dcw\n"
     ]
    }
   ],
   "source": [
    "n = 0\n",
    "while n <= 10\n",
    "    println(\"this is the \", n, \" step.\")\n",
    "    n = n + 1\n",
    "end\n",
    "\n",
    "i = 1\n",
    "mybooks = [\"dv\",\"cs\",\"csd\",\"dcw\"]\n",
    "while i <= length(mybooks)\n",
    "    println(\"This is the book named $(mybooks[i])\")\n",
    "    i = i + 1\n",
    "end"
   ]
  },
  {
   "cell_type": "code",
   "execution_count": 12,
   "metadata": {
    "collapsed": true
   },
   "outputs": [
    {
     "name": "stdout",
     "output_type": "stream",
     "text": [
      "this is the 1 step.\n",
      "this is the 2 step.\n",
      "this is the 3 step.\n",
      "this is the 4 step.\n",
      "this is the 5 step.\n",
      "this is the 6 step.\n",
      "this is the 7 step.\n",
      "this is the 8 step.\n",
      "this is the 9 step.\n",
      "this is the 10 step.\n",
      "this book is named by dv\n",
      "this book is named by cs\n",
      "this book is named by csd\n",
      "this book is named by dcw\n"
     ]
    }
   ],
   "source": [
    "for n in 1:10\n",
    "    println(\"this is the \", n, \" step.\")\n",
    "end\n",
    "\n",
    "for book in mybooks\n",
    "    println(\"this book is named by $(book)\")\n",
    "end"
   ]
  },
  {
   "cell_type": "code",
   "execution_count": 15,
   "metadata": {
    "collapsed": true
   },
   "outputs": [
    {
     "name": "stdout",
     "output_type": "stream",
     "text": [
      "Initial A[0.0 0.0 0.0 0.0 0.0; 0.0 0.0 0.0 0.0 0.0; 0.0 0.0 0.0 0.0 0.0; 0.0 0.0 0.0 0.0 0.0; 0.0 0.0 0.0 0.0 0.0]\n"
     ]
    },
    {
     "data": {
      "text/plain": [
       "5×5 Array{Float64,2}:\n",
       " 2.0  3.0  4.0  5.0   6.0\n",
       " 3.0  4.0  5.0  6.0   7.0\n",
       " 4.0  5.0  6.0  7.0   8.0\n",
       " 5.0  6.0  7.0  8.0   9.0\n",
       " 6.0  7.0  8.0  9.0  10.0"
      ]
     },
     "execution_count": 15,
     "metadata": {},
     "output_type": "execute_result"
    }
   ],
   "source": [
    "# do an example\n",
    "m, n = 5, 5\n",
    "A = zeros(m, n)\n",
    "println(\"Initial A\", A)\n",
    "for i in 1:m\n",
    "    for j in 1:n\n",
    "        A[i,j] = i + j\n",
    "    end\n",
    "end\n",
    "A"
   ]
  },
  {
   "cell_type": "code",
   "execution_count": 16,
   "metadata": {},
   "outputs": [
    {
     "data": {
      "text/plain": [
       "5×5 Array{Float64,2}:\n",
       " 2.0  3.0  4.0  5.0   6.0\n",
       " 3.0  4.0  5.0  6.0   7.0\n",
       " 4.0  5.0  6.0  7.0   8.0\n",
       " 5.0  6.0  7.0  8.0   9.0\n",
       " 6.0  7.0  8.0  9.0  10.0"
      ]
     },
     "execution_count": 16,
     "metadata": {},
     "output_type": "execute_result"
    }
   ],
   "source": [
    "B = zeros(m, n)\n",
    "for i in 1:m, j in 1:n\n",
    "    B[i,j] = i+j\n",
    "end\n",
    "B"
   ]
  },
  {
   "cell_type": "code",
   "execution_count": 37,
   "metadata": {
    "collapsed": true
   },
   "outputs": [
    {
     "data": {
      "text/plain": [
       "5×5 Array{Int64,2}:\n",
       " 2  3  4  5   6\n",
       " 3  4  5  6   7\n",
       " 4  5  6  7   8\n",
       " 5  6  7  8   9\n",
       " 6  7  8  9  10"
      ]
     },
     "execution_count": 37,
     "metadata": {},
     "output_type": "execute_result"
    }
   ],
   "source": [
    "C = [i + j for i in 1:m, j in 1:n] # julia style to create a additional tabels (matrix)"
   ]
  },
  {
   "cell_type": "code",
   "execution_count": 18,
   "metadata": {
    "collapsed": true
   },
   "outputs": [
    {
     "data": {
      "text/plain": [
       "1×1 Array{Int64,2}:\n",
       " 2"
      ]
     },
     "metadata": {},
     "output_type": "display_data"
    },
    {
     "data": {
      "text/plain": [
       "2×2 Array{Int64,2}:\n",
       " 2  3\n",
       " 3  4"
      ]
     },
     "metadata": {},
     "output_type": "display_data"
    },
    {
     "data": {
      "text/plain": [
       "3×3 Array{Int64,2}:\n",
       " 2  3  4\n",
       " 3  4  5\n",
       " 4  5  6"
      ]
     },
     "metadata": {},
     "output_type": "display_data"
    },
    {
     "data": {
      "text/plain": [
       "4×4 Array{Int64,2}:\n",
       " 2  3  4  5\n",
       " 3  4  5  6\n",
       " 4  5  6  7\n",
       " 5  6  7  8"
      ]
     },
     "metadata": {},
     "output_type": "display_data"
    },
    {
     "data": {
      "text/plain": [
       "5×5 Array{Int64,2}:\n",
       " 2  3  4  5   6\n",
       " 3  4  5  6   7\n",
       " 4  5  6  7   8\n",
       " 5  6  7  8   9\n",
       " 6  7  8  9  10"
      ]
     },
     "metadata": {},
     "output_type": "display_data"
    },
    {
     "data": {
      "text/plain": [
       "6×6 Array{Int64,2}:\n",
       " 2  3  4   5   6   7\n",
       " 3  4  5   6   7   8\n",
       " 4  5  6   7   8   9\n",
       " 5  6  7   8   9  10\n",
       " 6  7  8   9  10  11\n",
       " 7  8  9  10  11  12"
      ]
     },
     "metadata": {},
     "output_type": "display_data"
    },
    {
     "data": {
      "text/plain": [
       "7×7 Array{Int64,2}:\n",
       " 2  3   4   5   6   7   8\n",
       " 3  4   5   6   7   8   9\n",
       " 4  5   6   7   8   9  10\n",
       " 5  6   7   8   9  10  11\n",
       " 6  7   8   9  10  11  12\n",
       " 7  8   9  10  11  12  13\n",
       " 8  9  10  11  12  13  14"
      ]
     },
     "metadata": {},
     "output_type": "display_data"
    },
    {
     "data": {
      "text/plain": [
       "8×8 Array{Int64,2}:\n",
       " 2   3   4   5   6   7   8   9\n",
       " 3   4   5   6   7   8   9  10\n",
       " 4   5   6   7   8   9  10  11\n",
       " 5   6   7   8   9  10  11  12\n",
       " 6   7   8   9  10  11  12  13\n",
       " 7   8   9  10  11  12  13  14\n",
       " 8   9  10  11  12  13  14  15\n",
       " 9  10  11  12  13  14  15  16"
      ]
     },
     "metadata": {},
     "output_type": "display_data"
    },
    {
     "data": {
      "text/plain": [
       "9×9 Array{Int64,2}:\n",
       "  2   3   4   5   6   7   8   9  10\n",
       "  3   4   5   6   7   8   9  10  11\n",
       "  4   5   6   7   8   9  10  11  12\n",
       "  5   6   7   8   9  10  11  12  13\n",
       "  6   7   8   9  10  11  12  13  14\n",
       "  7   8   9  10  11  12  13  14  15\n",
       "  8   9  10  11  12  13  14  15  16\n",
       "  9  10  11  12  13  14  15  16  17\n",
       " 10  11  12  13  14  15  16  17  18"
      ]
     },
     "metadata": {},
     "output_type": "display_data"
    },
    {
     "data": {
      "text/plain": [
       "10×10 Array{Int64,2}:\n",
       "  2   3   4   5   6   7   8   9  10  11\n",
       "  3   4   5   6   7   8   9  10  11  12\n",
       "  4   5   6   7   8   9  10  11  12  13\n",
       "  5   6   7   8   9  10  11  12  13  14\n",
       "  6   7   8   9  10  11  12  13  14  15\n",
       "  7   8   9  10  11  12  13  14  15  16\n",
       "  8   9  10  11  12  13  14  15  16  17\n",
       "  9  10  11  12  13  14  15  16  17  18\n",
       " 10  11  12  13  14  15  16  17  18  19\n",
       " 11  12  13  14  15  16  17  18  19  20"
      ]
     },
     "metadata": {},
     "output_type": "display_data"
    }
   ],
   "source": [
    "for n in 1:10\n",
    "    A = [i+j for i in 1:n, j in 1:n]\n",
    "    display(A)\n",
    "end"
   ]
  },
  {
   "cell_type": "markdown",
   "metadata": {},
   "source": [
    "Conditionals in JULIA \n",
    "if\n",
    "\n",
    "elseif\n",
    "\n",
    "else\n",
    "\n",
    "end"
   ]
  },
  {
   "cell_type": "code",
   "execution_count": 23,
   "metadata": {},
   "outputs": [
    {
     "data": {
      "text/plain": [
       "\"x [0.50545] is larger.\""
      ]
     },
     "metadata": {},
     "output_type": "display_data"
    }
   ],
   "source": [
    "# if conditional\n",
    "x = rand(1)\n",
    "y = rand(1)\n",
    "\n",
    "if x > y\n",
    "    display(\"x $(x) is larger.\")\n",
    "elseif x < y\n",
    "    display(\"y $(y) is larger.\")\n",
    "else\n",
    "    display(\"x $(x) and y $(y) are equal.\")\n",
    "end"
   ]
  },
  {
   "cell_type": "code",
   "execution_count": 33,
   "metadata": {},
   "outputs": [
    {
     "data": {
      "text/plain": [
       "2"
      ]
     },
     "execution_count": 33,
     "metadata": {},
     "output_type": "execute_result"
    }
   ],
   "source": [
    "x = 2\n",
    "y = 1\n",
    "\n",
    "#= an easier way to compare the size of two numbers\n",
    "(a) ? b : c\n",
    "which means\n",
    "if a\n",
    "    b\n",
    "else\n",
    "    c\n",
    "end\n",
    "=#\n",
    "(x > y) ? x : y"
   ]
  },
  {
   "cell_type": "code",
   "execution_count": 36,
   "metadata": {
    "collapsed": true
   },
   "outputs": [
    {
     "name": "stdout",
     "output_type": "stream",
     "text": [
      "x is larger\n"
     ]
    },
    {
     "data": {
      "text/plain": [
       "false"
      ]
     },
     "execution_count": 36,
     "metadata": {},
     "output_type": "execute_result"
    }
   ],
   "source": [
    "# another interesting way\n",
    "(x > y) && println(\"x is larger\")\n",
    "(x < y) && println(\"y is larger\")"
   ]
  },
  {
   "cell_type": "markdown",
   "metadata": {},
   "source": [
    "FUNCTIONS IN JULIA\n",
    "Topics:\n",
    "1. declare a fucntion\n",
    "2. Duck-typing in Julia\n",
    "3. Mutating vs. non-mutating functions\n",
    "4. Broadcasting"
   ]
  },
  {
   "cell_type": "code",
   "execution_count": 62,
   "metadata": {},
   "outputs": [
    {
     "name": "stdout",
     "output_type": "stream",
     "text": [
      "Hi! Jio\n",
      "Hi! jio.\n",
      "Hi! JIO.\n"
     ]
    },
    {
     "data": {
      "text/plain": [
       "2019963136"
      ]
     },
     "execution_count": 62,
     "metadata": {},
     "output_type": "execute_result"
    }
   ],
   "source": [
    "function sayhi(name)\n",
    "    println(\"Hi! $(name)\")\n",
    "end\n",
    "\n",
    "function f(x)\n",
    "    y = x^2\n",
    "    return y\n",
    "end\n",
    "\n",
    "sayhi(\"Jio\")\n",
    "f(2)\n",
    "\n",
    "# do it in one line\n",
    "sayhi2(name) = println(\"Hi! $(name).\")\n",
    "f2(x) = x^3\n",
    "\n",
    "sayhi2(\"jio\")\n",
    "f2(2)\n",
    "\n",
    "# anonymous functions\n",
    "sayhi3 = name -> println(\"Hi! $(name).\")\n",
    "f3 = x -> x^4\n",
    "\n",
    "sayhi3(\"JIO\")\n",
    "f3(212)"
   ]
  },
  {
   "cell_type": "markdown",
   "metadata": {},
   "source": [
    "functions followed by ! alter their contents and functions wothout ! do not\n",
    "check sort and sort!"
   ]
  },
  {
   "cell_type": "code",
   "execution_count": 53,
   "metadata": {},
   "outputs": [
    {
     "data": {
      "text/plain": [
       "3-element Array{Int64,1}:\n",
       " 2\n",
       " 3\n",
       " 5"
      ]
     },
     "metadata": {},
     "output_type": "display_data"
    },
    {
     "data": {
      "text/plain": [
       "3-element Array{Int64,1}:\n",
       " 3\n",
       " 5\n",
       " 2"
      ]
     },
     "metadata": {},
     "output_type": "display_data"
    },
    {
     "data": {
      "text/plain": [
       "3-element Array{Int64,1}:\n",
       " 2\n",
       " 3\n",
       " 5"
      ]
     },
     "metadata": {},
     "output_type": "display_data"
    }
   ],
   "source": [
    "v = [3,5,2]\n",
    "m = sort(v)\n",
    "display(m)\n",
    "display(v)\n",
    "sort!(v)\n",
    "display(v)"
   ]
  },
  {
   "cell_type": "code",
   "execution_count": 51,
   "metadata": {},
   "outputs": [
    {
     "data": {
      "text/plain": [
       "3-element Array{Int64,1}:\n",
       " 3\n",
       " 5\n",
       " 2"
      ]
     },
     "execution_count": 51,
     "metadata": {},
     "output_type": "execute_result"
    }
   ],
   "source": [
    "# broadcasting\n",
    "#=\n",
    "by placing a . between any function name and its argument list\n",
    "we tell the function to broadcast over the elements of the input pbjects\n",
    "=#\n"
   ]
  },
  {
   "cell_type": "code",
   "execution_count": 59,
   "metadata": {},
   "outputs": [
    {
     "data": {
      "text/plain": [
       "3×3 Array{Int64,2}:\n",
       " 3  6   9\n",
       " 4  7  10\n",
       " 5  8  11"
      ]
     },
     "metadata": {},
     "output_type": "display_data"
    },
    {
     "data": {
      "text/plain": [
       "3×3 Array{Int64,2}:\n",
       "  78  132  186\n",
       "  90  153  216\n",
       " 102  174  246"
      ]
     },
     "metadata": {},
     "output_type": "display_data"
    },
    {
     "data": {
      "text/plain": [
       "3×3 Array{Int64,2}:\n",
       "  9  36   81\n",
       " 16  49  100\n",
       " 25  64  121"
      ]
     },
     "metadata": {},
     "output_type": "display_data"
    },
    {
     "data": {
      "text/plain": [
       "3-element Array{Int64,1}:\n",
       " 1\n",
       " 4\n",
       " 9"
      ]
     },
     "metadata": {},
     "output_type": "display_data"
    }
   ],
   "source": [
    "A  =[i + 3*j for i in 0:2, j in 1:3]\n",
    "display(A)\n",
    "display(f(A))\n",
    "display(f.(A))\n",
    "v = [1,2,3]\n",
    "display(f.(v))"
   ]
  },
  {
   "cell_type": "markdown",
   "metadata": {},
   "source": [
    "Packages\n",
    "1. how to use packages"
   ]
  },
  {
   "cell_type": "code",
   "execution_count": 80,
   "metadata": {},
   "outputs": [],
   "source": [
    "# when first time use a package on a given Julia installation, we need to explicitly add it\n",
    "# Pkg.add(\"NAMEofPackage\")\n",
    "# Pkg.add(\"Example\")\n",
    "using Example"
   ]
  },
  {
   "cell_type": "code",
   "execution_count": 81,
   "metadata": {},
   "outputs": [
    {
     "data": {
      "text/plain": [
       "\"Hello, cc\""
      ]
     },
     "execution_count": 81,
     "metadata": {},
     "output_type": "execute_result"
    }
   ],
   "source": [
    "hello(\"cc\")"
   ]
  },
  {
   "cell_type": "markdown",
   "metadata": {},
   "source": [
    "Plottings\n",
    "Different ways to plot in Julia\n",
    "Here Plots.jl is used"
   ]
  },
  {
   "cell_type": "code",
   "execution_count": 77,
   "metadata": {
    "collapsed": true
   },
   "outputs": [
    {
     "name": "stdout",
     "output_type": "stream",
     "text": [
      "\u001b[32m\u001b[1m  Updating\u001b[22m\u001b[39m registry at `C:\\Users\\tangy\\.juliapro\\JuliaPro_v1.0.5-2\\registries\\General`\n",
      "\u001b[32m\u001b[1m  Updating\u001b[22m\u001b[39m git-repo `https://pkg.juliacomputing.com/registry/General`\n",
      "\u001b[?25l\u001b[2K\u001b[?25h\u001b[32m\u001b[1m Resolving\u001b[22m\u001b[39m package versions...\n",
      "\u001b[32m\u001b[1m Installed\u001b[22m\u001b[39m DataAPI ─────────── v1.4.0\n",
      "\u001b[32m\u001b[1m Installed\u001b[22m\u001b[39m Plots ───────────── v1.4.3\n",
      "\u001b[32m\u001b[1m Installed\u001b[22m\u001b[39m Grisu ───────────── v1.0.0\n",
      "\u001b[32m\u001b[1m Installed\u001b[22m\u001b[39m Showoff ─────────── v0.3.2\n",
      "\u001b[32m\u001b[1m Installed\u001b[22m\u001b[39m PlotThemes ──────── v2.0.0\n",
      "\u001b[32m\u001b[1m Installed\u001b[22m\u001b[39m GeometryTypes ───── v0.8.4\n",
      "\u001b[32m\u001b[1m Installed\u001b[22m\u001b[39m SortingAlgorithms ─ v0.3.1\n",
      "\u001b[32m\u001b[1m Installed\u001b[22m\u001b[39m FFMPEG ──────────── v0.2.4\n",
      "\u001b[32m\u001b[1m Installed\u001b[22m\u001b[39m PlotUtils ───────── v1.0.8\n",
      "\u001b[32m\u001b[1m Installed\u001b[22m\u001b[39m StatsBase ───────── v0.33.2\n",
      "\u001b[32m\u001b[1m Installed\u001b[22m\u001b[39m Missings ────────── v0.4.4\n",
      "\u001b[32m\u001b[1m Installed\u001b[22m\u001b[39m Measures ────────── v0.3.1\n",
      "\u001b[32m\u001b[1m Installed\u001b[22m\u001b[39m RecipesPipeline ─── v0.1.13\n",
      "\u001b[32m\u001b[1m Installed\u001b[22m\u001b[39m Contour ─────────── v0.5.7\n",
      "\u001b[32m\u001b[1m Installed\u001b[22m\u001b[39m GR ──────────────── v0.50.1\n",
      "\u001b[32m\u001b[1m Installed\u001b[22m\u001b[39m ColorSchemes ────── v3.10.2\n",
      "\u001b[32m\u001b[1m  Updating\u001b[22m\u001b[39m `C:\\Users\\tangy\\.juliapro\\JuliaPro_v1.0.5-2\\environments\\v1.0\\Project.toml`\n",
      " \u001b[90m [91a5bcdd]\u001b[39m\u001b[92m + Plots v1.4.3\u001b[39m\n",
      "\u001b[32m\u001b[1m  Updating\u001b[22m\u001b[39m `C:\\Users\\tangy\\.juliapro\\JuliaPro_v1.0.5-2\\environments\\v1.0\\Manifest.toml`\n",
      " \u001b[90m [35d6a980]\u001b[39m\u001b[92m + ColorSchemes v3.10.2\u001b[39m\n",
      " \u001b[90m [d38c429a]\u001b[39m\u001b[92m + Contour v0.5.7\u001b[39m\n",
      " \u001b[90m [9a962f9c]\u001b[39m\u001b[92m + DataAPI v1.4.0\u001b[39m\n",
      " \u001b[90m [c87230d0]\u001b[39m\u001b[92m + FFMPEG v0.2.4\u001b[39m\n",
      " \u001b[90m [28b8d3ca]\u001b[39m\u001b[92m + GR v0.50.1\u001b[39m\n",
      " \u001b[90m [4d00f742]\u001b[39m\u001b[92m + GeometryTypes v0.8.4\u001b[39m\n",
      " \u001b[90m [42e2da0e]\u001b[39m\u001b[92m + Grisu v1.0.0\u001b[39m\n",
      " \u001b[90m [442fdcdd]\u001b[39m\u001b[92m + Measures v0.3.1\u001b[39m\n",
      " \u001b[90m [e1d29d7a]\u001b[39m\u001b[92m + Missings v0.4.4\u001b[39m\n",
      " \u001b[90m [ccf2f8ad]\u001b[39m\u001b[92m + PlotThemes v2.0.0\u001b[39m\n",
      " \u001b[90m [995b91a9]\u001b[39m\u001b[92m + PlotUtils v1.0.8\u001b[39m\n",
      " \u001b[90m [91a5bcdd]\u001b[39m\u001b[92m + Plots v1.4.3\u001b[39m\n",
      " \u001b[90m [01d81517]\u001b[39m\u001b[92m + RecipesPipeline v0.1.13\u001b[39m\n",
      " \u001b[90m [992d4aef]\u001b[39m\u001b[92m + Showoff v0.3.2\u001b[39m\n",
      " \u001b[90m [a2af1166]\u001b[39m\u001b[92m + SortingAlgorithms v0.3.1\u001b[39m\n",
      " \u001b[90m [2913bbd2]\u001b[39m\u001b[92m + StatsBase v0.33.2\u001b[39m\n",
      "\u001b[32m\u001b[1m  Building\u001b[22m\u001b[39m GR ────→ `C:\\Users\\tangy\\.juliapro\\JuliaPro_v1.0.5-2\\packages\\GR\\Atztx\\deps\\build.log`\n",
      "\u001b[32m\u001b[1m  Building\u001b[22m\u001b[39m FFMPEG → `C:\\Users\\tangy\\.juliapro\\JuliaPro_v1.0.5-2\\packages\\FFMPEG\\guN1x\\deps\\build.log`\n",
      "\u001b[32m\u001b[1m  Building\u001b[22m\u001b[39m Plots ─→ `C:\\Users\\tangy\\.juliapro\\JuliaPro_v1.0.5-2\\packages\\Plots\\E3MWZ\\deps\\build.log`\n"
     ]
    }
   ],
   "source": [
    "#import Pkg\n",
    "#Pkg.add(\"Plots\")"
   ]
  },
  {
   "cell_type": "code",
   "execution_count": 86,
   "metadata": {},
   "outputs": [
    {
     "data": {
      "image/svg+xml": [
       "<?xml version=\"1.0\" encoding=\"utf-8\"?>\n",
       "<svg xmlns=\"http://www.w3.org/2000/svg\" xmlns:xlink=\"http://www.w3.org/1999/xlink\" width=\"600\" height=\"400\" viewBox=\"0 0 2400 1600\">\n",
       "<defs>\n",
       "  <clipPath id=\"clip950\">\n",
       "    <rect x=\"0\" y=\"0\" width=\"2400\" height=\"1600\"/>\n",
       "  </clipPath>\n",
       "</defs>\n",
       "<path clip-path=\"url(#clip950)\" d=\"\n",
       "M0 1600 L2400 1600 L2400 0 L0 0  Z\n",
       "  \" fill=\"#ffffff\" fill-rule=\"evenodd\" fill-opacity=\"1\"/>\n",
       "<defs>\n",
       "  <clipPath id=\"clip951\">\n",
       "    <rect x=\"480\" y=\"0\" width=\"1681\" height=\"1600\"/>\n",
       "  </clipPath>\n",
       "</defs>\n",
       "<path clip-path=\"url(#clip950)\" d=\"\n",
       "M112.177 1486.45 L2352.76 1486.45 L2352.76 47.2441 L112.177 47.2441  Z\n",
       "  \" fill=\"#ffffff\" fill-rule=\"evenodd\" fill-opacity=\"1\"/>\n",
       "<defs>\n",
       "  <clipPath id=\"clip952\">\n",
       "    <rect x=\"112\" y=\"47\" width=\"2242\" height=\"1440\"/>\n",
       "  </clipPath>\n",
       "</defs>\n",
       "<polyline clip-path=\"url(#clip952)\" style=\"stroke:#000000; stroke-width:2; stroke-opacity:0.1; fill:none\" points=\"\n",
       "  175.59,1486.45 175.59,47.2441 \n",
       "  \"/>\n",
       "<polyline clip-path=\"url(#clip952)\" style=\"stroke:#000000; stroke-width:2; stroke-opacity:0.1; fill:none\" points=\"\n",
       "  527.882,1486.45 527.882,47.2441 \n",
       "  \"/>\n",
       "<polyline clip-path=\"url(#clip952)\" style=\"stroke:#000000; stroke-width:2; stroke-opacity:0.1; fill:none\" points=\"\n",
       "  880.174,1486.45 880.174,47.2441 \n",
       "  \"/>\n",
       "<polyline clip-path=\"url(#clip952)\" style=\"stroke:#000000; stroke-width:2; stroke-opacity:0.1; fill:none\" points=\"\n",
       "  1232.47,1486.45 1232.47,47.2441 \n",
       "  \"/>\n",
       "<polyline clip-path=\"url(#clip952)\" style=\"stroke:#000000; stroke-width:2; stroke-opacity:0.1; fill:none\" points=\"\n",
       "  1584.76,1486.45 1584.76,47.2441 \n",
       "  \"/>\n",
       "<polyline clip-path=\"url(#clip952)\" style=\"stroke:#000000; stroke-width:2; stroke-opacity:0.1; fill:none\" points=\"\n",
       "  1937.05,1486.45 1937.05,47.2441 \n",
       "  \"/>\n",
       "<polyline clip-path=\"url(#clip952)\" style=\"stroke:#000000; stroke-width:2; stroke-opacity:0.1; fill:none\" points=\"\n",
       "  2289.34,1486.45 2289.34,47.2441 \n",
       "  \"/>\n",
       "<polyline clip-path=\"url(#clip952)\" style=\"stroke:#000000; stroke-width:2; stroke-opacity:0.1; fill:none\" points=\"\n",
       "  112.177,1445.72 2352.76,1445.72 \n",
       "  \"/>\n",
       "<polyline clip-path=\"url(#clip952)\" style=\"stroke:#000000; stroke-width:2; stroke-opacity:0.1; fill:none\" points=\"\n",
       "  112.177,1144 2352.76,1144 \n",
       "  \"/>\n",
       "<polyline clip-path=\"url(#clip952)\" style=\"stroke:#000000; stroke-width:2; stroke-opacity:0.1; fill:none\" points=\"\n",
       "  112.177,842.276 2352.76,842.276 \n",
       "  \"/>\n",
       "<polyline clip-path=\"url(#clip952)\" style=\"stroke:#000000; stroke-width:2; stroke-opacity:0.1; fill:none\" points=\"\n",
       "  112.177,540.556 2352.76,540.556 \n",
       "  \"/>\n",
       "<polyline clip-path=\"url(#clip952)\" style=\"stroke:#000000; stroke-width:2; stroke-opacity:0.1; fill:none\" points=\"\n",
       "  112.177,238.836 2352.76,238.836 \n",
       "  \"/>\n",
       "<polyline clip-path=\"url(#clip950)\" style=\"stroke:#000000; stroke-width:4; stroke-opacity:1; fill:none\" points=\"\n",
       "  112.177,1486.45 2352.76,1486.45 \n",
       "  \"/>\n",
       "<polyline clip-path=\"url(#clip950)\" style=\"stroke:#000000; stroke-width:4; stroke-opacity:1; fill:none\" points=\"\n",
       "  112.177,1486.45 112.177,47.2441 \n",
       "  \"/>\n",
       "<polyline clip-path=\"url(#clip950)\" style=\"stroke:#000000; stroke-width:4; stroke-opacity:1; fill:none\" points=\"\n",
       "  175.59,1486.45 175.59,1469.18 \n",
       "  \"/>\n",
       "<polyline clip-path=\"url(#clip950)\" style=\"stroke:#000000; stroke-width:4; stroke-opacity:1; fill:none\" points=\"\n",
       "  527.882,1486.45 527.882,1469.18 \n",
       "  \"/>\n",
       "<polyline clip-path=\"url(#clip950)\" style=\"stroke:#000000; stroke-width:4; stroke-opacity:1; fill:none\" points=\"\n",
       "  880.174,1486.45 880.174,1469.18 \n",
       "  \"/>\n",
       "<polyline clip-path=\"url(#clip950)\" style=\"stroke:#000000; stroke-width:4; stroke-opacity:1; fill:none\" points=\"\n",
       "  1232.47,1486.45 1232.47,1469.18 \n",
       "  \"/>\n",
       "<polyline clip-path=\"url(#clip950)\" style=\"stroke:#000000; stroke-width:4; stroke-opacity:1; fill:none\" points=\"\n",
       "  1584.76,1486.45 1584.76,1469.18 \n",
       "  \"/>\n",
       "<polyline clip-path=\"url(#clip950)\" style=\"stroke:#000000; stroke-width:4; stroke-opacity:1; fill:none\" points=\"\n",
       "  1937.05,1486.45 1937.05,1469.18 \n",
       "  \"/>\n",
       "<polyline clip-path=\"url(#clip950)\" style=\"stroke:#000000; stroke-width:4; stroke-opacity:1; fill:none\" points=\"\n",
       "  2289.34,1486.45 2289.34,1469.18 \n",
       "  \"/>\n",
       "<polyline clip-path=\"url(#clip950)\" style=\"stroke:#000000; stroke-width:4; stroke-opacity:1; fill:none\" points=\"\n",
       "  112.177,1445.72 139.064,1445.72 \n",
       "  \"/>\n",
       "<polyline clip-path=\"url(#clip950)\" style=\"stroke:#000000; stroke-width:4; stroke-opacity:1; fill:none\" points=\"\n",
       "  112.177,1144 139.064,1144 \n",
       "  \"/>\n",
       "<polyline clip-path=\"url(#clip950)\" style=\"stroke:#000000; stroke-width:4; stroke-opacity:1; fill:none\" points=\"\n",
       "  112.177,842.276 139.064,842.276 \n",
       "  \"/>\n",
       "<polyline clip-path=\"url(#clip950)\" style=\"stroke:#000000; stroke-width:4; stroke-opacity:1; fill:none\" points=\"\n",
       "  112.177,540.556 139.064,540.556 \n",
       "  \"/>\n",
       "<polyline clip-path=\"url(#clip950)\" style=\"stroke:#000000; stroke-width:4; stroke-opacity:1; fill:none\" points=\"\n",
       "  112.177,238.836 139.064,238.836 \n",
       "  \"/>\n",
       "<path clip-path=\"url(#clip950)\" d=\"M 0 0 M156.169 1525.04 L168.645 1525.04 L168.645 1528.83 L156.169 1528.83 L156.169 1525.04 Z\" fill=\"#000000\" fill-rule=\"evenodd\" fill-opacity=\"1\" /><path clip-path=\"url(#clip950)\" d=\"M 0 0 M187.881 1521.29 Q191.238 1522 193.113 1524.27 Q195.011 1526.54 195.011 1529.87 Q195.011 1534.99 191.492 1537.79 Q187.974 1540.59 181.493 1540.59 Q179.317 1540.59 177.002 1540.15 Q174.71 1539.73 172.256 1538.88 L172.256 1534.36 Q174.201 1535.5 176.516 1536.08 Q178.831 1536.66 181.354 1536.66 Q185.752 1536.66 188.043 1534.92 Q190.358 1533.18 190.358 1529.87 Q190.358 1526.82 188.205 1525.11 Q186.076 1523.37 182.256 1523.37 L178.229 1523.37 L178.229 1519.53 L182.442 1519.53 Q185.891 1519.53 187.719 1518.16 Q189.548 1516.77 189.548 1514.18 Q189.548 1511.52 187.65 1510.11 Q185.775 1508.67 182.256 1508.67 Q180.335 1508.67 178.136 1509.09 Q175.937 1509.5 173.298 1510.38 L173.298 1506.22 Q175.96 1505.48 178.275 1505.11 Q180.613 1504.73 182.673 1504.73 Q187.997 1504.73 191.099 1507.17 Q194.201 1509.57 194.201 1513.69 Q194.201 1516.56 192.557 1518.55 Q190.914 1520.52 187.881 1521.29 Z\" fill=\"#000000\" fill-rule=\"evenodd\" fill-opacity=\"1\" /><path clip-path=\"url(#clip950)\" d=\"M 0 0 M508.935 1525.04 L521.412 1525.04 L521.412 1528.83 L508.935 1528.83 L508.935 1525.04 Z\" fill=\"#000000\" fill-rule=\"evenodd\" fill-opacity=\"1\" /><path clip-path=\"url(#clip950)\" d=\"M 0 0 M530.509 1535.98 L546.829 1535.98 L546.829 1539.92 L524.884 1539.92 L524.884 1535.98 Q527.546 1533.23 532.13 1528.6 Q536.736 1523.95 537.917 1522.61 Q540.162 1520.08 541.042 1518.35 Q541.944 1516.59 541.944 1514.9 Q541.944 1512.14 540 1510.41 Q538.079 1508.67 534.977 1508.67 Q532.778 1508.67 530.324 1509.43 Q527.894 1510.2 525.116 1511.75 L525.116 1507.03 Q527.94 1505.89 530.394 1505.31 Q532.847 1504.73 534.884 1504.73 Q540.255 1504.73 543.449 1507.42 Q546.644 1510.11 546.644 1514.6 Q546.644 1516.73 545.833 1518.65 Q545.046 1520.54 542.94 1523.14 Q542.361 1523.81 539.259 1527.03 Q536.157 1530.22 530.509 1535.98 Z\" fill=\"#000000\" fill-rule=\"evenodd\" fill-opacity=\"1\" /><path clip-path=\"url(#clip950)\" d=\"M 0 0 M861.042 1525.04 L873.519 1525.04 L873.519 1528.83 L861.042 1528.83 L861.042 1525.04 Z\" fill=\"#000000\" fill-rule=\"evenodd\" fill-opacity=\"1\" /><path clip-path=\"url(#clip950)\" d=\"M 0 0 M879.399 1535.98 L887.038 1535.98 L887.038 1509.62 L878.728 1511.29 L878.728 1507.03 L886.991 1505.36 L891.667 1505.36 L891.667 1535.98 L899.306 1535.98 L899.306 1539.92 L879.399 1539.92 L879.399 1535.98 Z\" fill=\"#000000\" fill-rule=\"evenodd\" fill-opacity=\"1\" /><path clip-path=\"url(#clip950)\" d=\"M 0 0 M1232.47 1508.44 Q1228.86 1508.44 1227.03 1512 Q1225.22 1515.55 1225.22 1522.67 Q1225.22 1529.78 1227.03 1533.35 Q1228.86 1536.89 1232.47 1536.89 Q1236.1 1536.89 1237.91 1533.35 Q1239.74 1529.78 1239.74 1522.67 Q1239.74 1515.55 1237.91 1512 Q1236.1 1508.44 1232.47 1508.44 M1232.47 1504.73 Q1238.28 1504.73 1241.33 1509.34 Q1244.41 1513.92 1244.41 1522.67 Q1244.41 1531.4 1241.33 1536.01 Q1238.28 1540.59 1232.47 1540.59 Q1226.66 1540.59 1223.58 1536.01 Q1220.52 1531.4 1220.52 1522.67 Q1220.52 1513.92 1223.58 1509.34 Q1226.66 1504.73 1232.47 1504.73 Z\" fill=\"#000000\" fill-rule=\"evenodd\" fill-opacity=\"1\" /><path clip-path=\"url(#clip950)\" d=\"M 0 0 M1575.14 1535.98 L1582.78 1535.98 L1582.78 1509.62 L1574.47 1511.29 L1574.47 1507.03 L1582.73 1505.36 L1587.41 1505.36 L1587.41 1535.98 L1595.05 1535.98 L1595.05 1539.92 L1575.14 1539.92 L1575.14 1535.98 Z\" fill=\"#000000\" fill-rule=\"evenodd\" fill-opacity=\"1\" /><path clip-path=\"url(#clip950)\" d=\"M 0 0 M1931.7 1535.98 L1948.02 1535.98 L1948.02 1539.92 L1926.08 1539.92 L1926.08 1535.98 Q1928.74 1533.23 1933.32 1528.6 Q1937.93 1523.95 1939.11 1522.61 Q1941.36 1520.08 1942.24 1518.35 Q1943.14 1516.59 1943.14 1514.9 Q1943.14 1512.14 1941.19 1510.41 Q1939.27 1508.67 1936.17 1508.67 Q1933.97 1508.67 1931.52 1509.43 Q1929.09 1510.2 1926.31 1511.75 L1926.31 1507.03 Q1929.13 1505.89 1931.59 1505.31 Q1934.04 1504.73 1936.08 1504.73 Q1941.45 1504.73 1944.64 1507.42 Q1947.84 1510.11 1947.84 1514.6 Q1947.84 1516.73 1947.03 1518.65 Q1946.24 1520.54 1944.13 1523.14 Q1943.56 1523.81 1940.45 1527.03 Q1937.35 1530.22 1931.7 1535.98 Z\" fill=\"#000000\" fill-rule=\"evenodd\" fill-opacity=\"1\" /><path clip-path=\"url(#clip950)\" d=\"M 0 0 M2293.59 1521.29 Q2296.95 1522 2298.82 1524.27 Q2300.72 1526.54 2300.72 1529.87 Q2300.72 1534.99 2297.2 1537.79 Q2293.68 1540.59 2287.2 1540.59 Q2285.03 1540.59 2282.71 1540.15 Q2280.42 1539.73 2277.97 1538.88 L2277.97 1534.36 Q2279.91 1535.5 2282.23 1536.08 Q2284.54 1536.66 2287.06 1536.66 Q2291.46 1536.66 2293.75 1534.92 Q2296.07 1533.18 2296.07 1529.87 Q2296.07 1526.82 2293.92 1525.11 Q2291.79 1523.37 2287.97 1523.37 L2283.94 1523.37 L2283.94 1519.53 L2288.15 1519.53 Q2291.6 1519.53 2293.43 1518.16 Q2295.26 1516.77 2295.26 1514.18 Q2295.26 1511.52 2293.36 1510.11 Q2291.48 1508.67 2287.97 1508.67 Q2286.04 1508.67 2283.85 1509.09 Q2281.65 1509.5 2279.01 1510.38 L2279.01 1506.22 Q2281.67 1505.48 2283.98 1505.11 Q2286.32 1504.73 2288.38 1504.73 Q2293.71 1504.73 2296.81 1507.17 Q2299.91 1509.57 2299.91 1513.69 Q2299.91 1516.56 2298.27 1518.55 Q2296.62 1520.52 2293.59 1521.29 Z\" fill=\"#000000\" fill-rule=\"evenodd\" fill-opacity=\"1\" /><path clip-path=\"url(#clip950)\" d=\"M 0 0 M76.2328 1431.51 Q72.6217 1431.51 70.793 1435.08 Q68.9875 1438.62 68.9875 1445.75 Q68.9875 1452.86 70.793 1456.42 Q72.6217 1459.96 76.2328 1459.96 Q79.867 1459.96 81.6726 1456.42 Q83.5013 1452.86 83.5013 1445.75 Q83.5013 1438.62 81.6726 1435.08 Q79.867 1431.51 76.2328 1431.51 M76.2328 1427.81 Q82.0429 1427.81 85.0985 1432.42 Q88.1772 1437 88.1772 1445.75 Q88.1772 1454.48 85.0985 1459.08 Q82.0429 1463.67 76.2328 1463.67 Q70.4226 1463.67 67.344 1459.08 Q64.2884 1454.48 64.2884 1445.75 Q64.2884 1437 67.344 1432.42 Q70.4226 1427.81 76.2328 1427.81 Z\" fill=\"#000000\" fill-rule=\"evenodd\" fill-opacity=\"1\" /><path clip-path=\"url(#clip950)\" d=\"M 0 0 M71.8578 1157.34 L88.1772 1157.34 L88.1772 1161.28 L66.2328 1161.28 L66.2328 1157.34 Q68.8949 1154.59 73.4782 1149.96 Q78.0846 1145.3 79.2652 1143.96 Q81.5105 1141.44 82.3902 1139.7 Q83.2929 1137.94 83.2929 1136.25 Q83.2929 1133.5 81.3485 1131.76 Q79.4272 1130.03 76.3254 1130.03 Q74.1263 1130.03 71.6726 1130.79 Q69.2421 1131.55 66.4643 1133.1 L66.4643 1128.38 Q69.2884 1127.25 71.7421 1126.67 Q74.1958 1126.09 76.2328 1126.09 Q81.6031 1126.09 84.7976 1128.78 Q87.992 1131.46 87.992 1135.95 Q87.992 1138.08 87.1818 1140 Q86.3948 1141.9 84.2883 1144.49 Q83.7096 1145.16 80.6078 1148.38 Q77.5059 1151.58 71.8578 1157.34 Z\" fill=\"#000000\" fill-rule=\"evenodd\" fill-opacity=\"1\" /><path clip-path=\"url(#clip950)\" d=\"M 0 0 M78.5939 829.07 L66.7884 847.519 L78.5939 847.519 L78.5939 829.07 M77.367 824.996 L83.2466 824.996 L83.2466 847.519 L88.1772 847.519 L88.1772 851.408 L83.2466 851.408 L83.2466 859.556 L78.5939 859.556 L78.5939 851.408 L62.9921 851.408 L62.9921 846.894 L77.367 824.996 Z\" fill=\"#000000\" fill-rule=\"evenodd\" fill-opacity=\"1\" /><path clip-path=\"url(#clip950)\" d=\"M 0 0 M76.6495 538.693 Q73.5013 538.693 71.6495 540.845 Q69.8208 542.998 69.8208 546.748 Q69.8208 550.475 71.6495 552.651 Q73.5013 554.804 76.6495 554.804 Q79.7976 554.804 81.6263 552.651 Q83.4781 550.475 83.4781 546.748 Q83.4781 542.998 81.6263 540.845 Q79.7976 538.693 76.6495 538.693 M85.9318 524.04 L85.9318 528.299 Q84.1726 527.466 82.367 527.026 Q80.5846 526.586 78.8254 526.586 Q74.1958 526.586 71.7421 529.711 Q69.3115 532.836 68.9643 539.156 Q70.33 537.142 72.3902 536.077 Q74.4504 534.989 76.9272 534.989 Q82.1355 534.989 85.1448 538.16 Q88.1772 541.308 88.1772 546.748 Q88.1772 552.072 85.029 555.29 Q81.8809 558.507 76.6495 558.507 Q70.6541 558.507 67.4828 553.924 Q64.3116 549.318 64.3116 540.591 Q64.3116 532.396 68.2004 527.535 Q72.0893 522.651 78.6402 522.651 Q80.3994 522.651 82.1818 522.998 Q83.9874 523.346 85.9318 524.04 Z\" fill=\"#000000\" fill-rule=\"evenodd\" fill-opacity=\"1\" /><path clip-path=\"url(#clip950)\" d=\"M 0 0 M76.3254 239.704 Q72.9921 239.704 71.0708 241.487 Q69.1726 243.269 69.1726 246.394 Q69.1726 249.519 71.0708 251.301 Q72.9921 253.084 76.3254 253.084 Q79.6587 253.084 81.58 251.301 Q83.5013 249.496 83.5013 246.394 Q83.5013 243.269 81.58 241.487 Q79.6819 239.704 76.3254 239.704 M71.6495 237.714 Q68.6402 236.973 66.9504 234.913 Q65.2838 232.852 65.2838 229.89 Q65.2838 225.746 68.2236 223.339 Q71.1865 220.931 76.3254 220.931 Q81.4874 220.931 84.4272 223.339 Q87.367 225.746 87.367 229.89 Q87.367 232.852 85.6772 234.913 Q84.0105 236.973 81.0244 237.714 Q84.404 238.501 86.279 240.792 Q88.1772 243.084 88.1772 246.394 Q88.1772 251.417 85.0985 254.102 Q82.0429 256.788 76.3254 256.788 Q70.6078 256.788 67.5291 254.102 Q64.4736 251.417 64.4736 246.394 Q64.4736 243.084 66.3717 240.792 Q68.2699 238.501 71.6495 237.714 M69.9365 230.329 Q69.9365 233.014 71.6032 234.519 Q73.293 236.024 76.3254 236.024 Q79.3346 236.024 81.0244 234.519 Q82.7374 233.014 82.7374 230.329 Q82.7374 227.644 81.0244 226.14 Q79.3346 224.635 76.3254 224.635 Q73.293 224.635 71.6032 226.14 Q69.9365 227.644 69.9365 230.329 Z\" fill=\"#000000\" fill-rule=\"evenodd\" fill-opacity=\"1\" /><polyline clip-path=\"url(#clip952)\" style=\"stroke:#009af9; stroke-width:4; stroke-opacity:1; fill:none\" points=\"\n",
       "  175.59,87.9763 210.819,176.984 246.048,262.974 281.277,345.947 316.507,425.903 351.736,502.841 386.965,576.762 422.194,647.667 457.424,715.554 492.653,780.423 \n",
       "  527.882,842.276 563.111,901.111 598.34,956.93 633.57,1009.73 668.799,1059.51 704.028,1106.28 739.257,1150.03 774.487,1190.76 809.716,1228.48 844.945,1263.18 \n",
       "  880.174,1294.86 915.404,1323.52 950.633,1349.17 985.862,1371.79 1021.09,1391.41 1056.32,1408 1091.55,1421.58 1126.78,1432.14 1162.01,1439.68 1197.24,1444.21 \n",
       "  1232.47,1445.72 1267.7,1444.21 1302.92,1439.68 1338.15,1432.14 1373.38,1421.58 1408.61,1408 1443.84,1391.41 1479.07,1371.79 1514.3,1349.17 1549.53,1323.52 \n",
       "  1584.76,1294.86 1619.99,1263.18 1655.22,1228.48 1690.45,1190.76 1725.68,1150.03 1760.9,1106.28 1796.13,1059.51 1831.36,1009.73 1866.59,956.93 1901.82,901.111 \n",
       "  1937.05,842.276 1972.28,780.423 2007.51,715.554 2042.74,647.667 2077.97,576.762 2113.2,502.841 2148.43,425.903 2183.66,345.947 2218.88,262.974 2254.11,176.984 \n",
       "  2289.34,87.9763 \n",
       "  \"/>\n",
       "<circle clip-path=\"url(#clip952)\" cx=\"175.59\" cy=\"87.9763\" r=\"14\" fill=\"#e26f46\" fill-rule=\"evenodd\" fill-opacity=\"1\" stroke=\"#000000\" stroke-opacity=\"1\" stroke-width=\"3.2\"/>\n",
       "<circle clip-path=\"url(#clip952)\" cx=\"210.819\" cy=\"176.984\" r=\"14\" fill=\"#e26f46\" fill-rule=\"evenodd\" fill-opacity=\"1\" stroke=\"#000000\" stroke-opacity=\"1\" stroke-width=\"3.2\"/>\n",
       "<circle clip-path=\"url(#clip952)\" cx=\"246.048\" cy=\"262.974\" r=\"14\" fill=\"#e26f46\" fill-rule=\"evenodd\" fill-opacity=\"1\" stroke=\"#000000\" stroke-opacity=\"1\" stroke-width=\"3.2\"/>\n",
       "<circle clip-path=\"url(#clip952)\" cx=\"281.277\" cy=\"345.947\" r=\"14\" fill=\"#e26f46\" fill-rule=\"evenodd\" fill-opacity=\"1\" stroke=\"#000000\" stroke-opacity=\"1\" stroke-width=\"3.2\"/>\n",
       "<circle clip-path=\"url(#clip952)\" cx=\"316.507\" cy=\"425.903\" r=\"14\" fill=\"#e26f46\" fill-rule=\"evenodd\" fill-opacity=\"1\" stroke=\"#000000\" stroke-opacity=\"1\" stroke-width=\"3.2\"/>\n",
       "<circle clip-path=\"url(#clip952)\" cx=\"351.736\" cy=\"502.841\" r=\"14\" fill=\"#e26f46\" fill-rule=\"evenodd\" fill-opacity=\"1\" stroke=\"#000000\" stroke-opacity=\"1\" stroke-width=\"3.2\"/>\n",
       "<circle clip-path=\"url(#clip952)\" cx=\"386.965\" cy=\"576.762\" r=\"14\" fill=\"#e26f46\" fill-rule=\"evenodd\" fill-opacity=\"1\" stroke=\"#000000\" stroke-opacity=\"1\" stroke-width=\"3.2\"/>\n",
       "<circle clip-path=\"url(#clip952)\" cx=\"422.194\" cy=\"647.667\" r=\"14\" fill=\"#e26f46\" fill-rule=\"evenodd\" fill-opacity=\"1\" stroke=\"#000000\" stroke-opacity=\"1\" stroke-width=\"3.2\"/>\n",
       "<circle clip-path=\"url(#clip952)\" cx=\"457.424\" cy=\"715.554\" r=\"14\" fill=\"#e26f46\" fill-rule=\"evenodd\" fill-opacity=\"1\" stroke=\"#000000\" stroke-opacity=\"1\" stroke-width=\"3.2\"/>\n",
       "<circle clip-path=\"url(#clip952)\" cx=\"492.653\" cy=\"780.423\" r=\"14\" fill=\"#e26f46\" fill-rule=\"evenodd\" fill-opacity=\"1\" stroke=\"#000000\" stroke-opacity=\"1\" stroke-width=\"3.2\"/>\n",
       "<circle clip-path=\"url(#clip952)\" cx=\"527.882\" cy=\"842.276\" r=\"14\" fill=\"#e26f46\" fill-rule=\"evenodd\" fill-opacity=\"1\" stroke=\"#000000\" stroke-opacity=\"1\" stroke-width=\"3.2\"/>\n",
       "<circle clip-path=\"url(#clip952)\" cx=\"563.111\" cy=\"901.111\" r=\"14\" fill=\"#e26f46\" fill-rule=\"evenodd\" fill-opacity=\"1\" stroke=\"#000000\" stroke-opacity=\"1\" stroke-width=\"3.2\"/>\n",
       "<circle clip-path=\"url(#clip952)\" cx=\"598.34\" cy=\"956.93\" r=\"14\" fill=\"#e26f46\" fill-rule=\"evenodd\" fill-opacity=\"1\" stroke=\"#000000\" stroke-opacity=\"1\" stroke-width=\"3.2\"/>\n",
       "<circle clip-path=\"url(#clip952)\" cx=\"633.57\" cy=\"1009.73\" r=\"14\" fill=\"#e26f46\" fill-rule=\"evenodd\" fill-opacity=\"1\" stroke=\"#000000\" stroke-opacity=\"1\" stroke-width=\"3.2\"/>\n",
       "<circle clip-path=\"url(#clip952)\" cx=\"668.799\" cy=\"1059.51\" r=\"14\" fill=\"#e26f46\" fill-rule=\"evenodd\" fill-opacity=\"1\" stroke=\"#000000\" stroke-opacity=\"1\" stroke-width=\"3.2\"/>\n",
       "<circle clip-path=\"url(#clip952)\" cx=\"704.028\" cy=\"1106.28\" r=\"14\" fill=\"#e26f46\" fill-rule=\"evenodd\" fill-opacity=\"1\" stroke=\"#000000\" stroke-opacity=\"1\" stroke-width=\"3.2\"/>\n",
       "<circle clip-path=\"url(#clip952)\" cx=\"739.257\" cy=\"1150.03\" r=\"14\" fill=\"#e26f46\" fill-rule=\"evenodd\" fill-opacity=\"1\" stroke=\"#000000\" stroke-opacity=\"1\" stroke-width=\"3.2\"/>\n",
       "<circle clip-path=\"url(#clip952)\" cx=\"774.487\" cy=\"1190.76\" r=\"14\" fill=\"#e26f46\" fill-rule=\"evenodd\" fill-opacity=\"1\" stroke=\"#000000\" stroke-opacity=\"1\" stroke-width=\"3.2\"/>\n",
       "<circle clip-path=\"url(#clip952)\" cx=\"809.716\" cy=\"1228.48\" r=\"14\" fill=\"#e26f46\" fill-rule=\"evenodd\" fill-opacity=\"1\" stroke=\"#000000\" stroke-opacity=\"1\" stroke-width=\"3.2\"/>\n",
       "<circle clip-path=\"url(#clip952)\" cx=\"844.945\" cy=\"1263.18\" r=\"14\" fill=\"#e26f46\" fill-rule=\"evenodd\" fill-opacity=\"1\" stroke=\"#000000\" stroke-opacity=\"1\" stroke-width=\"3.2\"/>\n",
       "<circle clip-path=\"url(#clip952)\" cx=\"880.174\" cy=\"1294.86\" r=\"14\" fill=\"#e26f46\" fill-rule=\"evenodd\" fill-opacity=\"1\" stroke=\"#000000\" stroke-opacity=\"1\" stroke-width=\"3.2\"/>\n",
       "<circle clip-path=\"url(#clip952)\" cx=\"915.404\" cy=\"1323.52\" r=\"14\" fill=\"#e26f46\" fill-rule=\"evenodd\" fill-opacity=\"1\" stroke=\"#000000\" stroke-opacity=\"1\" stroke-width=\"3.2\"/>\n",
       "<circle clip-path=\"url(#clip952)\" cx=\"950.633\" cy=\"1349.17\" r=\"14\" fill=\"#e26f46\" fill-rule=\"evenodd\" fill-opacity=\"1\" stroke=\"#000000\" stroke-opacity=\"1\" stroke-width=\"3.2\"/>\n",
       "<circle clip-path=\"url(#clip952)\" cx=\"985.862\" cy=\"1371.79\" r=\"14\" fill=\"#e26f46\" fill-rule=\"evenodd\" fill-opacity=\"1\" stroke=\"#000000\" stroke-opacity=\"1\" stroke-width=\"3.2\"/>\n",
       "<circle clip-path=\"url(#clip952)\" cx=\"1021.09\" cy=\"1391.41\" r=\"14\" fill=\"#e26f46\" fill-rule=\"evenodd\" fill-opacity=\"1\" stroke=\"#000000\" stroke-opacity=\"1\" stroke-width=\"3.2\"/>\n",
       "<circle clip-path=\"url(#clip952)\" cx=\"1056.32\" cy=\"1408\" r=\"14\" fill=\"#e26f46\" fill-rule=\"evenodd\" fill-opacity=\"1\" stroke=\"#000000\" stroke-opacity=\"1\" stroke-width=\"3.2\"/>\n",
       "<circle clip-path=\"url(#clip952)\" cx=\"1091.55\" cy=\"1421.58\" r=\"14\" fill=\"#e26f46\" fill-rule=\"evenodd\" fill-opacity=\"1\" stroke=\"#000000\" stroke-opacity=\"1\" stroke-width=\"3.2\"/>\n",
       "<circle clip-path=\"url(#clip952)\" cx=\"1126.78\" cy=\"1432.14\" r=\"14\" fill=\"#e26f46\" fill-rule=\"evenodd\" fill-opacity=\"1\" stroke=\"#000000\" stroke-opacity=\"1\" stroke-width=\"3.2\"/>\n",
       "<circle clip-path=\"url(#clip952)\" cx=\"1162.01\" cy=\"1439.68\" r=\"14\" fill=\"#e26f46\" fill-rule=\"evenodd\" fill-opacity=\"1\" stroke=\"#000000\" stroke-opacity=\"1\" stroke-width=\"3.2\"/>\n",
       "<circle clip-path=\"url(#clip952)\" cx=\"1197.24\" cy=\"1444.21\" r=\"14\" fill=\"#e26f46\" fill-rule=\"evenodd\" fill-opacity=\"1\" stroke=\"#000000\" stroke-opacity=\"1\" stroke-width=\"3.2\"/>\n",
       "<circle clip-path=\"url(#clip952)\" cx=\"1232.47\" cy=\"1445.72\" r=\"14\" fill=\"#e26f46\" fill-rule=\"evenodd\" fill-opacity=\"1\" stroke=\"#000000\" stroke-opacity=\"1\" stroke-width=\"3.2\"/>\n",
       "<circle clip-path=\"url(#clip952)\" cx=\"1267.7\" cy=\"1444.21\" r=\"14\" fill=\"#e26f46\" fill-rule=\"evenodd\" fill-opacity=\"1\" stroke=\"#000000\" stroke-opacity=\"1\" stroke-width=\"3.2\"/>\n",
       "<circle clip-path=\"url(#clip952)\" cx=\"1302.92\" cy=\"1439.68\" r=\"14\" fill=\"#e26f46\" fill-rule=\"evenodd\" fill-opacity=\"1\" stroke=\"#000000\" stroke-opacity=\"1\" stroke-width=\"3.2\"/>\n",
       "<circle clip-path=\"url(#clip952)\" cx=\"1338.15\" cy=\"1432.14\" r=\"14\" fill=\"#e26f46\" fill-rule=\"evenodd\" fill-opacity=\"1\" stroke=\"#000000\" stroke-opacity=\"1\" stroke-width=\"3.2\"/>\n",
       "<circle clip-path=\"url(#clip952)\" cx=\"1373.38\" cy=\"1421.58\" r=\"14\" fill=\"#e26f46\" fill-rule=\"evenodd\" fill-opacity=\"1\" stroke=\"#000000\" stroke-opacity=\"1\" stroke-width=\"3.2\"/>\n",
       "<circle clip-path=\"url(#clip952)\" cx=\"1408.61\" cy=\"1408\" r=\"14\" fill=\"#e26f46\" fill-rule=\"evenodd\" fill-opacity=\"1\" stroke=\"#000000\" stroke-opacity=\"1\" stroke-width=\"3.2\"/>\n",
       "<circle clip-path=\"url(#clip952)\" cx=\"1443.84\" cy=\"1391.41\" r=\"14\" fill=\"#e26f46\" fill-rule=\"evenodd\" fill-opacity=\"1\" stroke=\"#000000\" stroke-opacity=\"1\" stroke-width=\"3.2\"/>\n",
       "<circle clip-path=\"url(#clip952)\" cx=\"1479.07\" cy=\"1371.79\" r=\"14\" fill=\"#e26f46\" fill-rule=\"evenodd\" fill-opacity=\"1\" stroke=\"#000000\" stroke-opacity=\"1\" stroke-width=\"3.2\"/>\n",
       "<circle clip-path=\"url(#clip952)\" cx=\"1514.3\" cy=\"1349.17\" r=\"14\" fill=\"#e26f46\" fill-rule=\"evenodd\" fill-opacity=\"1\" stroke=\"#000000\" stroke-opacity=\"1\" stroke-width=\"3.2\"/>\n",
       "<circle clip-path=\"url(#clip952)\" cx=\"1549.53\" cy=\"1323.52\" r=\"14\" fill=\"#e26f46\" fill-rule=\"evenodd\" fill-opacity=\"1\" stroke=\"#000000\" stroke-opacity=\"1\" stroke-width=\"3.2\"/>\n",
       "<circle clip-path=\"url(#clip952)\" cx=\"1584.76\" cy=\"1294.86\" r=\"14\" fill=\"#e26f46\" fill-rule=\"evenodd\" fill-opacity=\"1\" stroke=\"#000000\" stroke-opacity=\"1\" stroke-width=\"3.2\"/>\n",
       "<circle clip-path=\"url(#clip952)\" cx=\"1619.99\" cy=\"1263.18\" r=\"14\" fill=\"#e26f46\" fill-rule=\"evenodd\" fill-opacity=\"1\" stroke=\"#000000\" stroke-opacity=\"1\" stroke-width=\"3.2\"/>\n",
       "<circle clip-path=\"url(#clip952)\" cx=\"1655.22\" cy=\"1228.48\" r=\"14\" fill=\"#e26f46\" fill-rule=\"evenodd\" fill-opacity=\"1\" stroke=\"#000000\" stroke-opacity=\"1\" stroke-width=\"3.2\"/>\n",
       "<circle clip-path=\"url(#clip952)\" cx=\"1690.45\" cy=\"1190.76\" r=\"14\" fill=\"#e26f46\" fill-rule=\"evenodd\" fill-opacity=\"1\" stroke=\"#000000\" stroke-opacity=\"1\" stroke-width=\"3.2\"/>\n",
       "<circle clip-path=\"url(#clip952)\" cx=\"1725.68\" cy=\"1150.03\" r=\"14\" fill=\"#e26f46\" fill-rule=\"evenodd\" fill-opacity=\"1\" stroke=\"#000000\" stroke-opacity=\"1\" stroke-width=\"3.2\"/>\n",
       "<circle clip-path=\"url(#clip952)\" cx=\"1760.9\" cy=\"1106.28\" r=\"14\" fill=\"#e26f46\" fill-rule=\"evenodd\" fill-opacity=\"1\" stroke=\"#000000\" stroke-opacity=\"1\" stroke-width=\"3.2\"/>\n",
       "<circle clip-path=\"url(#clip952)\" cx=\"1796.13\" cy=\"1059.51\" r=\"14\" fill=\"#e26f46\" fill-rule=\"evenodd\" fill-opacity=\"1\" stroke=\"#000000\" stroke-opacity=\"1\" stroke-width=\"3.2\"/>\n",
       "<circle clip-path=\"url(#clip952)\" cx=\"1831.36\" cy=\"1009.73\" r=\"14\" fill=\"#e26f46\" fill-rule=\"evenodd\" fill-opacity=\"1\" stroke=\"#000000\" stroke-opacity=\"1\" stroke-width=\"3.2\"/>\n",
       "<circle clip-path=\"url(#clip952)\" cx=\"1866.59\" cy=\"956.93\" r=\"14\" fill=\"#e26f46\" fill-rule=\"evenodd\" fill-opacity=\"1\" stroke=\"#000000\" stroke-opacity=\"1\" stroke-width=\"3.2\"/>\n",
       "<circle clip-path=\"url(#clip952)\" cx=\"1901.82\" cy=\"901.111\" r=\"14\" fill=\"#e26f46\" fill-rule=\"evenodd\" fill-opacity=\"1\" stroke=\"#000000\" stroke-opacity=\"1\" stroke-width=\"3.2\"/>\n",
       "<circle clip-path=\"url(#clip952)\" cx=\"1937.05\" cy=\"842.276\" r=\"14\" fill=\"#e26f46\" fill-rule=\"evenodd\" fill-opacity=\"1\" stroke=\"#000000\" stroke-opacity=\"1\" stroke-width=\"3.2\"/>\n",
       "<circle clip-path=\"url(#clip952)\" cx=\"1972.28\" cy=\"780.423\" r=\"14\" fill=\"#e26f46\" fill-rule=\"evenodd\" fill-opacity=\"1\" stroke=\"#000000\" stroke-opacity=\"1\" stroke-width=\"3.2\"/>\n",
       "<circle clip-path=\"url(#clip952)\" cx=\"2007.51\" cy=\"715.554\" r=\"14\" fill=\"#e26f46\" fill-rule=\"evenodd\" fill-opacity=\"1\" stroke=\"#000000\" stroke-opacity=\"1\" stroke-width=\"3.2\"/>\n",
       "<circle clip-path=\"url(#clip952)\" cx=\"2042.74\" cy=\"647.667\" r=\"14\" fill=\"#e26f46\" fill-rule=\"evenodd\" fill-opacity=\"1\" stroke=\"#000000\" stroke-opacity=\"1\" stroke-width=\"3.2\"/>\n",
       "<circle clip-path=\"url(#clip952)\" cx=\"2077.97\" cy=\"576.762\" r=\"14\" fill=\"#e26f46\" fill-rule=\"evenodd\" fill-opacity=\"1\" stroke=\"#000000\" stroke-opacity=\"1\" stroke-width=\"3.2\"/>\n",
       "<circle clip-path=\"url(#clip952)\" cx=\"2113.2\" cy=\"502.841\" r=\"14\" fill=\"#e26f46\" fill-rule=\"evenodd\" fill-opacity=\"1\" stroke=\"#000000\" stroke-opacity=\"1\" stroke-width=\"3.2\"/>\n",
       "<circle clip-path=\"url(#clip952)\" cx=\"2148.43\" cy=\"425.903\" r=\"14\" fill=\"#e26f46\" fill-rule=\"evenodd\" fill-opacity=\"1\" stroke=\"#000000\" stroke-opacity=\"1\" stroke-width=\"3.2\"/>\n",
       "<circle clip-path=\"url(#clip952)\" cx=\"2183.66\" cy=\"345.947\" r=\"14\" fill=\"#e26f46\" fill-rule=\"evenodd\" fill-opacity=\"1\" stroke=\"#000000\" stroke-opacity=\"1\" stroke-width=\"3.2\"/>\n",
       "<circle clip-path=\"url(#clip952)\" cx=\"2218.88\" cy=\"262.974\" r=\"14\" fill=\"#e26f46\" fill-rule=\"evenodd\" fill-opacity=\"1\" stroke=\"#000000\" stroke-opacity=\"1\" stroke-width=\"3.2\"/>\n",
       "<circle clip-path=\"url(#clip952)\" cx=\"2254.11\" cy=\"176.984\" r=\"14\" fill=\"#e26f46\" fill-rule=\"evenodd\" fill-opacity=\"1\" stroke=\"#000000\" stroke-opacity=\"1\" stroke-width=\"3.2\"/>\n",
       "<circle clip-path=\"url(#clip952)\" cx=\"2289.34\" cy=\"87.9763\" r=\"14\" fill=\"#e26f46\" fill-rule=\"evenodd\" fill-opacity=\"1\" stroke=\"#000000\" stroke-opacity=\"1\" stroke-width=\"3.2\"/>\n",
       "<path clip-path=\"url(#clip950)\" d=\"\n",
       "M1916.57 312.204 L2280.76 312.204 L2280.76 130.764 L1916.57 130.764  Z\n",
       "  \" fill=\"#ffffff\" fill-rule=\"evenodd\" fill-opacity=\"1\"/>\n",
       "<polyline clip-path=\"url(#clip950)\" style=\"stroke:#000000; stroke-width:4; stroke-opacity:1; fill:none\" points=\"\n",
       "  1916.57,312.204 2280.76,312.204 2280.76,130.764 1916.57,130.764 1916.57,312.204 \n",
       "  \"/>\n",
       "<polyline clip-path=\"url(#clip950)\" style=\"stroke:#009af9; stroke-width:4; stroke-opacity:1; fill:none\" points=\"\n",
       "  1940.57,191.244 2084.57,191.244 \n",
       "  \"/>\n",
       "<path clip-path=\"url(#clip950)\" d=\"M 0 0 M2108.57 172.506 L2112.83 172.506 L2112.83 208.524 L2108.57 208.524 L2108.57 172.506 Z\" fill=\"#000000\" fill-rule=\"evenodd\" fill-opacity=\"1\" /><path clip-path=\"url(#clip950)\" d=\"M 0 0 M2117.29 182.598 L2121.55 182.598 L2121.55 208.524 L2117.29 208.524 L2117.29 182.598 M2117.29 172.506 L2121.55 172.506 L2121.55 177.899 L2117.29 177.899 L2117.29 172.506 Z\" fill=\"#000000\" fill-rule=\"evenodd\" fill-opacity=\"1\" /><path clip-path=\"url(#clip950)\" d=\"M 0 0 M2147.57 192.876 L2147.57 208.524 L2143.31 208.524 L2143.31 193.015 Q2143.31 189.334 2141.88 187.506 Q2140.44 185.677 2137.57 185.677 Q2134.12 185.677 2132.13 187.876 Q2130.14 190.075 2130.14 193.871 L2130.14 208.524 L2125.86 208.524 L2125.86 182.598 L2130.14 182.598 L2130.14 186.626 Q2131.67 184.288 2133.73 183.131 Q2135.81 181.973 2138.52 181.973 Q2142.99 181.973 2145.28 184.751 Q2147.57 187.506 2147.57 192.876 Z\" fill=\"#000000\" fill-rule=\"evenodd\" fill-opacity=\"1\" /><path clip-path=\"url(#clip950)\" d=\"M 0 0 M2174.21 194.496 L2174.21 196.58 L2154.63 196.58 Q2154.91 200.978 2157.27 203.293 Q2159.65 205.584 2163.89 205.584 Q2166.34 205.584 2168.64 204.982 Q2170.95 204.381 2173.22 203.177 L2173.22 207.205 Q2170.93 208.177 2168.52 208.686 Q2166.11 209.195 2163.64 209.195 Q2157.43 209.195 2153.8 205.584 Q2150.19 201.973 2150.19 195.816 Q2150.19 189.45 2153.61 185.723 Q2157.06 181.973 2162.9 181.973 Q2168.13 181.973 2171.16 185.353 Q2174.21 188.709 2174.21 194.496 M2169.96 193.246 Q2169.91 189.751 2167.99 187.668 Q2166.09 185.584 2162.94 185.584 Q2159.38 185.584 2157.22 187.598 Q2155.09 189.612 2154.77 193.27 L2169.96 193.246 Z\" fill=\"#000000\" fill-rule=\"evenodd\" fill-opacity=\"1\" /><circle clip-path=\"url(#clip950)\" cx=\"2024.57\" cy=\"251.724\" r=\"23\" fill=\"#e26f46\" fill-rule=\"evenodd\" fill-opacity=\"1\" stroke=\"#000000\" stroke-opacity=\"1\" stroke-width=\"5.12\"/>\n",
       "<path clip-path=\"url(#clip950)\" d=\"M 0 0 M2112.85 265.115 L2112.85 278.865 L2108.57 278.865 L2108.57 243.078 L2112.85 243.078 L2112.85 247.013 Q2114.19 244.699 2116.23 243.588 Q2118.29 242.453 2121.14 242.453 Q2125.86 242.453 2128.8 246.203 Q2131.76 249.953 2131.76 256.064 Q2131.76 262.175 2128.8 265.925 Q2125.86 269.675 2121.14 269.675 Q2118.29 269.675 2116.23 268.564 Q2114.19 267.43 2112.85 265.115 M2127.34 256.064 Q2127.34 251.365 2125.4 248.703 Q2123.47 246.018 2120.09 246.018 Q2116.71 246.018 2114.77 248.703 Q2112.85 251.365 2112.85 256.064 Q2112.85 260.763 2114.77 263.449 Q2116.71 266.111 2120.09 266.111 Q2123.47 266.111 2125.4 263.449 Q2127.34 260.763 2127.34 256.064 Z\" fill=\"#000000\" fill-rule=\"evenodd\" fill-opacity=\"1\" /><path clip-path=\"url(#clip950)\" d=\"M 0 0 M2146.27 246.064 Q2142.85 246.064 2140.86 248.75 Q2138.87 251.412 2138.87 256.064 Q2138.87 260.717 2140.84 263.402 Q2142.83 266.064 2146.27 266.064 Q2149.68 266.064 2151.67 263.379 Q2153.66 260.694 2153.66 256.064 Q2153.66 251.458 2151.67 248.773 Q2149.68 246.064 2146.27 246.064 M2146.27 242.453 Q2151.83 242.453 2155 246.064 Q2158.17 249.675 2158.17 256.064 Q2158.17 262.43 2155 266.064 Q2151.83 269.675 2146.27 269.675 Q2140.7 269.675 2137.52 266.064 Q2134.38 262.43 2134.38 256.064 Q2134.38 249.675 2137.52 246.064 Q2140.7 242.453 2146.27 242.453 Z\" fill=\"#000000\" fill-rule=\"evenodd\" fill-opacity=\"1\" /><path clip-path=\"url(#clip950)\" d=\"M 0 0 M2162.64 243.078 L2166.9 243.078 L2166.9 269.004 L2162.64 269.004 L2162.64 243.078 M2162.64 232.986 L2166.9 232.986 L2166.9 238.379 L2162.64 238.379 L2162.64 232.986 Z\" fill=\"#000000\" fill-rule=\"evenodd\" fill-opacity=\"1\" /><path clip-path=\"url(#clip950)\" d=\"M 0 0 M2192.92 253.356 L2192.92 269.004 L2188.66 269.004 L2188.66 253.495 Q2188.66 249.814 2187.22 247.986 Q2185.79 246.157 2182.92 246.157 Q2179.47 246.157 2177.48 248.356 Q2175.49 250.555 2175.49 254.351 L2175.49 269.004 L2171.21 269.004 L2171.21 243.078 L2175.49 243.078 L2175.49 247.106 Q2177.02 244.768 2179.08 243.611 Q2181.16 242.453 2183.87 242.453 Q2188.33 242.453 2190.63 245.231 Q2192.92 247.986 2192.92 253.356 Z\" fill=\"#000000\" fill-rule=\"evenodd\" fill-opacity=\"1\" /><path clip-path=\"url(#clip950)\" d=\"M 0 0 M2201.6 235.717 L2201.6 243.078 L2210.37 243.078 L2210.37 246.388 L2201.6 246.388 L2201.6 260.462 Q2201.6 263.634 2202.46 264.537 Q2203.33 265.439 2206 265.439 L2210.37 265.439 L2210.37 269.004 L2206 269.004 Q2201.07 269.004 2199.19 267.175 Q2197.32 265.324 2197.32 260.462 L2197.32 246.388 L2194.19 246.388 L2194.19 243.078 L2197.32 243.078 L2197.32 235.717 L2201.6 235.717 Z\" fill=\"#000000\" fill-rule=\"evenodd\" fill-opacity=\"1\" /><path clip-path=\"url(#clip950)\" d=\"M 0 0 M2231.37 243.842 L2231.37 247.87 Q2229.56 246.944 2227.62 246.481 Q2225.67 246.018 2223.59 246.018 Q2220.42 246.018 2218.82 246.99 Q2217.25 247.963 2217.25 249.907 Q2217.25 251.388 2218.38 252.245 Q2219.52 253.078 2222.94 253.842 L2224.4 254.166 Q2228.94 255.138 2230.83 256.921 Q2232.76 258.68 2232.76 261.851 Q2232.76 265.462 2229.89 267.569 Q2227.04 269.675 2222.04 269.675 Q2219.96 269.675 2217.69 269.259 Q2215.44 268.865 2212.94 268.055 L2212.94 263.657 Q2215.3 264.884 2217.59 265.509 Q2219.89 266.111 2222.13 266.111 Q2225.14 266.111 2226.76 265.092 Q2228.38 264.05 2228.38 262.175 Q2228.38 260.439 2227.2 259.513 Q2226.04 258.587 2222.08 257.731 L2220.6 257.384 Q2216.64 256.55 2214.89 254.838 Q2213.13 253.101 2213.13 250.092 Q2213.13 246.435 2215.72 244.444 Q2218.31 242.453 2223.08 242.453 Q2225.44 242.453 2227.52 242.801 Q2229.61 243.148 2231.37 243.842 Z\" fill=\"#000000\" fill-rule=\"evenodd\" fill-opacity=\"1\" /></svg>\n"
      ]
     },
     "execution_count": 86,
     "metadata": {},
     "output_type": "execute_result"
    }
   ],
   "source": [
    "using Plots\n",
    "x = -3:0.1:3\n",
    "f(x) = x^2\n",
    "\n",
    "y = f.(x)\n",
    "\n",
    "# load the GR backend\n",
    "gr()\n",
    "plot(x, y, label=\"line\")\n",
    "scatter!(x, y, label=\"points\")"
   ]
  },
  {
   "cell_type": "code",
   "execution_count": 94,
   "metadata": {},
   "outputs": [
    {
     "data": {
      "image/svg+xml": [
       "<?xml version=\"1.0\" encoding=\"utf-8\"?>\n",
       "<svg xmlns=\"http://www.w3.org/2000/svg\" xmlns:xlink=\"http://www.w3.org/1999/xlink\" width=\"600\" height=\"400\" viewBox=\"0 0 2400 1600\">\n",
       "<defs>\n",
       "  <clipPath id=\"clip230\">\n",
       "    <rect x=\"0\" y=\"0\" width=\"2400\" height=\"1600\"/>\n",
       "  </clipPath>\n",
       "</defs>\n",
       "<path clip-path=\"url(#clip230)\" d=\"\n",
       "M0 1600 L2400 1600 L2400 0 L0 0  Z\n",
       "  \" fill=\"#ffffff\" fill-rule=\"evenodd\" fill-opacity=\"1\"/>\n",
       "<defs>\n",
       "  <clipPath id=\"clip231\">\n",
       "    <rect x=\"480\" y=\"0\" width=\"1681\" height=\"1600\"/>\n",
       "  </clipPath>\n",
       "</defs>\n",
       "<path clip-path=\"url(#clip230)\" d=\"\n",
       "M261.324 1423.18 L2352.76 1423.18 L2352.76 123.472 L261.324 123.472  Z\n",
       "  \" fill=\"#ffffff\" fill-rule=\"evenodd\" fill-opacity=\"1\"/>\n",
       "<defs>\n",
       "  <clipPath id=\"clip232\">\n",
       "    <rect x=\"261\" y=\"123\" width=\"2092\" height=\"1301\"/>\n",
       "  </clipPath>\n",
       "</defs>\n",
       "<polyline clip-path=\"url(#clip232)\" style=\"stroke:#000000; stroke-width:2; stroke-opacity:0.1; fill:none\" points=\"\n",
       "  2294.31,1423.18 2294.31,123.472 \n",
       "  \"/>\n",
       "<polyline clip-path=\"url(#clip232)\" style=\"stroke:#000000; stroke-width:2; stroke-opacity:0.1; fill:none\" points=\"\n",
       "  1855.69,1423.18 1855.69,123.472 \n",
       "  \"/>\n",
       "<polyline clip-path=\"url(#clip232)\" style=\"stroke:#000000; stroke-width:2; stroke-opacity:0.1; fill:none\" points=\"\n",
       "  1417.07,1423.18 1417.07,123.472 \n",
       "  \"/>\n",
       "<polyline clip-path=\"url(#clip232)\" style=\"stroke:#000000; stroke-width:2; stroke-opacity:0.1; fill:none\" points=\"\n",
       "  978.447,1423.18 978.447,123.472 \n",
       "  \"/>\n",
       "<polyline clip-path=\"url(#clip232)\" style=\"stroke:#000000; stroke-width:2; stroke-opacity:0.1; fill:none\" points=\"\n",
       "  539.826,1423.18 539.826,123.472 \n",
       "  \"/>\n",
       "<polyline clip-path=\"url(#clip232)\" style=\"stroke:#000000; stroke-width:2; stroke-opacity:0.1; fill:none\" points=\"\n",
       "  2352.76,1298.81 261.324,1298.81 \n",
       "  \"/>\n",
       "<polyline clip-path=\"url(#clip232)\" style=\"stroke:#000000; stroke-width:2; stroke-opacity:0.1; fill:none\" points=\"\n",
       "  2352.76,1079.86 261.324,1079.86 \n",
       "  \"/>\n",
       "<polyline clip-path=\"url(#clip232)\" style=\"stroke:#000000; stroke-width:2; stroke-opacity:0.1; fill:none\" points=\"\n",
       "  2352.76,860.907 261.324,860.907 \n",
       "  \"/>\n",
       "<polyline clip-path=\"url(#clip232)\" style=\"stroke:#000000; stroke-width:2; stroke-opacity:0.1; fill:none\" points=\"\n",
       "  2352.76,641.954 261.324,641.954 \n",
       "  \"/>\n",
       "<polyline clip-path=\"url(#clip232)\" style=\"stroke:#000000; stroke-width:2; stroke-opacity:0.1; fill:none\" points=\"\n",
       "  2352.76,423 261.324,423 \n",
       "  \"/>\n",
       "<polyline clip-path=\"url(#clip232)\" style=\"stroke:#000000; stroke-width:2; stroke-opacity:0.1; fill:none\" points=\"\n",
       "  2352.76,204.047 261.324,204.047 \n",
       "  \"/>\n",
       "<polyline clip-path=\"url(#clip230)\" style=\"stroke:#000000; stroke-width:4; stroke-opacity:1; fill:none\" points=\"\n",
       "  2352.76,1423.18 261.324,1423.18 \n",
       "  \"/>\n",
       "<polyline clip-path=\"url(#clip230)\" style=\"stroke:#000000; stroke-width:4; stroke-opacity:1; fill:none\" points=\"\n",
       "  261.324,1423.18 261.324,123.472 \n",
       "  \"/>\n",
       "<polyline clip-path=\"url(#clip230)\" style=\"stroke:#000000; stroke-width:4; stroke-opacity:1; fill:none\" points=\"\n",
       "  2294.31,1423.18 2294.31,1407.58 \n",
       "  \"/>\n",
       "<polyline clip-path=\"url(#clip230)\" style=\"stroke:#000000; stroke-width:4; stroke-opacity:1; fill:none\" points=\"\n",
       "  1855.69,1423.18 1855.69,1407.58 \n",
       "  \"/>\n",
       "<polyline clip-path=\"url(#clip230)\" style=\"stroke:#000000; stroke-width:4; stroke-opacity:1; fill:none\" points=\"\n",
       "  1417.07,1423.18 1417.07,1407.58 \n",
       "  \"/>\n",
       "<polyline clip-path=\"url(#clip230)\" style=\"stroke:#000000; stroke-width:4; stroke-opacity:1; fill:none\" points=\"\n",
       "  978.447,1423.18 978.447,1407.58 \n",
       "  \"/>\n",
       "<polyline clip-path=\"url(#clip230)\" style=\"stroke:#000000; stroke-width:4; stroke-opacity:1; fill:none\" points=\"\n",
       "  539.826,1423.18 539.826,1407.58 \n",
       "  \"/>\n",
       "<polyline clip-path=\"url(#clip230)\" style=\"stroke:#000000; stroke-width:4; stroke-opacity:1; fill:none\" points=\"\n",
       "  261.324,1298.81 286.422,1298.81 \n",
       "  \"/>\n",
       "<polyline clip-path=\"url(#clip230)\" style=\"stroke:#000000; stroke-width:4; stroke-opacity:1; fill:none\" points=\"\n",
       "  261.324,1079.86 286.422,1079.86 \n",
       "  \"/>\n",
       "<polyline clip-path=\"url(#clip230)\" style=\"stroke:#000000; stroke-width:4; stroke-opacity:1; fill:none\" points=\"\n",
       "  261.324,860.907 286.422,860.907 \n",
       "  \"/>\n",
       "<polyline clip-path=\"url(#clip230)\" style=\"stroke:#000000; stroke-width:4; stroke-opacity:1; fill:none\" points=\"\n",
       "  261.324,641.954 286.422,641.954 \n",
       "  \"/>\n",
       "<polyline clip-path=\"url(#clip230)\" style=\"stroke:#000000; stroke-width:4; stroke-opacity:1; fill:none\" points=\"\n",
       "  261.324,423 286.422,423 \n",
       "  \"/>\n",
       "<polyline clip-path=\"url(#clip230)\" style=\"stroke:#000000; stroke-width:4; stroke-opacity:1; fill:none\" points=\"\n",
       "  261.324,204.047 286.422,204.047 \n",
       "  \"/>\n",
       "<path clip-path=\"url(#clip230)\" d=\"M 0 0 M2294.31 1445.17 Q2290.7 1445.17 2288.87 1448.74 Q2287.06 1452.28 2287.06 1459.41 Q2287.06 1466.51 2288.87 1470.08 Q2290.7 1473.62 2294.31 1473.62 Q2297.94 1473.62 2299.75 1470.08 Q2301.58 1466.51 2301.58 1459.41 Q2301.58 1452.28 2299.75 1448.74 Q2297.94 1445.17 2294.31 1445.17 M2294.31 1441.47 Q2300.12 1441.47 2303.18 1446.07 Q2306.25 1450.66 2306.25 1459.41 Q2306.25 1468.13 2303.18 1472.74 Q2300.12 1477.32 2294.31 1477.32 Q2288.5 1477.32 2285.42 1472.74 Q2282.37 1468.13 2282.37 1459.41 Q2282.37 1450.66 2285.42 1446.07 Q2288.5 1441.47 2294.31 1441.47 Z\" fill=\"#000000\" fill-rule=\"evenodd\" fill-opacity=\"1\" /><path clip-path=\"url(#clip230)\" d=\"M 0 0 M1792.82 1494.25 L1800.46 1494.25 L1800.46 1467.89 L1792.15 1469.55 L1792.15 1465.29 L1800.41 1463.63 L1805.09 1463.63 L1805.09 1494.25 L1812.73 1494.25 L1812.73 1498.19 L1792.82 1498.19 L1792.82 1494.25 Z\" fill=\"#000000\" fill-rule=\"evenodd\" fill-opacity=\"1\" /><path clip-path=\"url(#clip230)\" d=\"M 0 0 M1845.97 1472.72 L1835.39 1483.35 L1845.97 1493.93 L1843.21 1496.73 L1832.59 1486.1 L1821.96 1496.73 L1819.23 1493.93 L1829.79 1483.35 L1819.23 1472.72 L1821.96 1469.92 L1832.59 1480.55 L1843.21 1469.92 L1845.97 1472.72 Z\" fill=\"#000000\" fill-rule=\"evenodd\" fill-opacity=\"1\" /><path clip-path=\"url(#clip230)\" d=\"M 0 0 M1851.85 1494.25 L1859.49 1494.25 L1859.49 1467.89 L1851.18 1469.55 L1851.18 1465.29 L1859.44 1463.63 L1864.12 1463.63 L1864.12 1494.25 L1871.75 1494.25 L1871.75 1498.19 L1851.85 1498.19 L1851.85 1494.25 Z\" fill=\"#000000\" fill-rule=\"evenodd\" fill-opacity=\"1\" /><path clip-path=\"url(#clip230)\" d=\"M 0 0 M1886.82 1466.71 Q1883.21 1466.71 1881.38 1470.27 Q1879.58 1473.81 1879.58 1480.94 Q1879.58 1488.05 1881.38 1491.61 Q1883.21 1495.15 1886.82 1495.15 Q1890.46 1495.15 1892.26 1491.61 Q1894.09 1488.05 1894.09 1480.94 Q1894.09 1473.81 1892.26 1470.27 Q1890.46 1466.71 1886.82 1466.71 M1886.82 1463 Q1892.63 1463 1895.69 1467.61 Q1898.77 1472.19 1898.77 1480.94 Q1898.77 1489.67 1895.69 1494.28 Q1892.63 1498.86 1886.82 1498.86 Q1881.01 1498.86 1877.93 1494.28 Q1874.88 1489.67 1874.88 1480.94 Q1874.88 1472.19 1877.93 1467.61 Q1881.01 1463 1886.82 1463 Z\" fill=\"#000000\" fill-rule=\"evenodd\" fill-opacity=\"1\" /><path clip-path=\"url(#clip230)\" d=\"M 0 0 M1911.44 1446.01 L1901.85 1461 L1911.44 1461 L1911.44 1446.01 M1910.45 1442.7 L1915.22 1442.7 L1915.22 1461 L1919.23 1461 L1919.23 1464.16 L1915.22 1464.16 L1915.22 1470.78 L1911.44 1470.78 L1911.44 1464.16 L1898.77 1464.16 L1898.77 1460.49 L1910.45 1442.7 Z\" fill=\"#000000\" fill-rule=\"evenodd\" fill-opacity=\"1\" /><path clip-path=\"url(#clip230)\" d=\"M 0 0 M1358.47 1494.25 L1374.79 1494.25 L1374.79 1498.19 L1352.84 1498.19 L1352.84 1494.25 Q1355.51 1491.5 1360.09 1486.87 Q1364.7 1482.21 1365.88 1480.87 Q1368.12 1478.35 1369 1476.61 Q1369.9 1474.85 1369.9 1473.16 Q1369.9 1470.41 1367.96 1468.67 Q1366.04 1466.94 1362.94 1466.94 Q1360.74 1466.94 1358.28 1467.7 Q1355.85 1468.46 1353.08 1470.02 L1353.08 1465.29 Q1355.9 1464.16 1358.35 1463.58 Q1360.81 1463 1362.84 1463 Q1368.21 1463 1371.41 1465.69 Q1374.6 1468.37 1374.6 1472.86 Q1374.6 1474.99 1373.79 1476.91 Q1373.01 1478.81 1370.9 1481.4 Q1370.32 1482.08 1367.22 1485.29 Q1364.12 1488.49 1358.47 1494.25 Z\" fill=\"#000000\" fill-rule=\"evenodd\" fill-opacity=\"1\" /><path clip-path=\"url(#clip230)\" d=\"M 0 0 M1408.03 1472.72 L1397.45 1483.35 L1408.03 1493.93 L1405.27 1496.73 L1394.65 1486.1 L1384.02 1496.73 L1381.29 1493.93 L1391.85 1483.35 L1381.29 1472.72 L1384.02 1469.92 L1394.65 1480.55 L1405.27 1469.92 L1408.03 1472.72 Z\" fill=\"#000000\" fill-rule=\"evenodd\" fill-opacity=\"1\" /><path clip-path=\"url(#clip230)\" d=\"M 0 0 M1413.91 1494.25 L1421.55 1494.25 L1421.55 1467.89 L1413.24 1469.55 L1413.24 1465.29 L1421.5 1463.63 L1426.18 1463.63 L1426.18 1494.25 L1433.82 1494.25 L1433.82 1498.19 L1413.91 1498.19 L1413.91 1494.25 Z\" fill=\"#000000\" fill-rule=\"evenodd\" fill-opacity=\"1\" /><path clip-path=\"url(#clip230)\" d=\"M 0 0 M1448.89 1466.71 Q1445.27 1466.71 1443.45 1470.27 Q1441.64 1473.81 1441.64 1480.94 Q1441.64 1488.05 1443.45 1491.61 Q1445.27 1495.15 1448.89 1495.15 Q1452.52 1495.15 1454.32 1491.61 Q1456.15 1488.05 1456.15 1480.94 Q1456.15 1473.81 1454.32 1470.27 Q1452.52 1466.71 1448.89 1466.71 M1448.89 1463 Q1454.7 1463 1457.75 1467.61 Q1460.83 1472.19 1460.83 1480.94 Q1460.83 1489.67 1457.75 1494.28 Q1454.7 1498.86 1448.89 1498.86 Q1443.08 1498.86 1440 1494.28 Q1436.94 1489.67 1436.94 1480.94 Q1436.94 1472.19 1440 1467.61 Q1443.08 1463 1448.89 1463 Z\" fill=\"#000000\" fill-rule=\"evenodd\" fill-opacity=\"1\" /><path clip-path=\"url(#clip230)\" d=\"M 0 0 M1473.51 1446.01 L1463.91 1461 L1473.51 1461 L1473.51 1446.01 M1472.51 1442.7 L1477.29 1442.7 L1477.29 1461 L1481.29 1461 L1481.29 1464.16 L1477.29 1464.16 L1477.29 1470.78 L1473.51 1470.78 L1473.51 1464.16 L1460.83 1464.16 L1460.83 1460.49 L1472.51 1442.7 Z\" fill=\"#000000\" fill-rule=\"evenodd\" fill-opacity=\"1\" /><path clip-path=\"url(#clip230)\" d=\"M 0 0 M929.443 1479.55 Q932.799 1480.27 934.674 1482.54 Q936.572 1484.81 936.572 1488.14 Q936.572 1493.26 933.054 1496.06 Q929.535 1498.86 923.054 1498.86 Q920.878 1498.86 918.563 1498.42 Q916.272 1498 913.818 1497.15 L913.818 1492.63 Q915.762 1493.77 918.077 1494.34 Q920.392 1494.92 922.915 1494.92 Q927.313 1494.92 929.605 1493.19 Q931.92 1491.45 931.92 1488.14 Q931.92 1485.09 929.767 1483.37 Q927.637 1481.64 923.818 1481.64 L919.79 1481.64 L919.79 1477.79 L924.003 1477.79 Q927.452 1477.79 929.281 1476.43 Q931.11 1475.04 931.11 1472.45 Q931.11 1469.78 929.211 1468.37 Q927.336 1466.94 923.818 1466.94 Q921.897 1466.94 919.698 1467.35 Q917.499 1467.77 914.86 1468.65 L914.86 1464.48 Q917.522 1463.74 919.836 1463.37 Q922.174 1463 924.235 1463 Q929.559 1463 932.66 1465.43 Q935.762 1467.84 935.762 1471.96 Q935.762 1474.83 934.119 1476.82 Q932.475 1478.79 929.443 1479.55 Z\" fill=\"#000000\" fill-rule=\"evenodd\" fill-opacity=\"1\" /><path clip-path=\"url(#clip230)\" d=\"M 0 0 M969.813 1472.72 L959.234 1483.35 L969.813 1493.93 L967.058 1496.73 L956.433 1486.1 L945.809 1496.73 L943.077 1493.93 L953.633 1483.35 L943.077 1472.72 L945.809 1469.92 L956.433 1480.55 L967.058 1469.92 L969.813 1472.72 Z\" fill=\"#000000\" fill-rule=\"evenodd\" fill-opacity=\"1\" /><path clip-path=\"url(#clip230)\" d=\"M 0 0 M975.693 1494.25 L983.331 1494.25 L983.331 1467.89 L975.021 1469.55 L975.021 1465.29 L983.285 1463.63 L987.961 1463.63 L987.961 1494.25 L995.6 1494.25 L995.6 1498.19 L975.693 1498.19 L975.693 1494.25 Z\" fill=\"#000000\" fill-rule=\"evenodd\" fill-opacity=\"1\" /><path clip-path=\"url(#clip230)\" d=\"M 0 0 M1010.67 1466.71 Q1007.06 1466.71 1005.23 1470.27 Q1003.42 1473.81 1003.42 1480.94 Q1003.42 1488.05 1005.23 1491.61 Q1007.06 1495.15 1010.67 1495.15 Q1014.3 1495.15 1016.11 1491.61 Q1017.94 1488.05 1017.94 1480.94 Q1017.94 1473.81 1016.11 1470.27 Q1014.3 1466.71 1010.67 1466.71 M1010.67 1463 Q1016.48 1463 1019.54 1467.61 Q1022.61 1472.19 1022.61 1480.94 Q1022.61 1489.67 1019.54 1494.28 Q1016.48 1498.86 1010.67 1498.86 Q1004.86 1498.86 1001.78 1494.28 Q998.725 1489.67 998.725 1480.94 Q998.725 1472.19 1001.78 1467.61 Q1004.86 1463 1010.67 1463 Z\" fill=\"#000000\" fill-rule=\"evenodd\" fill-opacity=\"1\" /><path clip-path=\"url(#clip230)\" d=\"M 0 0 M1035.29 1446.01 L1025.7 1461 L1035.29 1461 L1035.29 1446.01 M1034.29 1442.7 L1039.07 1442.7 L1039.07 1461 L1043.08 1461 L1043.08 1464.16 L1039.07 1464.16 L1039.07 1470.78 L1035.29 1470.78 L1035.29 1464.16 L1022.61 1464.16 L1022.61 1460.49 L1034.29 1442.7 Z\" fill=\"#000000\" fill-rule=\"evenodd\" fill-opacity=\"1\" /><path clip-path=\"url(#clip230)\" d=\"M 0 0 M489.584 1467.7 L477.778 1486.15 L489.584 1486.15 L489.584 1467.7 M488.357 1463.63 L494.236 1463.63 L494.236 1486.15 L499.167 1486.15 L499.167 1490.04 L494.236 1490.04 L494.236 1498.19 L489.584 1498.19 L489.584 1490.04 L473.982 1490.04 L473.982 1485.53 L488.357 1463.63 Z\" fill=\"#000000\" fill-rule=\"evenodd\" fill-opacity=\"1\" /><path clip-path=\"url(#clip230)\" d=\"M 0 0 M532.407 1472.72 L521.829 1483.35 L532.407 1493.93 L529.653 1496.73 L519.028 1486.1 L508.403 1496.73 L505.671 1493.93 L516.227 1483.35 L505.671 1472.72 L508.403 1469.92 L519.028 1480.55 L529.653 1469.92 L532.407 1472.72 Z\" fill=\"#000000\" fill-rule=\"evenodd\" fill-opacity=\"1\" /><path clip-path=\"url(#clip230)\" d=\"M 0 0 M538.287 1494.25 L545.926 1494.25 L545.926 1467.89 L537.616 1469.55 L537.616 1465.29 L545.88 1463.63 L550.555 1463.63 L550.555 1494.25 L558.194 1494.25 L558.194 1498.19 L538.287 1498.19 L538.287 1494.25 Z\" fill=\"#000000\" fill-rule=\"evenodd\" fill-opacity=\"1\" /><path clip-path=\"url(#clip230)\" d=\"M 0 0 M573.264 1466.71 Q569.653 1466.71 567.824 1470.27 Q566.018 1473.81 566.018 1480.94 Q566.018 1488.05 567.824 1491.61 Q569.653 1495.15 573.264 1495.15 Q576.898 1495.15 578.703 1491.61 Q580.532 1488.05 580.532 1480.94 Q580.532 1473.81 578.703 1470.27 Q576.898 1466.71 573.264 1466.71 M573.264 1463 Q579.074 1463 582.129 1467.61 Q585.208 1472.19 585.208 1480.94 Q585.208 1489.67 582.129 1494.28 Q579.074 1498.86 573.264 1498.86 Q567.453 1498.86 564.375 1494.28 Q561.319 1489.67 561.319 1480.94 Q561.319 1472.19 564.375 1467.61 Q567.453 1463 573.264 1463 Z\" fill=\"#000000\" fill-rule=\"evenodd\" fill-opacity=\"1\" /><path clip-path=\"url(#clip230)\" d=\"M 0 0 M597.884 1446.01 L588.292 1461 L597.884 1461 L597.884 1446.01 M596.888 1442.7 L601.665 1442.7 L601.665 1461 L605.671 1461 L605.671 1464.16 L601.665 1464.16 L601.665 1470.78 L597.884 1470.78 L597.884 1464.16 L585.208 1464.16 L585.208 1460.49 L596.888 1442.7 Z\" fill=\"#000000\" fill-rule=\"evenodd\" fill-opacity=\"1\" /><path clip-path=\"url(#clip230)\" d=\"M 0 0 M126.931 1312.16 L134.57 1312.16 L134.57 1285.79 L126.26 1287.46 L126.26 1283.2 L134.524 1281.53 L139.2 1281.53 L139.2 1312.16 L146.839 1312.16 L146.839 1316.09 L126.931 1316.09 L126.931 1312.16 Z\" fill=\"#000000\" fill-rule=\"evenodd\" fill-opacity=\"1\" /><path clip-path=\"url(#clip230)\" d=\"M 0 0 M164.755 1285.61 L152.95 1304.06 L164.755 1304.06 L164.755 1285.61 M163.528 1281.53 L169.408 1281.53 L169.408 1304.06 L174.339 1304.06 L174.339 1307.95 L169.408 1307.95 L169.408 1316.09 L164.755 1316.09 L164.755 1307.95 L149.154 1307.95 L149.154 1303.43 L163.528 1281.53 Z\" fill=\"#000000\" fill-rule=\"evenodd\" fill-opacity=\"1\" /><path clip-path=\"url(#clip230)\" d=\"M 0 0 M179.408 1310.21 L184.292 1310.21 L184.292 1316.09 L179.408 1316.09 L179.408 1310.21 Z\" fill=\"#000000\" fill-rule=\"evenodd\" fill-opacity=\"1\" /><path clip-path=\"url(#clip230)\" d=\"M 0 0 M189.408 1281.53 L207.764 1281.53 L207.764 1285.47 L193.69 1285.47 L193.69 1293.94 Q194.709 1293.59 195.727 1293.43 Q196.746 1293.25 197.764 1293.25 Q203.551 1293.25 206.931 1296.42 Q210.311 1299.59 210.311 1305.01 Q210.311 1310.59 206.838 1313.69 Q203.366 1316.77 197.047 1316.77 Q194.871 1316.77 192.602 1316.4 Q190.357 1316.02 187.95 1315.28 L187.95 1310.59 Q190.033 1311.72 192.255 1312.27 Q194.477 1312.83 196.954 1312.83 Q200.959 1312.83 203.297 1310.72 Q205.635 1308.62 205.635 1305.01 Q205.635 1301.4 203.297 1299.29 Q200.959 1297.18 196.954 1297.18 Q195.079 1297.18 193.204 1297.6 Q191.352 1298.02 189.408 1298.9 L189.408 1281.53 Z\" fill=\"#000000\" fill-rule=\"evenodd\" fill-opacity=\"1\" /><path clip-path=\"url(#clip230)\" d=\"M 0 0 M225.38 1284.61 Q221.769 1284.61 219.94 1288.18 Q218.135 1291.72 218.135 1298.85 Q218.135 1305.96 219.94 1309.52 Q221.769 1313.06 225.38 1313.06 Q229.014 1313.06 230.82 1309.52 Q232.648 1305.96 232.648 1298.85 Q232.648 1291.72 230.82 1288.18 Q229.014 1284.61 225.38 1284.61 M225.38 1280.91 Q231.19 1280.91 234.246 1285.52 Q237.324 1290.1 237.324 1298.85 Q237.324 1307.58 234.246 1312.18 Q231.19 1316.77 225.38 1316.77 Q219.57 1316.77 216.491 1312.18 Q213.436 1307.58 213.436 1298.85 Q213.436 1290.1 216.491 1285.52 Q219.57 1280.91 225.38 1280.91 Z\" fill=\"#000000\" fill-rule=\"evenodd\" fill-opacity=\"1\" /><path clip-path=\"url(#clip230)\" d=\"M 0 0 M127.834 1093.21 L135.473 1093.21 L135.473 1066.84 L127.163 1068.51 L127.163 1064.25 L135.427 1062.58 L140.103 1062.58 L140.103 1093.21 L147.742 1093.21 L147.742 1097.14 L127.834 1097.14 L127.834 1093.21 Z\" fill=\"#000000\" fill-rule=\"evenodd\" fill-opacity=\"1\" /><path clip-path=\"url(#clip230)\" d=\"M 0 0 M165.658 1066.65 L153.853 1085.1 L165.658 1085.1 L165.658 1066.65 M164.431 1062.58 L170.311 1062.58 L170.311 1085.1 L175.241 1085.1 L175.241 1088.99 L170.311 1088.99 L170.311 1097.14 L165.658 1097.14 L165.658 1088.99 L150.056 1088.99 L150.056 1084.48 L164.431 1062.58 Z\" fill=\"#000000\" fill-rule=\"evenodd\" fill-opacity=\"1\" /><path clip-path=\"url(#clip230)\" d=\"M 0 0 M180.311 1091.26 L185.195 1091.26 L185.195 1097.14 L180.311 1097.14 L180.311 1091.26 Z\" fill=\"#000000\" fill-rule=\"evenodd\" fill-opacity=\"1\" /><path clip-path=\"url(#clip230)\" d=\"M 0 0 M189.084 1062.58 L211.306 1062.58 L211.306 1064.57 L198.76 1097.14 L193.876 1097.14 L205.681 1066.52 L189.084 1066.52 L189.084 1062.58 Z\" fill=\"#000000\" fill-rule=\"evenodd\" fill-opacity=\"1\" /><path clip-path=\"url(#clip230)\" d=\"M 0 0 M216.422 1062.58 L234.778 1062.58 L234.778 1066.52 L220.704 1066.52 L220.704 1074.99 Q221.723 1074.64 222.741 1074.48 Q223.76 1074.29 224.778 1074.29 Q230.565 1074.29 233.945 1077.47 Q237.324 1080.64 237.324 1086.05 Q237.324 1091.63 233.852 1094.73 Q230.38 1097.81 224.061 1097.81 Q221.885 1097.81 219.616 1097.44 Q217.371 1097.07 214.963 1096.33 L214.963 1091.63 Q217.047 1092.77 219.269 1093.32 Q221.491 1093.88 223.968 1093.88 Q227.973 1093.88 230.311 1091.77 Q232.648 1089.66 232.648 1086.05 Q232.648 1082.44 230.311 1080.34 Q227.973 1078.23 223.968 1078.23 Q222.093 1078.23 220.218 1078.65 Q218.366 1079.06 216.422 1079.94 L216.422 1062.58 Z\" fill=\"#000000\" fill-rule=\"evenodd\" fill-opacity=\"1\" /><path clip-path=\"url(#clip230)\" d=\"M 0 0 M127.418 874.252 L135.056 874.252 L135.056 847.887 L126.746 849.553 L126.746 845.294 L135.01 843.627 L139.686 843.627 L139.686 874.252 L147.325 874.252 L147.325 878.187 L127.418 878.187 L127.418 874.252 Z\" fill=\"#000000\" fill-rule=\"evenodd\" fill-opacity=\"1\" /><path clip-path=\"url(#clip230)\" d=\"M 0 0 M152.441 843.627 L170.797 843.627 L170.797 847.563 L156.723 847.563 L156.723 856.035 Q157.741 855.687 158.76 855.525 Q159.778 855.34 160.797 855.34 Q166.584 855.34 169.964 858.512 Q173.343 861.683 173.343 867.099 Q173.343 872.678 169.871 875.78 Q166.399 878.859 160.079 878.859 Q157.904 878.859 155.635 878.488 Q153.39 878.118 150.982 877.377 L150.982 872.678 Q153.066 873.812 155.288 874.368 Q157.51 874.923 159.987 874.923 Q163.991 874.923 166.329 872.817 Q168.667 870.711 168.667 867.099 Q168.667 863.488 166.329 861.382 Q163.991 859.275 159.987 859.275 Q158.112 859.275 156.237 859.692 Q154.385 860.109 152.441 860.988 L152.441 843.627 Z\" fill=\"#000000\" fill-rule=\"evenodd\" fill-opacity=\"1\" /><path clip-path=\"url(#clip230)\" d=\"M 0 0 M178.413 872.308 L183.297 872.308 L183.297 878.187 L178.413 878.187 L178.413 872.308 Z\" fill=\"#000000\" fill-rule=\"evenodd\" fill-opacity=\"1\" /><path clip-path=\"url(#clip230)\" d=\"M 0 0 M198.366 846.706 Q194.755 846.706 192.926 850.271 Q191.121 853.812 191.121 860.942 Q191.121 868.049 192.926 871.613 Q194.755 875.155 198.366 875.155 Q202 875.155 203.806 871.613 Q205.635 868.049 205.635 860.942 Q205.635 853.812 203.806 850.271 Q202 846.706 198.366 846.706 M198.366 843.002 Q204.176 843.002 207.232 847.609 Q210.311 852.192 210.311 860.942 Q210.311 869.669 207.232 874.275 Q204.176 878.859 198.366 878.859 Q192.556 878.859 189.477 874.275 Q186.422 869.669 186.422 860.942 Q186.422 852.192 189.477 847.609 Q192.556 843.002 198.366 843.002 Z\" fill=\"#000000\" fill-rule=\"evenodd\" fill-opacity=\"1\" /><path clip-path=\"url(#clip230)\" d=\"M 0 0 M225.38 846.706 Q221.769 846.706 219.94 850.271 Q218.135 853.812 218.135 860.942 Q218.135 868.049 219.94 871.613 Q221.769 875.155 225.38 875.155 Q229.014 875.155 230.82 871.613 Q232.648 868.049 232.648 860.942 Q232.648 853.812 230.82 850.271 Q229.014 846.706 225.38 846.706 M225.38 843.002 Q231.19 843.002 234.246 847.609 Q237.324 852.192 237.324 860.942 Q237.324 869.669 234.246 874.275 Q231.19 878.859 225.38 878.859 Q219.57 878.859 216.491 874.275 Q213.436 869.669 213.436 860.942 Q213.436 852.192 216.491 847.609 Q219.57 843.002 225.38 843.002 Z\" fill=\"#000000\" fill-rule=\"evenodd\" fill-opacity=\"1\" /><path clip-path=\"url(#clip230)\" d=\"M 0 0 M130.01 655.299 L137.649 655.299 L137.649 628.933 L129.339 630.6 L129.339 626.341 L137.603 624.674 L142.279 624.674 L142.279 655.299 L149.917 655.299 L149.917 659.234 L130.01 659.234 L130.01 655.299 Z\" fill=\"#000000\" fill-rule=\"evenodd\" fill-opacity=\"1\" /><path clip-path=\"url(#clip230)\" d=\"M 0 0 M155.033 624.674 L173.39 624.674 L173.39 628.609 L159.316 628.609 L159.316 637.081 Q160.334 636.734 161.353 636.572 Q162.371 636.387 163.39 636.387 Q169.177 636.387 172.556 639.558 Q175.936 642.729 175.936 648.146 Q175.936 653.725 172.464 656.827 Q168.991 659.905 162.672 659.905 Q160.496 659.905 158.228 659.535 Q155.982 659.164 153.575 658.424 L153.575 653.725 Q155.658 654.859 157.88 655.414 Q160.103 655.97 162.579 655.97 Q166.584 655.97 168.922 653.864 Q171.26 651.757 171.26 648.146 Q171.26 644.535 168.922 642.428 Q166.584 640.322 162.579 640.322 Q160.704 640.322 158.829 640.739 Q156.978 641.155 155.033 642.035 L155.033 624.674 Z\" fill=\"#000000\" fill-rule=\"evenodd\" fill-opacity=\"1\" /><path clip-path=\"url(#clip230)\" d=\"M 0 0 M181.005 653.354 L185.889 653.354 L185.889 659.234 L181.005 659.234 L181.005 653.354 Z\" fill=\"#000000\" fill-rule=\"evenodd\" fill-opacity=\"1\" /><path clip-path=\"url(#clip230)\" d=\"M 0 0 M194.987 655.299 L211.306 655.299 L211.306 659.234 L189.362 659.234 L189.362 655.299 Q192.024 652.544 196.607 647.915 Q201.213 643.262 202.394 641.919 Q204.639 639.396 205.519 637.66 Q206.422 635.901 206.422 634.211 Q206.422 631.456 204.477 629.72 Q202.556 627.984 199.454 627.984 Q197.255 627.984 194.801 628.748 Q192.371 629.512 189.593 631.063 L189.593 626.341 Q192.417 625.206 194.871 624.628 Q197.325 624.049 199.362 624.049 Q204.732 624.049 207.926 626.734 Q211.121 629.419 211.121 633.91 Q211.121 636.04 210.311 637.961 Q209.524 639.859 207.417 642.452 Q206.838 643.123 203.737 646.34 Q200.635 649.535 194.987 655.299 Z\" fill=\"#000000\" fill-rule=\"evenodd\" fill-opacity=\"1\" /><path clip-path=\"url(#clip230)\" d=\"M 0 0 M216.422 624.674 L234.778 624.674 L234.778 628.609 L220.704 628.609 L220.704 637.081 Q221.723 636.734 222.741 636.572 Q223.76 636.387 224.778 636.387 Q230.565 636.387 233.945 639.558 Q237.324 642.729 237.324 648.146 Q237.324 653.725 233.852 656.827 Q230.38 659.905 224.061 659.905 Q221.885 659.905 219.616 659.535 Q217.371 659.164 214.963 658.424 L214.963 653.725 Q217.047 654.859 219.269 655.414 Q221.491 655.97 223.968 655.97 Q227.973 655.97 230.311 653.864 Q232.648 651.757 232.648 648.146 Q232.648 644.535 230.311 642.428 Q227.973 640.322 223.968 640.322 Q222.093 640.322 220.218 640.739 Q218.366 641.155 216.422 642.035 L216.422 624.674 Z\" fill=\"#000000\" fill-rule=\"evenodd\" fill-opacity=\"1\" /><path clip-path=\"url(#clip230)\" d=\"M 0 0 M128.413 436.345 L136.052 436.345 L136.052 409.98 L127.742 411.646 L127.742 407.387 L136.005 405.72 L140.681 405.72 L140.681 436.345 L148.32 436.345 L148.32 440.28 L128.413 440.28 L128.413 436.345 Z\" fill=\"#000000\" fill-rule=\"evenodd\" fill-opacity=\"1\" /><path clip-path=\"url(#clip230)\" d=\"M 0 0 M153.436 405.72 L171.792 405.72 L171.792 409.656 L157.718 409.656 L157.718 418.128 Q158.737 417.781 159.755 417.619 Q160.774 417.433 161.792 417.433 Q167.579 417.433 170.959 420.605 Q174.339 423.776 174.339 429.193 Q174.339 434.771 170.866 437.873 Q167.394 440.952 161.075 440.952 Q158.899 440.952 156.63 440.581 Q154.385 440.211 151.978 439.47 L151.978 434.771 Q154.061 435.905 156.283 436.461 Q158.505 437.017 160.982 437.017 Q164.987 437.017 167.325 434.91 Q169.663 432.804 169.663 429.193 Q169.663 425.581 167.325 423.475 Q164.987 421.369 160.982 421.369 Q159.107 421.369 157.232 421.785 Q155.38 422.202 153.436 423.081 L153.436 405.72 Z\" fill=\"#000000\" fill-rule=\"evenodd\" fill-opacity=\"1\" /><path clip-path=\"url(#clip230)\" d=\"M 0 0 M179.408 434.401 L184.292 434.401 L184.292 440.28 L179.408 440.28 L179.408 434.401 Z\" fill=\"#000000\" fill-rule=\"evenodd\" fill-opacity=\"1\" /><path clip-path=\"url(#clip230)\" d=\"M 0 0 M189.408 405.72 L207.764 405.72 L207.764 409.656 L193.69 409.656 L193.69 418.128 Q194.709 417.781 195.727 417.619 Q196.746 417.433 197.764 417.433 Q203.551 417.433 206.931 420.605 Q210.311 423.776 210.311 429.193 Q210.311 434.771 206.838 437.873 Q203.366 440.952 197.047 440.952 Q194.871 440.952 192.602 440.581 Q190.357 440.211 187.95 439.47 L187.95 434.771 Q190.033 435.905 192.255 436.461 Q194.477 437.017 196.954 437.017 Q200.959 437.017 203.297 434.91 Q205.635 432.804 205.635 429.193 Q205.635 425.581 203.297 423.475 Q200.959 421.369 196.954 421.369 Q195.079 421.369 193.204 421.785 Q191.352 422.202 189.408 423.081 L189.408 405.72 Z\" fill=\"#000000\" fill-rule=\"evenodd\" fill-opacity=\"1\" /><path clip-path=\"url(#clip230)\" d=\"M 0 0 M225.38 408.799 Q221.769 408.799 219.94 412.364 Q218.135 415.906 218.135 423.035 Q218.135 430.142 219.94 433.706 Q221.769 437.248 225.38 437.248 Q229.014 437.248 230.82 433.706 Q232.648 430.142 232.648 423.035 Q232.648 415.906 230.82 412.364 Q229.014 408.799 225.38 408.799 M225.38 405.095 Q231.19 405.095 234.246 409.702 Q237.324 414.285 237.324 423.035 Q237.324 431.762 234.246 436.368 Q231.19 440.952 225.38 440.952 Q219.57 440.952 216.491 436.368 Q213.436 431.762 213.436 423.035 Q213.436 414.285 216.491 409.702 Q219.57 405.095 225.38 405.095 Z\" fill=\"#000000\" fill-rule=\"evenodd\" fill-opacity=\"1\" /><path clip-path=\"url(#clip230)\" d=\"M 0 0 M129.316 217.392 L136.955 217.392 L136.955 191.026 L128.644 192.693 L128.644 188.434 L136.908 186.767 L141.584 186.767 L141.584 217.392 L149.223 217.392 L149.223 221.327 L129.316 221.327 L129.316 217.392 Z\" fill=\"#000000\" fill-rule=\"evenodd\" fill-opacity=\"1\" /><path clip-path=\"url(#clip230)\" d=\"M 0 0 M154.339 186.767 L172.695 186.767 L172.695 190.702 L158.621 190.702 L158.621 199.174 Q159.64 198.827 160.658 198.665 Q161.677 198.48 162.695 198.48 Q168.482 198.48 171.862 201.651 Q175.241 204.822 175.241 210.239 Q175.241 215.818 171.769 218.92 Q168.297 221.998 161.978 221.998 Q159.802 221.998 157.533 221.628 Q155.288 221.258 152.88 220.517 L152.88 215.818 Q154.964 216.952 157.186 217.508 Q159.408 218.063 161.885 218.063 Q165.89 218.063 168.228 215.957 Q170.565 213.85 170.565 210.239 Q170.565 206.628 168.228 204.522 Q165.89 202.415 161.885 202.415 Q160.01 202.415 158.135 202.832 Q156.283 203.248 154.339 204.128 L154.339 186.767 Z\" fill=\"#000000\" fill-rule=\"evenodd\" fill-opacity=\"1\" /><path clip-path=\"url(#clip230)\" d=\"M 0 0 M180.311 215.447 L185.195 215.447 L185.195 221.327 L180.311 221.327 L180.311 215.447 Z\" fill=\"#000000\" fill-rule=\"evenodd\" fill-opacity=\"1\" /><path clip-path=\"url(#clip230)\" d=\"M 0 0 M189.084 186.767 L211.306 186.767 L211.306 188.758 L198.76 221.327 L193.876 221.327 L205.681 190.702 L189.084 190.702 L189.084 186.767 Z\" fill=\"#000000\" fill-rule=\"evenodd\" fill-opacity=\"1\" /><path clip-path=\"url(#clip230)\" d=\"M 0 0 M216.422 186.767 L234.778 186.767 L234.778 190.702 L220.704 190.702 L220.704 199.174 Q221.723 198.827 222.741 198.665 Q223.76 198.48 224.778 198.48 Q230.565 198.48 233.945 201.651 Q237.324 204.822 237.324 210.239 Q237.324 215.818 233.852 218.92 Q230.38 221.998 224.061 221.998 Q221.885 221.998 219.616 221.628 Q217.371 221.258 214.963 220.517 L214.963 215.818 Q217.047 216.952 219.269 217.508 Q221.491 218.063 223.968 218.063 Q227.973 218.063 230.311 215.957 Q232.648 213.85 232.648 210.239 Q232.648 206.628 230.311 204.522 Q227.973 202.415 223.968 202.415 Q222.093 202.415 220.218 202.832 Q218.366 203.248 216.422 204.128 L216.422 186.767 Z\" fill=\"#000000\" fill-rule=\"evenodd\" fill-opacity=\"1\" /><path clip-path=\"url(#clip230)\" d=\"M 0 0 M655.331 12.096 L663.513 12.096 L663.513 72.576 L655.331 72.576 L655.331 12.096 Z\" fill=\"#000000\" fill-rule=\"evenodd\" fill-opacity=\"1\" /><path clip-path=\"url(#clip230)\" d=\"M 0 0 M709.046 45.1919 L709.046 72.576 L701.592 72.576 L701.592 45.4349 Q701.592 38.994 699.08 35.7938 Q696.569 32.5936 691.546 32.5936 Q685.51 32.5936 682.026 36.4419 Q678.542 40.2903 678.542 46.9338 L678.542 72.576 L671.048 72.576 L671.048 27.2059 L678.542 27.2059 L678.542 34.2544 Q681.216 30.163 684.821 28.1376 Q688.467 26.1121 693.207 26.1121 Q701.025 26.1121 705.035 30.9732 Q709.046 35.7938 709.046 45.1919 Z\" fill=\"#000000\" fill-rule=\"evenodd\" fill-opacity=\"1\" /><path clip-path=\"url(#clip230)\" d=\"M 0 0 M739.833 9.54393 L739.833 15.7418 L732.703 15.7418 Q728.693 15.7418 727.113 17.3622 Q725.573 18.9825 725.573 23.1955 L725.573 27.2059 L737.848 27.2059 L737.848 32.9987 L725.573 32.9987 L725.573 72.576 L718.079 72.576 L718.079 32.9987 L710.95 32.9987 L710.95 27.2059 L718.079 27.2059 L718.079 24.0462 Q718.079 16.471 721.603 13.0277 Q725.128 9.54393 732.784 9.54393 L739.833 9.54393 Z\" fill=\"#000000\" fill-rule=\"evenodd\" fill-opacity=\"1\" /><path clip-path=\"url(#clip230)\" d=\"M 0 0 M747.651 9.54393 L755.104 9.54393 L755.104 72.576 L747.651 72.576 L747.651 9.54393 Z\" fill=\"#000000\" fill-rule=\"evenodd\" fill-opacity=\"1\" /><path clip-path=\"url(#clip230)\" d=\"M 0 0 M762.153 54.671 L762.153 27.2059 L769.607 27.2059 L769.607 54.3874 Q769.607 60.8284 772.118 64.0691 Q774.63 67.2693 779.653 67.2693 Q785.689 67.2693 789.173 63.421 Q792.697 59.5726 792.697 52.9291 L792.697 27.2059 L800.15 27.2059 L800.15 72.576 L792.697 72.576 L792.697 65.6084 Q789.983 69.7404 786.377 71.7658 Q782.813 73.7508 778.073 73.7508 Q770.255 73.7508 766.204 68.8897 Q762.153 64.0286 762.153 54.671 M780.909 26.1121 L780.909 26.1121 Z\" fill=\"#000000\" fill-rule=\"evenodd\" fill-opacity=\"1\" /><path clip-path=\"url(#clip230)\" d=\"M 0 0 M846.776 48.0275 L846.776 51.6733 L812.506 51.6733 Q812.992 59.3701 817.124 63.421 Q821.296 67.4314 828.709 67.4314 Q833.003 67.4314 837.014 66.3781 Q841.065 65.3249 845.035 63.2184 L845.035 70.267 Q841.024 71.9684 836.811 72.8596 Q832.598 73.7508 828.264 73.7508 Q817.407 73.7508 811.047 67.4314 Q804.728 61.1119 804.728 50.3365 Q804.728 39.1965 810.723 32.6746 Q816.759 26.1121 826.967 26.1121 Q836.123 26.1121 841.429 32.0264 Q846.776 37.9003 846.776 48.0275 M839.323 45.84 Q839.242 39.7232 835.879 36.0774 Q832.558 32.4315 827.049 32.4315 Q820.81 32.4315 817.043 35.9558 Q813.316 39.4801 812.749 45.8805 L839.323 45.84 Z\" fill=\"#000000\" fill-rule=\"evenodd\" fill-opacity=\"1\" /><path clip-path=\"url(#clip230)\" d=\"M 0 0 M892.309 45.1919 L892.309 72.576 L884.855 72.576 L884.855 45.4349 Q884.855 38.994 882.343 35.7938 Q879.832 32.5936 874.809 32.5936 Q868.773 32.5936 865.289 36.4419 Q861.805 40.2903 861.805 46.9338 L861.805 72.576 L854.311 72.576 L854.311 27.2059 L861.805 27.2059 L861.805 34.2544 Q864.479 30.163 868.084 28.1376 Q871.73 26.1121 876.47 26.1121 Q884.288 26.1121 888.298 30.9732 Q892.309 35.7938 892.309 45.1919 Z\" fill=\"#000000\" fill-rule=\"evenodd\" fill-opacity=\"1\" /><path clip-path=\"url(#clip230)\" d=\"M 0 0 M932.777 28.9478 L932.777 35.9153 Q929.617 34.1734 926.417 33.3227 Q923.257 32.4315 920.017 32.4315 Q912.766 32.4315 908.755 37.0496 Q904.745 41.6271 904.745 49.9314 Q904.745 58.2358 908.755 62.8538 Q912.766 67.4314 920.017 67.4314 Q923.257 67.4314 926.417 66.5807 Q929.617 65.6895 932.777 63.9476 L932.777 70.8341 Q929.658 72.2924 926.296 73.0216 Q922.974 73.7508 919.207 73.7508 Q908.958 73.7508 902.922 67.3098 Q896.886 60.8689 896.886 49.9314 Q896.886 38.832 902.962 32.472 Q909.079 26.1121 919.693 26.1121 Q923.136 26.1121 926.417 26.8413 Q929.698 27.5299 932.777 28.9478 Z\" fill=\"#000000\" fill-rule=\"evenodd\" fill-opacity=\"1\" /><path clip-path=\"url(#clip230)\" d=\"M 0 0 M979.403 48.0275 L979.403 51.6733 L945.132 51.6733 Q945.618 59.3701 949.75 63.421 Q953.923 67.4314 961.336 67.4314 Q965.63 67.4314 969.64 66.3781 Q973.691 65.3249 977.661 63.2184 L977.661 70.267 Q973.651 71.9684 969.438 72.8596 Q965.225 73.7508 960.89 73.7508 Q950.034 73.7508 943.674 67.4314 Q937.355 61.1119 937.355 50.3365 Q937.355 39.1965 943.35 32.6746 Q949.386 26.1121 959.594 26.1121 Q968.749 26.1121 974.056 32.0264 Q979.403 37.9003 979.403 48.0275 M971.949 45.84 Q971.868 39.7232 968.506 36.0774 Q965.184 32.4315 959.675 32.4315 Q953.437 32.4315 949.669 35.9558 Q945.943 39.4801 945.375 45.8805 L971.949 45.84 Z\" fill=\"#000000\" fill-rule=\"evenodd\" fill-opacity=\"1\" /><path clip-path=\"url(#clip230)\" d=\"M 0 0 M1031.17 32.4315 Q1025.18 32.4315 1021.69 37.1306 Q1018.21 41.7891 1018.21 49.9314 Q1018.21 58.0738 1021.65 62.7728 Q1025.14 67.4314 1031.17 67.4314 Q1037.13 67.4314 1040.61 62.7323 Q1044.1 58.0333 1044.1 49.9314 Q1044.1 41.8701 1040.61 37.1711 Q1037.13 32.4315 1031.17 32.4315 M1031.17 26.1121 Q1040.9 26.1121 1046.45 32.4315 Q1052 38.7509 1052 49.9314 Q1052 61.0714 1046.45 67.4314 Q1040.9 73.7508 1031.17 73.7508 Q1021.41 73.7508 1015.86 67.4314 Q1010.35 61.0714 1010.35 49.9314 Q1010.35 38.7509 1015.86 32.4315 Q1021.41 26.1121 1031.17 26.1121 Z\" fill=\"#000000\" fill-rule=\"evenodd\" fill-opacity=\"1\" /><path clip-path=\"url(#clip230)\" d=\"M 0 0 M1082.78 9.54393 L1082.78 15.7418 L1075.65 15.7418 Q1071.64 15.7418 1070.06 17.3622 Q1068.52 18.9825 1068.52 23.1955 L1068.52 27.2059 L1080.8 27.2059 L1080.8 32.9987 L1068.52 32.9987 L1068.52 72.576 L1061.03 72.576 L1061.03 32.9987 L1053.9 32.9987 L1053.9 27.2059 L1061.03 27.2059 L1061.03 24.0462 Q1061.03 16.471 1064.55 13.0277 Q1068.08 9.54393 1075.73 9.54393 L1082.78 9.54393 Z\" fill=\"#000000\" fill-rule=\"evenodd\" fill-opacity=\"1\" /><path clip-path=\"url(#clip230)\" d=\"M 0 0 M1124.18 65.7705 L1124.18 89.8329 L1116.69 89.8329 L1116.69 27.2059 L1124.18 27.2059 L1124.18 34.0924 Q1126.53 30.0415 1130.1 28.0971 Q1133.7 26.1121 1138.68 26.1121 Q1146.95 26.1121 1152.09 32.6746 Q1157.28 39.2371 1157.28 49.9314 Q1157.28 60.6258 1152.09 67.1883 Q1146.95 73.7508 1138.68 73.7508 Q1133.7 73.7508 1130.1 71.8063 Q1126.53 69.8214 1124.18 65.7705 M1149.54 49.9314 Q1149.54 41.7081 1146.14 37.0496 Q1142.78 32.3505 1136.86 32.3505 Q1130.95 32.3505 1127.54 37.0496 Q1124.18 41.7081 1124.18 49.9314 Q1124.18 58.1548 1127.54 62.8538 Q1130.95 67.5124 1136.86 67.5124 Q1142.78 67.5124 1146.14 62.8538 Q1149.54 58.1548 1149.54 49.9314 Z\" fill=\"#000000\" fill-rule=\"evenodd\" fill-opacity=\"1\" /><path clip-path=\"url(#clip230)\" d=\"M 0 0 M1165.1 27.2059 L1172.55 27.2059 L1172.55 72.576 L1165.1 72.576 L1165.1 27.2059 M1165.1 9.54393 L1172.55 9.54393 L1172.55 18.9825 L1165.1 18.9825 L1165.1 9.54393 Z\" fill=\"#000000\" fill-rule=\"evenodd\" fill-opacity=\"1\" /><path clip-path=\"url(#clip230)\" d=\"M 0 0 M1206.66 34.1734 Q1205.4 33.4443 1203.9 33.1202 Q1202.45 32.7556 1200.66 32.7556 Q1194.34 32.7556 1190.94 36.8875 Q1187.58 40.9789 1187.58 48.6757 L1187.58 72.576 L1180.08 72.576 L1180.08 27.2059 L1187.58 27.2059 L1187.58 34.2544 Q1189.93 30.1225 1193.7 28.1376 Q1197.46 26.1121 1202.85 26.1121 Q1203.62 26.1121 1204.55 26.2337 Q1205.48 26.3147 1206.62 26.5172 L1206.66 34.1734 Z\" fill=\"#000000\" fill-rule=\"evenodd\" fill-opacity=\"1\" /><path clip-path=\"url(#clip230)\" d=\"M 0 0 M1248.06 65.7705 L1248.06 89.8329 L1240.56 89.8329 L1240.56 27.2059 L1248.06 27.2059 L1248.06 34.0924 Q1250.41 30.0415 1253.97 28.0971 Q1257.58 26.1121 1262.56 26.1121 Q1270.83 26.1121 1275.97 32.6746 Q1281.15 39.2371 1281.15 49.9314 Q1281.15 60.6258 1275.97 67.1883 Q1270.83 73.7508 1262.56 73.7508 Q1257.58 73.7508 1253.97 71.8063 Q1250.41 69.8214 1248.06 65.7705 M1273.42 49.9314 Q1273.42 41.7081 1270.01 37.0496 Q1266.65 32.3505 1260.74 32.3505 Q1254.82 32.3505 1251.42 37.0496 Q1248.06 41.7081 1248.06 49.9314 Q1248.06 58.1548 1251.42 62.8538 Q1254.82 67.5124 1260.74 67.5124 Q1266.65 67.5124 1270.01 62.8538 Q1273.42 58.1548 1273.42 49.9314 Z\" fill=\"#000000\" fill-rule=\"evenodd\" fill-opacity=\"1\" /><path clip-path=\"url(#clip230)\" d=\"M 0 0 M1306.55 32.4315 Q1300.56 32.4315 1297.07 37.1306 Q1293.59 41.7891 1293.59 49.9314 Q1293.59 58.0738 1297.03 62.7728 Q1300.52 67.4314 1306.55 67.4314 Q1312.51 67.4314 1315.99 62.7323 Q1319.48 58.0333 1319.48 49.9314 Q1319.48 41.8701 1315.99 37.1711 Q1312.51 32.4315 1306.55 32.4315 M1306.55 26.1121 Q1316.28 26.1121 1321.83 32.4315 Q1327.38 38.7509 1327.38 49.9314 Q1327.38 61.0714 1321.83 67.4314 Q1316.28 73.7508 1306.55 73.7508 Q1296.79 73.7508 1291.24 67.4314 Q1285.73 61.0714 1285.73 49.9314 Q1285.73 38.7509 1291.24 32.4315 Q1296.79 26.1121 1306.55 26.1121 Z\" fill=\"#000000\" fill-rule=\"evenodd\" fill-opacity=\"1\" /><path clip-path=\"url(#clip230)\" d=\"M 0 0 M1342.4 65.7705 L1342.4 89.8329 L1334.91 89.8329 L1334.91 27.2059 L1342.4 27.2059 L1342.4 34.0924 Q1344.75 30.0415 1348.32 28.0971 Q1351.92 26.1121 1356.91 26.1121 Q1365.17 26.1121 1370.32 32.6746 Q1375.5 39.2371 1375.5 49.9314 Q1375.5 60.6258 1370.32 67.1883 Q1365.17 73.7508 1356.91 73.7508 Q1351.92 73.7508 1348.32 71.8063 Q1344.75 69.8214 1342.4 65.7705 M1367.76 49.9314 Q1367.76 41.7081 1364.36 37.0496 Q1361 32.3505 1355.08 32.3505 Q1349.17 32.3505 1345.77 37.0496 Q1342.4 41.7081 1342.4 49.9314 Q1342.4 58.1548 1345.77 62.8538 Q1349.17 67.5124 1355.08 67.5124 Q1361 67.5124 1364.36 62.8538 Q1367.76 58.1548 1367.76 49.9314 Z\" fill=\"#000000\" fill-rule=\"evenodd\" fill-opacity=\"1\" /><path clip-path=\"url(#clip230)\" d=\"M 0 0 M1427.27 32.4315 Q1421.28 32.4315 1417.79 37.1306 Q1414.31 41.7891 1414.31 49.9314 Q1414.31 58.0738 1417.75 62.7728 Q1421.24 67.4314 1427.27 67.4314 Q1433.23 67.4314 1436.71 62.7323 Q1440.19 58.0333 1440.19 49.9314 Q1440.19 41.8701 1436.71 37.1711 Q1433.23 32.4315 1427.27 32.4315 M1427.27 26.1121 Q1436.99 26.1121 1442.54 32.4315 Q1448.09 38.7509 1448.09 49.9314 Q1448.09 61.0714 1442.54 67.4314 Q1436.99 73.7508 1427.27 73.7508 Q1417.51 73.7508 1411.96 67.4314 Q1406.45 61.0714 1406.45 49.9314 Q1406.45 38.7509 1411.96 32.4315 Q1417.51 26.1121 1427.27 26.1121 Z\" fill=\"#000000\" fill-rule=\"evenodd\" fill-opacity=\"1\" /><path clip-path=\"url(#clip230)\" d=\"M 0 0 M1493.62 45.1919 L1493.62 72.576 L1486.17 72.576 L1486.17 45.4349 Q1486.17 38.994 1483.66 35.7938 Q1481.15 32.5936 1476.12 32.5936 Q1470.09 32.5936 1466.61 36.4419 Q1463.12 40.2903 1463.12 46.9338 L1463.12 72.576 L1455.63 72.576 L1455.63 27.2059 L1463.12 27.2059 L1463.12 34.2544 Q1465.8 30.163 1469.4 28.1376 Q1473.05 26.1121 1477.79 26.1121 Q1485.6 26.1121 1489.61 30.9732 Q1493.62 35.7938 1493.62 45.1919 Z\" fill=\"#000000\" fill-rule=\"evenodd\" fill-opacity=\"1\" /><path clip-path=\"url(#clip230)\" d=\"M 0 0 M1557.67 49.3643 Q1557.67 41.2625 1554.31 36.8065 Q1550.99 32.3505 1544.95 32.3505 Q1538.95 32.3505 1535.59 36.8065 Q1532.27 41.2625 1532.27 49.3643 Q1532.27 57.4256 1535.59 61.8816 Q1538.95 66.3376 1544.95 66.3376 Q1550.99 66.3376 1554.31 61.8816 Q1557.67 57.4256 1557.67 49.3643 M1565.12 66.9452 Q1565.12 78.5308 1559.98 84.1616 Q1554.83 89.8329 1544.22 89.8329 Q1540.29 89.8329 1536.81 89.2252 Q1533.32 88.6581 1530.04 87.4428 L1530.04 80.1917 Q1533.32 81.9741 1536.52 82.8248 Q1539.72 83.6755 1543.05 83.6755 Q1550.38 83.6755 1554.02 79.8271 Q1557.67 76.0193 1557.67 68.282 L1557.67 64.5957 Q1555.36 68.6061 1551.76 70.5911 Q1548.15 72.576 1543.13 72.576 Q1534.78 72.576 1529.68 66.2161 Q1524.57 59.8562 1524.57 49.3643 Q1524.57 38.832 1529.68 32.472 Q1534.78 26.1121 1543.13 26.1121 Q1548.15 26.1121 1551.76 28.0971 Q1555.36 30.082 1557.67 34.0924 L1557.67 27.2059 L1565.12 27.2059 L1565.12 66.9452 Z\" fill=\"#000000\" fill-rule=\"evenodd\" fill-opacity=\"1\" /><path clip-path=\"url(#clip230)\" d=\"M 0 0 M1572.94 9.54393 L1580.4 9.54393 L1580.4 72.576 L1572.94 72.576 L1572.94 9.54393 Z\" fill=\"#000000\" fill-rule=\"evenodd\" fill-opacity=\"1\" /><path clip-path=\"url(#clip230)\" d=\"M 0 0 M1605.79 32.4315 Q1599.8 32.4315 1596.32 37.1306 Q1592.83 41.7891 1592.83 49.9314 Q1592.83 58.0738 1596.27 62.7728 Q1599.76 67.4314 1605.79 67.4314 Q1611.75 67.4314 1615.23 62.7323 Q1618.72 58.0333 1618.72 49.9314 Q1618.72 41.8701 1615.23 37.1711 Q1611.75 32.4315 1605.79 32.4315 M1605.79 26.1121 Q1615.52 26.1121 1621.07 32.4315 Q1626.62 38.7509 1626.62 49.9314 Q1626.62 61.0714 1621.07 67.4314 Q1615.52 73.7508 1605.79 73.7508 Q1596.03 73.7508 1590.48 67.4314 Q1584.97 61.0714 1584.97 49.9314 Q1584.97 38.7509 1590.48 32.4315 Q1596.03 26.1121 1605.79 26.1121 Z\" fill=\"#000000\" fill-rule=\"evenodd\" fill-opacity=\"1\" /><path clip-path=\"url(#clip230)\" d=\"M 0 0 M1667 49.9314 Q1667 41.7081 1663.6 37.0496 Q1660.24 32.3505 1654.32 32.3505 Q1648.41 32.3505 1645.01 37.0496 Q1641.64 41.7081 1641.64 49.9314 Q1641.64 58.1548 1645.01 62.8538 Q1648.41 67.5124 1654.32 67.5124 Q1660.24 67.5124 1663.6 62.8538 Q1667 58.1548 1667 49.9314 M1641.64 34.0924 Q1643.99 30.0415 1647.56 28.0971 Q1651.16 26.1121 1656.15 26.1121 Q1664.41 26.1121 1669.56 32.6746 Q1674.74 39.2371 1674.74 49.9314 Q1674.74 60.6258 1669.56 67.1883 Q1664.41 73.7508 1656.15 73.7508 Q1651.16 73.7508 1647.56 71.8063 Q1643.99 69.8214 1641.64 65.7705 L1641.64 72.576 L1634.15 72.576 L1634.15 9.54393 L1641.64 9.54393 L1641.64 34.0924 Z\" fill=\"#000000\" fill-rule=\"evenodd\" fill-opacity=\"1\" /><path clip-path=\"url(#clip230)\" d=\"M 0 0 M1703.18 49.7694 Q1694.14 49.7694 1690.66 51.8354 Q1687.18 53.9013 1687.18 58.8839 Q1687.18 62.8538 1689.77 65.2034 Q1692.4 67.5124 1696.9 67.5124 Q1703.1 67.5124 1706.82 63.1374 Q1710.59 58.7219 1710.59 51.4303 L1710.59 49.7694 L1703.18 49.7694 M1718.04 46.6907 L1718.04 72.576 L1710.59 72.576 L1710.59 65.6895 Q1708.04 69.8214 1704.23 71.8063 Q1700.42 73.7508 1694.91 73.7508 Q1687.95 73.7508 1683.81 69.8619 Q1679.72 65.9325 1679.72 59.3701 Q1679.72 51.7138 1684.83 47.825 Q1689.97 43.9361 1700.14 43.9361 L1710.59 43.9361 L1710.59 43.2069 Q1710.59 38.0623 1707.19 35.2672 Q1703.83 32.4315 1697.71 32.4315 Q1693.82 32.4315 1690.13 33.3632 Q1686.45 34.295 1683.05 36.1584 L1683.05 29.2718 Q1687.14 27.692 1690.98 26.9223 Q1694.83 26.1121 1698.48 26.1121 Q1708.32 26.1121 1713.18 31.2163 Q1718.04 36.3204 1718.04 46.6907 Z\" fill=\"#000000\" fill-rule=\"evenodd\" fill-opacity=\"1\" /><path clip-path=\"url(#clip230)\" d=\"M 0 0 M1725.86 9.54393 L1733.32 9.54393 L1733.32 72.576 L1725.86 72.576 L1725.86 9.54393 Z\" fill=\"#000000\" fill-rule=\"evenodd\" fill-opacity=\"1\" /><path clip-path=\"url(#clip230)\" d=\"M 0 0 M1774.88 14.324 L1774.88 27.2059 L1790.23 27.2059 L1790.23 32.9987 L1774.88 32.9987 L1774.88 57.6282 Q1774.88 63.1779 1776.38 64.7578 Q1777.92 66.3376 1782.58 66.3376 L1790.23 66.3376 L1790.23 72.576 L1782.58 72.576 Q1773.95 72.576 1770.67 69.3758 Q1767.38 66.1351 1767.38 57.6282 L1767.38 32.9987 L1761.92 32.9987 L1761.92 27.2059 L1767.38 27.2059 L1767.38 14.324 L1774.88 14.324 Z\" fill=\"#000000\" fill-rule=\"evenodd\" fill-opacity=\"1\" /><path clip-path=\"url(#clip230)\" d=\"M 0 0 M1836.86 48.0275 L1836.86 51.6733 L1802.59 51.6733 Q1803.07 59.3701 1807.21 63.421 Q1811.38 67.4314 1818.79 67.4314 Q1823.08 67.4314 1827.1 66.3781 Q1831.15 65.3249 1835.12 63.2184 L1835.12 70.267 Q1831.11 71.9684 1826.89 72.8596 Q1822.68 73.7508 1818.35 73.7508 Q1807.49 73.7508 1801.13 67.4314 Q1794.81 61.1119 1794.81 50.3365 Q1794.81 39.1965 1800.8 32.6746 Q1806.84 26.1121 1817.05 26.1121 Q1826.2 26.1121 1831.51 32.0264 Q1836.86 37.9003 1836.86 48.0275 M1829.4 45.84 Q1829.32 39.7232 1825.96 36.0774 Q1822.64 32.4315 1817.13 32.4315 Q1810.89 32.4315 1807.12 35.9558 Q1803.4 39.4801 1802.83 45.8805 L1829.4 45.84 Z\" fill=\"#000000\" fill-rule=\"evenodd\" fill-opacity=\"1\" /><path clip-path=\"url(#clip230)\" d=\"M 0 0 M1880 35.9153 Q1882.8 30.8922 1886.68 28.5022 Q1890.57 26.1121 1895.84 26.1121 Q1902.93 26.1121 1906.78 31.0947 Q1910.62 36.0368 1910.62 45.1919 L1910.62 72.576 L1903.13 72.576 L1903.13 45.4349 Q1903.13 38.913 1900.82 35.7533 Q1898.51 32.5936 1893.77 32.5936 Q1887.98 32.5936 1884.62 36.4419 Q1881.26 40.2903 1881.26 46.9338 L1881.26 72.576 L1873.76 72.576 L1873.76 45.4349 Q1873.76 38.8725 1871.45 35.7533 Q1869.14 32.5936 1864.32 32.5936 Q1858.61 32.5936 1855.25 36.4824 Q1851.89 40.3308 1851.89 46.9338 L1851.89 72.576 L1844.39 72.576 L1844.39 27.2059 L1851.89 27.2059 L1851.89 34.2544 Q1854.44 30.082 1858 28.0971 Q1861.57 26.1121 1866.47 26.1121 Q1871.41 26.1121 1874.86 28.6237 Q1878.34 31.1352 1880 35.9153 Z\" fill=\"#000000\" fill-rule=\"evenodd\" fill-opacity=\"1\" /><path clip-path=\"url(#clip230)\" d=\"M 0 0 M1925.65 65.7705 L1925.65 89.8329 L1918.16 89.8329 L1918.16 27.2059 L1925.65 27.2059 L1925.65 34.0924 Q1928 30.0415 1931.57 28.0971 Q1935.17 26.1121 1940.16 26.1121 Q1948.42 26.1121 1953.56 32.6746 Q1958.75 39.2371 1958.75 49.9314 Q1958.75 60.6258 1953.56 67.1883 Q1948.42 73.7508 1940.16 73.7508 Q1935.17 73.7508 1931.57 71.8063 Q1928 69.8214 1925.65 65.7705 M1951.01 49.9314 Q1951.01 41.7081 1947.61 37.0496 Q1944.25 32.3505 1938.33 32.3505 Q1932.42 32.3505 1929.02 37.0496 Q1925.65 41.7081 1925.65 49.9314 Q1925.65 58.1548 1929.02 62.8538 Q1932.42 67.5124 1938.33 67.5124 Q1944.25 67.5124 1947.61 62.8538 Q1951.01 58.1548 1951.01 49.9314 Z\" fill=\"#000000\" fill-rule=\"evenodd\" fill-opacity=\"1\" /><path clip-path=\"url(#clip230)\" d=\"M 0 0 M1103.56 1508.52 L1112.22 1508.52 L1133.29 1548.28 L1133.29 1508.52 L1139.53 1508.52 L1139.53 1556.04 L1130.87 1556.04 L1109.8 1516.29 L1109.8 1556.04 L1103.56 1556.04 L1103.56 1508.52 Z\" fill=\"#000000\" fill-rule=\"evenodd\" fill-opacity=\"1\" /><path clip-path=\"url(#clip230)\" d=\"M 0 0 M1145.06 1541.98 L1145.06 1520.4 L1150.92 1520.4 L1150.92 1541.75 Q1150.92 1546.81 1152.89 1549.36 Q1154.87 1551.87 1158.81 1551.87 Q1163.56 1551.87 1166.29 1548.85 Q1169.06 1545.83 1169.06 1540.61 L1169.06 1520.4 L1174.92 1520.4 L1174.92 1556.04 L1169.06 1556.04 L1169.06 1550.57 Q1166.93 1553.82 1164.1 1555.41 Q1161.3 1556.97 1157.57 1556.97 Q1151.43 1556.97 1148.25 1553.15 Q1145.06 1549.33 1145.06 1541.98 M1159.8 1519.54 L1159.8 1519.54 Z\" fill=\"#000000\" fill-rule=\"evenodd\" fill-opacity=\"1\" /><path clip-path=\"url(#clip230)\" d=\"M 0 0 M1208.82 1527.24 Q1211.01 1523.29 1214.07 1521.41 Q1217.12 1519.54 1221.26 1519.54 Q1226.83 1519.54 1229.86 1523.45 Q1232.88 1527.33 1232.88 1534.53 L1232.88 1556.04 L1226.99 1556.04 L1226.99 1534.72 Q1226.99 1529.59 1225.18 1527.11 Q1223.36 1524.63 1219.64 1524.63 Q1215.09 1524.63 1212.45 1527.65 Q1209.8 1530.68 1209.8 1535.9 L1209.8 1556.04 L1203.92 1556.04 L1203.92 1534.72 Q1203.92 1529.56 1202.1 1527.11 Q1200.29 1524.63 1196.5 1524.63 Q1192.01 1524.63 1189.37 1527.68 Q1186.73 1530.71 1186.73 1535.9 L1186.73 1556.04 L1180.84 1556.04 L1180.84 1520.4 L1186.73 1520.4 L1186.73 1525.93 Q1188.73 1522.66 1191.53 1521.1 Q1194.34 1519.54 1198.19 1519.54 Q1202.07 1519.54 1204.78 1521.51 Q1207.51 1523.48 1208.82 1527.24 Z\" fill=\"#000000\" fill-rule=\"evenodd\" fill-opacity=\"1\" /><path clip-path=\"url(#clip230)\" d=\"M 0 0 M1264.61 1538.25 Q1264.61 1531.79 1261.94 1528.13 Q1259.3 1524.44 1254.65 1524.44 Q1250 1524.44 1247.33 1528.13 Q1244.69 1531.79 1244.69 1538.25 Q1244.69 1544.71 1247.33 1548.4 Q1250 1552.07 1254.65 1552.07 Q1259.3 1552.07 1261.94 1548.4 Q1264.61 1544.71 1264.61 1538.25 M1244.69 1525.81 Q1246.53 1522.62 1249.34 1521.1 Q1252.17 1519.54 1256.08 1519.54 Q1262.58 1519.54 1266.62 1524.69 Q1270.69 1529.85 1270.69 1538.25 Q1270.69 1546.65 1266.62 1551.81 Q1262.58 1556.97 1256.08 1556.97 Q1252.17 1556.97 1249.34 1555.44 Q1246.53 1553.88 1244.69 1550.7 L1244.69 1556.04 L1238.8 1556.04 L1238.8 1506.52 L1244.69 1506.52 L1244.69 1525.81 Z\" fill=\"#000000\" fill-rule=\"evenodd\" fill-opacity=\"1\" /><path clip-path=\"url(#clip230)\" d=\"M 0 0 M1307.33 1536.76 L1307.33 1539.62 L1280.4 1539.62 Q1280.78 1545.67 1284.03 1548.85 Q1287.31 1552 1293.13 1552 Q1296.5 1552 1299.66 1551.17 Q1302.84 1550.35 1305.96 1548.69 L1305.96 1554.23 Q1302.81 1555.57 1299.5 1556.27 Q1296.19 1556.97 1292.78 1556.97 Q1284.25 1556.97 1279.25 1552 Q1274.29 1547.04 1274.29 1538.57 Q1274.29 1529.82 1279 1524.69 Q1283.74 1519.54 1291.76 1519.54 Q1298.96 1519.54 1303.13 1524.18 Q1307.33 1528.8 1307.33 1536.76 M1301.47 1535.04 Q1301.41 1530.23 1298.76 1527.37 Q1296.15 1524.5 1291.83 1524.5 Q1286.92 1524.5 1283.96 1527.27 Q1281.04 1530.04 1280.59 1535.07 L1301.47 1535.04 Z\" fill=\"#000000\" fill-rule=\"evenodd\" fill-opacity=\"1\" /><path clip-path=\"url(#clip230)\" d=\"M 0 0 M1334.13 1525.87 Q1333.14 1525.3 1331.96 1525.04 Q1330.82 1524.76 1329.42 1524.76 Q1324.45 1524.76 1321.78 1528 Q1319.13 1531.22 1319.13 1537.27 L1319.13 1556.04 L1313.25 1556.04 L1313.25 1520.4 L1319.13 1520.4 L1319.13 1525.93 Q1320.98 1522.69 1323.94 1521.13 Q1326.9 1519.54 1331.13 1519.54 Q1331.74 1519.54 1332.47 1519.63 Q1333.2 1519.7 1334.09 1519.85 L1334.13 1525.87 Z\" fill=\"#000000\" fill-rule=\"evenodd\" fill-opacity=\"1\" /><path clip-path=\"url(#clip230)\" d=\"M 0 0 M1374.8 1524.5 Q1370.09 1524.5 1367.36 1528.19 Q1364.62 1531.85 1364.62 1538.25 Q1364.62 1544.65 1367.32 1548.34 Q1370.06 1552 1374.8 1552 Q1379.48 1552 1382.22 1548.31 Q1384.96 1544.62 1384.96 1538.25 Q1384.96 1531.92 1382.22 1528.23 Q1379.48 1524.5 1374.8 1524.5 M1374.8 1519.54 Q1382.44 1519.54 1386.8 1524.5 Q1391.16 1529.47 1391.16 1538.25 Q1391.16 1547 1386.8 1552 Q1382.44 1556.97 1374.8 1556.97 Q1367.13 1556.97 1362.77 1552 Q1358.44 1547 1358.44 1538.25 Q1358.44 1529.47 1362.77 1524.5 Q1367.13 1519.54 1374.8 1519.54 Z\" fill=\"#000000\" fill-rule=\"evenodd\" fill-opacity=\"1\" /><path clip-path=\"url(#clip230)\" d=\"M 0 0 M1415.35 1506.52 L1415.35 1511.39 L1409.75 1511.39 Q1406.6 1511.39 1405.36 1512.66 Q1404.15 1513.93 1404.15 1517.24 L1404.15 1520.4 L1413.79 1520.4 L1413.79 1524.95 L1404.15 1524.95 L1404.15 1556.04 L1398.26 1556.04 L1398.26 1524.95 L1392.66 1524.95 L1392.66 1520.4 L1398.26 1520.4 L1398.26 1517.91 Q1398.26 1511.96 1401.03 1509.26 Q1403.8 1506.52 1409.81 1506.52 L1415.35 1506.52 Z\" fill=\"#000000\" fill-rule=\"evenodd\" fill-opacity=\"1\" /><path clip-path=\"url(#clip230)\" d=\"M 0 0 M1448.9 1513.81 L1448.9 1531.66 L1456.98 1531.66 Q1461.47 1531.66 1463.92 1529.34 Q1466.37 1527.02 1466.37 1522.72 Q1466.37 1518.45 1463.92 1516.13 Q1461.47 1513.81 1456.98 1513.81 L1448.9 1513.81 M1442.47 1508.52 L1456.98 1508.52 Q1464.97 1508.52 1469.05 1512.15 Q1473.15 1515.75 1473.15 1522.72 Q1473.15 1529.75 1469.05 1533.35 Q1464.97 1536.95 1456.98 1536.95 L1448.9 1536.95 L1448.9 1556.04 L1442.47 1556.04 L1442.47 1508.52 Z\" fill=\"#000000\" fill-rule=\"evenodd\" fill-opacity=\"1\" /><path clip-path=\"url(#clip230)\" d=\"M 0 0 M1477.86 1520.4 L1483.72 1520.4 L1483.72 1556.04 L1477.86 1556.04 L1477.86 1520.4 M1477.86 1506.52 L1483.72 1506.52 L1483.72 1513.93 L1477.86 1513.93 L1477.86 1506.52 Z\" fill=\"#000000\" fill-rule=\"evenodd\" fill-opacity=\"1\" /><path clip-path=\"url(#clip230)\" d=\"M 0 0 M1510.52 1525.87 Q1509.53 1525.3 1508.36 1525.04 Q1507.21 1524.76 1505.81 1524.76 Q1500.84 1524.76 1498.17 1528 Q1495.53 1531.22 1495.53 1537.27 L1495.53 1556.04 L1489.64 1556.04 L1489.64 1520.4 L1495.53 1520.4 L1495.53 1525.93 Q1497.37 1522.69 1500.33 1521.13 Q1503.29 1519.54 1507.53 1519.54 Q1508.13 1519.54 1508.86 1519.63 Q1509.6 1519.7 1510.49 1519.85 L1510.52 1525.87 Z\" fill=\"#000000\" fill-rule=\"evenodd\" fill-opacity=\"1\" /><path clip-path=\"url(#clip230)\" d=\"M 0 0 M81.2247 913.578 L68.4614 913.578 L68.4614 924.082 L63.1779 924.082 L63.1779 907.213 L83.58 907.213 Q86.2218 910.937 87.5904 915.424 Q88.9272 919.912 88.9272 925.005 Q88.9272 936.145 82.4342 942.447 Q75.9093 948.717 64.2919 948.717 Q52.6427 948.717 46.1496 942.447 Q39.6248 936.145 39.6248 925.005 Q39.6248 920.358 40.7706 916.188 Q41.9164 911.987 44.1444 908.454 L50.9876 908.454 Q47.9639 912.019 46.4361 916.029 Q44.9083 920.04 44.9083 924.464 Q44.9083 933.185 49.7781 937.577 Q54.6479 941.938 64.2919 941.938 Q73.9041 941.938 78.7739 937.577 Q83.6436 933.185 83.6436 924.464 Q83.6436 921.058 83.0707 918.385 Q82.466 915.711 81.2247 913.578 Z\" fill=\"#000000\" fill-rule=\"evenodd\" fill-opacity=\"1\" /><path clip-path=\"url(#clip230)\" d=\"M 0 0 M38.479 901.07 L38.479 895.213 L88.0042 895.213 L88.0042 901.07 L38.479 901.07 Z\" fill=\"#000000\" fill-rule=\"evenodd\" fill-opacity=\"1\" /><path clip-path=\"url(#clip230)\" d=\"M 0 0 M56.4621 875.257 Q56.4621 879.967 60.1542 882.705 Q63.8145 885.442 70.212 885.442 Q76.6095 885.442 80.3017 882.737 Q83.9619 879.999 83.9619 875.257 Q83.9619 870.578 80.2698 867.841 Q76.5777 865.104 70.212 865.104 Q63.8781 865.104 60.186 867.841 Q56.4621 870.578 56.4621 875.257 M51.4968 875.257 Q51.4968 867.618 56.4621 863.258 Q61.4273 858.897 70.212 858.897 Q78.9649 858.897 83.9619 863.258 Q88.9272 867.618 88.9272 875.257 Q88.9272 882.928 83.9619 887.288 Q78.9649 891.617 70.212 891.617 Q61.4273 891.617 56.4621 887.288 Q51.4968 882.928 51.4968 875.257 Z\" fill=\"#000000\" fill-rule=\"evenodd\" fill-opacity=\"1\" /><path clip-path=\"url(#clip230)\" d=\"M 0 0 M70.212 827.164 Q63.7508 827.164 60.0905 829.838 Q56.3984 832.479 56.3984 837.126 Q56.3984 841.773 60.0905 844.447 Q63.7508 847.089 70.212 847.089 Q76.6732 847.089 80.3653 844.447 Q84.0256 841.773 84.0256 837.126 Q84.0256 832.479 80.3653 829.838 Q76.6732 827.164 70.212 827.164 M57.7671 847.089 Q54.5842 845.243 53.0564 842.442 Q51.4968 839.609 51.4968 835.694 Q51.4968 829.201 56.6531 825.159 Q61.8093 821.085 70.212 821.085 Q78.6147 821.085 83.771 825.159 Q88.9272 829.201 88.9272 835.694 Q88.9272 839.609 87.3994 842.442 Q85.8398 845.243 82.657 847.089 L88.0042 847.089 L88.0042 852.977 L38.479 852.977 L38.479 847.089 L57.7671 847.089 Z\" fill=\"#000000\" fill-rule=\"evenodd\" fill-opacity=\"1\" /><path clip-path=\"url(#clip230)\" d=\"M 0 0 M70.0847 798.741 Q70.0847 805.839 71.7079 808.576 Q73.3312 811.313 77.2461 811.313 Q80.3653 811.313 82.2114 809.276 Q84.0256 807.207 84.0256 803.674 Q84.0256 798.805 80.5881 795.876 Q77.1188 792.916 71.3897 792.916 L70.0847 792.916 L70.0847 798.741 M67.6657 787.06 L88.0042 787.06 L88.0042 792.916 L82.5933 792.916 Q85.8398 794.922 87.3994 797.914 Q88.9272 800.905 88.9272 805.234 Q88.9272 810.709 85.8716 813.955 Q82.7843 817.17 77.6281 817.17 Q71.6125 817.17 68.5569 813.159 Q65.5014 809.117 65.5014 801.128 L65.5014 792.916 L64.9285 792.916 Q60.8862 792.916 58.6901 795.59 Q56.4621 798.232 56.4621 803.038 Q56.4621 806.093 57.1941 808.99 Q57.9262 811.886 59.3903 814.56 L53.9795 814.56 Q52.7381 811.345 52.1334 808.321 Q51.4968 805.298 51.4968 802.433 Q51.4968 794.699 55.5072 790.879 Q59.5176 787.06 67.6657 787.06 Z\" fill=\"#000000\" fill-rule=\"evenodd\" fill-opacity=\"1\" /><path clip-path=\"url(#clip230)\" d=\"M 0 0 M38.479 780.917 L38.479 775.061 L88.0042 775.061 L88.0042 780.917 L38.479 780.917 Z\" fill=\"#000000\" fill-rule=\"evenodd\" fill-opacity=\"1\" /><path clip-path=\"url(#clip230)\" d=\"M 0 0 M42.2347 742.405 L52.3562 742.405 L52.3562 730.342 L56.9077 730.342 L56.9077 742.405 L76.2594 742.405 Q80.6199 742.405 81.8613 741.227 Q83.1026 740.017 83.1026 736.357 L83.1026 730.342 L88.0042 730.342 L88.0042 736.357 Q88.0042 743.137 85.4897 745.715 Q82.9434 748.293 76.2594 748.293 L56.9077 748.293 L56.9077 752.59 L52.3562 752.59 L52.3562 748.293 L42.2347 748.293 L42.2347 742.405 Z\" fill=\"#000000\" fill-rule=\"evenodd\" fill-opacity=\"1\" /><path clip-path=\"url(#clip230)\" d=\"M 0 0 M68.7161 693.707 L71.5806 693.707 L71.5806 720.634 Q77.6281 720.252 80.8109 717.005 Q83.9619 713.727 83.9619 707.902 Q83.9619 704.529 83.1344 701.378 Q82.3069 698.195 80.6518 695.076 L86.1899 695.076 Q87.5267 698.227 88.227 701.537 Q88.9272 704.847 88.9272 708.253 Q88.9272 716.783 83.9619 721.78 Q78.9967 726.745 70.5303 726.745 Q61.7774 726.745 56.6531 722.034 Q51.4968 717.292 51.4968 709.271 Q51.4968 702.078 56.1438 697.908 Q60.7589 693.707 68.7161 693.707 M66.9973 699.563 Q62.1912 699.627 59.3266 702.269 Q56.4621 704.879 56.4621 709.207 Q56.4621 714.109 59.2312 717.069 Q62.0002 719.997 67.0292 720.443 L66.9973 699.563 Z\" fill=\"#000000\" fill-rule=\"evenodd\" fill-opacity=\"1\" /><path clip-path=\"url(#clip230)\" d=\"M 0 0 M59.1993 659.81 Q55.2526 657.613 53.3747 654.558 Q51.4968 651.502 51.4968 647.365 Q51.4968 641.795 55.4117 638.771 Q59.2948 635.747 66.4881 635.747 L88.0042 635.747 L88.0042 641.635 L66.679 641.635 Q61.5546 641.635 59.072 643.45 Q56.5894 645.264 56.5894 648.988 Q56.5894 653.539 59.6131 656.181 Q62.6368 658.823 67.8567 658.823 L88.0042 658.823 L88.0042 664.711 L66.679 664.711 Q61.5228 664.711 59.072 666.525 Q56.5894 668.34 56.5894 672.127 Q56.5894 676.615 59.6449 679.257 Q62.6686 681.899 67.8567 681.899 L88.0042 681.899 L88.0042 687.787 L52.3562 687.787 L52.3562 681.899 L57.8944 681.899 Q54.616 679.893 53.0564 677.092 Q51.4968 674.292 51.4968 670.44 Q51.4968 666.557 53.4702 663.852 Q55.4436 661.114 59.1993 659.81 Z\" fill=\"#000000\" fill-rule=\"evenodd\" fill-opacity=\"1\" /><path clip-path=\"url(#clip230)\" d=\"M 0 0 M82.657 623.939 L101.563 623.939 L101.563 629.827 L52.3562 629.827 L52.3562 623.939 L57.7671 623.939 Q54.5842 622.093 53.0564 619.292 Q51.4968 616.459 51.4968 612.544 Q51.4968 606.051 56.6531 602.009 Q61.8093 597.935 70.212 597.935 Q78.6147 597.935 83.771 602.009 Q88.9272 606.051 88.9272 612.544 Q88.9272 616.459 87.3994 619.292 Q85.8398 622.093 82.657 623.939 M70.212 604.014 Q63.7508 604.014 60.0905 606.688 Q56.3984 609.329 56.3984 613.976 Q56.3984 618.623 60.0905 621.297 Q63.7508 623.939 70.212 623.939 Q76.6732 623.939 80.3653 621.297 Q84.0256 618.623 84.0256 613.976 Q84.0256 609.329 80.3653 606.688 Q76.6732 604.014 70.212 604.014 Z\" fill=\"#000000\" fill-rule=\"evenodd\" fill-opacity=\"1\" /><polyline clip-path=\"url(#clip232)\" style=\"stroke:#009af9; stroke-width:4; stroke-opacity:1; fill:none\" points=\"\n",
       "  320.516,1386.4 1417.07,1298.81 1636.38,1036.07 2075,685.745 2276.77,423 2293.56,160.256 \n",
       "  \"/>\n",
       "<circle clip-path=\"url(#clip232)\" cx=\"320.516\" cy=\"1386.4\" r=\"14\" fill=\"#e26f46\" fill-rule=\"evenodd\" fill-opacity=\"1\" stroke=\"#000000\" stroke-opacity=\"1\" stroke-width=\"3.2\"/>\n",
       "<circle clip-path=\"url(#clip232)\" cx=\"1417.07\" cy=\"1298.81\" r=\"14\" fill=\"#e26f46\" fill-rule=\"evenodd\" fill-opacity=\"1\" stroke=\"#000000\" stroke-opacity=\"1\" stroke-width=\"3.2\"/>\n",
       "<circle clip-path=\"url(#clip232)\" cx=\"1636.38\" cy=\"1036.07\" r=\"14\" fill=\"#e26f46\" fill-rule=\"evenodd\" fill-opacity=\"1\" stroke=\"#000000\" stroke-opacity=\"1\" stroke-width=\"3.2\"/>\n",
       "<circle clip-path=\"url(#clip232)\" cx=\"2075\" cy=\"685.745\" r=\"14\" fill=\"#e26f46\" fill-rule=\"evenodd\" fill-opacity=\"1\" stroke=\"#000000\" stroke-opacity=\"1\" stroke-width=\"3.2\"/>\n",
       "<circle clip-path=\"url(#clip232)\" cx=\"2276.77\" cy=\"423\" r=\"14\" fill=\"#e26f46\" fill-rule=\"evenodd\" fill-opacity=\"1\" stroke=\"#000000\" stroke-opacity=\"1\" stroke-width=\"3.2\"/>\n",
       "<circle clip-path=\"url(#clip232)\" cx=\"2293.56\" cy=\"160.256\" r=\"14\" fill=\"#e26f46\" fill-rule=\"evenodd\" fill-opacity=\"1\" stroke=\"#000000\" stroke-opacity=\"1\" stroke-width=\"3.2\"/>\n",
       "</svg>\n"
      ]
     },
     "execution_count": 94,
     "metadata": {},
     "output_type": "execute_result"
    }
   ],
   "source": [
    "globaltemp = [14.4,14.5,14.8,15.2,15.5,15.8]\n",
    "numpir = [45000,20000,15000,5000,400,17]\n",
    "gr()\n",
    "plot(numpir,globaltemp, legend=false)\n",
    "scatter!(numpir,globaltemp)\n",
    "xflip!()\n",
    "xlabel!(\"Number of Pir\")\n",
    "ylabel!(\"Global temp\")\n",
    "title!(\"Influence of pir pop on global temp\")"
   ]
  },
  {
   "cell_type": "code",
   "execution_count": 96,
   "metadata": {},
   "outputs": [
    {
     "data": {
      "image/svg+xml": [
       "<?xml version=\"1.0\" encoding=\"utf-8\"?>\n",
       "<svg xmlns=\"http://www.w3.org/2000/svg\" xmlns:xlink=\"http://www.w3.org/1999/xlink\" width=\"600\" height=\"400\" viewBox=\"0 0 2400 1600\">\n",
       "<defs>\n",
       "  <clipPath id=\"clip310\">\n",
       "    <rect x=\"0\" y=\"0\" width=\"2400\" height=\"1600\"/>\n",
       "  </clipPath>\n",
       "</defs>\n",
       "<path clip-path=\"url(#clip310)\" d=\"\n",
       "M0 1600 L2400 1600 L2400 0 L0 0  Z\n",
       "  \" fill=\"#ffffff\" fill-rule=\"evenodd\" fill-opacity=\"1\"/>\n",
       "<defs>\n",
       "  <clipPath id=\"clip311\">\n",
       "    <rect x=\"480\" y=\"0\" width=\"1681\" height=\"1600\"/>\n",
       "  </clipPath>\n",
       "</defs>\n",
       "<path clip-path=\"url(#clip310)\" d=\"\n",
       "M152.27 686.448 L1159.3 686.448 L1159.3 47.2441 L152.27 47.2441  Z\n",
       "  \" fill=\"#ffffff\" fill-rule=\"evenodd\" fill-opacity=\"1\"/>\n",
       "<defs>\n",
       "  <clipPath id=\"clip312\">\n",
       "    <rect x=\"152\" y=\"47\" width=\"1008\" height=\"640\"/>\n",
       "  </clipPath>\n",
       "</defs>\n",
       "<polyline clip-path=\"url(#clip312)\" style=\"stroke:#000000; stroke-width:2; stroke-opacity:0.1; fill:none\" points=\"\n",
       "  180.77,686.448 180.77,47.2441 \n",
       "  \"/>\n",
       "<polyline clip-path=\"url(#clip312)\" style=\"stroke:#000000; stroke-width:2; stroke-opacity:0.1; fill:none\" points=\"\n",
       "  339.108,686.448 339.108,47.2441 \n",
       "  \"/>\n",
       "<polyline clip-path=\"url(#clip312)\" style=\"stroke:#000000; stroke-width:2; stroke-opacity:0.1; fill:none\" points=\"\n",
       "  497.445,686.448 497.445,47.2441 \n",
       "  \"/>\n",
       "<polyline clip-path=\"url(#clip312)\" style=\"stroke:#000000; stroke-width:2; stroke-opacity:0.1; fill:none\" points=\"\n",
       "  655.782,686.448 655.782,47.2441 \n",
       "  \"/>\n",
       "<polyline clip-path=\"url(#clip312)\" style=\"stroke:#000000; stroke-width:2; stroke-opacity:0.1; fill:none\" points=\"\n",
       "  814.12,686.448 814.12,47.2441 \n",
       "  \"/>\n",
       "<polyline clip-path=\"url(#clip312)\" style=\"stroke:#000000; stroke-width:2; stroke-opacity:0.1; fill:none\" points=\"\n",
       "  972.457,686.448 972.457,47.2441 \n",
       "  \"/>\n",
       "<polyline clip-path=\"url(#clip312)\" style=\"stroke:#000000; stroke-width:2; stroke-opacity:0.1; fill:none\" points=\"\n",
       "  1130.79,686.448 1130.79,47.2441 \n",
       "  \"/>\n",
       "<polyline clip-path=\"url(#clip312)\" style=\"stroke:#000000; stroke-width:2; stroke-opacity:0.1; fill:none\" points=\"\n",
       "  152.27,668.357 1159.3,668.357 \n",
       "  \"/>\n",
       "<polyline clip-path=\"url(#clip312)\" style=\"stroke:#000000; stroke-width:2; stroke-opacity:0.1; fill:none\" points=\"\n",
       "  152.27,567.853 1159.3,567.853 \n",
       "  \"/>\n",
       "<polyline clip-path=\"url(#clip312)\" style=\"stroke:#000000; stroke-width:2; stroke-opacity:0.1; fill:none\" points=\"\n",
       "  152.27,467.35 1159.3,467.35 \n",
       "  \"/>\n",
       "<polyline clip-path=\"url(#clip312)\" style=\"stroke:#000000; stroke-width:2; stroke-opacity:0.1; fill:none\" points=\"\n",
       "  152.27,366.846 1159.3,366.846 \n",
       "  \"/>\n",
       "<polyline clip-path=\"url(#clip312)\" style=\"stroke:#000000; stroke-width:2; stroke-opacity:0.1; fill:none\" points=\"\n",
       "  152.27,266.342 1159.3,266.342 \n",
       "  \"/>\n",
       "<polyline clip-path=\"url(#clip312)\" style=\"stroke:#000000; stroke-width:2; stroke-opacity:0.1; fill:none\" points=\"\n",
       "  152.27,165.839 1159.3,165.839 \n",
       "  \"/>\n",
       "<polyline clip-path=\"url(#clip312)\" style=\"stroke:#000000; stroke-width:2; stroke-opacity:0.1; fill:none\" points=\"\n",
       "  152.27,65.3348 1159.3,65.3348 \n",
       "  \"/>\n",
       "<polyline clip-path=\"url(#clip310)\" style=\"stroke:#000000; stroke-width:4; stroke-opacity:1; fill:none\" points=\"\n",
       "  152.27,686.448 1159.3,686.448 \n",
       "  \"/>\n",
       "<polyline clip-path=\"url(#clip310)\" style=\"stroke:#000000; stroke-width:4; stroke-opacity:1; fill:none\" points=\"\n",
       "  152.27,686.448 152.27,47.2441 \n",
       "  \"/>\n",
       "<polyline clip-path=\"url(#clip310)\" style=\"stroke:#000000; stroke-width:4; stroke-opacity:1; fill:none\" points=\"\n",
       "  180.77,686.448 180.77,678.777 \n",
       "  \"/>\n",
       "<polyline clip-path=\"url(#clip310)\" style=\"stroke:#000000; stroke-width:4; stroke-opacity:1; fill:none\" points=\"\n",
       "  339.108,686.448 339.108,678.777 \n",
       "  \"/>\n",
       "<polyline clip-path=\"url(#clip310)\" style=\"stroke:#000000; stroke-width:4; stroke-opacity:1; fill:none\" points=\"\n",
       "  497.445,686.448 497.445,678.777 \n",
       "  \"/>\n",
       "<polyline clip-path=\"url(#clip310)\" style=\"stroke:#000000; stroke-width:4; stroke-opacity:1; fill:none\" points=\"\n",
       "  655.782,686.448 655.782,678.777 \n",
       "  \"/>\n",
       "<polyline clip-path=\"url(#clip310)\" style=\"stroke:#000000; stroke-width:4; stroke-opacity:1; fill:none\" points=\"\n",
       "  814.12,686.448 814.12,678.777 \n",
       "  \"/>\n",
       "<polyline clip-path=\"url(#clip310)\" style=\"stroke:#000000; stroke-width:4; stroke-opacity:1; fill:none\" points=\"\n",
       "  972.457,686.448 972.457,678.777 \n",
       "  \"/>\n",
       "<polyline clip-path=\"url(#clip310)\" style=\"stroke:#000000; stroke-width:4; stroke-opacity:1; fill:none\" points=\"\n",
       "  1130.79,686.448 1130.79,678.777 \n",
       "  \"/>\n",
       "<polyline clip-path=\"url(#clip310)\" style=\"stroke:#000000; stroke-width:4; stroke-opacity:1; fill:none\" points=\"\n",
       "  152.27,668.357 164.354,668.357 \n",
       "  \"/>\n",
       "<polyline clip-path=\"url(#clip310)\" style=\"stroke:#000000; stroke-width:4; stroke-opacity:1; fill:none\" points=\"\n",
       "  152.27,567.853 164.354,567.853 \n",
       "  \"/>\n",
       "<polyline clip-path=\"url(#clip310)\" style=\"stroke:#000000; stroke-width:4; stroke-opacity:1; fill:none\" points=\"\n",
       "  152.27,467.35 164.354,467.35 \n",
       "  \"/>\n",
       "<polyline clip-path=\"url(#clip310)\" style=\"stroke:#000000; stroke-width:4; stroke-opacity:1; fill:none\" points=\"\n",
       "  152.27,366.846 164.354,366.846 \n",
       "  \"/>\n",
       "<polyline clip-path=\"url(#clip310)\" style=\"stroke:#000000; stroke-width:4; stroke-opacity:1; fill:none\" points=\"\n",
       "  152.27,266.342 164.354,266.342 \n",
       "  \"/>\n",
       "<polyline clip-path=\"url(#clip310)\" style=\"stroke:#000000; stroke-width:4; stroke-opacity:1; fill:none\" points=\"\n",
       "  152.27,165.839 164.354,165.839 \n",
       "  \"/>\n",
       "<polyline clip-path=\"url(#clip310)\" style=\"stroke:#000000; stroke-width:4; stroke-opacity:1; fill:none\" points=\"\n",
       "  152.27,65.3348 164.354,65.3348 \n",
       "  \"/>\n",
       "<path clip-path=\"url(#clip310)\" d=\"M 0 0 M161.349 725.036 L173.826 725.036 L173.826 728.832 L161.349 728.832 L161.349 725.036 Z\" fill=\"#000000\" fill-rule=\"evenodd\" fill-opacity=\"1\" /><path clip-path=\"url(#clip310)\" d=\"M 0 0 M193.062 721.286 Q196.418 722.003 198.293 724.272 Q200.191 726.54 200.191 729.874 Q200.191 734.989 196.673 737.79 Q193.154 740.591 186.673 740.591 Q184.497 740.591 182.182 740.151 Q179.891 739.735 177.437 738.878 L177.437 734.364 Q179.381 735.499 181.696 736.077 Q184.011 736.656 186.534 736.656 Q190.932 736.656 193.224 734.92 Q195.539 733.184 195.539 729.874 Q195.539 726.818 193.386 725.105 Q191.256 723.369 187.437 723.369 L183.409 723.369 L183.409 719.526 L187.622 719.526 Q191.071 719.526 192.9 718.161 Q194.729 716.772 194.729 714.179 Q194.729 711.517 192.83 710.105 Q190.955 708.67 187.437 708.67 Q185.516 708.67 183.317 709.087 Q181.118 709.503 178.479 710.383 L178.479 706.216 Q181.141 705.476 183.455 705.105 Q185.793 704.735 187.854 704.735 Q193.178 704.735 196.279 707.165 Q199.381 709.573 199.381 713.693 Q199.381 716.564 197.738 718.554 Q196.094 720.522 193.062 721.286 Z\" fill=\"#000000\" fill-rule=\"evenodd\" fill-opacity=\"1\" /><path clip-path=\"url(#clip310)\" d=\"M 0 0 M320.161 725.036 L332.638 725.036 L332.638 728.832 L320.161 728.832 L320.161 725.036 Z\" fill=\"#000000\" fill-rule=\"evenodd\" fill-opacity=\"1\" /><path clip-path=\"url(#clip310)\" d=\"M 0 0 M341.735 735.985 L358.054 735.985 L358.054 739.92 L336.11 739.92 L336.11 735.985 Q338.772 733.23 343.355 728.6 Q347.962 723.948 349.142 722.605 Q351.388 720.082 352.267 718.346 Q353.17 716.587 353.17 714.897 Q353.17 712.142 351.226 710.406 Q349.304 708.67 346.203 708.67 Q344.003 708.67 341.55 709.434 Q339.119 710.198 336.341 711.749 L336.341 707.027 Q339.166 705.892 341.619 705.314 Q344.073 704.735 346.11 704.735 Q351.48 704.735 354.675 707.42 Q357.869 710.105 357.869 714.596 Q357.869 716.726 357.059 718.647 Q356.272 720.545 354.165 723.138 Q353.587 723.809 350.485 727.026 Q347.383 730.221 341.735 735.985 Z\" fill=\"#000000\" fill-rule=\"evenodd\" fill-opacity=\"1\" /><path clip-path=\"url(#clip310)\" d=\"M 0 0 M478.313 725.036 L490.79 725.036 L490.79 728.832 L478.313 728.832 L478.313 725.036 Z\" fill=\"#000000\" fill-rule=\"evenodd\" fill-opacity=\"1\" /><path clip-path=\"url(#clip310)\" d=\"M 0 0 M496.67 735.985 L504.308 735.985 L504.308 709.619 L495.998 711.286 L495.998 707.027 L504.262 705.36 L508.938 705.36 L508.938 735.985 L516.577 735.985 L516.577 739.92 L496.67 739.92 L496.67 735.985 Z\" fill=\"#000000\" fill-rule=\"evenodd\" fill-opacity=\"1\" /><path clip-path=\"url(#clip310)\" d=\"M 0 0 M655.782 708.439 Q652.171 708.439 650.343 712.003 Q648.537 715.545 648.537 722.675 Q648.537 729.781 650.343 733.346 Q652.171 736.887 655.782 736.887 Q659.417 736.887 661.222 733.346 Q663.051 729.781 663.051 722.675 Q663.051 715.545 661.222 712.003 Q659.417 708.439 655.782 708.439 M655.782 704.735 Q661.593 704.735 664.648 709.341 Q667.727 713.925 667.727 722.675 Q667.727 731.401 664.648 736.008 Q661.593 740.591 655.782 740.591 Q649.972 740.591 646.894 736.008 Q643.838 731.401 643.838 722.675 Q643.838 713.925 646.894 709.341 Q649.972 704.735 655.782 704.735 Z\" fill=\"#000000\" fill-rule=\"evenodd\" fill-opacity=\"1\" /><path clip-path=\"url(#clip310)\" d=\"M 0 0 M804.502 735.985 L812.141 735.985 L812.141 709.619 L803.83 711.286 L803.83 707.027 L812.094 705.36 L816.77 705.36 L816.77 735.985 L824.409 735.985 L824.409 739.92 L804.502 739.92 L804.502 735.985 Z\" fill=\"#000000\" fill-rule=\"evenodd\" fill-opacity=\"1\" /><path clip-path=\"url(#clip310)\" d=\"M 0 0 M967.11 735.985 L983.429 735.985 L983.429 739.92 L961.485 739.92 L961.485 735.985 Q964.147 733.23 968.73 728.6 Q973.337 723.948 974.517 722.605 Q976.763 720.082 977.642 718.346 Q978.545 716.587 978.545 714.897 Q978.545 712.142 976.601 710.406 Q974.679 708.67 971.578 708.67 Q969.378 708.67 966.925 709.434 Q964.494 710.198 961.716 711.749 L961.716 707.027 Q964.541 705.892 966.994 705.314 Q969.448 704.735 971.485 704.735 Q976.855 704.735 980.05 707.42 Q983.244 710.105 983.244 714.596 Q983.244 716.726 982.434 718.647 Q981.647 720.545 979.54 723.138 Q978.962 723.809 975.86 727.026 Q972.758 730.221 967.11 735.985 Z\" fill=\"#000000\" fill-rule=\"evenodd\" fill-opacity=\"1\" /><path clip-path=\"url(#clip310)\" d=\"M 0 0 M1135.04 721.286 Q1138.4 722.003 1140.27 724.272 Q1142.17 726.54 1142.17 729.874 Q1142.17 734.989 1138.65 737.79 Q1135.13 740.591 1128.65 740.591 Q1126.48 740.591 1124.16 740.151 Q1121.87 739.735 1119.42 738.878 L1119.42 734.364 Q1121.36 735.499 1123.68 736.077 Q1125.99 736.656 1128.51 736.656 Q1132.91 736.656 1135.2 734.92 Q1137.52 733.184 1137.52 729.874 Q1137.52 726.818 1135.37 725.105 Q1133.24 723.369 1129.42 723.369 L1125.39 723.369 L1125.39 719.526 L1129.6 719.526 Q1133.05 719.526 1134.88 718.161 Q1136.71 716.772 1136.71 714.179 Q1136.71 711.517 1134.81 710.105 Q1132.94 708.67 1129.42 708.67 Q1127.5 708.67 1125.3 709.087 Q1123.1 709.503 1120.46 710.383 L1120.46 706.216 Q1123.12 705.476 1125.44 705.105 Q1127.77 704.735 1129.83 704.735 Q1135.16 704.735 1138.26 707.165 Q1141.36 709.573 1141.36 713.693 Q1141.36 716.564 1139.72 718.554 Q1138.07 720.522 1135.04 721.286 Z\" fill=\"#000000\" fill-rule=\"evenodd\" fill-opacity=\"1\" /><path clip-path=\"url(#clip310)\" d=\"M 0 0 M89.4272 670.753 L101.904 670.753 L101.904 674.549 L89.4272 674.549 L89.4272 670.753 Z\" fill=\"#000000\" fill-rule=\"evenodd\" fill-opacity=\"1\" /><path clip-path=\"url(#clip310)\" d=\"M 0 0 M121.14 667.003 Q124.496 667.721 126.371 669.989 Q128.27 672.258 128.27 675.591 Q128.27 680.707 124.751 683.508 Q121.233 686.308 114.751 686.308 Q112.575 686.308 110.26 685.869 Q107.969 685.452 105.515 684.596 L105.515 680.082 Q107.459 681.216 109.774 681.795 Q112.089 682.373 114.612 682.373 Q119.01 682.373 121.302 680.637 Q123.617 678.901 123.617 675.591 Q123.617 672.535 121.464 670.822 Q119.334 669.086 115.515 669.086 L111.487 669.086 L111.487 665.244 L115.7 665.244 Q119.149 665.244 120.978 663.878 Q122.807 662.489 122.807 659.897 Q122.807 657.235 120.908 655.823 Q119.033 654.387 115.515 654.387 Q113.594 654.387 111.395 654.804 Q109.196 655.221 106.557 656.1 L106.557 651.934 Q109.219 651.193 111.534 650.823 Q113.871 650.452 115.932 650.452 Q121.256 650.452 124.358 652.883 Q127.459 655.29 127.459 659.41 Q127.459 662.281 125.816 664.272 Q124.172 666.239 121.14 667.003 Z\" fill=\"#000000\" fill-rule=\"evenodd\" fill-opacity=\"1\" /><path clip-path=\"url(#clip310)\" d=\"M 0 0 M90.3762 570.249 L102.853 570.249 L102.853 574.046 L90.3762 574.046 L90.3762 570.249 Z\" fill=\"#000000\" fill-rule=\"evenodd\" fill-opacity=\"1\" /><path clip-path=\"url(#clip310)\" d=\"M 0 0 M111.95 581.198 L128.27 581.198 L128.27 585.133 L106.325 585.133 L106.325 581.198 Q108.987 578.444 113.571 573.814 Q118.177 569.161 119.358 567.819 Q121.603 565.296 122.483 563.56 Q123.385 561.8 123.385 560.11 Q123.385 557.356 121.441 555.62 Q119.52 553.884 116.418 553.884 Q114.219 553.884 111.765 554.648 Q109.334 555.411 106.557 556.962 L106.557 552.24 Q109.381 551.106 111.834 550.527 Q114.288 549.948 116.325 549.948 Q121.696 549.948 124.89 552.634 Q128.084 555.319 128.084 559.81 Q128.084 561.939 127.274 563.86 Q126.487 565.759 124.381 568.351 Q123.802 569.022 120.7 572.24 Q117.598 575.434 111.95 581.198 Z\" fill=\"#000000\" fill-rule=\"evenodd\" fill-opacity=\"1\" /><path clip-path=\"url(#clip310)\" d=\"M 0 0 M90.0059 469.746 L102.483 469.746 L102.483 473.542 L90.0059 473.542 L90.0059 469.746 Z\" fill=\"#000000\" fill-rule=\"evenodd\" fill-opacity=\"1\" /><path clip-path=\"url(#clip310)\" d=\"M 0 0 M108.362 480.695 L116.001 480.695 L116.001 454.329 L107.691 455.996 L107.691 451.736 L115.955 450.07 L120.631 450.07 L120.631 480.695 L128.27 480.695 L128.27 484.63 L108.362 484.63 L108.362 480.695 Z\" fill=\"#000000\" fill-rule=\"evenodd\" fill-opacity=\"1\" /><path clip-path=\"url(#clip310)\" d=\"M 0 0 M116.325 352.645 Q112.714 352.645 110.885 356.209 Q109.08 359.751 109.08 366.881 Q109.08 373.987 110.885 377.552 Q112.714 381.094 116.325 381.094 Q119.959 381.094 121.765 377.552 Q123.594 373.987 123.594 366.881 Q123.594 359.751 121.765 356.209 Q119.959 352.645 116.325 352.645 M116.325 348.941 Q122.135 348.941 125.191 353.547 Q128.27 358.131 128.27 366.881 Q128.27 375.608 125.191 380.214 Q122.135 384.797 116.325 384.797 Q110.515 384.797 107.436 380.214 Q104.381 375.608 104.381 366.881 Q104.381 358.131 107.436 353.547 Q110.515 348.941 116.325 348.941 Z\" fill=\"#000000\" fill-rule=\"evenodd\" fill-opacity=\"1\" /><path clip-path=\"url(#clip310)\" d=\"M 0 0 M108.362 279.687 L116.001 279.687 L116.001 253.321 L107.691 254.988 L107.691 250.729 L115.955 249.062 L120.631 249.062 L120.631 279.687 L128.27 279.687 L128.27 283.622 L108.362 283.622 L108.362 279.687 Z\" fill=\"#000000\" fill-rule=\"evenodd\" fill-opacity=\"1\" /><path clip-path=\"url(#clip310)\" d=\"M 0 0 M111.95 179.183 L128.27 179.183 L128.27 183.119 L106.325 183.119 L106.325 179.183 Q108.987 176.429 113.571 171.799 Q118.177 167.146 119.358 165.804 Q121.603 163.281 122.483 161.545 Q123.385 159.785 123.385 158.095 Q123.385 155.341 121.441 153.605 Q119.52 151.869 116.418 151.869 Q114.219 151.869 111.765 152.633 Q109.334 153.396 106.557 154.947 L106.557 150.225 Q109.381 149.091 111.834 148.512 Q114.288 147.934 116.325 147.934 Q121.696 147.934 124.89 150.619 Q128.084 153.304 128.084 157.795 Q128.084 159.924 127.274 161.845 Q126.487 163.744 124.381 166.336 Q123.802 167.007 120.7 170.225 Q117.598 173.419 111.95 179.183 Z\" fill=\"#000000\" fill-rule=\"evenodd\" fill-opacity=\"1\" /><path clip-path=\"url(#clip310)\" d=\"M 0 0 M121.14 63.9806 Q124.496 64.6982 126.371 66.9667 Q128.27 69.2352 128.27 72.5685 Q128.27 77.6842 124.751 80.4851 Q121.233 83.2861 114.751 83.2861 Q112.575 83.2861 110.26 82.8462 Q107.969 82.4296 105.515 81.5731 L105.515 77.0592 Q107.459 78.1935 109.774 78.7722 Q112.089 79.3509 114.612 79.3509 Q119.01 79.3509 121.302 77.6148 Q123.617 75.8787 123.617 72.5685 Q123.617 69.513 121.464 67.8 Q119.334 66.0639 115.515 66.0639 L111.487 66.0639 L111.487 62.2214 L115.7 62.2214 Q119.149 62.2214 120.978 60.8556 Q122.807 59.4667 122.807 56.8742 Q122.807 54.2121 120.908 52.8001 Q119.033 51.3649 115.515 51.3649 Q113.594 51.3649 111.395 51.7816 Q109.196 52.1983 106.557 53.0779 L106.557 48.9112 Q109.219 48.1705 111.534 47.8001 Q113.871 47.4298 115.932 47.4298 Q121.256 47.4298 124.358 49.8603 Q127.459 52.2677 127.459 56.3881 Q127.459 59.2584 125.816 61.2491 Q124.172 63.2167 121.14 63.9806 Z\" fill=\"#000000\" fill-rule=\"evenodd\" fill-opacity=\"1\" /><polyline clip-path=\"url(#clip312)\" style=\"stroke:#009af9; stroke-width:4; stroke-opacity:1; fill:none\" points=\"\n",
       "  180.77,668.357 196.604,658.307 212.438,648.256 228.271,638.206 244.105,628.156 259.939,618.105 275.773,608.055 291.606,598.005 307.44,587.954 323.274,577.904 \n",
       "  339.108,567.853 354.941,557.803 370.775,547.753 386.609,537.702 402.443,527.652 418.276,517.602 434.11,507.551 449.944,497.501 465.778,487.45 481.611,477.4 \n",
       "  497.445,467.35 513.279,457.299 529.112,447.249 544.946,437.199 560.78,427.148 576.614,417.098 592.447,407.047 608.281,396.997 624.115,386.947 639.949,376.896 \n",
       "  655.782,366.846 671.616,356.796 687.45,346.745 703.284,336.695 719.117,326.644 734.951,316.594 750.785,306.544 766.619,296.493 782.452,286.443 798.286,276.393 \n",
       "  814.12,266.342 829.953,256.292 845.787,246.241 861.621,236.191 877.455,226.141 893.288,216.09 909.122,206.04 924.956,195.99 940.79,185.939 956.623,175.889 \n",
       "  972.457,165.839 988.291,155.788 1004.12,145.738 1019.96,135.687 1035.79,125.637 1051.63,115.587 1067.46,105.536 1083.29,95.4859 1099.13,85.4355 1114.96,75.3851 \n",
       "  1130.79,65.3348 \n",
       "  \"/>\n",
       "<path clip-path=\"url(#clip310)\" d=\"\n",
       "M1318.72 686.448 L2352.76 686.448 L2352.76 47.2441 L1318.72 47.2441  Z\n",
       "  \" fill=\"#ffffff\" fill-rule=\"evenodd\" fill-opacity=\"1\"/>\n",
       "<defs>\n",
       "  <clipPath id=\"clip313\">\n",
       "    <rect x=\"1318\" y=\"47\" width=\"1035\" height=\"640\"/>\n",
       "  </clipPath>\n",
       "</defs>\n",
       "<polyline clip-path=\"url(#clip313)\" style=\"stroke:#000000; stroke-width:2; stroke-opacity:0.1; fill:none\" points=\"\n",
       "  1347.98,686.448 1347.98,47.2441 \n",
       "  \"/>\n",
       "<polyline clip-path=\"url(#clip313)\" style=\"stroke:#000000; stroke-width:2; stroke-opacity:0.1; fill:none\" points=\"\n",
       "  1510.57,686.448 1510.57,47.2441 \n",
       "  \"/>\n",
       "<polyline clip-path=\"url(#clip313)\" style=\"stroke:#000000; stroke-width:2; stroke-opacity:0.1; fill:none\" points=\"\n",
       "  1673.15,686.448 1673.15,47.2441 \n",
       "  \"/>\n",
       "<polyline clip-path=\"url(#clip313)\" style=\"stroke:#000000; stroke-width:2; stroke-opacity:0.1; fill:none\" points=\"\n",
       "  1835.74,686.448 1835.74,47.2441 \n",
       "  \"/>\n",
       "<polyline clip-path=\"url(#clip313)\" style=\"stroke:#000000; stroke-width:2; stroke-opacity:0.1; fill:none\" points=\"\n",
       "  1998.32,686.448 1998.32,47.2441 \n",
       "  \"/>\n",
       "<polyline clip-path=\"url(#clip313)\" style=\"stroke:#000000; stroke-width:2; stroke-opacity:0.1; fill:none\" points=\"\n",
       "  2160.91,686.448 2160.91,47.2441 \n",
       "  \"/>\n",
       "<polyline clip-path=\"url(#clip313)\" style=\"stroke:#000000; stroke-width:2; stroke-opacity:0.1; fill:none\" points=\"\n",
       "  2323.49,686.448 2323.49,47.2441 \n",
       "  \"/>\n",
       "<polyline clip-path=\"url(#clip313)\" style=\"stroke:#000000; stroke-width:2; stroke-opacity:0.1; fill:none\" points=\"\n",
       "  1318.72,668.357 2352.76,668.357 \n",
       "  \"/>\n",
       "<polyline clip-path=\"url(#clip313)\" style=\"stroke:#000000; stroke-width:2; stroke-opacity:0.1; fill:none\" points=\"\n",
       "  1318.72,534.352 2352.76,534.352 \n",
       "  \"/>\n",
       "<polyline clip-path=\"url(#clip313)\" style=\"stroke:#000000; stroke-width:2; stroke-opacity:0.1; fill:none\" points=\"\n",
       "  1318.72,400.347 2352.76,400.347 \n",
       "  \"/>\n",
       "<polyline clip-path=\"url(#clip313)\" style=\"stroke:#000000; stroke-width:2; stroke-opacity:0.1; fill:none\" points=\"\n",
       "  1318.72,266.342 2352.76,266.342 \n",
       "  \"/>\n",
       "<polyline clip-path=\"url(#clip313)\" style=\"stroke:#000000; stroke-width:2; stroke-opacity:0.1; fill:none\" points=\"\n",
       "  1318.72,132.337 2352.76,132.337 \n",
       "  \"/>\n",
       "<polyline clip-path=\"url(#clip310)\" style=\"stroke:#000000; stroke-width:4; stroke-opacity:1; fill:none\" points=\"\n",
       "  1318.72,686.448 2352.76,686.448 \n",
       "  \"/>\n",
       "<polyline clip-path=\"url(#clip310)\" style=\"stroke:#000000; stroke-width:4; stroke-opacity:1; fill:none\" points=\"\n",
       "  1318.72,686.448 1318.72,47.2441 \n",
       "  \"/>\n",
       "<polyline clip-path=\"url(#clip310)\" style=\"stroke:#000000; stroke-width:4; stroke-opacity:1; fill:none\" points=\"\n",
       "  1347.98,686.448 1347.98,678.777 \n",
       "  \"/>\n",
       "<polyline clip-path=\"url(#clip310)\" style=\"stroke:#000000; stroke-width:4; stroke-opacity:1; fill:none\" points=\"\n",
       "  1510.57,686.448 1510.57,678.777 \n",
       "  \"/>\n",
       "<polyline clip-path=\"url(#clip310)\" style=\"stroke:#000000; stroke-width:4; stroke-opacity:1; fill:none\" points=\"\n",
       "  1673.15,686.448 1673.15,678.777 \n",
       "  \"/>\n",
       "<polyline clip-path=\"url(#clip310)\" style=\"stroke:#000000; stroke-width:4; stroke-opacity:1; fill:none\" points=\"\n",
       "  1835.74,686.448 1835.74,678.777 \n",
       "  \"/>\n",
       "<polyline clip-path=\"url(#clip310)\" style=\"stroke:#000000; stroke-width:4; stroke-opacity:1; fill:none\" points=\"\n",
       "  1998.32,686.448 1998.32,678.777 \n",
       "  \"/>\n",
       "<polyline clip-path=\"url(#clip310)\" style=\"stroke:#000000; stroke-width:4; stroke-opacity:1; fill:none\" points=\"\n",
       "  2160.91,686.448 2160.91,678.777 \n",
       "  \"/>\n",
       "<polyline clip-path=\"url(#clip310)\" style=\"stroke:#000000; stroke-width:4; stroke-opacity:1; fill:none\" points=\"\n",
       "  2323.49,686.448 2323.49,678.777 \n",
       "  \"/>\n",
       "<polyline clip-path=\"url(#clip310)\" style=\"stroke:#000000; stroke-width:4; stroke-opacity:1; fill:none\" points=\"\n",
       "  1318.72,668.357 1331.12,668.357 \n",
       "  \"/>\n",
       "<polyline clip-path=\"url(#clip310)\" style=\"stroke:#000000; stroke-width:4; stroke-opacity:1; fill:none\" points=\"\n",
       "  1318.72,534.352 1331.12,534.352 \n",
       "  \"/>\n",
       "<polyline clip-path=\"url(#clip310)\" style=\"stroke:#000000; stroke-width:4; stroke-opacity:1; fill:none\" points=\"\n",
       "  1318.72,400.347 1331.12,400.347 \n",
       "  \"/>\n",
       "<polyline clip-path=\"url(#clip310)\" style=\"stroke:#000000; stroke-width:4; stroke-opacity:1; fill:none\" points=\"\n",
       "  1318.72,266.342 1331.12,266.342 \n",
       "  \"/>\n",
       "<polyline clip-path=\"url(#clip310)\" style=\"stroke:#000000; stroke-width:4; stroke-opacity:1; fill:none\" points=\"\n",
       "  1318.72,132.337 1331.12,132.337 \n",
       "  \"/>\n",
       "<path clip-path=\"url(#clip310)\" d=\"M 0 0 M1328.56 725.036 L1341.04 725.036 L1341.04 728.832 L1328.56 728.832 L1328.56 725.036 Z\" fill=\"#000000\" fill-rule=\"evenodd\" fill-opacity=\"1\" /><path clip-path=\"url(#clip310)\" d=\"M 0 0 M1360.27 721.286 Q1363.63 722.003 1365.5 724.272 Q1367.4 726.54 1367.4 729.874 Q1367.4 734.989 1363.88 737.79 Q1360.37 740.591 1353.88 740.591 Q1351.71 740.591 1349.39 740.151 Q1347.1 739.735 1344.65 738.878 L1344.65 734.364 Q1346.59 735.499 1348.91 736.077 Q1351.22 736.656 1353.75 736.656 Q1358.14 736.656 1360.44 734.92 Q1362.75 733.184 1362.75 729.874 Q1362.75 726.818 1360.6 725.105 Q1358.47 723.369 1354.65 723.369 L1350.62 723.369 L1350.62 719.526 L1354.83 719.526 Q1358.28 719.526 1360.11 718.161 Q1361.94 716.772 1361.94 714.179 Q1361.94 711.517 1360.04 710.105 Q1358.17 708.67 1354.65 708.67 Q1352.73 708.67 1350.53 709.087 Q1348.33 709.503 1345.69 710.383 L1345.69 706.216 Q1348.35 705.476 1350.67 705.105 Q1353 704.735 1355.07 704.735 Q1360.39 704.735 1363.49 707.165 Q1366.59 709.573 1366.59 713.693 Q1366.59 716.564 1364.95 718.554 Q1363.31 720.522 1360.27 721.286 Z\" fill=\"#000000\" fill-rule=\"evenodd\" fill-opacity=\"1\" /><path clip-path=\"url(#clip310)\" d=\"M 0 0 M1491.62 725.036 L1504.1 725.036 L1504.1 728.832 L1491.62 728.832 L1491.62 725.036 Z\" fill=\"#000000\" fill-rule=\"evenodd\" fill-opacity=\"1\" /><path clip-path=\"url(#clip310)\" d=\"M 0 0 M1513.19 735.985 L1529.51 735.985 L1529.51 739.92 L1507.57 739.92 L1507.57 735.985 Q1510.23 733.23 1514.81 728.6 Q1519.42 723.948 1520.6 722.605 Q1522.85 720.082 1523.73 718.346 Q1524.63 716.587 1524.63 714.897 Q1524.63 712.142 1522.68 710.406 Q1520.76 708.67 1517.66 708.67 Q1515.46 708.67 1513.01 709.434 Q1510.58 710.198 1507.8 711.749 L1507.8 707.027 Q1510.62 705.892 1513.08 705.314 Q1515.53 704.735 1517.57 704.735 Q1522.94 704.735 1526.13 707.42 Q1529.33 710.105 1529.33 714.596 Q1529.33 716.726 1528.52 718.647 Q1527.73 720.545 1525.62 723.138 Q1525.05 723.809 1521.94 727.026 Q1518.84 730.221 1513.19 735.985 Z\" fill=\"#000000\" fill-rule=\"evenodd\" fill-opacity=\"1\" /><path clip-path=\"url(#clip310)\" d=\"M 0 0 M1654.02 725.036 L1666.5 725.036 L1666.5 728.832 L1654.02 728.832 L1654.02 725.036 Z\" fill=\"#000000\" fill-rule=\"evenodd\" fill-opacity=\"1\" /><path clip-path=\"url(#clip310)\" d=\"M 0 0 M1672.38 735.985 L1680.01 735.985 L1680.01 709.619 L1671.7 711.286 L1671.7 707.027 L1679.97 705.36 L1684.64 705.36 L1684.64 735.985 L1692.28 735.985 L1692.28 739.92 L1672.38 739.92 L1672.38 735.985 Z\" fill=\"#000000\" fill-rule=\"evenodd\" fill-opacity=\"1\" /><path clip-path=\"url(#clip310)\" d=\"M 0 0 M1835.74 708.439 Q1832.13 708.439 1830.3 712.003 Q1828.49 715.545 1828.49 722.675 Q1828.49 729.781 1830.3 733.346 Q1832.13 736.887 1835.74 736.887 Q1839.37 736.887 1841.18 733.346 Q1843 729.781 1843 722.675 Q1843 715.545 1841.18 712.003 Q1839.37 708.439 1835.74 708.439 M1835.74 704.735 Q1841.55 704.735 1844.6 709.341 Q1847.68 713.925 1847.68 722.675 Q1847.68 731.401 1844.6 736.008 Q1841.55 740.591 1835.74 740.591 Q1829.93 740.591 1826.85 736.008 Q1823.79 731.401 1823.79 722.675 Q1823.79 713.925 1826.85 709.341 Q1829.93 704.735 1835.74 704.735 Z\" fill=\"#000000\" fill-rule=\"evenodd\" fill-opacity=\"1\" /><path clip-path=\"url(#clip310)\" d=\"M 0 0 M1988.7 735.985 L1996.34 735.985 L1996.34 709.619 L1988.03 711.286 L1988.03 707.027 L1996.3 705.36 L2000.97 705.36 L2000.97 735.985 L2008.61 735.985 L2008.61 739.92 L1988.7 739.92 L1988.7 735.985 Z\" fill=\"#000000\" fill-rule=\"evenodd\" fill-opacity=\"1\" /><path clip-path=\"url(#clip310)\" d=\"M 0 0 M2155.56 735.985 L2171.88 735.985 L2171.88 739.92 L2149.93 739.92 L2149.93 735.985 Q2152.6 733.23 2157.18 728.6 Q2161.79 723.948 2162.97 722.605 Q2165.21 720.082 2166.09 718.346 Q2166.99 716.587 2166.99 714.897 Q2166.99 712.142 2165.05 710.406 Q2163.13 708.67 2160.03 708.67 Q2157.83 708.67 2155.37 709.434 Q2152.94 710.198 2150.17 711.749 L2150.17 707.027 Q2152.99 705.892 2155.44 705.314 Q2157.9 704.735 2159.93 704.735 Q2165.3 704.735 2168.5 707.42 Q2171.69 710.105 2171.69 714.596 Q2171.69 716.726 2170.88 718.647 Q2170.1 720.545 2167.99 723.138 Q2167.41 723.809 2164.31 727.026 Q2161.21 730.221 2155.56 735.985 Z\" fill=\"#000000\" fill-rule=\"evenodd\" fill-opacity=\"1\" /><path clip-path=\"url(#clip310)\" d=\"M 0 0 M2327.74 721.286 Q2331.09 722.003 2332.97 724.272 Q2334.87 726.54 2334.87 729.874 Q2334.87 734.989 2331.35 737.79 Q2327.83 740.591 2321.35 740.591 Q2319.17 740.591 2316.86 740.151 Q2314.57 739.735 2312.11 738.878 L2312.11 734.364 Q2314.06 735.499 2316.37 736.077 Q2318.69 736.656 2321.21 736.656 Q2325.61 736.656 2327.9 734.92 Q2330.22 733.184 2330.22 729.874 Q2330.22 726.818 2328.06 725.105 Q2325.93 723.369 2322.11 723.369 L2318.09 723.369 L2318.09 719.526 L2322.3 719.526 Q2325.75 719.526 2327.58 718.161 Q2329.4 716.772 2329.4 714.179 Q2329.4 711.517 2327.51 710.105 Q2325.63 708.67 2322.11 708.67 Q2320.19 708.67 2317.99 709.087 Q2315.79 709.503 2313.16 710.383 L2313.16 706.216 Q2315.82 705.476 2318.13 705.105 Q2320.47 704.735 2322.53 704.735 Q2327.85 704.735 2330.96 707.165 Q2334.06 709.573 2334.06 713.693 Q2334.06 716.564 2332.41 718.554 Q2330.77 720.522 2327.74 721.286 Z\" fill=\"#000000\" fill-rule=\"evenodd\" fill-opacity=\"1\" /><path clip-path=\"url(#clip310)\" d=\"M 0 0 M1282.77 654.156 Q1279.16 654.156 1277.33 657.721 Q1275.53 661.262 1275.53 668.392 Q1275.53 675.498 1277.33 679.063 Q1279.16 682.605 1282.77 682.605 Q1286.41 682.605 1288.21 679.063 Q1290.04 675.498 1290.04 668.392 Q1290.04 661.262 1288.21 657.721 Q1286.41 654.156 1282.77 654.156 M1282.77 650.452 Q1288.58 650.452 1291.64 655.059 Q1294.72 659.642 1294.72 668.392 Q1294.72 677.119 1291.64 681.725 Q1288.58 686.308 1282.77 686.308 Q1276.96 686.308 1273.88 681.725 Q1270.83 677.119 1270.83 668.392 Q1270.83 659.642 1273.88 655.059 Q1276.96 650.452 1282.77 650.452 Z\" fill=\"#000000\" fill-rule=\"evenodd\" fill-opacity=\"1\" /><path clip-path=\"url(#clip310)\" d=\"M 0 0 M1278.4 547.697 L1294.72 547.697 L1294.72 551.632 L1272.77 551.632 L1272.77 547.697 Q1275.43 544.942 1280.02 540.313 Q1284.62 535.66 1285.8 534.317 Q1288.05 531.794 1288.93 530.058 Q1289.83 528.299 1289.83 526.609 Q1289.83 523.855 1287.89 522.118 Q1285.97 520.382 1282.86 520.382 Q1280.67 520.382 1278.21 521.146 Q1275.78 521.91 1273 523.461 L1273 518.739 Q1275.83 517.605 1278.28 517.026 Q1280.74 516.447 1282.77 516.447 Q1288.14 516.447 1291.34 519.132 Q1294.53 521.818 1294.53 526.308 Q1294.53 528.438 1293.72 530.359 Q1292.93 532.257 1290.83 534.85 Q1290.25 535.521 1287.15 538.739 Q1284.05 541.933 1278.4 547.697 Z\" fill=\"#000000\" fill-rule=\"evenodd\" fill-opacity=\"1\" /><path clip-path=\"url(#clip310)\" d=\"M 0 0 M1285.13 387.141 L1273.33 405.59 L1285.13 405.59 L1285.13 387.141 M1283.91 383.067 L1289.79 383.067 L1289.79 405.59 L1294.72 405.59 L1294.72 409.479 L1289.79 409.479 L1289.79 417.627 L1285.13 417.627 L1285.13 409.479 L1269.53 409.479 L1269.53 404.965 L1283.91 383.067 Z\" fill=\"#000000\" fill-rule=\"evenodd\" fill-opacity=\"1\" /><path clip-path=\"url(#clip310)\" d=\"M 0 0 M1283.19 264.479 Q1280.04 264.479 1278.19 266.632 Q1276.36 268.784 1276.36 272.534 Q1276.36 276.261 1278.19 278.437 Q1280.04 280.59 1283.19 280.59 Q1286.34 280.59 1288.17 278.437 Q1290.02 276.261 1290.02 272.534 Q1290.02 268.784 1288.17 266.632 Q1286.34 264.479 1283.19 264.479 M1292.47 249.826 L1292.47 254.085 Q1290.71 253.252 1288.91 252.812 Q1287.12 252.372 1285.36 252.372 Q1280.74 252.372 1278.28 255.497 Q1275.85 258.622 1275.5 264.942 Q1276.87 262.928 1278.93 261.863 Q1280.99 260.775 1283.47 260.775 Q1288.67 260.775 1291.68 263.946 Q1294.72 267.095 1294.72 272.534 Q1294.72 277.858 1291.57 281.076 Q1288.42 284.294 1283.19 284.294 Q1277.19 284.294 1274.02 279.71 Q1270.85 275.104 1270.85 266.377 Q1270.85 258.183 1274.74 253.321 Q1278.63 248.437 1285.18 248.437 Q1286.94 248.437 1288.72 248.784 Q1290.53 249.132 1292.47 249.826 Z\" fill=\"#000000\" fill-rule=\"evenodd\" fill-opacity=\"1\" /><path clip-path=\"url(#clip310)\" d=\"M 0 0 M1282.86 133.205 Q1279.53 133.205 1277.61 134.988 Q1275.71 136.77 1275.71 139.895 Q1275.71 143.02 1277.61 144.802 Q1279.53 146.585 1282.86 146.585 Q1286.2 146.585 1288.12 144.802 Q1290.04 142.997 1290.04 139.895 Q1290.04 136.77 1288.12 134.988 Q1286.22 133.205 1282.86 133.205 M1278.19 131.215 Q1275.18 130.474 1273.49 128.414 Q1271.82 126.353 1271.82 123.391 Q1271.82 119.247 1274.76 116.84 Q1277.73 114.432 1282.86 114.432 Q1288.03 114.432 1290.97 116.84 Q1293.91 119.247 1293.91 123.391 Q1293.91 126.353 1292.22 128.414 Q1290.55 130.474 1287.56 131.215 Q1290.94 132.002 1292.82 134.293 Q1294.72 136.585 1294.72 139.895 Q1294.72 144.918 1291.64 147.603 Q1288.58 150.289 1282.86 150.289 Q1277.15 150.289 1274.07 147.603 Q1271.01 144.918 1271.01 139.895 Q1271.01 136.585 1272.91 134.293 Q1274.81 132.002 1278.19 131.215 M1276.48 123.83 Q1276.48 126.516 1278.14 128.02 Q1279.83 129.525 1282.86 129.525 Q1285.87 129.525 1287.56 128.02 Q1289.28 126.516 1289.28 123.83 Q1289.28 121.145 1287.56 119.641 Q1285.87 118.136 1282.86 118.136 Q1279.83 118.136 1278.14 119.641 Q1276.48 121.145 1276.48 123.83 Z\" fill=\"#000000\" fill-rule=\"evenodd\" fill-opacity=\"1\" /><polyline clip-path=\"url(#clip313)\" style=\"stroke:#009af9; stroke-width:4; stroke-opacity:1; fill:none\" points=\"\n",
       "  1347.98,65.3348 1364.24,104.866 1380.5,143.058 1396.76,179.909 1413.02,215.42 1429.27,249.592 1445.53,282.423 1461.79,313.914 1478.05,344.065 1494.31,372.876 \n",
       "  1510.57,400.347 1526.83,426.478 1543.08,451.269 1559.34,474.72 1575.6,496.831 1591.86,517.602 1608.12,537.032 1624.38,555.123 1640.63,571.874 1656.89,587.284 \n",
       "  1673.15,601.355 1689.41,614.085 1705.67,625.476 1721.93,635.526 1738.19,644.236 1754.44,651.607 1770.7,657.637 1786.96,662.327 1803.22,665.677 1819.48,667.687 \n",
       "  1835.74,668.357 1851.99,667.687 1868.25,665.677 1884.51,662.327 1900.77,657.637 1917.03,651.607 1933.29,644.236 1949.55,635.526 1965.8,625.476 1982.06,614.085 \n",
       "  1998.32,601.355 2014.58,587.284 2030.84,571.874 2047.1,555.123 2063.35,537.032 2079.61,517.602 2095.87,496.831 2112.13,474.72 2128.39,451.269 2144.65,426.478 \n",
       "  2160.91,400.347 2177.16,372.876 2193.42,344.065 2209.68,313.914 2225.94,282.423 2242.2,249.592 2258.46,215.42 2274.72,179.909 2290.97,143.058 2307.23,104.866 \n",
       "  2323.49,65.3348 \n",
       "  \"/>\n",
       "<path clip-path=\"url(#clip310)\" d=\"\n",
       "M152.27 1486.45 L1159.3 1486.45 L1159.3 847.244 L152.27 847.244  Z\n",
       "  \" fill=\"#ffffff\" fill-rule=\"evenodd\" fill-opacity=\"1\"/>\n",
       "<defs>\n",
       "  <clipPath id=\"clip314\">\n",
       "    <rect x=\"152\" y=\"847\" width=\"1008\" height=\"640\"/>\n",
       "  </clipPath>\n",
       "</defs>\n",
       "<polyline clip-path=\"url(#clip314)\" style=\"stroke:#000000; stroke-width:2; stroke-opacity:0.1; fill:none\" points=\"\n",
       "  180.77,1486.45 180.77,847.244 \n",
       "  \"/>\n",
       "<polyline clip-path=\"url(#clip314)\" style=\"stroke:#000000; stroke-width:2; stroke-opacity:0.1; fill:none\" points=\"\n",
       "  339.108,1486.45 339.108,847.244 \n",
       "  \"/>\n",
       "<polyline clip-path=\"url(#clip314)\" style=\"stroke:#000000; stroke-width:2; stroke-opacity:0.1; fill:none\" points=\"\n",
       "  497.445,1486.45 497.445,847.244 \n",
       "  \"/>\n",
       "<polyline clip-path=\"url(#clip314)\" style=\"stroke:#000000; stroke-width:2; stroke-opacity:0.1; fill:none\" points=\"\n",
       "  655.782,1486.45 655.782,847.244 \n",
       "  \"/>\n",
       "<polyline clip-path=\"url(#clip314)\" style=\"stroke:#000000; stroke-width:2; stroke-opacity:0.1; fill:none\" points=\"\n",
       "  814.12,1486.45 814.12,847.244 \n",
       "  \"/>\n",
       "<polyline clip-path=\"url(#clip314)\" style=\"stroke:#000000; stroke-width:2; stroke-opacity:0.1; fill:none\" points=\"\n",
       "  972.457,1486.45 972.457,847.244 \n",
       "  \"/>\n",
       "<polyline clip-path=\"url(#clip314)\" style=\"stroke:#000000; stroke-width:2; stroke-opacity:0.1; fill:none\" points=\"\n",
       "  1130.79,1486.45 1130.79,847.244 \n",
       "  \"/>\n",
       "<polyline clip-path=\"url(#clip314)\" style=\"stroke:#000000; stroke-width:2; stroke-opacity:0.1; fill:none\" points=\"\n",
       "  152.27,1390.19 1159.3,1390.19 \n",
       "  \"/>\n",
       "<polyline clip-path=\"url(#clip314)\" style=\"stroke:#000000; stroke-width:2; stroke-opacity:0.1; fill:none\" points=\"\n",
       "  152.27,1278.52 1159.3,1278.52 \n",
       "  \"/>\n",
       "<polyline clip-path=\"url(#clip314)\" style=\"stroke:#000000; stroke-width:2; stroke-opacity:0.1; fill:none\" points=\"\n",
       "  152.27,1166.85 1159.3,1166.85 \n",
       "  \"/>\n",
       "<polyline clip-path=\"url(#clip314)\" style=\"stroke:#000000; stroke-width:2; stroke-opacity:0.1; fill:none\" points=\"\n",
       "  152.27,1055.18 1159.3,1055.18 \n",
       "  \"/>\n",
       "<polyline clip-path=\"url(#clip314)\" style=\"stroke:#000000; stroke-width:2; stroke-opacity:0.1; fill:none\" points=\"\n",
       "  152.27,943.504 1159.3,943.504 \n",
       "  \"/>\n",
       "<polyline clip-path=\"url(#clip310)\" style=\"stroke:#000000; stroke-width:4; stroke-opacity:1; fill:none\" points=\"\n",
       "  152.27,1486.45 1159.3,1486.45 \n",
       "  \"/>\n",
       "<polyline clip-path=\"url(#clip310)\" style=\"stroke:#000000; stroke-width:4; stroke-opacity:1; fill:none\" points=\"\n",
       "  152.27,1486.45 152.27,847.244 \n",
       "  \"/>\n",
       "<polyline clip-path=\"url(#clip310)\" style=\"stroke:#000000; stroke-width:4; stroke-opacity:1; fill:none\" points=\"\n",
       "  180.77,1486.45 180.77,1478.78 \n",
       "  \"/>\n",
       "<polyline clip-path=\"url(#clip310)\" style=\"stroke:#000000; stroke-width:4; stroke-opacity:1; fill:none\" points=\"\n",
       "  339.108,1486.45 339.108,1478.78 \n",
       "  \"/>\n",
       "<polyline clip-path=\"url(#clip310)\" style=\"stroke:#000000; stroke-width:4; stroke-opacity:1; fill:none\" points=\"\n",
       "  497.445,1486.45 497.445,1478.78 \n",
       "  \"/>\n",
       "<polyline clip-path=\"url(#clip310)\" style=\"stroke:#000000; stroke-width:4; stroke-opacity:1; fill:none\" points=\"\n",
       "  655.782,1486.45 655.782,1478.78 \n",
       "  \"/>\n",
       "<polyline clip-path=\"url(#clip310)\" style=\"stroke:#000000; stroke-width:4; stroke-opacity:1; fill:none\" points=\"\n",
       "  814.12,1486.45 814.12,1478.78 \n",
       "  \"/>\n",
       "<polyline clip-path=\"url(#clip310)\" style=\"stroke:#000000; stroke-width:4; stroke-opacity:1; fill:none\" points=\"\n",
       "  972.457,1486.45 972.457,1478.78 \n",
       "  \"/>\n",
       "<polyline clip-path=\"url(#clip310)\" style=\"stroke:#000000; stroke-width:4; stroke-opacity:1; fill:none\" points=\"\n",
       "  1130.79,1486.45 1130.79,1478.78 \n",
       "  \"/>\n",
       "<polyline clip-path=\"url(#clip310)\" style=\"stroke:#000000; stroke-width:4; stroke-opacity:1; fill:none\" points=\"\n",
       "  152.27,1390.19 164.354,1390.19 \n",
       "  \"/>\n",
       "<polyline clip-path=\"url(#clip310)\" style=\"stroke:#000000; stroke-width:4; stroke-opacity:1; fill:none\" points=\"\n",
       "  152.27,1278.52 164.354,1278.52 \n",
       "  \"/>\n",
       "<polyline clip-path=\"url(#clip310)\" style=\"stroke:#000000; stroke-width:4; stroke-opacity:1; fill:none\" points=\"\n",
       "  152.27,1166.85 164.354,1166.85 \n",
       "  \"/>\n",
       "<polyline clip-path=\"url(#clip310)\" style=\"stroke:#000000; stroke-width:4; stroke-opacity:1; fill:none\" points=\"\n",
       "  152.27,1055.18 164.354,1055.18 \n",
       "  \"/>\n",
       "<polyline clip-path=\"url(#clip310)\" style=\"stroke:#000000; stroke-width:4; stroke-opacity:1; fill:none\" points=\"\n",
       "  152.27,943.504 164.354,943.504 \n",
       "  \"/>\n",
       "<path clip-path=\"url(#clip310)\" d=\"M 0 0 M161.349 1525.04 L173.826 1525.04 L173.826 1528.83 L161.349 1528.83 L161.349 1525.04 Z\" fill=\"#000000\" fill-rule=\"evenodd\" fill-opacity=\"1\" /><path clip-path=\"url(#clip310)\" d=\"M 0 0 M193.062 1521.29 Q196.418 1522 198.293 1524.27 Q200.191 1526.54 200.191 1529.87 Q200.191 1534.99 196.673 1537.79 Q193.154 1540.59 186.673 1540.59 Q184.497 1540.59 182.182 1540.15 Q179.891 1539.73 177.437 1538.88 L177.437 1534.36 Q179.381 1535.5 181.696 1536.08 Q184.011 1536.66 186.534 1536.66 Q190.932 1536.66 193.224 1534.92 Q195.539 1533.18 195.539 1529.87 Q195.539 1526.82 193.386 1525.11 Q191.256 1523.37 187.437 1523.37 L183.409 1523.37 L183.409 1519.53 L187.622 1519.53 Q191.071 1519.53 192.9 1518.16 Q194.729 1516.77 194.729 1514.18 Q194.729 1511.52 192.83 1510.11 Q190.955 1508.67 187.437 1508.67 Q185.516 1508.67 183.317 1509.09 Q181.118 1509.5 178.479 1510.38 L178.479 1506.22 Q181.141 1505.48 183.455 1505.11 Q185.793 1504.73 187.854 1504.73 Q193.178 1504.73 196.279 1507.17 Q199.381 1509.57 199.381 1513.69 Q199.381 1516.56 197.738 1518.55 Q196.094 1520.52 193.062 1521.29 Z\" fill=\"#000000\" fill-rule=\"evenodd\" fill-opacity=\"1\" /><path clip-path=\"url(#clip310)\" d=\"M 0 0 M320.161 1525.04 L332.638 1525.04 L332.638 1528.83 L320.161 1528.83 L320.161 1525.04 Z\" fill=\"#000000\" fill-rule=\"evenodd\" fill-opacity=\"1\" /><path clip-path=\"url(#clip310)\" d=\"M 0 0 M341.735 1535.98 L358.054 1535.98 L358.054 1539.92 L336.11 1539.92 L336.11 1535.98 Q338.772 1533.23 343.355 1528.6 Q347.962 1523.95 349.142 1522.61 Q351.388 1520.08 352.267 1518.35 Q353.17 1516.59 353.17 1514.9 Q353.17 1512.14 351.226 1510.41 Q349.304 1508.67 346.203 1508.67 Q344.003 1508.67 341.55 1509.43 Q339.119 1510.2 336.341 1511.75 L336.341 1507.03 Q339.166 1505.89 341.619 1505.31 Q344.073 1504.73 346.11 1504.73 Q351.48 1504.73 354.675 1507.42 Q357.869 1510.11 357.869 1514.6 Q357.869 1516.73 357.059 1518.65 Q356.272 1520.54 354.165 1523.14 Q353.587 1523.81 350.485 1527.03 Q347.383 1530.22 341.735 1535.98 Z\" fill=\"#000000\" fill-rule=\"evenodd\" fill-opacity=\"1\" /><path clip-path=\"url(#clip310)\" d=\"M 0 0 M478.313 1525.04 L490.79 1525.04 L490.79 1528.83 L478.313 1528.83 L478.313 1525.04 Z\" fill=\"#000000\" fill-rule=\"evenodd\" fill-opacity=\"1\" /><path clip-path=\"url(#clip310)\" d=\"M 0 0 M496.67 1535.98 L504.308 1535.98 L504.308 1509.62 L495.998 1511.29 L495.998 1507.03 L504.262 1505.36 L508.938 1505.36 L508.938 1535.98 L516.577 1535.98 L516.577 1539.92 L496.67 1539.92 L496.67 1535.98 Z\" fill=\"#000000\" fill-rule=\"evenodd\" fill-opacity=\"1\" /><path clip-path=\"url(#clip310)\" d=\"M 0 0 M655.782 1508.44 Q652.171 1508.44 650.343 1512 Q648.537 1515.55 648.537 1522.67 Q648.537 1529.78 650.343 1533.35 Q652.171 1536.89 655.782 1536.89 Q659.417 1536.89 661.222 1533.35 Q663.051 1529.78 663.051 1522.67 Q663.051 1515.55 661.222 1512 Q659.417 1508.44 655.782 1508.44 M655.782 1504.73 Q661.593 1504.73 664.648 1509.34 Q667.727 1513.92 667.727 1522.67 Q667.727 1531.4 664.648 1536.01 Q661.593 1540.59 655.782 1540.59 Q649.972 1540.59 646.894 1536.01 Q643.838 1531.4 643.838 1522.67 Q643.838 1513.92 646.894 1509.34 Q649.972 1504.73 655.782 1504.73 Z\" fill=\"#000000\" fill-rule=\"evenodd\" fill-opacity=\"1\" /><path clip-path=\"url(#clip310)\" d=\"M 0 0 M804.502 1535.98 L812.141 1535.98 L812.141 1509.62 L803.83 1511.29 L803.83 1507.03 L812.094 1505.36 L816.77 1505.36 L816.77 1535.98 L824.409 1535.98 L824.409 1539.92 L804.502 1539.92 L804.502 1535.98 Z\" fill=\"#000000\" fill-rule=\"evenodd\" fill-opacity=\"1\" /><path clip-path=\"url(#clip310)\" d=\"M 0 0 M967.11 1535.98 L983.429 1535.98 L983.429 1539.92 L961.485 1539.92 L961.485 1535.98 Q964.147 1533.23 968.73 1528.6 Q973.337 1523.95 974.517 1522.61 Q976.763 1520.08 977.642 1518.35 Q978.545 1516.59 978.545 1514.9 Q978.545 1512.14 976.601 1510.41 Q974.679 1508.67 971.578 1508.67 Q969.378 1508.67 966.925 1509.43 Q964.494 1510.2 961.716 1511.75 L961.716 1507.03 Q964.541 1505.89 966.994 1505.31 Q969.448 1504.73 971.485 1504.73 Q976.855 1504.73 980.05 1507.42 Q983.244 1510.11 983.244 1514.6 Q983.244 1516.73 982.434 1518.65 Q981.647 1520.54 979.54 1523.14 Q978.962 1523.81 975.86 1527.03 Q972.758 1530.22 967.11 1535.98 Z\" fill=\"#000000\" fill-rule=\"evenodd\" fill-opacity=\"1\" /><path clip-path=\"url(#clip310)\" d=\"M 0 0 M1135.04 1521.29 Q1138.4 1522 1140.27 1524.27 Q1142.17 1526.54 1142.17 1529.87 Q1142.17 1534.99 1138.65 1537.79 Q1135.13 1540.59 1128.65 1540.59 Q1126.48 1540.59 1124.16 1540.15 Q1121.87 1539.73 1119.42 1538.88 L1119.42 1534.36 Q1121.36 1535.5 1123.68 1536.08 Q1125.99 1536.66 1128.51 1536.66 Q1132.91 1536.66 1135.2 1534.92 Q1137.52 1533.18 1137.52 1529.87 Q1137.52 1526.82 1135.37 1525.11 Q1133.24 1523.37 1129.42 1523.37 L1125.39 1523.37 L1125.39 1519.53 L1129.6 1519.53 Q1133.05 1519.53 1134.88 1518.16 Q1136.71 1516.77 1136.71 1514.18 Q1136.71 1511.52 1134.81 1510.11 Q1132.94 1508.67 1129.42 1508.67 Q1127.5 1508.67 1125.3 1509.09 Q1123.1 1509.5 1120.46 1510.38 L1120.46 1506.22 Q1123.12 1505.48 1125.44 1505.11 Q1127.77 1504.73 1129.83 1504.73 Q1135.16 1504.73 1138.26 1507.17 Q1141.36 1509.57 1141.36 1513.69 Q1141.36 1516.56 1139.72 1518.55 Q1138.07 1520.52 1135.04 1521.29 Z\" fill=\"#000000\" fill-rule=\"evenodd\" fill-opacity=\"1\" /><path clip-path=\"url(#clip310)\" d=\"M 0 0 M63.3625 1392.58 L75.8393 1392.58 L75.8393 1396.38 L63.3625 1396.38 L63.3625 1392.58 Z\" fill=\"#000000\" fill-rule=\"evenodd\" fill-opacity=\"1\" /><path clip-path=\"url(#clip310)\" d=\"M 0 0 M84.9365 1403.53 L101.256 1403.53 L101.256 1407.47 L79.3115 1407.47 L79.3115 1403.53 Q81.9735 1400.78 86.5568 1396.15 Q91.1633 1391.5 92.3438 1390.15 Q94.5892 1387.63 95.4688 1385.89 Q96.3716 1384.13 96.3716 1382.44 Q96.3716 1379.69 94.4271 1377.95 Q92.5059 1376.22 89.404 1376.22 Q87.205 1376.22 84.7513 1376.98 Q82.3207 1377.75 79.543 1379.3 L79.543 1374.57 Q82.367 1373.44 84.8207 1372.86 Q87.2744 1372.28 89.3114 1372.28 Q94.6818 1372.28 97.8762 1374.97 Q101.071 1377.65 101.071 1382.14 Q101.071 1384.27 100.26 1386.19 Q99.4734 1388.09 97.3669 1390.69 Q96.7882 1391.36 93.6864 1394.57 Q90.5846 1397.77 84.9365 1403.53 Z\" fill=\"#000000\" fill-rule=\"evenodd\" fill-opacity=\"1\" /><path clip-path=\"url(#clip310)\" d=\"M 0 0 M116.325 1375.99 Q112.714 1375.99 110.885 1379.55 Q109.08 1383.09 109.08 1390.22 Q109.08 1397.33 110.885 1400.89 Q112.714 1404.44 116.325 1404.44 Q119.959 1404.44 121.765 1400.89 Q123.594 1397.33 123.594 1390.22 Q123.594 1383.09 121.765 1379.55 Q119.959 1375.99 116.325 1375.99 M116.325 1372.28 Q122.135 1372.28 125.191 1376.89 Q128.27 1381.47 128.27 1390.22 Q128.27 1398.95 125.191 1403.56 Q122.135 1408.14 116.325 1408.14 Q110.515 1408.14 107.436 1403.56 Q104.381 1398.95 104.381 1390.22 Q104.381 1381.47 107.436 1376.89 Q110.515 1372.28 116.325 1372.28 Z\" fill=\"#000000\" fill-rule=\"evenodd\" fill-opacity=\"1\" /><path clip-path=\"url(#clip310)\" d=\"M 0 0 M62.9921 1280.91 L75.4689 1280.91 L75.4689 1284.71 L62.9921 1284.71 L62.9921 1280.91 Z\" fill=\"#000000\" fill-rule=\"evenodd\" fill-opacity=\"1\" /><path clip-path=\"url(#clip310)\" d=\"M 0 0 M81.3485 1291.86 L88.9874 1291.86 L88.9874 1265.5 L80.6772 1267.16 L80.6772 1262.9 L88.9411 1261.24 L93.617 1261.24 L93.617 1291.86 L101.256 1291.86 L101.256 1295.8 L81.3485 1295.8 L81.3485 1291.86 Z\" fill=\"#000000\" fill-rule=\"evenodd\" fill-opacity=\"1\" /><path clip-path=\"url(#clip310)\" d=\"M 0 0 M116.325 1264.32 Q112.714 1264.32 110.885 1267.88 Q109.08 1271.42 109.08 1278.55 Q109.08 1285.66 110.885 1289.22 Q112.714 1292.76 116.325 1292.76 Q119.959 1292.76 121.765 1289.22 Q123.594 1285.66 123.594 1278.55 Q123.594 1271.42 121.765 1267.88 Q119.959 1264.32 116.325 1264.32 M116.325 1260.61 Q122.135 1260.61 125.191 1265.22 Q128.27 1269.8 128.27 1278.55 Q128.27 1287.28 125.191 1291.88 Q122.135 1296.47 116.325 1296.47 Q110.515 1296.47 107.436 1291.88 Q104.381 1287.28 104.381 1278.55 Q104.381 1269.8 107.436 1265.22 Q110.515 1260.61 116.325 1260.61 Z\" fill=\"#000000\" fill-rule=\"evenodd\" fill-opacity=\"1\" /><path clip-path=\"url(#clip310)\" d=\"M 0 0 M116.325 1152.64 Q112.714 1152.64 110.885 1156.21 Q109.08 1159.75 109.08 1166.88 Q109.08 1173.99 110.885 1177.55 Q112.714 1181.09 116.325 1181.09 Q119.959 1181.09 121.765 1177.55 Q123.594 1173.99 123.594 1166.88 Q123.594 1159.75 121.765 1156.21 Q119.959 1152.64 116.325 1152.64 M116.325 1148.94 Q122.135 1148.94 125.191 1153.55 Q128.27 1158.13 128.27 1166.88 Q128.27 1175.61 125.191 1180.21 Q122.135 1184.8 116.325 1184.8 Q110.515 1184.8 107.436 1180.21 Q104.381 1175.61 104.381 1166.88 Q104.381 1158.13 107.436 1153.55 Q110.515 1148.94 116.325 1148.94 Z\" fill=\"#000000\" fill-rule=\"evenodd\" fill-opacity=\"1\" /><path clip-path=\"url(#clip310)\" d=\"M 0 0 M81.3485 1068.52 L88.9874 1068.52 L88.9874 1042.15 L80.6772 1043.82 L80.6772 1039.56 L88.9411 1037.9 L93.617 1037.9 L93.617 1068.52 L101.256 1068.52 L101.256 1072.46 L81.3485 1072.46 L81.3485 1068.52 Z\" fill=\"#000000\" fill-rule=\"evenodd\" fill-opacity=\"1\" /><path clip-path=\"url(#clip310)\" d=\"M 0 0 M116.325 1040.97 Q112.714 1040.97 110.885 1044.54 Q109.08 1048.08 109.08 1055.21 Q109.08 1062.32 110.885 1065.88 Q112.714 1069.42 116.325 1069.42 Q119.959 1069.42 121.765 1065.88 Q123.594 1062.32 123.594 1055.21 Q123.594 1048.08 121.765 1044.54 Q119.959 1040.97 116.325 1040.97 M116.325 1037.27 Q122.135 1037.27 125.191 1041.88 Q128.27 1046.46 128.27 1055.21 Q128.27 1063.94 125.191 1068.54 Q122.135 1073.13 116.325 1073.13 Q110.515 1073.13 107.436 1068.54 Q104.381 1063.94 104.381 1055.21 Q104.381 1046.46 107.436 1041.88 Q110.515 1037.27 116.325 1037.27 Z\" fill=\"#000000\" fill-rule=\"evenodd\" fill-opacity=\"1\" /><path clip-path=\"url(#clip310)\" d=\"M 0 0 M84.9365 956.849 L101.256 956.849 L101.256 960.784 L79.3115 960.784 L79.3115 956.849 Q81.9735 954.095 86.5568 949.465 Q91.1633 944.812 92.3438 943.47 Q94.5892 940.946 95.4688 939.21 Q96.3716 937.451 96.3716 935.761 Q96.3716 933.007 94.4271 931.271 Q92.5059 929.535 89.404 929.535 Q87.205 929.535 84.7513 930.298 Q82.3207 931.062 79.543 932.613 L79.543 927.891 Q82.367 926.757 84.8207 926.178 Q87.2744 925.599 89.3114 925.599 Q94.6818 925.599 97.8762 928.285 Q101.071 930.97 101.071 935.46 Q101.071 937.59 100.26 939.511 Q99.4734 941.409 97.3669 944.002 Q96.7882 944.673 93.6864 947.891 Q90.5846 951.085 84.9365 956.849 Z\" fill=\"#000000\" fill-rule=\"evenodd\" fill-opacity=\"1\" /><path clip-path=\"url(#clip310)\" d=\"M 0 0 M116.325 929.303 Q112.714 929.303 110.885 932.868 Q109.08 936.409 109.08 943.539 Q109.08 950.646 110.885 954.21 Q112.714 957.752 116.325 957.752 Q119.959 957.752 121.765 954.21 Q123.594 950.646 123.594 943.539 Q123.594 936.409 121.765 932.868 Q119.959 929.303 116.325 929.303 M116.325 925.599 Q122.135 925.599 125.191 930.206 Q128.27 934.789 128.27 943.539 Q128.27 952.266 125.191 956.872 Q122.135 961.456 116.325 961.456 Q110.515 961.456 107.436 956.872 Q104.381 952.266 104.381 943.539 Q104.381 934.789 107.436 930.206 Q110.515 925.599 116.325 925.599 Z\" fill=\"#000000\" fill-rule=\"evenodd\" fill-opacity=\"1\" /><polyline clip-path=\"url(#clip314)\" style=\"stroke:#009af9; stroke-width:4; stroke-opacity:1; fill:none\" points=\"\n",
       "  180.77,1468.36 196.604,1439.2 212.438,1411.99 228.271,1386.65 244.105,1363.12 259.939,1341.33 275.773,1321.22 291.606,1302.72 307.44,1285.75 323.274,1270.26 \n",
       "  339.108,1256.18 354.941,1243.44 370.775,1231.97 386.609,1221.71 402.443,1212.59 418.276,1204.53 434.11,1197.49 449.944,1191.38 465.778,1186.14 481.611,1181.71 \n",
       "  497.445,1178.01 513.279,1174.99 529.112,1172.56 544.946,1170.68 560.78,1169.26 576.614,1168.24 592.447,1167.56 608.281,1167.15 624.115,1166.94 639.949,1166.86 \n",
       "  655.782,1166.85 671.616,1166.83 687.45,1166.76 703.284,1166.54 719.117,1166.13 734.951,1165.45 750.785,1164.43 766.619,1163.02 782.452,1161.13 798.286,1158.71 \n",
       "  814.12,1155.68 829.953,1151.98 845.787,1147.55 861.621,1142.31 877.455,1136.2 893.288,1129.16 909.122,1121.11 924.956,1111.98 940.79,1101.72 956.623,1090.25 \n",
       "  972.457,1077.51 988.291,1063.43 1004.12,1047.94 1019.96,1030.98 1035.79,1012.47 1051.63,992.36 1067.46,970.573 1083.29,947.044 1099.13,921.706 1114.96,894.492 \n",
       "  1130.79,865.335 \n",
       "  \"/>\n",
       "<path clip-path=\"url(#clip310)\" d=\"\n",
       "M1345.73 1486.45 L2352.76 1486.45 L2352.76 847.244 L1345.73 847.244  Z\n",
       "  \" fill=\"#ffffff\" fill-rule=\"evenodd\" fill-opacity=\"1\"/>\n",
       "<defs>\n",
       "  <clipPath id=\"clip315\">\n",
       "    <rect x=\"1345\" y=\"847\" width=\"1008\" height=\"640\"/>\n",
       "  </clipPath>\n",
       "</defs>\n",
       "<polyline clip-path=\"url(#clip315)\" style=\"stroke:#000000; stroke-width:2; stroke-opacity:0.1; fill:none\" points=\"\n",
       "  1374.23,1486.45 1374.23,847.244 \n",
       "  \"/>\n",
       "<polyline clip-path=\"url(#clip315)\" style=\"stroke:#000000; stroke-width:2; stroke-opacity:0.1; fill:none\" points=\"\n",
       "  1532.57,1486.45 1532.57,847.244 \n",
       "  \"/>\n",
       "<polyline clip-path=\"url(#clip315)\" style=\"stroke:#000000; stroke-width:2; stroke-opacity:0.1; fill:none\" points=\"\n",
       "  1690.91,1486.45 1690.91,847.244 \n",
       "  \"/>\n",
       "<polyline clip-path=\"url(#clip315)\" style=\"stroke:#000000; stroke-width:2; stroke-opacity:0.1; fill:none\" points=\"\n",
       "  1849.24,1486.45 1849.24,847.244 \n",
       "  \"/>\n",
       "<polyline clip-path=\"url(#clip315)\" style=\"stroke:#000000; stroke-width:2; stroke-opacity:0.1; fill:none\" points=\"\n",
       "  2007.58,1486.45 2007.58,847.244 \n",
       "  \"/>\n",
       "<polyline clip-path=\"url(#clip315)\" style=\"stroke:#000000; stroke-width:2; stroke-opacity:0.1; fill:none\" points=\"\n",
       "  2165.92,1486.45 2165.92,847.244 \n",
       "  \"/>\n",
       "<polyline clip-path=\"url(#clip315)\" style=\"stroke:#000000; stroke-width:2; stroke-opacity:0.1; fill:none\" points=\"\n",
       "  2324.26,1486.45 2324.26,847.244 \n",
       "  \"/>\n",
       "<polyline clip-path=\"url(#clip315)\" style=\"stroke:#000000; stroke-width:2; stroke-opacity:0.1; fill:none\" points=\"\n",
       "  1345.73,1468.36 2352.76,1468.36 \n",
       "  \"/>\n",
       "<polyline clip-path=\"url(#clip315)\" style=\"stroke:#000000; stroke-width:2; stroke-opacity:0.1; fill:none\" points=\"\n",
       "  1345.73,1319.46 2352.76,1319.46 \n",
       "  \"/>\n",
       "<polyline clip-path=\"url(#clip315)\" style=\"stroke:#000000; stroke-width:2; stroke-opacity:0.1; fill:none\" points=\"\n",
       "  1345.73,1170.57 2352.76,1170.57 \n",
       "  \"/>\n",
       "<polyline clip-path=\"url(#clip315)\" style=\"stroke:#000000; stroke-width:2; stroke-opacity:0.1; fill:none\" points=\"\n",
       "  1345.73,1021.67 2352.76,1021.67 \n",
       "  \"/>\n",
       "<polyline clip-path=\"url(#clip315)\" style=\"stroke:#000000; stroke-width:2; stroke-opacity:0.1; fill:none\" points=\"\n",
       "  1345.73,872.779 2352.76,872.779 \n",
       "  \"/>\n",
       "<polyline clip-path=\"url(#clip310)\" style=\"stroke:#000000; stroke-width:4; stroke-opacity:1; fill:none\" points=\"\n",
       "  1345.73,1486.45 2352.76,1486.45 \n",
       "  \"/>\n",
       "<polyline clip-path=\"url(#clip310)\" style=\"stroke:#000000; stroke-width:4; stroke-opacity:1; fill:none\" points=\"\n",
       "  1345.73,1486.45 1345.73,847.244 \n",
       "  \"/>\n",
       "<polyline clip-path=\"url(#clip310)\" style=\"stroke:#000000; stroke-width:4; stroke-opacity:1; fill:none\" points=\"\n",
       "  1374.23,1486.45 1374.23,1478.78 \n",
       "  \"/>\n",
       "<polyline clip-path=\"url(#clip310)\" style=\"stroke:#000000; stroke-width:4; stroke-opacity:1; fill:none\" points=\"\n",
       "  1532.57,1486.45 1532.57,1478.78 \n",
       "  \"/>\n",
       "<polyline clip-path=\"url(#clip310)\" style=\"stroke:#000000; stroke-width:4; stroke-opacity:1; fill:none\" points=\"\n",
       "  1690.91,1486.45 1690.91,1478.78 \n",
       "  \"/>\n",
       "<polyline clip-path=\"url(#clip310)\" style=\"stroke:#000000; stroke-width:4; stroke-opacity:1; fill:none\" points=\"\n",
       "  1849.24,1486.45 1849.24,1478.78 \n",
       "  \"/>\n",
       "<polyline clip-path=\"url(#clip310)\" style=\"stroke:#000000; stroke-width:4; stroke-opacity:1; fill:none\" points=\"\n",
       "  2007.58,1486.45 2007.58,1478.78 \n",
       "  \"/>\n",
       "<polyline clip-path=\"url(#clip310)\" style=\"stroke:#000000; stroke-width:4; stroke-opacity:1; fill:none\" points=\"\n",
       "  2165.92,1486.45 2165.92,1478.78 \n",
       "  \"/>\n",
       "<polyline clip-path=\"url(#clip310)\" style=\"stroke:#000000; stroke-width:4; stroke-opacity:1; fill:none\" points=\"\n",
       "  2324.26,1486.45 2324.26,1478.78 \n",
       "  \"/>\n",
       "<polyline clip-path=\"url(#clip310)\" style=\"stroke:#000000; stroke-width:4; stroke-opacity:1; fill:none\" points=\"\n",
       "  1345.73,1468.36 1357.81,1468.36 \n",
       "  \"/>\n",
       "<polyline clip-path=\"url(#clip310)\" style=\"stroke:#000000; stroke-width:4; stroke-opacity:1; fill:none\" points=\"\n",
       "  1345.73,1319.46 1357.81,1319.46 \n",
       "  \"/>\n",
       "<polyline clip-path=\"url(#clip310)\" style=\"stroke:#000000; stroke-width:4; stroke-opacity:1; fill:none\" points=\"\n",
       "  1345.73,1170.57 1357.81,1170.57 \n",
       "  \"/>\n",
       "<polyline clip-path=\"url(#clip310)\" style=\"stroke:#000000; stroke-width:4; stroke-opacity:1; fill:none\" points=\"\n",
       "  1345.73,1021.67 1357.81,1021.67 \n",
       "  \"/>\n",
       "<polyline clip-path=\"url(#clip310)\" style=\"stroke:#000000; stroke-width:4; stroke-opacity:1; fill:none\" points=\"\n",
       "  1345.73,872.779 1357.81,872.779 \n",
       "  \"/>\n",
       "<path clip-path=\"url(#clip310)\" d=\"M 0 0 M1354.81 1525.04 L1367.29 1525.04 L1367.29 1528.83 L1354.81 1528.83 L1354.81 1525.04 Z\" fill=\"#000000\" fill-rule=\"evenodd\" fill-opacity=\"1\" /><path clip-path=\"url(#clip310)\" d=\"M 0 0 M1386.52 1521.29 Q1389.88 1522 1391.75 1524.27 Q1393.65 1526.54 1393.65 1529.87 Q1393.65 1534.99 1390.13 1537.79 Q1386.62 1540.59 1380.13 1540.59 Q1377.96 1540.59 1375.64 1540.15 Q1373.35 1539.73 1370.9 1538.88 L1370.9 1534.36 Q1372.84 1535.5 1375.16 1536.08 Q1377.47 1536.66 1379.99 1536.66 Q1384.39 1536.66 1386.68 1534.92 Q1389 1533.18 1389 1529.87 Q1389 1526.82 1386.85 1525.11 Q1384.72 1523.37 1380.9 1523.37 L1376.87 1523.37 L1376.87 1519.53 L1381.08 1519.53 Q1384.53 1519.53 1386.36 1518.16 Q1388.19 1516.77 1388.19 1514.18 Q1388.19 1511.52 1386.29 1510.11 Q1384.42 1508.67 1380.9 1508.67 Q1378.98 1508.67 1376.78 1509.09 Q1374.58 1509.5 1371.94 1510.38 L1371.94 1506.22 Q1374.6 1505.48 1376.92 1505.11 Q1379.25 1504.73 1381.31 1504.73 Q1386.64 1504.73 1389.74 1507.17 Q1392.84 1509.57 1392.84 1513.69 Q1392.84 1516.56 1391.2 1518.55 Q1389.55 1520.52 1386.52 1521.29 Z\" fill=\"#000000\" fill-rule=\"evenodd\" fill-opacity=\"1\" /><path clip-path=\"url(#clip310)\" d=\"M 0 0 M1513.62 1525.04 L1526.1 1525.04 L1526.1 1528.83 L1513.62 1528.83 L1513.62 1525.04 Z\" fill=\"#000000\" fill-rule=\"evenodd\" fill-opacity=\"1\" /><path clip-path=\"url(#clip310)\" d=\"M 0 0 M1535.2 1535.98 L1551.51 1535.98 L1551.51 1539.92 L1529.57 1539.92 L1529.57 1535.98 Q1532.23 1533.23 1536.82 1528.6 Q1541.42 1523.95 1542.6 1522.61 Q1544.85 1520.08 1545.73 1518.35 Q1546.63 1516.59 1546.63 1514.9 Q1546.63 1512.14 1544.69 1510.41 Q1542.77 1508.67 1539.66 1508.67 Q1537.46 1508.67 1535.01 1509.43 Q1532.58 1510.2 1529.8 1511.75 L1529.8 1507.03 Q1532.63 1505.89 1535.08 1505.31 Q1537.53 1504.73 1539.57 1504.73 Q1544.94 1504.73 1548.14 1507.42 Q1551.33 1510.11 1551.33 1514.6 Q1551.33 1516.73 1550.52 1518.65 Q1549.73 1520.54 1547.63 1523.14 Q1547.05 1523.81 1543.95 1527.03 Q1540.84 1530.22 1535.2 1535.98 Z\" fill=\"#000000\" fill-rule=\"evenodd\" fill-opacity=\"1\" /><path clip-path=\"url(#clip310)\" d=\"M 0 0 M1671.77 1525.04 L1684.25 1525.04 L1684.25 1528.83 L1671.77 1528.83 L1671.77 1525.04 Z\" fill=\"#000000\" fill-rule=\"evenodd\" fill-opacity=\"1\" /><path clip-path=\"url(#clip310)\" d=\"M 0 0 M1690.13 1535.98 L1697.77 1535.98 L1697.77 1509.62 L1689.46 1511.29 L1689.46 1507.03 L1697.72 1505.36 L1702.4 1505.36 L1702.4 1535.98 L1710.04 1535.98 L1710.04 1539.92 L1690.13 1539.92 L1690.13 1535.98 Z\" fill=\"#000000\" fill-rule=\"evenodd\" fill-opacity=\"1\" /><path clip-path=\"url(#clip310)\" d=\"M 0 0 M1849.24 1508.44 Q1845.63 1508.44 1843.8 1512 Q1842 1515.55 1842 1522.67 Q1842 1529.78 1843.8 1533.35 Q1845.63 1536.89 1849.24 1536.89 Q1852.88 1536.89 1854.68 1533.35 Q1856.51 1529.78 1856.51 1522.67 Q1856.51 1515.55 1854.68 1512 Q1852.88 1508.44 1849.24 1508.44 M1849.24 1504.73 Q1855.05 1504.73 1858.11 1509.34 Q1861.19 1513.92 1861.19 1522.67 Q1861.19 1531.4 1858.11 1536.01 Q1855.05 1540.59 1849.24 1540.59 Q1843.43 1540.59 1840.35 1536.01 Q1837.3 1531.4 1837.3 1522.67 Q1837.3 1513.92 1840.35 1509.34 Q1843.43 1504.73 1849.24 1504.73 Z\" fill=\"#000000\" fill-rule=\"evenodd\" fill-opacity=\"1\" /><path clip-path=\"url(#clip310)\" d=\"M 0 0 M1997.96 1535.98 L2005.6 1535.98 L2005.6 1509.62 L1997.29 1511.29 L1997.29 1507.03 L2005.55 1505.36 L2010.23 1505.36 L2010.23 1535.98 L2017.87 1535.98 L2017.87 1539.92 L1997.96 1539.92 L1997.96 1535.98 Z\" fill=\"#000000\" fill-rule=\"evenodd\" fill-opacity=\"1\" /><path clip-path=\"url(#clip310)\" d=\"M 0 0 M2160.57 1535.98 L2176.89 1535.98 L2176.89 1539.92 L2154.95 1539.92 L2154.95 1535.98 Q2157.61 1533.23 2162.19 1528.6 Q2166.8 1523.95 2167.98 1522.61 Q2170.22 1520.08 2171.1 1518.35 Q2172.01 1516.59 2172.01 1514.9 Q2172.01 1512.14 2170.06 1510.41 Q2168.14 1508.67 2165.04 1508.67 Q2162.84 1508.67 2160.39 1509.43 Q2157.95 1510.2 2155.18 1511.75 L2155.18 1507.03 Q2158 1505.89 2160.45 1505.31 Q2162.91 1504.73 2164.95 1504.73 Q2170.32 1504.73 2173.51 1507.42 Q2176.7 1510.11 2176.7 1514.6 Q2176.7 1516.73 2175.89 1518.65 Q2175.11 1520.54 2173 1523.14 Q2172.42 1523.81 2169.32 1527.03 Q2166.22 1530.22 2160.57 1535.98 Z\" fill=\"#000000\" fill-rule=\"evenodd\" fill-opacity=\"1\" /><path clip-path=\"url(#clip310)\" d=\"M 0 0 M2328.5 1521.29 Q2331.86 1522 2333.73 1524.27 Q2335.63 1526.54 2335.63 1529.87 Q2335.63 1534.99 2332.11 1537.79 Q2328.6 1540.59 2322.11 1540.59 Q2319.94 1540.59 2317.62 1540.15 Q2315.33 1539.73 2312.88 1538.88 L2312.88 1534.36 Q2314.82 1535.5 2317.14 1536.08 Q2319.45 1536.66 2321.98 1536.66 Q2326.37 1536.66 2328.66 1534.92 Q2330.98 1533.18 2330.98 1529.87 Q2330.98 1526.82 2328.83 1525.11 Q2326.7 1523.37 2322.88 1523.37 L2318.85 1523.37 L2318.85 1519.53 L2323.06 1519.53 Q2326.51 1519.53 2328.34 1518.16 Q2330.17 1516.77 2330.17 1514.18 Q2330.17 1511.52 2328.27 1510.11 Q2326.4 1508.67 2322.88 1508.67 Q2320.96 1508.67 2318.76 1509.09 Q2316.56 1509.5 2313.92 1510.38 L2313.92 1506.22 Q2316.58 1505.48 2318.9 1505.11 Q2321.23 1504.73 2323.29 1504.73 Q2328.62 1504.73 2331.72 1507.17 Q2334.82 1509.57 2334.82 1513.69 Q2334.82 1516.56 2333.18 1518.55 Q2331.54 1520.52 2328.5 1521.29 Z\" fill=\"#000000\" fill-rule=\"evenodd\" fill-opacity=\"1\" /><path clip-path=\"url(#clip310)\" d=\"M 0 0 M1309.79 1454.16 Q1306.17 1454.16 1304.35 1457.72 Q1302.54 1461.26 1302.54 1468.39 Q1302.54 1475.5 1304.35 1479.06 Q1306.17 1482.6 1309.79 1482.6 Q1313.42 1482.6 1315.23 1479.06 Q1317.05 1475.5 1317.05 1468.39 Q1317.05 1461.26 1315.23 1457.72 Q1313.42 1454.16 1309.79 1454.16 M1309.79 1450.45 Q1315.6 1450.45 1318.65 1455.06 Q1321.73 1459.64 1321.73 1468.39 Q1321.73 1477.12 1318.65 1481.73 Q1315.6 1486.31 1309.79 1486.31 Q1303.98 1486.31 1300.9 1481.73 Q1297.84 1477.12 1297.84 1468.39 Q1297.84 1459.64 1300.9 1455.06 Q1303.98 1450.45 1309.79 1450.45 Z\" fill=\"#000000\" fill-rule=\"evenodd\" fill-opacity=\"1\" /><path clip-path=\"url(#clip310)\" d=\"M 0 0 M1278.4 1332.81 L1294.72 1332.81 L1294.72 1336.74 L1272.77 1336.74 L1272.77 1332.81 Q1275.43 1330.05 1280.02 1325.42 Q1284.62 1320.77 1285.8 1319.43 Q1288.05 1316.9 1288.93 1315.17 Q1289.83 1313.41 1289.83 1311.72 Q1289.83 1308.97 1287.89 1307.23 Q1285.97 1305.49 1282.86 1305.49 Q1280.67 1305.49 1278.21 1306.26 Q1275.78 1307.02 1273 1308.57 L1273 1303.85 Q1275.83 1302.72 1278.28 1302.14 Q1280.74 1301.56 1282.77 1301.56 Q1288.14 1301.56 1291.34 1304.24 Q1294.53 1306.93 1294.53 1311.42 Q1294.53 1313.55 1293.72 1315.47 Q1292.93 1317.37 1290.83 1319.96 Q1290.25 1320.63 1287.15 1323.85 Q1284.05 1327.04 1278.4 1332.81 Z\" fill=\"#000000\" fill-rule=\"evenodd\" fill-opacity=\"1\" /><path clip-path=\"url(#clip310)\" d=\"M 0 0 M1309.79 1305.26 Q1306.17 1305.26 1304.35 1308.83 Q1302.54 1312.37 1302.54 1319.5 Q1302.54 1326.6 1304.35 1330.17 Q1306.17 1333.71 1309.79 1333.71 Q1313.42 1333.71 1315.23 1330.17 Q1317.05 1326.6 1317.05 1319.5 Q1317.05 1312.37 1315.23 1308.83 Q1313.42 1305.26 1309.79 1305.26 M1309.79 1301.56 Q1315.6 1301.56 1318.65 1306.16 Q1321.73 1310.75 1321.73 1319.5 Q1321.73 1328.22 1318.65 1332.83 Q1315.6 1337.41 1309.79 1337.41 Q1303.98 1337.41 1300.9 1332.83 Q1297.84 1328.22 1297.84 1319.5 Q1297.84 1310.75 1300.9 1306.16 Q1303.98 1301.56 1309.79 1301.56 Z\" fill=\"#000000\" fill-rule=\"evenodd\" fill-opacity=\"1\" /><path clip-path=\"url(#clip310)\" d=\"M 0 0 M1285.13 1157.36 L1273.33 1175.81 L1285.13 1175.81 L1285.13 1157.36 M1283.91 1153.29 L1289.79 1153.29 L1289.79 1175.81 L1294.72 1175.81 L1294.72 1179.7 L1289.79 1179.7 L1289.79 1187.85 L1285.13 1187.85 L1285.13 1179.7 L1269.53 1179.7 L1269.53 1175.19 L1283.91 1153.29 Z\" fill=\"#000000\" fill-rule=\"evenodd\" fill-opacity=\"1\" /><path clip-path=\"url(#clip310)\" d=\"M 0 0 M1309.79 1156.37 Q1306.17 1156.37 1304.35 1159.93 Q1302.54 1163.47 1302.54 1170.6 Q1302.54 1177.71 1304.35 1181.27 Q1306.17 1184.82 1309.79 1184.82 Q1313.42 1184.82 1315.23 1181.27 Q1317.05 1177.71 1317.05 1170.6 Q1317.05 1163.47 1315.23 1159.93 Q1313.42 1156.37 1309.79 1156.37 M1309.79 1152.66 Q1315.6 1152.66 1318.65 1157.27 Q1321.73 1161.85 1321.73 1170.6 Q1321.73 1179.33 1318.65 1183.94 Q1315.6 1188.52 1309.79 1188.52 Q1303.98 1188.52 1300.9 1183.94 Q1297.84 1179.33 1297.84 1170.6 Q1297.84 1161.85 1300.9 1157.27 Q1303.98 1152.66 1309.79 1152.66 Z\" fill=\"#000000\" fill-rule=\"evenodd\" fill-opacity=\"1\" /><path clip-path=\"url(#clip310)\" d=\"M 0 0 M1283.19 1019.81 Q1280.04 1019.81 1278.19 1021.96 Q1276.36 1024.12 1276.36 1027.87 Q1276.36 1031.59 1278.19 1033.77 Q1280.04 1035.92 1283.19 1035.92 Q1286.34 1035.92 1288.17 1033.77 Q1290.02 1031.59 1290.02 1027.87 Q1290.02 1024.12 1288.17 1021.96 Q1286.34 1019.81 1283.19 1019.81 M1292.47 1005.16 L1292.47 1009.42 Q1290.71 1008.58 1288.91 1008.14 Q1287.12 1007.7 1285.36 1007.7 Q1280.74 1007.7 1278.28 1010.83 Q1275.85 1013.95 1275.5 1020.27 Q1276.87 1018.26 1278.93 1017.19 Q1280.99 1016.11 1283.47 1016.11 Q1288.67 1016.11 1291.68 1019.28 Q1294.72 1022.43 1294.72 1027.87 Q1294.72 1033.19 1291.57 1036.41 Q1288.42 1039.63 1283.19 1039.63 Q1277.19 1039.63 1274.02 1035.04 Q1270.85 1030.44 1270.85 1021.71 Q1270.85 1013.51 1274.74 1008.65 Q1278.63 1003.77 1285.18 1003.77 Q1286.94 1003.77 1288.72 1004.12 Q1290.53 1004.46 1292.47 1005.16 Z\" fill=\"#000000\" fill-rule=\"evenodd\" fill-opacity=\"1\" /><path clip-path=\"url(#clip310)\" d=\"M 0 0 M1309.79 1007.47 Q1306.17 1007.47 1304.35 1011.04 Q1302.54 1014.58 1302.54 1021.71 Q1302.54 1028.82 1304.35 1032.38 Q1306.17 1035.92 1309.79 1035.92 Q1313.42 1035.92 1315.23 1032.38 Q1317.05 1028.82 1317.05 1021.71 Q1317.05 1014.58 1315.23 1011.04 Q1313.42 1007.47 1309.79 1007.47 M1309.79 1003.77 Q1315.6 1003.77 1318.65 1008.38 Q1321.73 1012.96 1321.73 1021.71 Q1321.73 1030.44 1318.65 1035.04 Q1315.6 1039.63 1309.79 1039.63 Q1303.98 1039.63 1300.9 1035.04 Q1297.84 1030.44 1297.84 1021.71 Q1297.84 1012.96 1300.9 1008.38 Q1303.98 1003.77 1309.79 1003.77 Z\" fill=\"#000000\" fill-rule=\"evenodd\" fill-opacity=\"1\" /><path clip-path=\"url(#clip310)\" d=\"M 0 0 M1282.86 873.648 Q1279.53 873.648 1277.61 875.43 Q1275.71 877.212 1275.71 880.337 Q1275.71 883.462 1277.61 885.245 Q1279.53 887.027 1282.86 887.027 Q1286.2 887.027 1288.12 885.245 Q1290.04 883.439 1290.04 880.337 Q1290.04 877.212 1288.12 875.43 Q1286.22 873.648 1282.86 873.648 M1278.19 871.657 Q1275.18 870.916 1273.49 868.856 Q1271.82 866.796 1271.82 863.833 Q1271.82 859.689 1274.76 857.282 Q1277.73 854.874 1282.86 854.874 Q1288.03 854.874 1290.97 857.282 Q1293.91 859.689 1293.91 863.833 Q1293.91 866.796 1292.22 868.856 Q1290.55 870.916 1287.56 871.657 Q1290.94 872.444 1292.82 874.735 Q1294.72 877.027 1294.72 880.337 Q1294.72 885.36 1291.64 888.046 Q1288.58 890.731 1282.86 890.731 Q1277.15 890.731 1274.07 888.046 Q1271.01 885.36 1271.01 880.337 Q1271.01 877.027 1272.91 874.735 Q1274.81 872.444 1278.19 871.657 M1276.48 864.273 Q1276.48 866.958 1278.14 868.462 Q1279.83 869.967 1282.86 869.967 Q1285.87 869.967 1287.56 868.462 Q1289.28 866.958 1289.28 864.273 Q1289.28 861.587 1287.56 860.083 Q1285.87 858.578 1282.86 858.578 Q1279.83 858.578 1278.14 860.083 Q1276.48 861.587 1276.48 864.273 Z\" fill=\"#000000\" fill-rule=\"evenodd\" fill-opacity=\"1\" /><path clip-path=\"url(#clip310)\" d=\"M 0 0 M1309.79 858.578 Q1306.17 858.578 1304.35 862.143 Q1302.54 865.685 1302.54 872.814 Q1302.54 879.921 1304.35 883.485 Q1306.17 887.027 1309.79 887.027 Q1313.42 887.027 1315.23 883.485 Q1317.05 879.921 1317.05 872.814 Q1317.05 865.685 1315.23 862.143 Q1313.42 858.578 1309.79 858.578 M1309.79 854.874 Q1315.6 854.874 1318.65 859.481 Q1321.73 864.064 1321.73 872.814 Q1321.73 881.541 1318.65 886.147 Q1315.6 890.731 1309.79 890.731 Q1303.98 890.731 1300.9 886.147 Q1297.84 881.541 1297.84 872.814 Q1297.84 864.064 1300.9 859.481 Q1303.98 854.874 1309.79 854.874 Z\" fill=\"#000000\" fill-rule=\"evenodd\" fill-opacity=\"1\" /><polyline clip-path=\"url(#clip315)\" style=\"stroke:#009af9; stroke-width:4; stroke-opacity:1; fill:none\" points=\"\n",
       "  1374.23,865.335 1390.06,941.806 1405.9,1010.76 1421.73,1072.71 1437.57,1128.15 1453.4,1177.55 1469.23,1221.36 1485.07,1260.02 1500.9,1293.96 1516.73,1323.57 \n",
       "  1532.57,1349.24 1548.4,1371.34 1564.24,1390.21 1580.07,1406.18 1595.9,1419.57 1611.74,1430.67 1627.57,1439.76 1643.4,1447.09 1659.24,1452.92 1675.07,1457.46 \n",
       "  1690.91,1460.91 1706.74,1463.47 1722.57,1465.31 1738.41,1466.57 1754.24,1467.39 1770.07,1467.89 1785.91,1468.17 1801.74,1468.3 1817.58,1468.35 1833.41,1468.36 \n",
       "  1849.24,1468.36 1865.08,1468.36 1880.91,1468.35 1896.74,1468.3 1912.58,1468.17 1928.41,1467.89 1944.25,1467.39 1960.08,1466.57 1975.91,1465.31 1991.75,1463.47 \n",
       "  2007.58,1460.91 2023.41,1457.46 2039.25,1452.92 2055.08,1447.09 2070.92,1439.76 2086.75,1430.67 2102.58,1419.57 2118.42,1406.18 2134.25,1390.21 2150.08,1371.34 \n",
       "  2165.92,1349.24 2181.75,1323.57 2197.59,1293.96 2213.42,1260.02 2229.25,1221.36 2245.09,1177.55 2260.92,1128.15 2276.75,1072.71 2292.59,1010.76 2308.42,941.806 \n",
       "  2324.26,865.335 \n",
       "  \"/>\n",
       "</svg>\n"
      ]
     },
     "execution_count": 96,
     "metadata": {},
     "output_type": "execute_result"
    }
   ],
   "source": [
    "# create subplots\n",
    "gr()\n",
    "p1 = plot(x,x)\n",
    "p2 = plot(x, x.^2)\n",
    "p3 = plot(x,x.^3)\n",
    "p4 = plot(x,x.^4)\n",
    "\n",
    "plot(p1,p2,p3,p4,layout=(2,2),legend=false)"
   ]
  },
  {
   "cell_type": "code",
   "execution_count": null,
   "metadata": {},
   "outputs": [],
   "source": []
  }
 ],
 "metadata": {
  "kernelspec": {
   "display_name": "Julia 1.0.5",
   "language": "julia",
   "name": "julia-1.0"
  },
  "language_info": {
   "file_extension": ".jl",
   "mimetype": "application/julia",
   "name": "julia",
   "version": "1.0.5"
  }
 },
 "nbformat": 4,
 "nbformat_minor": 4
}
