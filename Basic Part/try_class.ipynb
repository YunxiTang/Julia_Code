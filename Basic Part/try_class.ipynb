{
 "cells": [
  {
   "cell_type": "code",
   "execution_count": 1,
   "id": "pointed-nerve",
   "metadata": {},
   "outputs": [],
   "source": [
    "mutable struct Person\n",
    "    name::String\n",
    "    age::Int32\n",
    "end"
   ]
  },
  {
   "cell_type": "code",
   "execution_count": 2,
   "id": "indian-silver",
   "metadata": {},
   "outputs": [
    {
     "data": {
      "text/plain": [
       "name (generic function with 1 method)"
      ]
     },
     "execution_count": 2,
     "metadata": {},
     "output_type": "execute_result"
    }
   ],
   "source": [
    "# Define methods on type \"Person\"\n",
    "function name(p::Person)\n",
    "    return p.name\n",
    "end"
   ]
  },
  {
   "cell_type": "code",
   "execution_count": 3,
   "id": "bacterial-acrobat",
   "metadata": {},
   "outputs": [
    {
     "data": {
      "text/plain": [
       "Person(\"Joy\", 18)"
      ]
     },
     "execution_count": 3,
     "metadata": {},
     "output_type": "execute_result"
    }
   ],
   "source": [
    "Joy = Person(\"Joy\", 18)"
   ]
  },
  {
   "cell_type": "code",
   "execution_count": 4,
   "id": "metric-steps",
   "metadata": {},
   "outputs": [
    {
     "data": {
      "text/plain": [
       "\"Joy\""
      ]
     },
     "execution_count": 4,
     "metadata": {},
     "output_type": "execute_result"
    }
   ],
   "source": [
    "name(Joy)"
   ]
  },
  {
   "cell_type": "code",
   "execution_count": 5,
   "id": "alive-penetration",
   "metadata": {},
   "outputs": [],
   "source": [
    "abstract type\n",
    "    Pet\n",
    "end\n",
    "\n",
    "mutable struct Cat <: Pet\n",
    "    name::String\n",
    "    age::Int64\n",
    "end"
   ]
  },
  {
   "cell_type": "code",
   "execution_count": 6,
   "id": "fixed-collective",
   "metadata": {},
   "outputs": [
    {
     "data": {
      "text/plain": [
       "name (generic function with 2 methods)"
      ]
     },
     "execution_count": 6,
     "metadata": {},
     "output_type": "execute_result"
    }
   ],
   "source": [
    "function name(pet::Cat)\n",
    "    return pet.name\n",
    "end"
   ]
  },
  {
   "cell_type": "code",
   "execution_count": 7,
   "id": "breeding-australia",
   "metadata": {},
   "outputs": [
    {
     "data": {
      "text/plain": [
       "\"Kitty\""
      ]
     },
     "execution_count": 7,
     "metadata": {},
     "output_type": "execute_result"
    }
   ],
   "source": [
    "small_cat = Cat(\"Kitty\", 1)\n",
    "name(small_cat)"
   ]
  },
  {
   "cell_type": "code",
   "execution_count": null,
   "id": "cutting-questionnaire",
   "metadata": {},
   "outputs": [],
   "source": []
  }
 ],
 "metadata": {
  "kernelspec": {
   "display_name": "Julia 1.5.3",
   "language": "julia",
   "name": "julia-1.5"
  },
  "language_info": {
   "file_extension": ".jl",
   "mimetype": "application/julia",
   "name": "julia",
   "version": "1.5.3"
  }
 },
 "nbformat": 4,
 "nbformat_minor": 5
}
