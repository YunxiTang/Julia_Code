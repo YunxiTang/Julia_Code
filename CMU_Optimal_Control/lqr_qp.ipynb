{
 "cells": [
  {
   "cell_type": "code",
   "execution_count": 1,
   "id": "billion-district",
   "metadata": {},
   "outputs": [],
   "source": [
    "using Pkg\n"
   ]
  },
  {
   "cell_type": "code",
   "execution_count": 2,
   "id": "blocked-cedar",
   "metadata": {},
   "outputs": [
    {
     "name": "stderr",
     "output_type": "stream",
     "text": [
      "\u001b[32m\u001b[1m Activating\u001b[22m\u001b[39m environment at `D:\\TANG Yunxi\\CodingPrac\\JULIA\\CMU_Optimal_Control\\Project.toml`\n"
     ]
    }
   ],
   "source": [
    "Pkg.activate()"
   ]
  },
  {
   "cell_type": "code",
   "execution_count": 3,
   "id": "romantic-frank",
   "metadata": {},
   "outputs": [
    {
     "name": "stderr",
     "output_type": "stream",
     "text": [
      "┌ Info: Precompiling PyPlot [d330b81b-6aea-500a-939a-2ce795aea3ee]\n",
      "└ @ Base loading.jl:1278\n"
     ]
    }
   ],
   "source": [
    "using LinearAlgebra\n",
    "using PyPlot\n",
    "using SparseArrays"
   ]
  },
  {
   "cell_type": "code",
   "execution_count": 4,
   "id": "mobile-lease",
   "metadata": {},
   "outputs": [
    {
     "data": {
      "text/plain": [
       "2×2 Array{Float64,2}:\n",
       " 1.0  0.1\n",
       " 0.0  1.0"
      ]
     },
     "execution_count": 4,
     "metadata": {},
     "output_type": "execute_result"
    }
   ],
   "source": [
    "# dynamics\n",
    "h = 0.1   # time step\n",
    "B = [0.5*h*h; h]\n",
    "A = I + [0 1; 0 0]*h"
   ]
  },
  {
   "cell_type": "code",
   "execution_count": 5,
   "id": "comparative-alarm",
   "metadata": {},
   "outputs": [],
   "source": [
    "nx= 2               # number of states\n",
    "nu = 1              # number of controls\n",
    "Tf = 10.0            # final time\n",
    "N = Int(Tf/h)+1     # number of time steps\n",
    "times = Array(range(0,Tf, step=h));"
   ]
  },
  {
   "cell_type": "code",
   "execution_count": 6,
   "id": "regular-consumption",
   "metadata": {},
   "outputs": [
    {
     "data": {
      "text/plain": [
       "2-element Array{Float64,1}:\n",
       " 0.0\n",
       " 0.0"
      ]
     },
     "execution_count": 6,
     "metadata": {},
     "output_type": "execute_result"
    }
   ],
   "source": [
    "x0 = [2.0; 0.0]     # initial state\n",
    "xs = [0.0; 0.0]     # target state"
   ]
  },
  {
   "cell_type": "code",
   "execution_count": 7,
   "id": "residential-discipline",
   "metadata": {},
   "outputs": [
    {
     "data": {
      "text/plain": [
       "2×2 SparseMatrixCSC{Float64,Int64} with 2 stored entries:\n",
       "  [1, 1]  =  1.0\n",
       "  [2, 2]  =  1.0"
      ]
     },
     "execution_count": 7,
     "metadata": {},
     "output_type": "execute_result"
    }
   ],
   "source": [
    "# Cost weights\n",
    "Q = sparse(1.0*I(nx))\n",
    "R = sparse(0.1*I(nu))\n",
    "Qf = sparse(1.0*I(nx))"
   ]
  },
  {
   "cell_type": "code",
   "execution_count": 8,
   "id": "bored-defensive",
   "metadata": {},
   "outputs": [
    {
     "data": {
      "text/plain": [
       "get_J (generic function with 1 method)"
      ]
     },
     "execution_count": 8,
     "metadata": {},
     "output_type": "execute_result"
    }
   ],
   "source": [
    "# cost function\n",
    "function get_J(xhist, uhist)\n",
    "    cost = 0.5 * xhist[:,end]' * Qf * xhist[:,end]\n",
    "    for i = 1:(N-1)\n",
    "        cost = cost + 0.5 * xhist[:,i]' * Q * xhist[:,i] + 0.5 * (uhist[i]' * R * uhist[i])[1]\n",
    "    end\n",
    "    return cost\n",
    "end"
   ]
  },
  {
   "cell_type": "code",
   "execution_count": 9,
   "id": "endangered-sharing",
   "metadata": {},
   "outputs": [
    {
     "data": {
      "text/plain": [
       "300×300 SparseMatrixCSC{Float64,Int64} with 300 stored entries:\n",
       "  [1  ,   1]  =  0.1\n",
       "  [2  ,   2]  =  1.0\n",
       "  [3  ,   3]  =  1.0\n",
       "  [4  ,   4]  =  0.1\n",
       "  [5  ,   5]  =  1.0\n",
       "  [6  ,   6]  =  1.0\n",
       "  [7  ,   7]  =  0.1\n",
       "  [8  ,   8]  =  1.0\n",
       "  [9  ,   9]  =  1.0\n",
       "  [10 ,  10]  =  0.1\n",
       "  [11 ,  11]  =  1.0\n",
       "  [12 ,  12]  =  1.0\n",
       "  ⋮\n",
       "  [288, 288]  =  1.0\n",
       "  [289, 289]  =  0.1\n",
       "  [290, 290]  =  1.0\n",
       "  [291, 291]  =  1.0\n",
       "  [292, 292]  =  0.1\n",
       "  [293, 293]  =  1.0\n",
       "  [294, 294]  =  1.0\n",
       "  [295, 295]  =  0.1\n",
       "  [296, 296]  =  1.0\n",
       "  [297, 297]  =  1.0\n",
       "  [298, 298]  =  0.1\n",
       "  [299, 299]  =  1.0\n",
       "  [300, 300]  =  1.0"
      ]
     },
     "execution_count": 9,
     "metadata": {},
     "output_type": "execute_result"
    }
   ],
   "source": [
    "# get H matrix\n",
    "H = blockdiag(R, kron(I(N-2), blockdiag(Q, R)), Qf)"
   ]
  },
  {
   "cell_type": "code",
   "execution_count": 10,
   "id": "incorrect-sandwich",
   "metadata": {},
   "outputs": [
    {
     "data": {
      "text/plain": [
       "200-element Array{Float64,1}:\n",
       " -2.0\n",
       "  0.0\n",
       "  0.0\n",
       "  0.0\n",
       "  0.0\n",
       "  0.0\n",
       "  0.0\n",
       "  0.0\n",
       "  0.0\n",
       "  0.0\n",
       "  0.0\n",
       "  0.0\n",
       "  0.0\n",
       "  ⋮\n",
       "  0.0\n",
       "  0.0\n",
       "  0.0\n",
       "  0.0\n",
       "  0.0\n",
       "  0.0\n",
       "  0.0\n",
       "  0.0\n",
       "  0.0\n",
       "  0.0\n",
       "  0.0\n",
       "  0.0"
      ]
     },
     "execution_count": 10,
     "metadata": {},
     "output_type": "execute_result"
    }
   ],
   "source": [
    "# Constraints\n",
    "C = kron(I(N-1), [B -I(nx)])\n",
    "for k=1:N-2\n",
    "    C[(k*nx).+(1:nx), (k*(nx+nu)-nx).+(1:nx)] .= A\n",
    "end\n",
    "d = [-A*x0;zeros(size(C,1)-nx)]"
   ]
  },
  {
   "cell_type": "code",
   "execution_count": 11,
   "id": "viral-puppy",
   "metadata": {},
   "outputs": [
    {
     "name": "stdout",
     "output_type": "stream",
     "text": [
      "size(C) = (200, 300)\n",
      "size(d) = (200,)\n"
     ]
    },
    {
     "data": {
      "text/plain": [
       "(200,)"
      ]
     },
     "execution_count": 11,
     "metadata": {},
     "output_type": "execute_result"
    }
   ],
   "source": [
    "@show size(C)\n",
    "@show size(d)"
   ]
  },
  {
   "cell_type": "code",
   "execution_count": 12,
   "id": "racial-emission",
   "metadata": {},
   "outputs": [],
   "source": [
    "y = [H C'; C zeros(size(C,1),size(C,1))] \\ [zeros(size(H,1)); d]\n",
    "# Get state history\n",
    "z = y[1:size(H,1)]   # states and controls [u0,x1,u1,...,xN]\n",
    "Z = reshape(z,nx+nu,N-1)\n",
    "xhist = Z[nu+1:end,:]\n",
    "xhist = [x0 xhist]\n",
    "\n",
    "# Get control history\n",
    "uhist = Z[1,:];"
   ]
  },
  {
   "cell_type": "code",
   "execution_count": 13,
   "id": "intimate-girlfriend",
   "metadata": {},
   "outputs": [
    {
     "data": {
      "image/png": "[encoded data removed]",
      "text/plain": [
       "Figure(PyObject <Figure size 640x480 with 1 Axes>)"
      ]
     },
     "metadata": {},
     "output_type": "display_data"
    },
    {
     "data": {
      "text/plain": [
       "PyObject <matplotlib.legend.Legend object at 0x000000005AEC38B0>"
      ]
     },
     "execution_count": 13,
     "metadata": {},
     "output_type": "execute_result"
    }
   ],
   "source": [
    "plot(times,xhist[1,:], label=\"position\")\n",
    "plot(times,xhist[2,:], label=\"velocity\")\n",
    "xlabel(\"time\")\n",
    "legend()"
   ]
  },
  {
   "cell_type": "code",
   "execution_count": 14,
   "id": "together-dance",
   "metadata": {},
   "outputs": [
    {
     "data": {
      "image/png": "[encoded data removed]",
      "text/plain": [
       "Figure(PyObject <Figure size 640x480 with 1 Axes>)"
      ]
     },
     "metadata": {},
     "output_type": "display_data"
    },
    {
     "data": {
      "text/plain": [
       "PyObject <matplotlib.legend.Legend object at 0x0000000042976400>"
      ]
     },
     "execution_count": 14,
     "metadata": {},
     "output_type": "execute_result"
    }
   ],
   "source": [
    "plot(times[1:N-1], uhist, label=\"control\")\n",
    "xlabel(\"Time\")\n",
    "legend()"
   ]
  },
  {
   "cell_type": "code",
   "execution_count": 15,
   "id": "alpha-tender",
   "metadata": {},
   "outputs": [
    {
     "name": "stdout",
     "output_type": "stream",
     "text": [
      "get_J(xhist, uhist) = 26.634448835845248\n"
     ]
    },
    {
     "data": {
      "text/plain": [
       "26.634448835845248"
      ]
     },
     "execution_count": 15,
     "metadata": {},
     "output_type": "execute_result"
    }
   ],
   "source": [
    "@show get_J(xhist, uhist)"
   ]
  },
  {
   "cell_type": "code",
   "execution_count": null,
   "id": "suspended-salad",
   "metadata": {},
   "outputs": [],
   "source": []
  }
 ],
 "metadata": {
  "kernelspec": {
   "display_name": "Julia 1.5.3",
   "language": "julia",
   "name": "julia-1.5"
  },
  "language_info": {
   "file_extension": ".jl",
   "mimetype": "application/julia",
   "name": "julia",
   "version": "1.5.3"
  }
 },
 "nbformat": 4,
 "nbformat_minor": 5
}
