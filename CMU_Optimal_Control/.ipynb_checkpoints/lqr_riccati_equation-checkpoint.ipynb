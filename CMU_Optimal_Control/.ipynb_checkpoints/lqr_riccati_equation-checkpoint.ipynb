{
 "cells": [
  {
   "cell_type": "code",
   "execution_count": 1,
   "id": "basic-physics",
   "metadata": {},
   "outputs": [
    {
     "name": "stderr",
     "output_type": "stream",
     "text": [
      "┌ Info: Precompiling ControlSystems [a6e380b2-a6ca-5380-bf3e-84a91bcd477e]\n",
      "└ @ Base loading.jl:1278\n"
     ]
    }
   ],
   "source": [
    "using ControlSystems\n",
    "using PyPlot\n",
    "using LinearAlgebra"
   ]
  },
  {
   "cell_type": "code",
   "execution_count": 2,
   "id": "contained-kenya",
   "metadata": {},
   "outputs": [],
   "source": [
    "# dynamics\n",
    "h = 0.1   # time step\n",
    "B = [0.5*h*h; h]\n",
    "A = I + [0 1; 0 0]*h\n",
    "\n",
    "nx= 2               # number of states\n",
    "nu = 1              # number of controls\n",
    "Tf = 10.0            # final time\n",
    "N = Int(Tf/h)+1     # number of time steps\n",
    "times = Array(range(0,Tf, step=h));"
   ]
  },
  {
   "cell_type": "code",
   "execution_count": 3,
   "id": "aging-assignment",
   "metadata": {},
   "outputs": [
    {
     "data": {
      "text/plain": [
       "2-element Array{Float64,1}:\n",
       " 0.0\n",
       " 0.0"
      ]
     },
     "execution_count": 3,
     "metadata": {},
     "output_type": "execute_result"
    }
   ],
   "source": [
    "x0 = [2.0; 0.0]     # initial state\n",
    "xs = [0.0; 0.0]     # target state"
   ]
  },
  {
   "cell_type": "code",
   "execution_count": 12,
   "id": "prime-switzerland",
   "metadata": {},
   "outputs": [
    {
     "data": {
      "text/plain": [
       "0.1"
      ]
     },
     "execution_count": 12,
     "metadata": {},
     "output_type": "execute_result"
    }
   ],
   "source": [
    "Q = Array(1.0 * I(nx))\n",
    "Qn = Array(1.0 * I(nx))\n",
    "R = 0.1"
   ]
  },
  {
   "cell_type": "code",
   "execution_count": 13,
   "id": "racial-forest",
   "metadata": {},
   "outputs": [
    {
     "data": {
      "text/plain": [
       "get_J (generic function with 1 method)"
      ]
     },
     "execution_count": 13,
     "metadata": {},
     "output_type": "execute_result"
    }
   ],
   "source": [
    "function get_J(xhist,uhist)\n",
    "    cost = 0.5*(xhist[:,end])'*Qn*(xhist[:,end])\n",
    "    for k = 1:(N-1)\n",
    "        cost = cost + 0.5*(xhist[:,k])'*Q*(xhist[:,k]) + 0.5*uhist[:,k]'*R*uhist[:,k]\n",
    "    end\n",
    "    return cost\n",
    "end"
   ]
  },
  {
   "cell_type": "code",
   "execution_count": 23,
   "id": "continuing-surname",
   "metadata": {},
   "outputs": [
    {
     "name": "stdout",
     "output_type": "stream",
     "text": [
      "xhist[:, 1] = x0 = [2.0, 0.0]\n"
     ]
    },
    {
     "ename": "LoadError",
     "evalue": "\u001b[91mMethodError: no method matching *(::Array{Float64,1}, ::Array{Float64,1})\u001b[39m\n\u001b[91m\u001b[0mClosest candidates are:\u001b[39m\n\u001b[91m\u001b[0m  *(::Any, ::Any, \u001b[91m::Any\u001b[39m, \u001b[91m::Any...\u001b[39m) at operators.jl:538\u001b[39m\n\u001b[91m\u001b[0m  *(\u001b[91m::LightGraphs.LinAlg.Noop\u001b[39m, ::Any) at C:\\Users\\yxtang\\.julia\\packages\\LightGraphs\\IgJif\\src\\linalg\\graphmatrices.jl:226\u001b[39m\n\u001b[91m\u001b[0m  *(\u001b[91m::PyCall.PyObject\u001b[39m, ::Any) at C:\\Users\\yxtang\\.julia\\packages\\PyCall\\tqyST\\src\\pyoperators.jl:13\u001b[39m\n\u001b[91m\u001b[0m  ...\u001b[39m",
     "output_type": "error",
     "traceback": [
      "\u001b[91mMethodError: no method matching *(::Array{Float64,1}, ::Array{Float64,1})\u001b[39m\n\u001b[91m\u001b[0mClosest candidates are:\u001b[39m\n\u001b[91m\u001b[0m  *(::Any, ::Any, \u001b[91m::Any\u001b[39m, \u001b[91m::Any...\u001b[39m) at operators.jl:538\u001b[39m\n\u001b[91m\u001b[0m  *(\u001b[91m::LightGraphs.LinAlg.Noop\u001b[39m, ::Any) at C:\\Users\\yxtang\\.julia\\packages\\LightGraphs\\IgJif\\src\\linalg\\graphmatrices.jl:226\u001b[39m\n\u001b[91m\u001b[0m  *(\u001b[91m::PyCall.PyObject\u001b[39m, ::Any) at C:\\Users\\yxtang\\.julia\\packages\\PyCall\\tqyST\\src\\pyoperators.jl:13\u001b[39m\n\u001b[91m\u001b[0m  ...\u001b[39m",
      "",
      "Stacktrace:",
      " [1] top-level scope at .\\In[23]:17",
      " [2] include_string(::Function, ::Module, ::String, ::String) at .\\loading.jl:1091"
     ]
    }
   ],
   "source": [
    "P = zeros(nx, nx, N)\n",
    "K = zeros(nu, nx, N-1)\n",
    "P[:,:,N] .= Qn\n",
    "\n",
    "# Backward Ricatti Recursion\n",
    "for i=(N-1):-1:1\n",
    "    K[:,:,i] .= (R + B' * P[:,:,i+1] * B) \\ (B' * P[:,:,i+1] * A)\n",
    "    P[:,:,i] .= Q + A' * P[:,:,i+1] * A - A' * P[:,:,i+1] * B * K[:,:,i]\n",
    "end\n",
    "\n",
    "# Forwward Simulation\n",
    "xhist = zeros(nx, N)\n",
    "uhist = zeros(nu, N-1)\n",
    "@show xhist[:, 1] = x0\n",
    "for k=1:1:(N-1)\n",
    "    uhist[:,k] .= -K[:,:,k] * xhist[:,k]\n",
    "    xhist[:,k+1] .= A * xhist[:,k] + B * uhist[:,k]\n",
    "end"
   ]
  },
  {
   "cell_type": "code",
   "execution_count": null,
   "id": "filled-ensemble",
   "metadata": {},
   "outputs": [],
   "source": []
  }
 ],
 "metadata": {
  "kernelspec": {
   "display_name": "Julia 1.5.3",
   "language": "julia",
   "name": "julia-1.5"
  },
  "language_info": {
   "file_extension": ".jl",
   "mimetype": "application/julia",
   "name": "julia",
   "version": "1.5.3"
  }
 },
 "nbformat": 4,
 "nbformat_minor": 5
}
