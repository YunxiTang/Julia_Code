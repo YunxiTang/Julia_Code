{
 "cells": [
  {
   "cell_type": "code",
   "execution_count": 1,
   "id": "exterior-alberta",
   "metadata": {},
   "outputs": [
    {
     "name": "stderr",
     "output_type": "stream",
     "text": [
      "┌ Info: Precompiling RobotZoo [74be38bb-dcc2-4b9e-baf3-d6373cd95f10]\n",
      "└ @ Base loading.jl:1278\n"
     ]
    }
   ],
   "source": [
    "using LinearAlgebra\n",
    "using PyPlot\n",
    "using ForwardDiff\n",
    "using RobotZoo\n",
    "using RobotDynamics\n",
    "using Ipopt\n",
    "using MathOptInterface"
   ]
  },
  {
   "cell_type": "code",
   "execution_count": 2,
   "id": "wound-brown",
   "metadata": {},
   "outputs": [
    {
     "data": {
      "text/plain": [
       "MathOptInterface"
      ]
     },
     "execution_count": 2,
     "metadata": {},
     "output_type": "execute_result"
    }
   ],
   "source": [
    "const MOI = MathOptInterface"
   ]
  },
  {
   "cell_type": "code",
   "execution_count": 3,
   "id": "weird-monitor",
   "metadata": {},
   "outputs": [
    {
     "data": {
      "text/plain": [
       "0.1"
      ]
     },
     "execution_count": 3,
     "metadata": {},
     "output_type": "execute_result"
    }
   ],
   "source": [
    "# Acrobot Dynamics\n",
    "rbt = RobotZoo.Acrobot()\n",
    "h = 0.1"
   ]
  },
  {
   "cell_type": "code",
   "execution_count": null,
   "id": "desperate-cricket",
   "metadata": {},
   "outputs": [],
   "source": [
    "Nx = 4\n",
    "Nu = 1\n",
    "Tf = 5.0\n"
   ]
  }
 ],
 "metadata": {
  "kernelspec": {
   "display_name": "Julia 1.5.3",
   "language": "julia",
   "name": "julia-1.5"
  },
  "language_info": {
   "file_extension": ".jl",
   "mimetype": "application/julia",
   "name": "julia",
   "version": "1.5.3"
  }
 },
 "nbformat": 4,
 "nbformat_minor": 5
}
