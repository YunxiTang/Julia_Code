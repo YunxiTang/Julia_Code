{
 "cells": [
  {
   "cell_type": "code",
   "execution_count": 56,
   "id": "mighty-shirt",
   "metadata": {},
   "outputs": [],
   "source": [
    "using LinearAlgebra\n",
    "using PyPlot\n",
    "using SparseArrays\n",
    "using ControlSystems\n",
    "using ForwardDiff"
   ]
  },
  {
   "cell_type": "code",
   "execution_count": 57,
   "id": "engaged-think",
   "metadata": {},
   "outputs": [
    {
     "data": {
      "text/plain": [
       "2×2 Array{Float64,2}:\n",
       " 1.0  0.1\n",
       " 0.0  1.0"
      ]
     },
     "execution_count": 57,
     "metadata": {},
     "output_type": "execute_result"
    }
   ],
   "source": [
    "# dynamics\n",
    "h = 0.1   # time step\n",
    "B = [0.5*h*h; h]\n",
    "A = I + [0 1; 0 0]*h"
   ]
  },
  {
   "cell_type": "code",
   "execution_count": 58,
   "id": "graduate-rwanda",
   "metadata": {},
   "outputs": [
    {
     "name": "stdout",
     "output_type": "stream",
     "text": [
      "N = Int(Tf / h) + 1 = 101\n"
     ]
    }
   ],
   "source": [
    "nx= 2               # number of states\n",
    "nu = 1              # number of controls\n",
    "Tf = 10.0            # final time\n",
    "@show N = Int(Tf/h)+1     # number of time steps\n",
    "times = Array(range(0,Tf, step=h));"
   ]
  },
  {
   "cell_type": "code",
   "execution_count": 59,
   "id": "minute-professional",
   "metadata": {},
   "outputs": [
    {
     "data": {
      "text/plain": [
       "2-element Array{Float64,1}:\n",
       " 0.0\n",
       " 0.0"
      ]
     },
     "execution_count": 59,
     "metadata": {},
     "output_type": "execute_result"
    }
   ],
   "source": [
    "x0 = [2.0; 0.0]     # initial state\n",
    "xs = [0.0; 0.0]     # target state"
   ]
  },
  {
   "cell_type": "code",
   "execution_count": 60,
   "id": "civilian-helmet",
   "metadata": {},
   "outputs": [
    {
     "data": {
      "text/plain": [
       "2×2 Array{Float64,2}:\n",
       " 1.0  0.0\n",
       " 0.0  1.0"
      ]
     },
     "execution_count": 60,
     "metadata": {},
     "output_type": "execute_result"
    }
   ],
   "source": [
    "Q = Array(1.0 * I(nx))\n",
    "R = Array(0.1 * I(nu))\n",
    "Qn = Array(1.0 * I(nx))"
   ]
  },
  {
   "cell_type": "code",
   "execution_count": 61,
   "id": "closing-mainland",
   "metadata": {},
   "outputs": [
    {
     "data": {
      "text/plain": [
       "get_J (generic function with 1 method)"
      ]
     },
     "execution_count": 61,
     "metadata": {},
     "output_type": "execute_result"
    }
   ],
   "source": [
    "# cost function\n",
    "function get_J(xhist, uhist)\n",
    "    cost = 0.5 * xhist[:,end]' * Qn * xhist[:,end]\n",
    "    for i = 1:(size(xhist,2)-1)\n",
    "        cost = cost + 0.5 * xhist[:,i]' * Q * xhist[:,i] + 0.5 * (uhist[i]' * R * uhist[i])[1]\n",
    "    end\n",
    "    return cost\n",
    "end"
   ]
  },
  {
   "cell_type": "code",
   "execution_count": 62,
   "id": "another-administrator",
   "metadata": {},
   "outputs": [
    {
     "data": {
      "text/plain": [
       "V (generic function with 1 method)"
      ]
     },
     "execution_count": 62,
     "metadata": {},
     "output_type": "execute_result"
    }
   ],
   "source": [
    "# cost-to-go function\n",
    "function Vinf(x)\n",
    "    return 0.5 * x' * Pinf * x\n",
    "end\n",
    "\n",
    "function V(k,x)\n",
    "    return 0.5 * x' * P[:,:,k] * x\n",
    "end"
   ]
  },
  {
   "cell_type": "code",
   "execution_count": 63,
   "id": "identical-jewel",
   "metadata": {},
   "outputs": [
    {
     "data": {
      "image/png": "[encoded data removed]",
      "text/plain": [
       "Figure(PyObject <Figure size 640x480 with 1 Axes>)"
      ]
     },
     "metadata": {},
     "output_type": "display_data"
    },
    {
     "data": {
      "text/plain": [
       "PyObject <matplotlib.legend.Legend object at 0x000000004DD8E970>"
      ]
     },
     "execution_count": 63,
     "metadata": {},
     "output_type": "execute_result"
    }
   ],
   "source": [
    "# QP solution\n",
    "# get H matrix\n",
    "H = blockdiag(sparse(R), kron(I(N-2), blockdiag(sparse(Q), sparse(R))), sparse(Qn))\n",
    "# Constraints\n",
    "C = kron(I(N-1), [B -I(nx)])\n",
    "for k=1:N-2\n",
    "    C[(k*nx).+(1:nx), (k*(nx+nu)-nx).+(1:nx)] .= A\n",
    "end\n",
    "d = [-A*x0;zeros(size(C,1)-nx)]\n",
    "y = [H C'; C zeros(size(C,1),size(C,1))] \\ [zeros(size(H,1)); d]\n",
    "# Get state history\n",
    "z = y[1:size(H,1)]   # states and controls [u0,x1,u1,...,xN]\n",
    "Z = reshape(z,nx+nu,N-1)\n",
    "\n",
    "xhist = Z[nu+1:end,:]\n",
    "xhist_qp = [x0 xhist]\n",
    "\n",
    "# Get control history\n",
    "uhist_qp = Z[1,:];\n",
    "\n",
    "plot(times,xhist_qp[1,:], label=\"position\")\n",
    "plot(times,xhist_qp[2,:], label=\"velocity\")\n",
    "plot(times[1:N-1], uhist_qp, label=\"control\")\n",
    "xlabel(\"time\")\n",
    "legend()"
   ]
  },
  {
   "cell_type": "code",
   "execution_count": 64,
   "id": "dominant-librarian",
   "metadata": {},
   "outputs": [],
   "source": [
    "# Dynamic Programming\n",
    "P = zeros(nx, nx, N)\n",
    "K = zeros(nu, nx, N-1)\n",
    "xhist_dp = zeros(nx, N)\n",
    "uhist_dp = zeros(nu, N-1)\n",
    "xhist_dp[:,1] .= x0\n",
    "\n",
    "P[:,:,N] .= Qn\n",
    "for k = (N-1):-1:1\n",
    "    K[:,:,k] .= (R .+ B' * P[:,:,k+1] * B) \\ (B' * P[:,:,k+1] * A)\n",
    "    P[:,:,k] .= Q + K[:,:,k]' * R * K[:,:,k]  + (A - B * K[:,:,k])' * P[:,:,k+1] * (A - B * K[:,:,k])\n",
    "end \n",
    "\n",
    "for i=1:(N-1)\n",
    "    uhist_dp[:,i] .= -K[:,:,i] * xhist_dp[:,i]\n",
    "    xhist_dp[:,i+1] .= A * xhist_dp[:,i] + B * uhist_dp[i]\n",
    "end"
   ]
  },
  {
   "cell_type": "code",
   "execution_count": 65,
   "id": "thirty-ensemble",
   "metadata": {},
   "outputs": [
    {
     "data": {
      "image/png": "[encoded data removed]",
      "text/plain": [
       "Figure(PyObject <Figure size 640x480 with 1 Axes>)"
      ]
     },
     "metadata": {},
     "output_type": "display_data"
    },
    {
     "data": {
      "text/plain": [
       "PyObject <matplotlib.legend.Legend object at 0x000000004DF2EA90>"
      ]
     },
     "execution_count": 65,
     "metadata": {},
     "output_type": "execute_result"
    }
   ],
   "source": [
    "plot(times,xhist_qp[1,:], label=\"QP_position\")\n",
    "plot(times,xhist_dp[1,:], label=\"DP_position\")\n",
    "plot(times,xhist_qp[2,:], label=\"QP_velocity\")\n",
    "plot(times,xhist_dp[2,:], label=\"DP_velocity\")\n",
    "xlabel(\"time\")\n",
    "legend()"
   ]
  },
  {
   "cell_type": "code",
   "execution_count": 66,
   "id": "rocky-alberta",
   "metadata": {},
   "outputs": [
    {
     "data": {
      "image/png": "[encoded data removed]",
      "text/plain": [
       "Figure(PyObject <Figure size 640x480 with 1 Axes>)"
      ]
     },
     "metadata": {},
     "output_type": "display_data"
    },
    {
     "data": {
      "text/plain": [
       "PyObject <matplotlib.legend.Legend object at 0x000000004E1EE2E0>"
      ]
     },
     "execution_count": 66,
     "metadata": {},
     "output_type": "execute_result"
    }
   ],
   "source": [
    "plot(times[1:N-1], uhist_qp, label=\"QP_position\")\n",
    "plot(times[1:N-1], uhist_dp[1,:], label=\"DP_position\")\n",
    "xlabel(\"time\")\n",
    "legend()"
   ]
  },
  {
   "cell_type": "code",
   "execution_count": 67,
   "id": "enhanced-philippines",
   "metadata": {},
   "outputs": [
    {
     "data": {
      "image/png": "[encoded data removed]",
      "text/plain": [
       "Figure(PyObject <Figure size 640x480 with 1 Axes>)"
      ]
     },
     "metadata": {},
     "output_type": "display_data"
    },
    {
     "data": {
      "text/plain": [
       "1-element Array{PyCall.PyObject,1}:\n",
       " PyObject <matplotlib.lines.Line2D object at 0x000000004E0E4A00>"
      ]
     },
     "execution_count": 67,
     "metadata": {},
     "output_type": "execute_result"
    }
   ],
   "source": [
    "plot(P[1,1,:])\n",
    "plot(P[1,2,:])\n",
    "plot(P[2,2,:])"
   ]
  },
  {
   "cell_type": "code",
   "execution_count": 68,
   "id": "disabled-meter",
   "metadata": {},
   "outputs": [
    {
     "name": "stdout",
     "output_type": "stream",
     "text": [
      "get_J(xhist_qp, uhist_qp) = 26.634448835845248\n",
      "get_J(xhist_dp, uhist_dp) = 26.634448835845248\n"
     ]
    },
    {
     "data": {
      "text/plain": [
       "26.634448835845248"
      ]
     },
     "execution_count": 68,
     "metadata": {},
     "output_type": "execute_result"
    }
   ],
   "source": [
    "@show get_J(xhist_qp,uhist_qp)\n",
    "@show get_J(xhist_dp,uhist_dp)"
   ]
  },
  {
   "cell_type": "code",
   "execution_count": 69,
   "id": "artistic-times",
   "metadata": {},
   "outputs": [
    {
     "data": {
      "text/plain": [
       "2×2 Array{Float64,2}:\n",
       " 13.3172   3.20156\n",
       "  3.20156  4.60351"
      ]
     },
     "execution_count": 69,
     "metadata": {},
     "output_type": "execute_result"
    }
   ],
   "source": [
    "# compute Pinf using DARE\n",
    "Pinf = ControlSystems.dare(A, B, Qn, R)"
   ]
  },
  {
   "cell_type": "code",
   "execution_count": 70,
   "id": "distant-customer",
   "metadata": {},
   "outputs": [
    {
     "data": {
      "text/plain": [
       "2×2 Array{Float64,2}:\n",
       " -2.32085e-8  -7.88975e-9\n",
       " -7.88976e-9  -2.68214e-9"
      ]
     },
     "execution_count": 70,
     "metadata": {},
     "output_type": "execute_result"
    }
   ],
   "source": [
    "P[:,:,1] - Pinf"
   ]
  },
  {
   "cell_type": "code",
   "execution_count": 71,
   "id": "antique-victoria",
   "metadata": {},
   "outputs": [
    {
     "data": {
      "text/plain": [
       "forward_rollout (generic function with 1 method)"
      ]
     },
     "execution_count": 71,
     "metadata": {},
     "output_type": "execute_result"
    }
   ],
   "source": [
    "# look at sub-trajectory, starting at x_k\n",
    "function forward_rollout(k, x)\n",
    "    x_sub = zeros(nx, N-k+1)\n",
    "    u_sub = zeros(nu, N-k)\n",
    "    x_sub[:, 1] .= x\n",
    "    for i=k:N-1\n",
    "        u_sub[:, i-k+1] = -K[:,:,i] * x_sub[:, i-k+1]\n",
    "        x_sub[:, i-k+2] = A * x_sub[:, i-k+1] + B *  u_sub[i-k+1]\n",
    "    end\n",
    "    return x_sub, u_sub\n",
    "end"
   ]
  },
  {
   "cell_type": "code",
   "execution_count": 72,
   "id": "driven-marriage",
   "metadata": {},
   "outputs": [
    {
     "data": {
      "text/plain": [
       "([0.017130055260292945 0.015402994464849372 … 0.00013905442517224032 0.00013379005274574528; -0.0181874341301392 -0.016353781778732285 … -5.483202053293448e-5 -5.045542799696655e-5], [0.01833652351406917 0.016488397492859498 … 7.826621935942724e-5 4.376592535967928e-5])"
      ]
     },
     "execution_count": 72,
     "metadata": {},
     "output_type": "execute_result"
    }
   ],
   "source": [
    "k = 50\n",
    "x_sub50, u_sub50 = forward_rollout(k, xhist_dp[:,k])"
   ]
  },
  {
   "cell_type": "code",
   "execution_count": 73,
   "id": "external-hacker",
   "metadata": {},
   "outputs": [
    {
     "data": {
      "text/plain": [
       "2×52 Array{Float64,2}:\n",
       " 0.0  0.0  0.0  0.0  0.0  0.0  0.0  0.0  …  0.0  0.0  0.0  0.0  0.0  0.0  0.0\n",
       " 0.0  0.0  0.0  0.0  0.0  0.0  0.0  0.0     0.0  0.0  0.0  0.0  0.0  0.0  0.0"
      ]
     },
     "execution_count": 73,
     "metadata": {},
     "output_type": "execute_result"
    }
   ],
   "source": [
    "x_sub50 - xhist_dp[:,k:end]"
   ]
  },
  {
   "cell_type": "code",
   "execution_count": 74,
   "id": "ultimate-probe",
   "metadata": {},
   "outputs": [
    {
     "data": {
      "text/plain": [
       "1×51 Array{Float64,2}:\n",
       " 0.0  0.0  0.0  0.0  0.0  0.0  0.0  0.0  …  0.0  0.0  0.0  0.0  0.0  0.0  0.0"
      ]
     },
     "execution_count": 74,
     "metadata": {},
     "output_type": "execute_result"
    }
   ],
   "source": [
    "u_sub50 - uhist_dp[:,k:end]"
   ]
  },
  {
   "cell_type": "code",
   "execution_count": 75,
   "id": "prerequisite-light",
   "metadata": {},
   "outputs": [
    {
     "data": {
      "text/plain": [
       "2-element Array{Float64,1}:\n",
       "  0.16988811006794324\n",
       " -0.028886054903825845"
      ]
     },
     "execution_count": 75,
     "metadata": {},
     "output_type": "execute_result"
    }
   ],
   "source": [
    "#Compare multipliers (λ) from QP to Cost-to-go gradient (V_x) from DP\n",
    "# Get multipliers\n",
    "λhist_qp = reshape(y[(size(H,1)+1):end],nx,N-1)\n",
    "λhist_qp[:,k-1]"
   ]
  },
  {
   "cell_type": "code",
   "execution_count": 76,
   "id": "cardiovascular-relief",
   "metadata": {},
   "outputs": [
    {
     "data": {
      "text/plain": [
       "2-element Array{Float64,1}:\n",
       "  0.16988811006794347\n",
       " -0.02888605490382585"
      ]
     },
     "execution_count": 76,
     "metadata": {},
     "output_type": "execute_result"
    }
   ],
   "source": [
    "ForwardDiff.gradient(x->V(k,x), xhist_dp[:,k])"
   ]
  },
  {
   "cell_type": "code",
   "execution_count": 77,
   "id": "royal-martin",
   "metadata": {},
   "outputs": [
    {
     "data": {
      "text/plain": [
       "2-element Array{Float64,1}:\n",
       "  0.16989659044259595\n",
       " -0.02888317206181914"
      ]
     },
     "execution_count": 77,
     "metadata": {},
     "output_type": "execute_result"
    }
   ],
   "source": [
    "ForwardDiff.gradient(x->Vinf(x), xhist_dp[:,k])"
   ]
  },
  {
   "cell_type": "code",
   "execution_count": 78,
   "id": "appointed-frost",
   "metadata": {},
   "outputs": [
    {
     "data": {
      "text/plain": [
       "2-element Array{Float64,1}:\n",
       "  0.16989476829326264\n",
       " -0.028883753191294437"
      ]
     },
     "execution_count": 78,
     "metadata": {},
     "output_type": "execute_result"
    }
   ],
   "source": [
    "x1p, u1p = forward_rollout(k,xhist_dp[:,k]+[1e-6; 0])\n",
    "x2p, u2p = forward_rollout(k,xhist_dp[:,k]+[0; 1e-6])\n",
    "λfd = [get_J(x1p,u1p) - get_J(xhist_dp[:,k:end],uhist_dp[:,k:end]), get_J(x2p,u2p) - get_J(xhist_dp[:,k:end],uhist_dp[:,k:end])]./1e-6"
   ]
  },
  {
   "cell_type": "code",
   "execution_count": null,
   "id": "african-reset",
   "metadata": {},
   "outputs": [],
   "source": []
  }
 ],
 "metadata": {
  "kernelspec": {
   "display_name": "Julia 1.5.3",
   "language": "julia",
   "name": "julia-1.5"
  },
  "language_info": {
   "file_extension": ".jl",
   "mimetype": "application/julia",
   "name": "julia",
   "version": "1.5.3"
  }
 },
 "nbformat": 4,
 "nbformat_minor": 5
}
