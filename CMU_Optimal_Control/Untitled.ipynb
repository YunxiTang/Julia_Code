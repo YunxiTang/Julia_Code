{
 "cells": [
  {
   "cell_type": "code",
   "execution_count": 1,
   "id": "collected-chain",
   "metadata": {},
   "outputs": [
    {
     "data": {
      "text/plain": [
       "\"D:\\\\TANG Yunxi\\\\CodingPrac\\\\JULIA\\\\CMU_Optimal_Control\""
      ]
     },
     "execution_count": 1,
     "metadata": {},
     "output_type": "execute_result"
    }
   ],
   "source": [
    "@__DIR__"
   ]
  },
  {
   "cell_type": "code",
   "execution_count": 2,
   "id": "bronze-nashville",
   "metadata": {},
   "outputs": [],
   "source": [
    "using Pkg"
   ]
  },
  {
   "cell_type": "code",
   "execution_count": 5,
   "id": "accredited-inspection",
   "metadata": {},
   "outputs": [
    {
     "name": "stderr",
     "output_type": "stream",
     "text": [
      "\u001b[32m\u001b[1m Activating\u001b[22m\u001b[39m new environment at `D:\\TANG Yunxi\\CodingPrac\\JULIA\\Project.toml`\n"
     ]
    }
   ],
   "source": [
    "Pkg.activate(joinpath(@__DIR__,\"..\"))"
   ]
  },
  {
   "cell_type": "code",
   "execution_count": 6,
   "id": "banned-yahoo",
   "metadata": {},
   "outputs": [
    {
     "name": "stderr",
     "output_type": "stream",
     "text": [
      "\u001b[32m\u001b[1m   Updating\u001b[22m\u001b[39m registry at `C:\\Users\\yxtang\\.julia\\registries\\General`\n",
      "\u001b[32m\u001b[1mNo Changes\u001b[22m\u001b[39m to `D:\\TANG Yunxi\\CodingPrac\\JULIA\\Project.toml`\n",
      "\u001b[32m\u001b[1mNo Changes\u001b[22m\u001b[39m to `D:\\TANG Yunxi\\CodingPrac\\JULIA\\Manifest.toml`\n"
     ]
    }
   ],
   "source": [
    "Pkg.instantiate()"
   ]
  },
  {
   "cell_type": "code",
   "execution_count": 7,
   "id": "conditional-fellowship",
   "metadata": {},
   "outputs": [],
   "source": [
    "using LinearAlgebra\n",
    "using RobotDynamics"
   ]
  },
  {
   "cell_type": "code",
   "execution_count": null,
   "id": "binary-leather",
   "metadata": {},
   "outputs": [],
   "source": []
  }
 ],
 "metadata": {
  "kernelspec": {
   "display_name": "Julia 1.5.3",
   "language": "julia",
   "name": "julia-1.5"
  },
  "language_info": {
   "file_extension": ".jl",
   "mimetype": "application/julia",
   "name": "julia",
   "version": "1.5.3"
  }
 },
 "nbformat": 4,
 "nbformat_minor": 5
}
