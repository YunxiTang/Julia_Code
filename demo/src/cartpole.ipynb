{
 "cells": [
  {
   "cell_type": "code",
   "execution_count": 1,
   "id": "sufficient-hierarchy",
   "metadata": {},
   "outputs": [
    {
     "name": "stderr",
     "output_type": "stream",
     "text": [
      "\u001b[32m\u001b[1m Activating\u001b[22m\u001b[39m environment at `D:\\TANG Yunxi\\CodingPrac\\JULIA\\demo\\Project.toml`\n"
     ]
    }
   ],
   "source": [
    "import Pkg; Pkg.activate(joinpath(@__DIR__,\"..\")); Pkg.instantiate();"
   ]
  },
  {
   "cell_type": "code",
   "execution_count": 3,
   "id": "former-surname",
   "metadata": {},
   "outputs": [],
   "source": [
    "using LinearAlgebra\n",
    "using RobotDynamics\n",
    "using RobotZoo"
   ]
  },
  {
   "cell_type": "code",
   "execution_count": 4,
   "id": "latter-nursery",
   "metadata": {},
   "outputs": [
    {
     "data": {
      "text/plain": [
       "RobotZoo.Cartpole{Float64}(1.0, 0.2, 0.5, 9.81)"
      ]
     },
     "execution_count": 4,
     "metadata": {},
     "output_type": "execute_result"
    }
   ],
   "source": [
    "cartpole = RobotZoo.Cartpole()"
   ]
  },
  {
   "cell_type": "code",
   "execution_count": 6,
   "id": "finite-friendly",
   "metadata": {},
   "outputs": [
    {
     "name": "stderr",
     "output_type": "stream",
     "text": [
      "┌ Info: Precompiling TrajOptPlots [7770976a-8dee-4930-bf39-a1782fd21ce6]\n",
      "└ @ Base loading.jl:1278\n"
     ]
    }
   ],
   "source": [
    "using TrajOptPlots"
   ]
  },
  {
   "cell_type": "code",
   "execution_count": 7,
   "id": "mature-egyptian",
   "metadata": {},
   "outputs": [
    {
     "name": "stdout",
     "output_type": "stream",
     "text": [
      "\u001b[36m\u001b[1mProject \u001b[22m\u001b[39mdemo v0.1.0\n",
      "\u001b[32m\u001b[1mStatus\u001b[22m\u001b[39m `D:\\TANG Yunxi\\CodingPrac\\JULIA\\demo\\Project.toml`\n",
      " \u001b[90m [336ed68f] \u001b[39m\u001b[37mCSV v0.8.4\u001b[39m\n"
     ]
    }
   ],
   "source": [
    "Pkg.status()"
   ]
  },
  {
   "cell_type": "code",
   "execution_count": 8,
   "id": "aerial-light",
   "metadata": {},
   "outputs": [
    {
     "name": "stderr",
     "output_type": "stream",
     "text": [
      "┌ Warning: Pkg.installed() is deprecated\n",
      "└ @ Pkg C:\\buildbot\\worker\\package_win64\\build\\usr\\share\\julia\\stdlib\\v1.5\\Pkg\\src\\Pkg.jl:554\n"
     ]
    },
    {
     "data": {
      "text/plain": [
       "Dict{String,VersionNumber} with 1 entry:\n",
       "  \"CSV\" => v\"0.8.4\""
      ]
     },
     "execution_count": 8,
     "metadata": {},
     "output_type": "execute_result"
    }
   ],
   "source": [
    "Pkg.installed()"
   ]
  },
  {
   "cell_type": "code",
   "execution_count": 9,
   "id": "authentic-warehouse",
   "metadata": {},
   "outputs": [
    {
     "data": {
      "text/plain": [
       "3-element Array{String,1}:\n",
       " \"@\"\n",
       " \"@v#.#\"\n",
       " \"@stdlib\""
      ]
     },
     "execution_count": 9,
     "metadata": {},
     "output_type": "execute_result"
    }
   ],
   "source": [
    "LOAD_PATH"
   ]
  },
  {
   "cell_type": "code",
   "execution_count": 10,
   "id": "burning-beads",
   "metadata": {},
   "outputs": [
    {
     "data": {
      "text/plain": [
       "3-element Array{String,1}:\n",
       " \"D:\\\\TANG Yunxi\\\\CodingPrac\\\\JULIA\\\\demo\\\\Project.toml\"\n",
       " \"C:\\\\Users\\\\yxtang\\\\.julia\\\\environments\\\\v1.5\\\\Project.toml\"\n",
       " \"D:\\\\TANG Yunxi\\\\Julia\\\\Julia 1.5.3\\\\share\\\\julia\\\\stdlib\\\\v1.5\""
      ]
     },
     "execution_count": 10,
     "metadata": {},
     "output_type": "execute_result"
    }
   ],
   "source": [
    "Base.load_path()"
   ]
  },
  {
   "cell_type": "code",
   "execution_count": null,
   "id": "seeing-curve",
   "metadata": {},
   "outputs": [],
   "source": []
  }
 ],
 "metadata": {
  "kernelspec": {
   "display_name": "Julia 1.5.3",
   "language": "julia",
   "name": "julia-1.5"
  },
  "language_info": {
   "file_extension": ".jl",
   "mimetype": "application/julia",
   "name": "julia",
   "version": "1.5.3"
  }
 },
 "nbformat": 4,
 "nbformat_minor": 5
}
